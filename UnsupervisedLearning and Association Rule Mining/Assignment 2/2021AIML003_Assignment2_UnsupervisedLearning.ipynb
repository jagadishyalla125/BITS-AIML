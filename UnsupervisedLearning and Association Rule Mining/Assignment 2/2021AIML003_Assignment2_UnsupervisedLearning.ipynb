{
 "cells": [
  {
   "cell_type": "markdown",
   "id": "f2136fb0",
   "metadata": {},
   "source": [
    "# Jewellery Data Set - Customer Segmentation using DBSCAN Algorithm"
   ]
  },
  {
   "cell_type": "markdown",
   "id": "5ad4fe0c",
   "metadata": {},
   "source": [
    "## Importing the required libraries"
   ]
  },
  {
   "cell_type": "code",
   "execution_count": 1,
   "id": "0d76fb2c",
   "metadata": {},
   "outputs": [],
   "source": [
    "# ! pip install plotly\n",
    "import pandas as pd\n",
    "import matplotlib.pyplot as plt\n",
    "%matplotlib inline\n",
    "import seaborn as sns\n",
    "from sklearn.neighbors import NearestNeighbors\n",
    "import numpy as np\n",
    "from sklearn.cluster import DBSCAN\n",
    "from sklearn.preprocessing import StandardScaler"
   ]
  },
  {
   "cell_type": "markdown",
   "id": "1fc09328",
   "metadata": {},
   "source": [
    "## Read the data set and display key statistics"
   ]
  },
  {
   "cell_type": "code",
   "execution_count": 2,
   "id": "0bbbd8d1",
   "metadata": {},
   "outputs": [
    {
     "data": {
      "text/html": [
       "<div>\n",
       "<style scoped>\n",
       "    .dataframe tbody tr th:only-of-type {\n",
       "        vertical-align: middle;\n",
       "    }\n",
       "\n",
       "    .dataframe tbody tr th {\n",
       "        vertical-align: top;\n",
       "    }\n",
       "\n",
       "    .dataframe thead th {\n",
       "        text-align: right;\n",
       "    }\n",
       "</style>\n",
       "<table border=\"1\" class=\"dataframe\">\n",
       "  <thead>\n",
       "    <tr style=\"text-align: right;\">\n",
       "      <th></th>\n",
       "      <th>Age</th>\n",
       "      <th>Income</th>\n",
       "      <th>SpendingScore</th>\n",
       "      <th>Savings</th>\n",
       "    </tr>\n",
       "  </thead>\n",
       "  <tbody>\n",
       "    <tr>\n",
       "      <th>0</th>\n",
       "      <td>58</td>\n",
       "      <td>77769</td>\n",
       "      <td>0.791329</td>\n",
       "      <td>6559.829923</td>\n",
       "    </tr>\n",
       "    <tr>\n",
       "      <th>1</th>\n",
       "      <td>59</td>\n",
       "      <td>81799</td>\n",
       "      <td>0.791082</td>\n",
       "      <td>5417.661426</td>\n",
       "    </tr>\n",
       "    <tr>\n",
       "      <th>2</th>\n",
       "      <td>62</td>\n",
       "      <td>74751</td>\n",
       "      <td>0.702657</td>\n",
       "      <td>9258.992965</td>\n",
       "    </tr>\n",
       "    <tr>\n",
       "      <th>3</th>\n",
       "      <td>59</td>\n",
       "      <td>74373</td>\n",
       "      <td>0.765680</td>\n",
       "      <td>7346.334504</td>\n",
       "    </tr>\n",
       "    <tr>\n",
       "      <th>4</th>\n",
       "      <td>87</td>\n",
       "      <td>17760</td>\n",
       "      <td>0.348778</td>\n",
       "      <td>16869.507130</td>\n",
       "    </tr>\n",
       "  </tbody>\n",
       "</table>\n",
       "</div>"
      ],
      "text/plain": [
       "   Age  Income  SpendingScore       Savings\n",
       "0   58   77769       0.791329   6559.829923\n",
       "1   59   81799       0.791082   5417.661426\n",
       "2   62   74751       0.702657   9258.992965\n",
       "3   59   74373       0.765680   7346.334504\n",
       "4   87   17760       0.348778  16869.507130"
      ]
     },
     "execution_count": 2,
     "metadata": {},
     "output_type": "execute_result"
    }
   ],
   "source": [
    "customerDataSet = pd.read_csv(\"jewellery.csv\")\n",
    "customerDataSet.head()"
   ]
  },
  {
   "cell_type": "code",
   "execution_count": 3,
   "id": "e17d30c0",
   "metadata": {},
   "outputs": [
    {
     "data": {
      "text/html": [
       "<div>\n",
       "<style scoped>\n",
       "    .dataframe tbody tr th:only-of-type {\n",
       "        vertical-align: middle;\n",
       "    }\n",
       "\n",
       "    .dataframe tbody tr th {\n",
       "        vertical-align: top;\n",
       "    }\n",
       "\n",
       "    .dataframe thead th {\n",
       "        text-align: right;\n",
       "    }\n",
       "</style>\n",
       "<table border=\"1\" class=\"dataframe\">\n",
       "  <thead>\n",
       "    <tr style=\"text-align: right;\">\n",
       "      <th></th>\n",
       "      <th>Age</th>\n",
       "      <th>Income</th>\n",
       "      <th>SpendingScore</th>\n",
       "      <th>Savings</th>\n",
       "    </tr>\n",
       "  </thead>\n",
       "  <tbody>\n",
       "    <tr>\n",
       "      <th>count</th>\n",
       "      <td>505.000000</td>\n",
       "      <td>505.000000</td>\n",
       "      <td>505.000000</td>\n",
       "      <td>505.000000</td>\n",
       "    </tr>\n",
       "    <tr>\n",
       "      <th>mean</th>\n",
       "      <td>59.019802</td>\n",
       "      <td>75513.291089</td>\n",
       "      <td>0.505083</td>\n",
       "      <td>11862.455867</td>\n",
       "    </tr>\n",
       "    <tr>\n",
       "      <th>std</th>\n",
       "      <td>24.140043</td>\n",
       "      <td>35992.922184</td>\n",
       "      <td>0.259634</td>\n",
       "      <td>4949.229253</td>\n",
       "    </tr>\n",
       "    <tr>\n",
       "      <th>min</th>\n",
       "      <td>17.000000</td>\n",
       "      <td>12000.000000</td>\n",
       "      <td>0.000000</td>\n",
       "      <td>0.000000</td>\n",
       "    </tr>\n",
       "    <tr>\n",
       "      <th>25%</th>\n",
       "      <td>34.000000</td>\n",
       "      <td>34529.000000</td>\n",
       "      <td>0.304792</td>\n",
       "      <td>6828.709702</td>\n",
       "    </tr>\n",
       "    <tr>\n",
       "      <th>50%</th>\n",
       "      <td>59.000000</td>\n",
       "      <td>75078.000000</td>\n",
       "      <td>0.368215</td>\n",
       "      <td>14209.932802</td>\n",
       "    </tr>\n",
       "    <tr>\n",
       "      <th>75%</th>\n",
       "      <td>85.000000</td>\n",
       "      <td>107100.000000</td>\n",
       "      <td>0.768279</td>\n",
       "      <td>16047.268331</td>\n",
       "    </tr>\n",
       "    <tr>\n",
       "      <th>max</th>\n",
       "      <td>97.000000</td>\n",
       "      <td>142000.000000</td>\n",
       "      <td>1.000000</td>\n",
       "      <td>20000.000000</td>\n",
       "    </tr>\n",
       "  </tbody>\n",
       "</table>\n",
       "</div>"
      ],
      "text/plain": [
       "              Age         Income  SpendingScore       Savings\n",
       "count  505.000000     505.000000     505.000000    505.000000\n",
       "mean    59.019802   75513.291089       0.505083  11862.455867\n",
       "std     24.140043   35992.922184       0.259634   4949.229253\n",
       "min     17.000000   12000.000000       0.000000      0.000000\n",
       "25%     34.000000   34529.000000       0.304792   6828.709702\n",
       "50%     59.000000   75078.000000       0.368215  14209.932802\n",
       "75%     85.000000  107100.000000       0.768279  16047.268331\n",
       "max     97.000000  142000.000000       1.000000  20000.000000"
      ]
     },
     "execution_count": 3,
     "metadata": {},
     "output_type": "execute_result"
    }
   ],
   "source": [
    "customerDataSet.describe(include='all')"
   ]
  },
  {
   "cell_type": "code",
   "execution_count": 4,
   "id": "0f51db20",
   "metadata": {},
   "outputs": [
    {
     "name": "stdout",
     "output_type": "stream",
     "text": [
      "<class 'pandas.core.frame.DataFrame'>\n",
      "RangeIndex: 505 entries, 0 to 504\n",
      "Data columns (total 4 columns):\n",
      " #   Column         Non-Null Count  Dtype  \n",
      "---  ------         --------------  -----  \n",
      " 0   Age            505 non-null    int64  \n",
      " 1   Income         505 non-null    int64  \n",
      " 2   SpendingScore  505 non-null    float64\n",
      " 3   Savings        505 non-null    float64\n",
      "dtypes: float64(2), int64(2)\n",
      "memory usage: 15.9 KB\n"
     ]
    }
   ],
   "source": [
    "customerDataSet.info()"
   ]
  },
  {
   "cell_type": "code",
   "execution_count": 5,
   "id": "1553bba3",
   "metadata": {},
   "outputs": [
    {
     "data": {
      "text/plain": [
       "Age              0\n",
       "Income           0\n",
       "SpendingScore    0\n",
       "Savings          0\n",
       "dtype: int64"
      ]
     },
     "execution_count": 5,
     "metadata": {},
     "output_type": "execute_result"
    }
   ],
   "source": [
    "customerDataSet.isnull().sum()"
   ]
  },
  {
   "cell_type": "markdown",
   "id": "876866b4",
   "metadata": {},
   "source": [
    "-------------------------------------------------------------------------------------------------------------------\n",
    "As seen in above outputs:\n",
    "    \n",
    "    There are 505 customer records in the dataset\n",
    "    There are no null values in any of the features\n",
    "    Age and Income are integer data whereas SpendingScore and Savings are float data.\n",
    "    We see the min value of SpendingScore and Savings is \"0\" which maybe erroneous and needs verification\n",
    "-------------------------------------------------------------------------------------------------------------------\n"
   ]
  },
  {
   "cell_type": "markdown",
   "id": "e3a2224b",
   "metadata": {},
   "source": [
    "## Verifying \"0\" values in  SpendingScore and Savings Features"
   ]
  },
  {
   "cell_type": "code",
   "execution_count": 6,
   "id": "f83279ea",
   "metadata": {},
   "outputs": [
    {
     "name": "stdout",
     "output_type": "stream",
     "text": [
      "\n",
      "Savings = 0:\n",
      "\n",
      " Age  Income  SpendingScore  Savings\n",
      "17   134734  0.857922       0.0        1\n",
      "dtype: int64 \n",
      "\n",
      "---------------------------------------------------------\n",
      "\n",
      "SpendingScore = 0:\n",
      "\n",
      " Age  Income  SpendingScore  Savings     \n",
      "86   124372  0.0            15374.465953    1\n",
      "dtype: int64 \n",
      "\n"
     ]
    }
   ],
   "source": [
    "print('\\nSavings = 0:\\n\\n',customerDataSet[customerDataSet['Savings']==0].value_counts(),'\\n')\n",
    "print('---------------------------------------------------------\\n')\n",
    "print('SpendingScore = 0:\\n\\n',customerDataSet[customerDataSet['SpendingScore']==0].value_counts(),'\\n')"
   ]
  },
  {
   "cell_type": "markdown",
   "id": "5356de5f",
   "metadata": {},
   "source": [
    "-----------------------------------------------------------------------------------------------------------------------------\n",
    "Savings = 0\n",
    "\n",
    "    The age of this customer is 17\n",
    "    Given the customer is a minor it is quite possible that he/she has 0 savings and the income/spending is from parents wealth.\n",
    "\n",
    "SpendingScore = 0\n",
    "\n",
    "    The age of the customer is 86\n",
    "    Given the high age and other dynamics like health, needs etc. related to that age, we can assume that this customer is not spending (at least since few years) and the 0 score is justified\n",
    "\n",
    "\n",
    "Hence, not dropping these records.\n",
    "\n",
    "-----------------------------------------------------------------------------------------------------------------------------"
   ]
  },
  {
   "cell_type": "markdown",
   "id": "9beb867f",
   "metadata": {},
   "source": [
    "## Exploratory Data Analysis"
   ]
  },
  {
   "cell_type": "code",
   "execution_count": 7,
   "id": "7767fb80",
   "metadata": {},
   "outputs": [
    {
     "data": {
      "image/png": "[encoded data removed]",
      "text/plain": [
       "<Figure size 1440x1080 with 6 Axes>"
      ]
     },
     "metadata": {
      "needs_background": "light"
     },
     "output_type": "display_data"
    }
   ],
   "source": [
    "plt.figure(figsize=(20,15))\n",
    "\n",
    "plt.subplot(331)\n",
    "plt.scatter(customerDataSet['Age'],customerDataSet['Income'])\n",
    "plt.title('Age vs Income')\n",
    "\n",
    "plt.subplot(332)\n",
    "plt.scatter(customerDataSet['Age'],customerDataSet['SpendingScore'])\n",
    "plt.title('Age vs SpendingScore')\n",
    "\n",
    "plt.subplot(333)\n",
    "plt.scatter(customerDataSet['Age'],customerDataSet['Savings'])\n",
    "plt.title('Age vs Savings')\n",
    "\n",
    "plt.subplot(334)\n",
    "plt.scatter(customerDataSet['Income'],customerDataSet['SpendingScore'])\n",
    "plt.title('Income vs SpendingScore')\n",
    "\n",
    "plt.subplot(335)\n",
    "plt.scatter(customerDataSet['Income'],customerDataSet['Savings'])\n",
    "plt.title('Income vs Savings')\n",
    "\n",
    "plt.subplot(337)\n",
    "plt.scatter(customerDataSet['SpendingScore'],customerDataSet['Savings'])\n",
    "plt.title('SpendingScore vs Savings')\n",
    "\n",
    "\n",
    "#plt.tight_layout()\n",
    "plt.subplots_adjust(left=0.1,\n",
    "                    bottom=0.1, \n",
    "                    right=0.9, \n",
    "                    top=0.9, \n",
    "                    wspace=0.4, \n",
    "                    hspace=0.4)\n",
    "plt.show()"
   ]
  },
  {
   "cell_type": "markdown",
   "id": "b8b6b662",
   "metadata": {},
   "source": [
    "Inference from above plots:\n",
    "\n",
    "    The general trend seen is that with increasing age, the customers spending decreases and savings increases. \n",
    "    This is also impacted by age, typically the younger generation is spending more and saving less and older ones are spending less and saving more\n",
    "    There are exceptions although to the general trend as said above\n",
    "    We do observe data where higher aged customers are spending more and higher income customers are saving less. These could be age and lifestyle related expenses like health, children education/marriage etc.\n",
    "    \n",
    "Higher the spending score, lower the savings is the trend observed. There seems to be a strong co-relation (although inverse) between these 2 features. \n",
    "\n",
    "Hence plotting a heatmap to check co-relation score. "
   ]
  },
  {
   "cell_type": "code",
   "execution_count": 8,
   "id": "6738b39c",
   "metadata": {},
   "outputs": [
    {
     "data": {
      "text/plain": [
       "<AxesSubplot:>"
      ]
     },
     "execution_count": 8,
     "metadata": {},
     "output_type": "execute_result"
    },
    {
     "data": {
      "image/png": "[encoded data removed]",
      "text/plain": [
       "<Figure size 720x360 with 2 Axes>"
      ]
     },
     "metadata": {},
     "output_type": "display_data"
    }
   ],
   "source": [
    "# for correlation\n",
    "corr = customerDataSet.corr()\n",
    "sns.set(rc = {'figure.figsize':(10,5)})\n",
    "sns.heatmap(corr, annot=True, cmap='coolwarm', linewidths=1.9)"
   ]
  },
  {
   "cell_type": "markdown",
   "id": "5acb0427",
   "metadata": {},
   "source": [
    "As seen in scatter plot and the heatmap, there is certainly a high corelation between SpendingScore and Savings. They are inversely related. We can generalize here that a high spender has low savings and a low spender has high savings.\n",
    "\n",
    "Hence dropping the Savings feature from the dataset. A spending score of the customer seems to be a better metric to use for segmentation and gathering insights from and hence Savings feature is chosen to drop"
   ]
  },
  {
   "cell_type": "code",
   "execution_count": 9,
   "id": "60cd82b4",
   "metadata": {},
   "outputs": [],
   "source": [
    "# Dropping the Savings feature\n",
    "customerDataSet=customerDataSet.drop(labels='Savings', axis=1)"
   ]
  },
  {
   "cell_type": "markdown",
   "id": "2a51d9a3",
   "metadata": {},
   "source": [
    "## Scaling the data"
   ]
  },
  {
   "cell_type": "code",
   "execution_count": 10,
   "id": "3738b5cf",
   "metadata": {},
   "outputs": [],
   "source": [
    "X = StandardScaler().fit_transform(customerDataSet)"
   ]
  },
  {
   "cell_type": "markdown",
   "id": "bf8152fb",
   "metadata": {},
   "source": [
    "## Deriving the minpoints and eps using heuristics"
   ]
  },
  {
   "cell_type": "markdown",
   "id": "9b74762f",
   "metadata": {},
   "source": [
    "A general heuristics based apporach for minpoints is 2 times the number of features.\n",
    "\n",
    "Using this minpoints value, we can then calculate the nearest neighbour distance and determine the eps value "
   ]
  },
  {
   "cell_type": "code",
   "execution_count": 11,
   "id": "69b1b606",
   "metadata": {},
   "outputs": [
    {
     "name": "stdout",
     "output_type": "stream",
     "text": [
      "Minpoints =  6\n"
     ]
    }
   ],
   "source": [
    "# Deriving Minpoints\n",
    "minpoints = 2*customerDataSet.shape[1]\n",
    "print ('Minpoints = ', minpoints)"
   ]
  },
  {
   "cell_type": "code",
   "execution_count": 12,
   "id": "226d79ee",
   "metadata": {},
   "outputs": [
    {
     "data": {
      "text/plain": [
       "[<matplotlib.lines.Line2D at 0x194c1407b50>]"
      ]
     },
     "execution_count": 12,
     "metadata": {},
     "output_type": "execute_result"
    },
    {
     "data": {
      "image/png": "[encoded data removed]",
      "text/plain": [
       "<Figure size 720x360 with 1 Axes>"
      ]
     },
     "metadata": {},
     "output_type": "display_data"
    }
   ],
   "source": [
    "# Deriving eps using NearestNeighbors\n",
    "neigh = NearestNeighbors(n_neighbors=minpoints)\n",
    "nbrs = neigh.fit(X)\n",
    "distances, indices = nbrs.kneighbors(X)\n",
    "distances = -np.sort(-distances, axis=0)\n",
    "distances = distances[:,1]\n",
    "plt.plot(distances)"
   ]
  },
  {
   "cell_type": "markdown",
   "id": "aca447d7",
   "metadata": {},
   "source": [
    "As seen in the plot above, the initial strong dip is seen at 0.2. Hence setting the eps value as 0.2 for clustering"
   ]
  },
  {
   "cell_type": "markdown",
   "id": "f9ddef46",
   "metadata": {},
   "source": [
    "## Clustering using DBSCAN Algorithm "
   ]
  },
  {
   "cell_type": "code",
   "execution_count": 13,
   "id": "8816a71f",
   "metadata": {},
   "outputs": [],
   "source": [
    "epsValue = 0.2\n",
    "dbscan = DBSCAN(eps=epsValue,min_samples=minpoints)\n",
    "y = dbscan.fit_predict(X)"
   ]
  },
  {
   "cell_type": "markdown",
   "id": "ed9b74a7",
   "metadata": {},
   "source": [
    "## Adding the clusters to dataset and verifying number of clusters"
   ]
  },
  {
   "cell_type": "code",
   "execution_count": 14,
   "id": "ee1c43f1",
   "metadata": {},
   "outputs": [
    {
     "data": {
      "text/plain": [
       "array([ 0,  1,  4,  3,  2, -1], dtype=int64)"
      ]
     },
     "execution_count": 14,
     "metadata": {},
     "output_type": "execute_result"
    }
   ],
   "source": [
    "customerDataSet['Cluster']=y\n",
    "customerDataSet['Cluster'].unique()"
   ]
  },
  {
   "cell_type": "markdown",
   "id": "3206328a",
   "metadata": {},
   "source": [
    "We observe that 6 clusters have been formed. \n",
    "\n",
    "Given that one of the clusters holds the value -1, presence of outliers can be confirmed"
   ]
  },
  {
   "cell_type": "markdown",
   "id": "25ced5db",
   "metadata": {},
   "source": [
    "## Verifying Presence of Outliers and Removing Them "
   ]
  },
  {
   "cell_type": "code",
   "execution_count": 15,
   "id": "cace4fbe",
   "metadata": {},
   "outputs": [
    {
     "name": "stdout",
     "output_type": "stream",
     "text": [
      "Outlier Data Points:  29\n"
     ]
    }
   ],
   "source": [
    "outliers = list(dbscan.labels_).count(-1)\n",
    "print('Outlier Data Points: ', outliers)"
   ]
  },
  {
   "cell_type": "code",
   "execution_count": 16,
   "id": "55a76eec",
   "metadata": {},
   "outputs": [
    {
     "data": {
      "text/html": [
       "<div>\n",
       "<style scoped>\n",
       "    .dataframe tbody tr th:only-of-type {\n",
       "        vertical-align: middle;\n",
       "    }\n",
       "\n",
       "    .dataframe tbody tr th {\n",
       "        vertical-align: top;\n",
       "    }\n",
       "\n",
       "    .dataframe thead th {\n",
       "        text-align: right;\n",
       "    }\n",
       "</style>\n",
       "<table border=\"1\" class=\"dataframe\">\n",
       "  <thead>\n",
       "    <tr style=\"text-align: right;\">\n",
       "      <th></th>\n",
       "      <th>Age</th>\n",
       "      <th>Income</th>\n",
       "      <th>SpendingScore</th>\n",
       "    </tr>\n",
       "    <tr>\n",
       "      <th>Cluster</th>\n",
       "      <th></th>\n",
       "      <th></th>\n",
       "      <th></th>\n",
       "    </tr>\n",
       "  </thead>\n",
       "  <tbody>\n",
       "    <tr>\n",
       "      <th>0</th>\n",
       "      <td>154</td>\n",
       "      <td>154</td>\n",
       "      <td>154</td>\n",
       "    </tr>\n",
       "    <tr>\n",
       "      <th>1</th>\n",
       "      <td>141</td>\n",
       "      <td>141</td>\n",
       "      <td>141</td>\n",
       "    </tr>\n",
       "    <tr>\n",
       "      <th>2</th>\n",
       "      <td>120</td>\n",
       "      <td>120</td>\n",
       "      <td>120</td>\n",
       "    </tr>\n",
       "    <tr>\n",
       "      <th>3</th>\n",
       "      <td>19</td>\n",
       "      <td>19</td>\n",
       "      <td>19</td>\n",
       "    </tr>\n",
       "    <tr>\n",
       "      <th>4</th>\n",
       "      <td>42</td>\n",
       "      <td>42</td>\n",
       "      <td>42</td>\n",
       "    </tr>\n",
       "  </tbody>\n",
       "</table>\n",
       "</div>"
      ],
      "text/plain": [
       "         Age  Income  SpendingScore\n",
       "Cluster                            \n",
       "0        154     154            154\n",
       "1        141     141            141\n",
       "2        120     120            120\n",
       "3         19      19             19\n",
       "4         42      42             42"
      ]
     },
     "execution_count": 16,
     "metadata": {},
     "output_type": "execute_result"
    }
   ],
   "source": [
    "customerDataSet = customerDataSet[customerDataSet['Cluster']!=-1]\n",
    "customerDataSet.groupby(['Cluster']).count()"
   ]
  },
  {
   "cell_type": "markdown",
   "id": "53308cdc",
   "metadata": {},
   "source": [
    "The 29 outliers have been removed and we see the final set of 5 clusters with number of data points belonging to each cluster in the data above"
   ]
  },
  {
   "cell_type": "markdown",
   "id": "bfe8b5fe",
   "metadata": {},
   "source": [
    "## Cluster Visualization "
   ]
  },
  {
   "cell_type": "code",
   "execution_count": 18,
   "id": "5213b7f8",
   "metadata": {},
   "outputs": [
    {
     "data": {
      "application/vnd.plotly.v1+json": {
       "config": {
        "plotlyServerURL": "https://plot.ly"
       },
       "data": [
        {
         "marker": {
          "color": [
           0,
           0,
           0,
           0,
           1,
           4,
           0,
           1,
           1,
           1,
           3,
           2,
           2,
           2,
           0,
           3,
           0,
           1,
           1,
           3,
           2,
           3,
           0,
           1,
           3,
           4,
           0,
           1,
           0,
           0,
           0,
           1,
           0,
           2,
           0,
           1,
           0,
           2,
           2,
           0,
           1,
           4,
           0,
           0,
           4,
           3,
           4,
           2,
           0,
           1,
           2,
           4,
           1,
           0,
           1,
           2,
           1,
           1,
           1,
           1,
           1,
           1,
           0,
           0,
           0,
           1,
           4,
           4,
           0,
           0,
           2,
           1,
           1,
           2,
           0,
           2,
           0,
           0,
           4,
           0,
           0,
           1,
           1,
           2,
           2,
           0,
           0,
           0,
           0,
           0,
           4,
           1,
           0,
           4,
           2,
           0,
           0,
           2,
           2,
           4,
           2,
           4,
           2,
           1,
           1,
           2,
           2,
           0,
           1,
           2,
           0,
           2,
           2,
           2,
           0,
           2,
           1,
           2,
           1,
           1,
           2,
           3,
           0,
           1,
           0,
           0,
           2,
           0,
           2,
           0,
           4,
           1,
           3,
           4,
           0,
           2,
           1,
           0,
           0,
           4,
           0,
           4,
           0,
           0,
           1,
           0,
           2,
           1,
           0,
           1,
           3,
           2,
           0,
           1,
           0,
           2,
           1,
           0,
           2,
           2,
           1,
           0,
           2,
           0,
           1,
           0,
           2,
           0,
           1,
           0,
           0,
           1,
           1,
           1,
           0,
           0,
           2,
           4,
           4,
           1,
           2,
           0,
           0,
           0,
           2,
           1,
           0,
           0,
           0,
           1,
           4,
           2,
           1,
           1,
           1,
           2,
           0,
           2,
           0,
           2,
           0,
           1,
           4,
           0,
           1,
           1,
           1,
           0,
           1,
           2,
           4,
           2,
           1,
           0,
           0,
           2,
           1,
           2,
           4,
           2,
           0,
           0,
           1,
           0,
           0,
           1,
           0,
           0,
           0,
           2,
           0,
           2,
           2,
           4,
           0,
           0,
           0,
           3,
           0,
           2,
           1,
           4,
           4,
           1,
           0,
           2,
           1,
           2,
           2,
           0,
           0,
           3,
           0,
           0,
           1,
           0,
           1,
           2,
           4,
           0,
           2,
           1,
           0,
           1,
           1,
           2,
           0,
           1,
           1,
           0,
           1,
           2,
           2,
           3,
           2,
           1,
           1,
           1,
           4,
           0,
           2,
           2,
           0,
           2,
           1,
           1,
           0,
           2,
           1,
           0,
           2,
           4,
           0,
           1,
           2,
           2,
           1,
           3,
           3,
           0,
           1,
           2,
           0,
           0,
           1,
           2,
           1,
           2,
           1,
           1,
           1,
           2,
           1,
           2,
           0,
           2,
           0,
           0,
           2,
           1,
           1,
           4,
           2,
           1,
           4,
           1,
           3,
           0,
           0,
           0,
           1,
           1,
           2,
           2,
           3,
           2,
           0,
           2,
           4,
           1,
           0,
           1,
           4,
           0,
           1,
           1,
           0,
           1,
           2,
           0,
           3,
           2,
           2,
           0,
           1,
           1,
           1,
           1,
           1,
           2,
           2,
           1,
           0,
           2,
           1,
           1,
           0,
           1,
           1,
           0,
           1,
           1,
           2,
           1,
           0,
           2,
           2,
           0,
           1,
           2,
           0,
           0,
           0,
           1,
           2,
           4,
           0,
           2,
           0,
           4,
           2,
           3,
           4,
           2,
           2,
           1,
           0,
           1,
           2,
           1,
           2,
           0,
           0,
           1,
           2,
           1,
           2,
           0,
           0,
           2,
           0,
           1,
           0,
           2,
           0,
           1,
           0,
           1,
           2,
           4,
           2,
           2,
           1,
           1,
           0,
           4,
           0,
           2,
           2,
           3,
           2,
           4,
           1,
           2,
           2,
           0,
           2,
           1,
           1,
           0,
           2,
           0,
           0,
           2,
           0,
           0,
           0,
           1,
           2,
           2,
           0,
           0,
           0,
           1,
           2,
           1,
           1,
           1,
           1,
           4,
           1,
           1,
           1,
           0,
           0,
           1,
           1,
           0,
           4,
           1,
           2,
           4,
           2,
           1,
           1,
           1
          ],
          "line": {
           "color": "black",
           "width": 10
          },
          "size": 10
         },
         "mode": "markers",
         "type": "scatter3d",
         "x": [
          58,
          59,
          62,
          59,
          87,
          29,
          54,
          87,
          83,
          84,
          85,
          36,
          30,
          31,
          61,
          92,
          55,
          87,
          82,
          88,
          30,
          84,
          53,
          91,
          89,
          30,
          55,
          90,
          61,
          59,
          59,
          88,
          56,
          33,
          61,
          84,
          61,
          39,
          31,
          60,
          87,
          20,
          57,
          61,
          18,
          83,
          25,
          31,
          55,
          84,
          36,
          27,
          91,
          53,
          91,
          25,
          83,
          87,
          90,
          83,
          83,
          83,
          61,
          64,
          62,
          91,
          28,
          23,
          55,
          58,
          31,
          83,
          91,
          30,
          57,
          33,
          59,
          58,
          29,
          59,
          64,
          87,
          88,
          35,
          34,
          58,
          56,
          63,
          58,
          60,
          24,
          94,
          58,
          25,
          36,
          62,
          66,
          37,
          27,
          24,
          31,
          23,
          34,
          88,
          89,
          32,
          38,
          57,
          90,
          33,
          66,
          35,
          31,
          35,
          63,
          30,
          84,
          28,
          88,
          88,
          35,
          82,
          64,
          91,
          62,
          62,
          34,
          60,
          32,
          65,
          24,
          88,
          82,
          26,
          60,
          31,
          85,
          63,
          56,
          28,
          58,
          26,
          62,
          56,
          91,
          59,
          28,
          85,
          65,
          94,
          86,
          30,
          62,
          85,
          59,
          30,
          83,
          66,
          31,
          28,
          85,
          64,
          33,
          62,
          89,
          61,
          29,
          56,
          92,
          62,
          60,
          85,
          88,
          94,
          62,
          64,
          29,
          27,
          31,
          87,
          32,
          63,
          58,
          62,
          32,
          93,
          59,
          61,
          53,
          82,
          28,
          32,
          89,
          84,
          87,
          29,
          58,
          29,
          55,
          25,
          60,
          88,
          24,
          56,
          95,
          89,
          85,
          60,
          87,
          29,
          23,
          31,
          89,
          58,
          56,
          37,
          89,
          29,
          23,
          34,
          64,
          63,
          85,
          62,
          59,
          92,
          67,
          58,
          58,
          38,
          57,
          31,
          36,
          25,
          66,
          64,
          59,
          90,
          68,
          35,
          84,
          24,
          28,
          81,
          57,
          37,
          91,
          36,
          31,
          61,
          64,
          83,
          63,
          55,
          86,
          57,
          94,
          37,
          26,
          57,
          37,
          88,
          61,
          91,
          84,
          43,
          59,
          90,
          88,
          59,
          88,
          37,
          33,
          90,
          31,
          90,
          91,
          84,
          22,
          58,
          31,
          33,
          56,
          30,
          85,
          87,
          61,
          30,
          88,
          56,
          30,
          25,
          61,
          88,
          37,
          35,
          85,
          85,
          88,
          59,
          90,
          33,
          62,
          59,
          91,
          33,
          87,
          26,
          88,
          91,
          86,
          36,
          87,
          33,
          59,
          29,
          59,
          57,
          40,
          89,
          93,
          24,
          34,
          90,
          20,
          92,
          84,
          59,
          61,
          67,
          82,
          94,
          28,
          36,
          91,
          34,
          63,
          35,
          21,
          86,
          56,
          83,
          28,
          59,
          83,
          83,
          58,
          91,
          29,
          61,
          84,
          34,
          33,
          55,
          88,
          91,
          91,
          84,
          87,
          39,
          38,
          89,
          59,
          35,
          94,
          86,
          60,
          79,
          86,
          60,
          85,
          92,
          37,
          89,
          67,
          31,
          37,
          57,
          87,
          33,
          56,
          67,
          58,
          89,
          34,
          25,
          68,
          31,
          55,
          21,
          36,
          88,
          26,
          29,
          38,
          79,
          51,
          82,
          39,
          87,
          36,
          57,
          61,
          86,
          35,
          89,
          30,
          60,
          64,
          37,
          65,
          90,
          59,
          29,
          58,
          88,
          63,
          92,
          34,
          24,
          36,
          34,
          87,
          85,
          61,
          27,
          59,
          31,
          31,
          93,
          35,
          28,
          94,
          28,
          33,
          56,
          28,
          86,
          92,
          61,
          32,
          63,
          58,
          31,
          62,
          60,
          62,
          90,
          33,
          33,
          65,
          59,
          65,
          86,
          32,
          84,
          84,
          90,
          91,
          26,
          92,
          97,
          84,
          58,
          61,
          92,
          87,
          66,
          22,
          91,
          30,
          25,
          28,
          90,
          91,
          89
         ],
         "y": [
          0.7913287771988531,
          0.7910820467274178,
          0.7026569520102857,
          0.7656795619984281,
          0.3487775484305074,
          0.8470341025128371,
          0.7851978501165687,
          0.3552896820382759,
          0.3247186821733417,
          0.3670629731870412,
          0.0367953622110323,
          0.2654326074020303,
          0.344679223509786,
          0.2905086327499087,
          0.8441067966472876,
          0.0607240352184939,
          0.7533426836166189,
          0.317423970601333,
          0.3717829785401914,
          0.0632728512966028,
          0.3143871202044516,
          0.0821868319247355,
          0.7600576501232099,
          0.2710645345158169,
          0.0916792017028315,
          0.8728724057273831,
          0.8271741985123882,
          0.3577883144645876,
          0.7771175646074471,
          0.8114711740198254,
          0.7421121217155721,
          0.2898659849627828,
          0.7618879582513512,
          0.3150815497840024,
          0.7702140596767938,
          0.3794963151514172,
          0.8278622414878984,
          0.3849229829012918,
          0.2941062030828216,
          0.7944610508231513,
          0.3663120107544869,
          0.8870519941988757,
          0.7215024376129366,
          0.811160373170345,
          0.8908912472675831,
          0.0421548010785584,
          0.944017175810026,
          0.2702350511848681,
          0.7998269700906482,
          0.2926633744644019,
          0.2974012931596539,
          0.9206489879585448,
          0.2963285713632805,
          0.7331388477995737,
          0.3767135304583465,
          0.2884688560740983,
          0.3082630418510537,
          0.3068211973464496,
          0.2488100687902313,
          0.2410777442746463,
          0.3212403632065312,
          0.3311418077630257,
          0.8216687745413516,
          0.7680563479442216,
          0.8462196017575947,
          0.3017537675837046,
          0.9842407862639496,
          0.8650328592458483,
          0.7565897119333272,
          0.7351650452097145,
          0.3252806065281125,
          0.3172075114569807,
          0.2685979050949868,
          0.2396771776819925,
          0.7734352958312237,
          0.3095111158545869,
          0.8017156979122673,
          0.7667195837506832,
          0.8985788437238403,
          0.7812961239072382,
          0.7745562258521365,
          0.3752921226023748,
          0.3997156855452149,
          0.3279928581002429,
          0.3445454117798671,
          0.7535283874245788,
          0.7321233689266612,
          0.8005979105724924,
          0.7697129169369328,
          0.812104912914789,
          0.8716976842508705,
          0.3768757353168557,
          0.7209986871945887,
          0.9137660194970426,
          0.3406667947415742,
          0.7391949797931453,
          0.8115483367376335,
          0.2866485050019983,
          0.2662947092346973,
          0.9118386021444842,
          0.2943151380482853,
          0.8819129663041946,
          0.3720337099315751,
          0.4083878319987073,
          0.4438327068456706,
          0.3069901582742725,
          0.3144900731288347,
          0.7906578552491133,
          0.377571058498228,
          0.2282170773869075,
          0.7665941891374249,
          0.2751372175012177,
          0.2864732316476225,
          0.3491110181825554,
          0.8200359737627068,
          0.303863615036657,
          0.3336031402694437,
          0.3134915614599665,
          0.3128732065230775,
          0.337569323887528,
          0.2424731551814769,
          0.0546531904642098,
          0.8426521453196145,
          0.2824885213712914,
          0.7453271943508174,
          0.766572365027147,
          0.3283430294033384,
          0.8320590985324969,
          0.2620703561646911,
          0.7785687658100923,
          0.9054521594192038,
          0.3056535336752106,
          0.0780961943994333,
          0.8770521049168103,
          0.7153396972946453,
          0.3280420856997338,
          0.3690001696241634,
          0.7626699527314824,
          0.7849450699605269,
          0.8569692823607705,
          0.8097944168848634,
          0.8250298045601994,
          0.7353568506694507,
          0.7162678503859907,
          0.2773889467565771,
          0.7225483489421433,
          0.2537347301209012,
          0.3694371368158697,
          0.7861892594159869,
          0.336402269797664,
          0.057842956133581,
          0.3694162857692797,
          0.6909167811268888,
          0.2862292747117072,
          0.8114707012366371,
          0.2301607310342209,
          0.3938023931664613,
          0.7696800667721441,
          0.3658064971511749,
          0.2795578681222758,
          0.2987969233586417,
          0.6993887663543108,
          0.2382437868013801,
          0.7196850779929922,
          0.2785878455435617,
          0.7416839698444291,
          0.2889604994756899,
          0.8157116929554062,
          0.3885749195868542,
          0.7907090657200839,
          0.7086131723969877,
          0.3423406666949811,
          0.3977396663840213,
          0.3025032231546657,
          0.7921059737158539,
          0.7568019251873561,
          0.4002811559385194,
          0.9596454072349518,
          0.89046022417733,
          0.2645499059687874,
          0.2662460568101488,
          0.7403870808915297,
          0.7864400503429185,
          0.7467384433463651,
          0.3074763135926987,
          0.2975730342292497,
          0.7020090041734849,
          0.8380950724014863,
          0.7387310917031671,
          0.3273154026360584,
          0.8733219541371664,
          0.3107432443044589,
          0.3121481952107594,
          0.3474234168306904,
          0.3761654587506353,
          0.3388162937437745,
          0.8406978038692191,
          0.3079200040396055,
          0.8778279844516369,
          0.3909047196000217,
          0.84661848692906,
          0.3043913649608802,
          0.8747208244890404,
          0.7275840223364691,
          0.3313520070109344,
          0.3044743722681633,
          0.2819950483303406,
          0.7316484923943142,
          0.3152205738281265,
          0.3256230614429721,
          0.8727356634334804,
          0.2763779214063509,
          0.3819877440174351,
          0.8233589910091558,
          0.7798516671891869,
          0.3346179841546032,
          0.3761469685086391,
          0.3587713900686116,
          0.9226565539031124,
          0.2474244093916156,
          0.7571277508774099,
          0.7831591503681397,
          0.3254914498834959,
          0.7705945596869115,
          0.7682786576081454,
          0.3668917159124752,
          0.7436599996604758,
          0.7122963723872477,
          0.8229596005059499,
          0.3803902009461493,
          0.7662313009024402,
          0.3050696862135815,
          0.2880975671929816,
          0.8640569016468125,
          0.7538892176112998,
          0.7403674891662984,
          0.7527238381125997,
          0.0827227429940155,
          0.7965446939835457,
          0.3422142051018276,
          0.2309337663207005,
          0.9388521378701832,
          0.9308319590820414,
          0.2726097792323641,
          0.787378081122989,
          0.3466690765431849,
          0.32300404344763,
          0.316060414098024,
          0.341239503307387,
          0.7210804930623951,
          0.7756041848937439,
          0.0772132400334304,
          0.7622805817657738,
          0.7471254610291731,
          0.3216356471662456,
          0.8405990704520518,
          0.3141730453838618,
          0.2864957031483905,
          0.8807194909406801,
          0.6748906779058501,
          0.2775867542026021,
          0.2696436303999441,
          0.7727563051023116,
          0.3193886529047028,
          0.3955062459001081,
          0.3819838041034955,
          0.7945029052198103,
          0.3385629680709827,
          0.2800595048614143,
          0.7114339697492305,
          0.3682153159958089,
          0.3744658274308825,
          0.2507508056238616,
          0.0307513143939138,
          0.2862743235826754,
          0.2823512821567113,
          0.3535018242414266,
          0.3660858718547989,
          0.8706980046008759,
          0.7215881830727278,
          0.2686742663930692,
          0.3392354218755358,
          0.7737370986430746,
          0.3094467811568005,
          0.3181352453742131,
          0.3144631516753479,
          0.8334590233217959,
          0.2948164301396663,
          0.3167510258154691,
          0.8122757021441627,
          0.2607006223919937,
          0.9254385568124625,
          0.7174899773841509,
          0.3041682062164747,
          0.2574704443875843,
          0.3047918711384766,
          0.3104101151420252,
          0.123196057747337,
          0.0322075423389263,
          0.7188952048526104,
          0.2713268321051208,
          0.3302325026567214,
          0.7980123380544829,
          0.7598834338453199,
          0.3261988874784867,
          0.3630856827120957,
          0.3429910076112659,
          0.2934087605160681,
          0.3860515062876169,
          0.3498032558856572,
          0.2494769403551006,
          0.3089229914936124,
          0.2793159778940049,
          0.2792568364789493,
          0.6573140731575163,
          0.3406596106851227,
          0.8302949092020397,
          0.7285849289103553,
          0.279080850187049,
          0.3260051328059917,
          0.3032923688871533,
          0.8271179432765905,
          0.3401523810436963,
          0.4199085281737912,
          0.8940806156500202,
          0.3317732623948493,
          0.0687782098136733,
          0.6797735912164855,
          0.7781022309770123,
          0.7738336308243648,
          0.3012532342412973,
          0.3470950600753079,
          0.3627619606240113,
          0.3126388486955741,
          0.0192120658984376,
          0.3054369951589357,
          0.8999405530923943,
          0.3009135799974076,
          0.8320252689431032,
          0.3415457603870515,
          0.7594315957853627,
          0.347979632373841,
          0.857078493256913,
          0.8035145098215853,
          0.3013734548863509,
          0.3016314685914632,
          0.7249557054919687,
          0.2884703320713124,
          0.3194403010352474,
          0.7544065421993587,
          0.0790490322794597,
          0.345312577109288,
          0.32541328975821,
          0.7421137340413241,
          0.3567448288797468,
          0.3322388165540652,
          0.324193555035782,
          0.3136467169954889,
          0.3167603729756968,
          0.2166061433945727,
          0.3334859873871594,
          0.3217652209320886,
          0.8567042188430352,
          0.3433779781521022,
          0.3302260180973432,
          0.3365233301816881,
          0.7143393610830643,
          0.3697828881534748,
          0.2401766350783482,
          0.8005783854654352,
          0.3580738593579665,
          0.3685156285793065,
          0.1923436158292553,
          0.348118273264174,
          0.8196642592960329,
          0.3741658782934958,
          0.3226762482802641,
          0.82240840085096,
          0.3903905943444749,
          0.3360798055671445,
          0.806499154055182,
          0.7632736815688779,
          0.7237211912021976,
          0.3388488510290433,
          0.3010873537839331,
          0.8776734245644572,
          0.7455674638713768,
          0.2722279930569666,
          0.7332568512323248,
          0.9517923119702948,
          0.3242132027621541,
          0.0290271402910519,
          0.9268183658411524,
          0.3427661743407053,
          0.4059588503683713,
          0.3032762059432743,
          0.7911147257599156,
          0.276101346355296,
          0.3766412501689559,
          0.3507250914944152,
          0.355660187354229,
          0.7549723463413129,
          0.7459489746307642,
          0.2571749664748936,
          0.2612719132713158,
          0.3819060693389532,
          0.3773384910014747,
          0.7545393292392412,
          0.7480162682831766,
          0.3432357689892068,
          0.7517741617758547,
          0.2812794569155436,
          0.7251568963089163,
          0.347945113577731,
          0.7837795500405715,
          0.3796208481334848,
          0.7323186222078123,
          0.3970636039704499,
          0.3229930887837502,
          0.9074853865005544,
          0.2123600508972585,
          0.2478622761143138,
          0.4021456613889217,
          0.3184561372216806,
          0.7340673095092516,
          0.910107112831516,
          0.8014869916095588,
          0.2944689389706671,
          0.3742421881649845,
          0.0251701694773457,
          0.2867692710102035,
          0.8814245468734898,
          0.3144466826182581,
          0.2595983487762325,
          0.3209300476959025,
          0.7546029986455771,
          0.3035961911057213,
          0.3293769514872405,
          0.3228506824321553,
          0.7623249166772856,
          0.3113555349689566,
          0.7665090449070475,
          0.7640283880376706,
          0.3043229953712128,
          0.7966191667425384,
          0.7519000198498227,
          0.8191699488980382,
          0.303758971334624,
          0.2583961137212551,
          0.3424354833732075,
          0.6969942581249643,
          0.8799059975919311,
          0.7878897626638453,
          0.2780355384470266,
          0.2873708671400807,
          0.2718090229374729,
          0.3970228936031003,
          0.3563068710287742,
          0.3036929225036061,
          0.9845261943505972,
          0.3278623148176303,
          0.283922895270403,
          0.3536209572557781,
          0.9045204855363144,
          0.6922364738673796,
          0.3369683066109672,
          0.3421516318130469,
          0.7072624347132287,
          0.8898001728484242,
          0.3036980300982536,
          0.4111117138132285,
          0.8167389887954251,
          0.3874406981253433,
          0.3551490190566364,
          0.3546791690549572,
          0.2893100658351509
         ],
         "z": [
          77769,
          81799,
          74751,
          74373,
          17760,
          131578,
          76500,
          42592,
          34384,
          27693,
          111389,
          99780,
          99949,
          107963,
          71933,
          122879,
          71621,
          31481,
          33636,
          120678,
          101073,
          122696,
          76667,
          22672,
          119697,
          122788,
          78761,
          37503,
          76955,
          65700,
          69738,
          17851,
          63866,
          101058,
          74117,
          20704,
          63846,
          100540,
          111449,
          70012,
          23042,
          129142,
          75332,
          73245,
          130813,
          119429,
          138021,
          101481,
          74356,
          18244,
          98137,
          121468,
          24370,
          62117,
          26917,
          101503,
          28727,
          23322,
          33188,
          33170,
          23206,
          30721,
          69001,
          60493,
          69741,
          25886,
          123153,
          126500,
          71056,
          74340,
          110882,
          34529,
          36991,
          107302,
          79470,
          98033,
          72588,
          77101,
          122264,
          74576,
          88361,
          26045,
          33303,
          104678,
          104284,
          70798,
          86484,
          85761,
          70259,
          79969,
          136644,
          28352,
          69879,
          130934,
          101811,
          73480,
          72571,
          110595,
          106758,
          130974,
          116247,
          120226,
          98752,
          28802,
          24520,
          110439,
          115146,
          76594,
          33259,
          99637,
          64866,
          102308,
          104388,
          101691,
          72815,
          108928,
          29492,
          97965,
          26092,
          34001,
          107131,
          121642,
          71692,
          29082,
          63596,
          62650,
          107255,
          71436,
          102035,
          65736,
          127352,
          28409,
          126257,
          126617,
          70663,
          107115,
          34634,
          80705,
          84386,
          121216,
          75757,
          127320,
          71050,
          68698,
          30148,
          67781,
          111937,
          28401,
          66017,
          20719,
          115689,
          106350,
          80093,
          30794,
          67988,
          107926,
          28497,
          82526,
          99457,
          99611,
          34802,
          76364,
          111813,
          68279,
          31096,
          69698,
          102028,
          68463,
          32915,
          78413,
          65054,
          26355,
          28585,
          27771,
          69391,
          86283,
          111426,
          125008,
          122924,
          18459,
          95536,
          69849,
          78635,
          67030,
          101905,
          20440,
          71302,
          71033,
          74996,
          32494,
          123229,
          106543,
          20292,
          27179,
          24578,
          103223,
          83351,
          99161,
          76057,
          106772,
          67491,
          33251,
          134384,
          60059,
          27038,
          26127,
          27599,
          65340,
          25701,
          101943,
          129937,
          102618,
          19202,
          80278,
          67274,
          107877,
          33311,
          119366,
          138443,
          103428,
          64331,
          75078,
          29204,
          62747,
          75505,
          35877,
          59243,
          77559,
          70272,
          94775,
          65608,
          114833,
          96336,
          131009,
          71672,
          78801,
          69460,
          117668,
          77648,
          106588,
          27544,
          134389,
          129019,
          34425,
          74014,
          107958,
          16950,
          100158,
          112943,
          71171,
          76410,
          117943,
          56875,
          73895,
          35998,
          76573,
          27169,
          108635,
          131827,
          69655,
          106664,
          17946,
          73495,
          26424,
          22286,
          101641,
          75495,
          25733,
          27169,
          67401,
          32708,
          97831,
          105667,
          124170,
          105826,
          30178,
          25237,
          38042,
          134209,
          76052,
          108067,
          106345,
          75599,
          108581,
          29610,
          30812,
          72060,
          107525,
          19510,
          78992,
          102056,
          130361,
          65647,
          26351,
          97678,
          117112,
          21250,
          118169,
          114767,
          77978,
          22288,
          94964,
          69326,
          69115,
          36639,
          100275,
          12000,
          97750,
          35051,
          12038,
          31994,
          108004,
          30178,
          114555,
          80876,
          116451,
          73057,
          64803,
          98821,
          26940,
          17672,
          129087,
          89598,
          33490,
          122581,
          22484,
          115237,
          73350,
          65914,
          68663,
          33610,
          18937,
          109075,
          105567,
          118794,
          119877,
          67370,
          112878,
          123678,
          18812,
          80431,
          26882,
          117108,
          82199,
          18162,
          30492,
          80248,
          29750,
          110860,
          68842,
          110582,
          111303,
          108345,
          76831,
          22602,
          27168,
          28777,
          27384,
          25566,
          99216,
          113659,
          25252,
          73596,
          105991,
          38923,
          28779,
          70054,
          38201,
          36031,
          65942,
          28408,
          33550,
          108651,
          34524,
          80914,
          105006,
          110732,
          79794,
          30102,
          92569,
          73516,
          78702,
          69247,
          28160,
          103204,
          120957,
          68944,
          105036,
          64768,
          129726,
          109038,
          123651,
          125662,
          112531,
          104738,
          32421,
          72086,
          24391,
          100661,
          15671,
          109809,
          72055,
          78837,
          15695,
          108499,
          22008,
          96241,
          74460,
          62886,
          106894,
          74430,
          24376,
          67346,
          106014,
          78078,
          31366,
          82343,
          35484,
          98993,
          120465,
          104285,
          102291,
          26665,
          21652,
          67372,
          122671,
          68038,
          107994,
          107932,
          126601,
          110106,
          127699,
          23854,
          100592,
          116616,
          65313,
          94762,
          27705,
          22616,
          72027,
          117050,
          70580,
          70676,
          101209,
          73675,
          63476,
          67731,
          29029,
          106757,
          107100,
          70430,
          69408,
          71229,
          23400,
          108417,
          24105,
          30481,
          22782,
          28165,
          123005,
          18724,
          27271,
          36463,
          70369,
          74282,
          36032,
          29909,
          77052,
          132948,
          30756,
          98030,
          128625,
          101206,
          35297,
          20681,
          30267
         ]
        }
       ],
       "layout": {
        "height": 600,
        "margin": {
         "l": 0,
         "r": 0
        },
        "scene": {
         "xaxis": {
          "title": {
           "text": "Age"
          }
         },
         "yaxis": {
          "title": {
           "text": "Spending Score"
          }
         },
         "zaxis": {
          "title": {
           "text": "Income"
          }
         }
        },
        "template": {
         "data": {
          "bar": [
           {
            "error_x": {
             "color": "#2a3f5f"
            },
            "error_y": {
             "color": "#2a3f5f"
            },
            "marker": {
             "line": {
              "color": "#E5ECF6",
              "width": 0.5
             },
             "pattern": {
              "fillmode": "overlay",
              "size": 10,
              "solidity": 0.2
             }
            },
            "type": "bar"
           }
          ],
          "barpolar": [
           {
            "marker": {
             "line": {
              "color": "#E5ECF6",
              "width": 0.5
             },
             "pattern": {
              "fillmode": "overlay",
              "size": 10,
              "solidity": 0.2
             }
            },
            "type": "barpolar"
           }
          ],
          "carpet": [
           {
            "aaxis": {
             "endlinecolor": "#2a3f5f",
             "gridcolor": "white",
             "linecolor": "white",
             "minorgridcolor": "white",
             "startlinecolor": "#2a3f5f"
            },
            "baxis": {
             "endlinecolor": "#2a3f5f",
             "gridcolor": "white",
             "linecolor": "white",
             "minorgridcolor": "white",
             "startlinecolor": "#2a3f5f"
            },
            "type": "carpet"
           }
          ],
          "choropleth": [
           {
            "colorbar": {
             "outlinewidth": 0,
             "ticks": ""
            },
            "type": "choropleth"
           }
          ],
          "contour": [
           {
            "colorbar": {
             "outlinewidth": 0,
             "ticks": ""
            },
            "colorscale": [
             [
              0,
              "#0d0887"
             ],
             [
              0.1111111111111111,
              "#46039f"
             ],
             [
              0.2222222222222222,
              "#7201a8"
             ],
             [
              0.3333333333333333,
              "#9c179e"
             ],
             [
              0.4444444444444444,
              "#bd3786"
             ],
             [
              0.5555555555555556,
              "#d8576b"
             ],
             [
              0.6666666666666666,
              "#ed7953"
             ],
             [
              0.7777777777777778,
              "#fb9f3a"
             ],
             [
              0.8888888888888888,
              "#fdca26"
             ],
             [
              1,
              "#f0f921"
             ]
            ],
            "type": "contour"
           }
          ],
          "contourcarpet": [
           {
            "colorbar": {
             "outlinewidth": 0,
             "ticks": ""
            },
            "type": "contourcarpet"
           }
          ],
          "heatmap": [
           {
            "colorbar": {
             "outlinewidth": 0,
             "ticks": ""
            },
            "colorscale": [
             [
              0,
              "#0d0887"
             ],
             [
              0.1111111111111111,
              "#46039f"
             ],
             [
              0.2222222222222222,
              "#7201a8"
             ],
             [
              0.3333333333333333,
              "#9c179e"
             ],
             [
              0.4444444444444444,
              "#bd3786"
             ],
             [
              0.5555555555555556,
              "#d8576b"
             ],
             [
              0.6666666666666666,
              "#ed7953"
             ],
             [
              0.7777777777777778,
              "#fb9f3a"
             ],
             [
              0.8888888888888888,
              "#fdca26"
             ],
             [
              1,
              "#f0f921"
             ]
            ],
            "type": "heatmap"
           }
          ],
          "heatmapgl": [
           {
            "colorbar": {
             "outlinewidth": 0,
             "ticks": ""
            },
            "colorscale": [
             [
              0,
              "#0d0887"
             ],
             [
              0.1111111111111111,
              "#46039f"
             ],
             [
              0.2222222222222222,
              "#7201a8"
             ],
             [
              0.3333333333333333,
              "#9c179e"
             ],
             [
              0.4444444444444444,
              "#bd3786"
             ],
             [
              0.5555555555555556,
              "#d8576b"
             ],
             [
              0.6666666666666666,
              "#ed7953"
             ],
             [
              0.7777777777777778,
              "#fb9f3a"
             ],
             [
              0.8888888888888888,
              "#fdca26"
             ],
             [
              1,
              "#f0f921"
             ]
            ],
            "type": "heatmapgl"
           }
          ],
          "histogram": [
           {
            "marker": {
             "pattern": {
              "fillmode": "overlay",
              "size": 10,
              "solidity": 0.2
             }
            },
            "type": "histogram"
           }
          ],
          "histogram2d": [
           {
            "colorbar": {
             "outlinewidth": 0,
             "ticks": ""
            },
            "colorscale": [
             [
              0,
              "#0d0887"
             ],
             [
              0.1111111111111111,
              "#46039f"
             ],
             [
              0.2222222222222222,
              "#7201a8"
             ],
             [
              0.3333333333333333,
              "#9c179e"
             ],
             [
              0.4444444444444444,
              "#bd3786"
             ],
             [
              0.5555555555555556,
              "#d8576b"
             ],
             [
              0.6666666666666666,
              "#ed7953"
             ],
             [
              0.7777777777777778,
              "#fb9f3a"
             ],
             [
              0.8888888888888888,
              "#fdca26"
             ],
             [
              1,
              "#f0f921"
             ]
            ],
            "type": "histogram2d"
           }
          ],
          "histogram2dcontour": [
           {
            "colorbar": {
             "outlinewidth": 0,
             "ticks": ""
            },
            "colorscale": [
             [
              0,
              "#0d0887"
             ],
             [
              0.1111111111111111,
              "#46039f"
             ],
             [
              0.2222222222222222,
              "#7201a8"
             ],
             [
              0.3333333333333333,
              "#9c179e"
             ],
             [
              0.4444444444444444,
              "#bd3786"
             ],
             [
              0.5555555555555556,
              "#d8576b"
             ],
             [
              0.6666666666666666,
              "#ed7953"
             ],
             [
              0.7777777777777778,
              "#fb9f3a"
             ],
             [
              0.8888888888888888,
              "#fdca26"
             ],
             [
              1,
              "#f0f921"
             ]
            ],
            "type": "histogram2dcontour"
           }
          ],
          "mesh3d": [
           {
            "colorbar": {
             "outlinewidth": 0,
             "ticks": ""
            },
            "type": "mesh3d"
           }
          ],
          "parcoords": [
           {
            "line": {
             "colorbar": {
              "outlinewidth": 0,
              "ticks": ""
             }
            },
            "type": "parcoords"
           }
          ],
          "pie": [
           {
            "automargin": true,
            "type": "pie"
           }
          ],
          "scatter": [
           {
            "fillpattern": {
             "fillmode": "overlay",
             "size": 10,
             "solidity": 0.2
            },
            "type": "scatter"
           }
          ],
          "scatter3d": [
           {
            "line": {
             "colorbar": {
              "outlinewidth": 0,
              "ticks": ""
             }
            },
            "marker": {
             "colorbar": {
              "outlinewidth": 0,
              "ticks": ""
             }
            },
            "type": "scatter3d"
           }
          ],
          "scattercarpet": [
           {
            "marker": {
             "colorbar": {
              "outlinewidth": 0,
              "ticks": ""
             }
            },
            "type": "scattercarpet"
           }
          ],
          "scattergeo": [
           {
            "marker": {
             "colorbar": {
              "outlinewidth": 0,
              "ticks": ""
             }
            },
            "type": "scattergeo"
           }
          ],
          "scattergl": [
           {
            "marker": {
             "colorbar": {
              "outlinewidth": 0,
              "ticks": ""
             }
            },
            "type": "scattergl"
           }
          ],
          "scattermapbox": [
           {
            "marker": {
             "colorbar": {
              "outlinewidth": 0,
              "ticks": ""
             }
            },
            "type": "scattermapbox"
           }
          ],
          "scatterpolar": [
           {
            "marker": {
             "colorbar": {
              "outlinewidth": 0,
              "ticks": ""
             }
            },
            "type": "scatterpolar"
           }
          ],
          "scatterpolargl": [
           {
            "marker": {
             "colorbar": {
              "outlinewidth": 0,
              "ticks": ""
             }
            },
            "type": "scatterpolargl"
           }
          ],
          "scatterternary": [
           {
            "marker": {
             "colorbar": {
              "outlinewidth": 0,
              "ticks": ""
             }
            },
            "type": "scatterternary"
           }
          ],
          "surface": [
           {
            "colorbar": {
             "outlinewidth": 0,
             "ticks": ""
            },
            "colorscale": [
             [
              0,
              "#0d0887"
             ],
             [
              0.1111111111111111,
              "#46039f"
             ],
             [
              0.2222222222222222,
              "#7201a8"
             ],
             [
              0.3333333333333333,
              "#9c179e"
             ],
             [
              0.4444444444444444,
              "#bd3786"
             ],
             [
              0.5555555555555556,
              "#d8576b"
             ],
             [
              0.6666666666666666,
              "#ed7953"
             ],
             [
              0.7777777777777778,
              "#fb9f3a"
             ],
             [
              0.8888888888888888,
              "#fdca26"
             ],
             [
              1,
              "#f0f921"
             ]
            ],
            "type": "surface"
           }
          ],
          "table": [
           {
            "cells": {
             "fill": {
              "color": "#EBF0F8"
             },
             "line": {
              "color": "white"
             }
            },
            "header": {
             "fill": {
              "color": "#C8D4E3"
             },
             "line": {
              "color": "white"
             }
            },
            "type": "table"
           }
          ]
         },
         "layout": {
          "annotationdefaults": {
           "arrowcolor": "#2a3f5f",
           "arrowhead": 0,
           "arrowwidth": 1
          },
          "autotypenumbers": "strict",
          "coloraxis": {
           "colorbar": {
            "outlinewidth": 0,
            "ticks": ""
           }
          },
          "colorscale": {
           "diverging": [
            [
             0,
             "#8e0152"
            ],
            [
             0.1,
             "#c51b7d"
            ],
            [
             0.2,
             "#de77ae"
            ],
            [
             0.3,
             "#f1b6da"
            ],
            [
             0.4,
             "#fde0ef"
            ],
            [
             0.5,
             "#f7f7f7"
            ],
            [
             0.6,
             "#e6f5d0"
            ],
            [
             0.7,
             "#b8e186"
            ],
            [
             0.8,
             "#7fbc41"
            ],
            [
             0.9,
             "#4d9221"
            ],
            [
             1,
             "#276419"
            ]
           ],
           "sequential": [
            [
             0,
             "#0d0887"
            ],
            [
             0.1111111111111111,
             "#46039f"
            ],
            [
             0.2222222222222222,
             "#7201a8"
            ],
            [
             0.3333333333333333,
             "#9c179e"
            ],
            [
             0.4444444444444444,
             "#bd3786"
            ],
            [
             0.5555555555555556,
             "#d8576b"
            ],
            [
             0.6666666666666666,
             "#ed7953"
            ],
            [
             0.7777777777777778,
             "#fb9f3a"
            ],
            [
             0.8888888888888888,
             "#fdca26"
            ],
            [
             1,
             "#f0f921"
            ]
           ],
           "sequentialminus": [
            [
             0,
             "#0d0887"
            ],
            [
             0.1111111111111111,
             "#46039f"
            ],
            [
             0.2222222222222222,
             "#7201a8"
            ],
            [
             0.3333333333333333,
             "#9c179e"
            ],
            [
             0.4444444444444444,
             "#bd3786"
            ],
            [
             0.5555555555555556,
             "#d8576b"
            ],
            [
             0.6666666666666666,
             "#ed7953"
            ],
            [
             0.7777777777777778,
             "#fb9f3a"
            ],
            [
             0.8888888888888888,
             "#fdca26"
            ],
            [
             1,
             "#f0f921"
            ]
           ]
          },
          "colorway": [
           "#636efa",
           "#EF553B",
           "#00cc96",
           "#ab63fa",
           "#FFA15A",
           "#19d3f3",
           "#FF6692",
           "#B6E880",
           "#FF97FF",
           "#FECB52"
          ],
          "font": {
           "color": "#2a3f5f"
          },
          "geo": {
           "bgcolor": "white",
           "lakecolor": "white",
           "landcolor": "#E5ECF6",
           "showlakes": true,
           "showland": true,
           "subunitcolor": "white"
          },
          "hoverlabel": {
           "align": "left"
          },
          "hovermode": "closest",
          "mapbox": {
           "style": "light"
          },
          "paper_bgcolor": "white",
          "plot_bgcolor": "#E5ECF6",
          "polar": {
           "angularaxis": {
            "gridcolor": "white",
            "linecolor": "white",
            "ticks": ""
           },
           "bgcolor": "#E5ECF6",
           "radialaxis": {
            "gridcolor": "white",
            "linecolor": "white",
            "ticks": ""
           }
          },
          "scene": {
           "xaxis": {
            "backgroundcolor": "#E5ECF6",
            "gridcolor": "white",
            "gridwidth": 2,
            "linecolor": "white",
            "showbackground": true,
            "ticks": "",
            "zerolinecolor": "white"
           },
           "yaxis": {
            "backgroundcolor": "#E5ECF6",
            "gridcolor": "white",
            "gridwidth": 2,
            "linecolor": "white",
            "showbackground": true,
            "ticks": "",
            "zerolinecolor": "white"
           },
           "zaxis": {
            "backgroundcolor": "#E5ECF6",
            "gridcolor": "white",
            "gridwidth": 2,
            "linecolor": "white",
            "showbackground": true,
            "ticks": "",
            "zerolinecolor": "white"
           }
          },
          "shapedefaults": {
           "line": {
            "color": "#2a3f5f"
           }
          },
          "ternary": {
           "aaxis": {
            "gridcolor": "white",
            "linecolor": "white",
            "ticks": ""
           },
           "baxis": {
            "gridcolor": "white",
            "linecolor": "white",
            "ticks": ""
           },
           "bgcolor": "#E5ECF6",
           "caxis": {
            "gridcolor": "white",
            "linecolor": "white",
            "ticks": ""
           }
          },
          "title": {
           "x": 0.05
          },
          "xaxis": {
           "automargin": true,
           "gridcolor": "white",
           "linecolor": "white",
           "ticks": "",
           "title": {
            "standoff": 15
           },
           "zerolinecolor": "white",
           "zerolinewidth": 2
          },
          "yaxis": {
           "automargin": true,
           "gridcolor": "white",
           "linecolor": "white",
           "ticks": "",
           "title": {
            "standoff": 15
           },
           "zerolinecolor": "white",
           "zerolinewidth": 2
          }
         }
        },
        "width": 600
       }
      },
      "text/html": [
       "<div>                            <div id=\"6fd12d18-e22a-4edb-bace-f887d35013d2\" class=\"plotly-graph-div\" style=\"height:600px; width:600px;\"></div>            <script type=\"text/javascript\">                require([\"plotly\"], function(Plotly) {                    window.PLOTLYENV=window.PLOTLYENV || {};                                    if (document.getElementById(\"6fd12d18-e22a-4edb-bace-f887d35013d2\")) {                    Plotly.newPlot(                        \"6fd12d18-e22a-4edb-bace-f887d35013d2\",                        [{\"marker\":{\"color\":[0,0,0,0,1,4,0,1,1,1,3,2,2,2,0,3,0,1,1,3,2,3,0,1,3,4,0,1,0,0,0,1,0,2,0,1,0,2,2,0,1,4,0,0,4,3,4,2,0,1,2,4,1,0,1,2,1,1,1,1,1,1,0,0,0,1,4,4,0,0,2,1,1,2,0,2,0,0,4,0,0,1,1,2,2,0,0,0,0,0,4,1,0,4,2,0,0,2,2,4,2,4,2,1,1,2,2,0,1,2,0,2,2,2,0,2,1,2,1,1,2,3,0,1,0,0,2,0,2,0,4,1,3,4,0,2,1,0,0,4,0,4,0,0,1,0,2,1,0,1,3,2,0,1,0,2,1,0,2,2,1,0,2,0,1,0,2,0,1,0,0,1,1,1,0,0,2,4,4,1,2,0,0,0,2,1,0,0,0,1,4,2,1,1,1,2,0,2,0,2,0,1,4,0,1,1,1,0,1,2,4,2,1,0,0,2,1,2,4,2,0,0,1,0,0,1,0,0,0,2,0,2,2,4,0,0,0,3,0,2,1,4,4,1,0,2,1,2,2,0,0,3,0,0,1,0,1,2,4,0,2,1,0,1,1,2,0,1,1,0,1,2,2,3,2,1,1,1,4,0,2,2,0,2,1,1,0,2,1,0,2,4,0,1,2,2,1,3,3,0,1,2,0,0,1,2,1,2,1,1,1,2,1,2,0,2,0,0,2,1,1,4,2,1,4,1,3,0,0,0,1,1,2,2,3,2,0,2,4,1,0,1,4,0,1,1,0,1,2,0,3,2,2,0,1,1,1,1,1,2,2,1,0,2,1,1,0,1,1,0,1,1,2,1,0,2,2,0,1,2,0,0,0,1,2,4,0,2,0,4,2,3,4,2,2,1,0,1,2,1,2,0,0,1,2,1,2,0,0,2,0,1,0,2,0,1,0,1,2,4,2,2,1,1,0,4,0,2,2,3,2,4,1,2,2,0,2,1,1,0,2,0,0,2,0,0,0,1,2,2,0,0,0,1,2,1,1,1,1,4,1,1,1,0,0,1,1,0,4,1,2,4,2,1,1,1],\"line\":{\"color\":\"black\",\"width\":10},\"size\":10},\"mode\":\"markers\",\"x\":[58,59,62,59,87,29,54,87,83,84,85,36,30,31,61,92,55,87,82,88,30,84,53,91,89,30,55,90,61,59,59,88,56,33,61,84,61,39,31,60,87,20,57,61,18,83,25,31,55,84,36,27,91,53,91,25,83,87,90,83,83,83,61,64,62,91,28,23,55,58,31,83,91,30,57,33,59,58,29,59,64,87,88,35,34,58,56,63,58,60,24,94,58,25,36,62,66,37,27,24,31,23,34,88,89,32,38,57,90,33,66,35,31,35,63,30,84,28,88,88,35,82,64,91,62,62,34,60,32,65,24,88,82,26,60,31,85,63,56,28,58,26,62,56,91,59,28,85,65,94,86,30,62,85,59,30,83,66,31,28,85,64,33,62,89,61,29,56,92,62,60,85,88,94,62,64,29,27,31,87,32,63,58,62,32,93,59,61,53,82,28,32,89,84,87,29,58,29,55,25,60,88,24,56,95,89,85,60,87,29,23,31,89,58,56,37,89,29,23,34,64,63,85,62,59,92,67,58,58,38,57,31,36,25,66,64,59,90,68,35,84,24,28,81,57,37,91,36,31,61,64,83,63,55,86,57,94,37,26,57,37,88,61,91,84,43,59,90,88,59,88,37,33,90,31,90,91,84,22,58,31,33,56,30,85,87,61,30,88,56,30,25,61,88,37,35,85,85,88,59,90,33,62,59,91,33,87,26,88,91,86,36,87,33,59,29,59,57,40,89,93,24,34,90,20,92,84,59,61,67,82,94,28,36,91,34,63,35,21,86,56,83,28,59,83,83,58,91,29,61,84,34,33,55,88,91,91,84,87,39,38,89,59,35,94,86,60,79,86,60,85,92,37,89,67,31,37,57,87,33,56,67,58,89,34,25,68,31,55,21,36,88,26,29,38,79,51,82,39,87,36,57,61,86,35,89,30,60,64,37,65,90,59,29,58,88,63,92,34,24,36,34,87,85,61,27,59,31,31,93,35,28,94,28,33,56,28,86,92,61,32,63,58,31,62,60,62,90,33,33,65,59,65,86,32,84,84,90,91,26,92,97,84,58,61,92,87,66,22,91,30,25,28,90,91,89],\"y\":[0.7913287771988531,0.7910820467274178,0.7026569520102857,0.7656795619984281,0.3487775484305074,0.8470341025128371,0.7851978501165687,0.3552896820382759,0.3247186821733417,0.3670629731870412,0.0367953622110323,0.2654326074020303,0.344679223509786,0.2905086327499087,0.8441067966472876,0.0607240352184939,0.7533426836166189,0.317423970601333,0.3717829785401914,0.0632728512966028,0.3143871202044516,0.0821868319247355,0.7600576501232099,0.2710645345158169,0.0916792017028315,0.8728724057273831,0.8271741985123882,0.3577883144645876,0.7771175646074471,0.8114711740198254,0.7421121217155721,0.2898659849627828,0.7618879582513512,0.3150815497840024,0.7702140596767938,0.3794963151514172,0.8278622414878984,0.3849229829012918,0.2941062030828216,0.7944610508231513,0.3663120107544869,0.8870519941988757,0.7215024376129366,0.811160373170345,0.8908912472675831,0.0421548010785584,0.944017175810026,0.2702350511848681,0.7998269700906482,0.2926633744644019,0.2974012931596539,0.9206489879585448,0.2963285713632805,0.7331388477995737,0.3767135304583465,0.2884688560740983,0.3082630418510537,0.3068211973464496,0.2488100687902313,0.2410777442746463,0.3212403632065312,0.3311418077630257,0.8216687745413516,0.7680563479442216,0.8462196017575947,0.3017537675837046,0.9842407862639496,0.8650328592458483,0.7565897119333272,0.7351650452097145,0.3252806065281125,0.3172075114569807,0.2685979050949868,0.2396771776819925,0.7734352958312237,0.3095111158545869,0.8017156979122673,0.7667195837506832,0.8985788437238403,0.7812961239072382,0.7745562258521365,0.3752921226023748,0.3997156855452149,0.3279928581002429,0.3445454117798671,0.7535283874245788,0.7321233689266612,0.8005979105724924,0.7697129169369328,0.812104912914789,0.8716976842508705,0.3768757353168557,0.7209986871945887,0.9137660194970426,0.3406667947415742,0.7391949797931453,0.8115483367376335,0.2866485050019983,0.2662947092346973,0.9118386021444842,0.2943151380482853,0.8819129663041946,0.3720337099315751,0.4083878319987073,0.4438327068456706,0.3069901582742725,0.3144900731288347,0.7906578552491133,0.377571058498228,0.2282170773869075,0.7665941891374249,0.2751372175012177,0.2864732316476225,0.3491110181825554,0.8200359737627068,0.303863615036657,0.3336031402694437,0.3134915614599665,0.3128732065230775,0.337569323887528,0.2424731551814769,0.0546531904642098,0.8426521453196145,0.2824885213712914,0.7453271943508174,0.766572365027147,0.3283430294033384,0.8320590985324969,0.2620703561646911,0.7785687658100923,0.9054521594192038,0.3056535336752106,0.0780961943994333,0.8770521049168103,0.7153396972946453,0.3280420856997338,0.3690001696241634,0.7626699527314824,0.7849450699605269,0.8569692823607705,0.8097944168848634,0.8250298045601994,0.7353568506694507,0.7162678503859907,0.2773889467565771,0.7225483489421433,0.2537347301209012,0.3694371368158697,0.7861892594159869,0.336402269797664,0.057842956133581,0.3694162857692797,0.6909167811268888,0.2862292747117072,0.8114707012366371,0.2301607310342209,0.3938023931664613,0.7696800667721441,0.3658064971511749,0.2795578681222758,0.2987969233586417,0.6993887663543108,0.2382437868013801,0.7196850779929922,0.2785878455435617,0.7416839698444291,0.2889604994756899,0.8157116929554062,0.3885749195868542,0.7907090657200839,0.7086131723969877,0.3423406666949811,0.3977396663840213,0.3025032231546657,0.7921059737158539,0.7568019251873561,0.4002811559385194,0.9596454072349518,0.89046022417733,0.2645499059687874,0.2662460568101488,0.7403870808915297,0.7864400503429185,0.7467384433463651,0.3074763135926987,0.2975730342292497,0.7020090041734849,0.8380950724014863,0.7387310917031671,0.3273154026360584,0.8733219541371664,0.3107432443044589,0.3121481952107594,0.3474234168306904,0.3761654587506353,0.3388162937437745,0.8406978038692191,0.3079200040396055,0.8778279844516369,0.3909047196000217,0.84661848692906,0.3043913649608802,0.8747208244890404,0.7275840223364691,0.3313520070109344,0.3044743722681633,0.2819950483303406,0.7316484923943142,0.3152205738281265,0.3256230614429721,0.8727356634334804,0.2763779214063509,0.3819877440174351,0.8233589910091558,0.7798516671891869,0.3346179841546032,0.3761469685086391,0.3587713900686116,0.9226565539031124,0.2474244093916156,0.7571277508774099,0.7831591503681397,0.3254914498834959,0.7705945596869115,0.7682786576081454,0.3668917159124752,0.7436599996604758,0.7122963723872477,0.8229596005059499,0.3803902009461493,0.7662313009024402,0.3050696862135815,0.2880975671929816,0.8640569016468125,0.7538892176112998,0.7403674891662984,0.7527238381125997,0.0827227429940155,0.7965446939835457,0.3422142051018276,0.2309337663207005,0.9388521378701832,0.9308319590820414,0.2726097792323641,0.787378081122989,0.3466690765431849,0.32300404344763,0.316060414098024,0.341239503307387,0.7210804930623951,0.7756041848937439,0.0772132400334304,0.7622805817657738,0.7471254610291731,0.3216356471662456,0.8405990704520518,0.3141730453838618,0.2864957031483905,0.8807194909406801,0.6748906779058501,0.2775867542026021,0.2696436303999441,0.7727563051023116,0.3193886529047028,0.3955062459001081,0.3819838041034955,0.7945029052198103,0.3385629680709827,0.2800595048614143,0.7114339697492305,0.3682153159958089,0.3744658274308825,0.2507508056238616,0.0307513143939138,0.2862743235826754,0.2823512821567113,0.3535018242414266,0.3660858718547989,0.8706980046008759,0.7215881830727278,0.2686742663930692,0.3392354218755358,0.7737370986430746,0.3094467811568005,0.3181352453742131,0.3144631516753479,0.8334590233217959,0.2948164301396663,0.3167510258154691,0.8122757021441627,0.2607006223919937,0.9254385568124625,0.7174899773841509,0.3041682062164747,0.2574704443875843,0.3047918711384766,0.3104101151420252,0.123196057747337,0.0322075423389263,0.7188952048526104,0.2713268321051208,0.3302325026567214,0.7980123380544829,0.7598834338453199,0.3261988874784867,0.3630856827120957,0.3429910076112659,0.2934087605160681,0.3860515062876169,0.3498032558856572,0.2494769403551006,0.3089229914936124,0.2793159778940049,0.2792568364789493,0.6573140731575163,0.3406596106851227,0.8302949092020397,0.7285849289103553,0.279080850187049,0.3260051328059917,0.3032923688871533,0.8271179432765905,0.3401523810436963,0.4199085281737912,0.8940806156500202,0.3317732623948493,0.0687782098136733,0.6797735912164855,0.7781022309770123,0.7738336308243648,0.3012532342412973,0.3470950600753079,0.3627619606240113,0.3126388486955741,0.0192120658984376,0.3054369951589357,0.8999405530923943,0.3009135799974076,0.8320252689431032,0.3415457603870515,0.7594315957853627,0.347979632373841,0.857078493256913,0.8035145098215853,0.3013734548863509,0.3016314685914632,0.7249557054919687,0.2884703320713124,0.3194403010352474,0.7544065421993587,0.0790490322794597,0.345312577109288,0.32541328975821,0.7421137340413241,0.3567448288797468,0.3322388165540652,0.324193555035782,0.3136467169954889,0.3167603729756968,0.2166061433945727,0.3334859873871594,0.3217652209320886,0.8567042188430352,0.3433779781521022,0.3302260180973432,0.3365233301816881,0.7143393610830643,0.3697828881534748,0.2401766350783482,0.8005783854654352,0.3580738593579665,0.3685156285793065,0.1923436158292553,0.348118273264174,0.8196642592960329,0.3741658782934958,0.3226762482802641,0.82240840085096,0.3903905943444749,0.3360798055671445,0.806499154055182,0.7632736815688779,0.7237211912021976,0.3388488510290433,0.3010873537839331,0.8776734245644572,0.7455674638713768,0.2722279930569666,0.7332568512323248,0.9517923119702948,0.3242132027621541,0.0290271402910519,0.9268183658411524,0.3427661743407053,0.4059588503683713,0.3032762059432743,0.7911147257599156,0.276101346355296,0.3766412501689559,0.3507250914944152,0.355660187354229,0.7549723463413129,0.7459489746307642,0.2571749664748936,0.2612719132713158,0.3819060693389532,0.3773384910014747,0.7545393292392412,0.7480162682831766,0.3432357689892068,0.7517741617758547,0.2812794569155436,0.7251568963089163,0.347945113577731,0.7837795500405715,0.3796208481334848,0.7323186222078123,0.3970636039704499,0.3229930887837502,0.9074853865005544,0.2123600508972585,0.2478622761143138,0.4021456613889217,0.3184561372216806,0.7340673095092516,0.910107112831516,0.8014869916095588,0.2944689389706671,0.3742421881649845,0.0251701694773457,0.2867692710102035,0.8814245468734898,0.3144466826182581,0.2595983487762325,0.3209300476959025,0.7546029986455771,0.3035961911057213,0.3293769514872405,0.3228506824321553,0.7623249166772856,0.3113555349689566,0.7665090449070475,0.7640283880376706,0.3043229953712128,0.7966191667425384,0.7519000198498227,0.8191699488980382,0.303758971334624,0.2583961137212551,0.3424354833732075,0.6969942581249643,0.8799059975919311,0.7878897626638453,0.2780355384470266,0.2873708671400807,0.2718090229374729,0.3970228936031003,0.3563068710287742,0.3036929225036061,0.9845261943505972,0.3278623148176303,0.283922895270403,0.3536209572557781,0.9045204855363144,0.6922364738673796,0.3369683066109672,0.3421516318130469,0.7072624347132287,0.8898001728484242,0.3036980300982536,0.4111117138132285,0.8167389887954251,0.3874406981253433,0.3551490190566364,0.3546791690549572,0.2893100658351509],\"z\":[77769,81799,74751,74373,17760,131578,76500,42592,34384,27693,111389,99780,99949,107963,71933,122879,71621,31481,33636,120678,101073,122696,76667,22672,119697,122788,78761,37503,76955,65700,69738,17851,63866,101058,74117,20704,63846,100540,111449,70012,23042,129142,75332,73245,130813,119429,138021,101481,74356,18244,98137,121468,24370,62117,26917,101503,28727,23322,33188,33170,23206,30721,69001,60493,69741,25886,123153,126500,71056,74340,110882,34529,36991,107302,79470,98033,72588,77101,122264,74576,88361,26045,33303,104678,104284,70798,86484,85761,70259,79969,136644,28352,69879,130934,101811,73480,72571,110595,106758,130974,116247,120226,98752,28802,24520,110439,115146,76594,33259,99637,64866,102308,104388,101691,72815,108928,29492,97965,26092,34001,107131,121642,71692,29082,63596,62650,107255,71436,102035,65736,127352,28409,126257,126617,70663,107115,34634,80705,84386,121216,75757,127320,71050,68698,30148,67781,111937,28401,66017,20719,115689,106350,80093,30794,67988,107926,28497,82526,99457,99611,34802,76364,111813,68279,31096,69698,102028,68463,32915,78413,65054,26355,28585,27771,69391,86283,111426,125008,122924,18459,95536,69849,78635,67030,101905,20440,71302,71033,74996,32494,123229,106543,20292,27179,24578,103223,83351,99161,76057,106772,67491,33251,134384,60059,27038,26127,27599,65340,25701,101943,129937,102618,19202,80278,67274,107877,33311,119366,138443,103428,64331,75078,29204,62747,75505,35877,59243,77559,70272,94775,65608,114833,96336,131009,71672,78801,69460,117668,77648,106588,27544,134389,129019,34425,74014,107958,16950,100158,112943,71171,76410,117943,56875,73895,35998,76573,27169,108635,131827,69655,106664,17946,73495,26424,22286,101641,75495,25733,27169,67401,32708,97831,105667,124170,105826,30178,25237,38042,134209,76052,108067,106345,75599,108581,29610,30812,72060,107525,19510,78992,102056,130361,65647,26351,97678,117112,21250,118169,114767,77978,22288,94964,69326,69115,36639,100275,12000,97750,35051,12038,31994,108004,30178,114555,80876,116451,73057,64803,98821,26940,17672,129087,89598,33490,122581,22484,115237,73350,65914,68663,33610,18937,109075,105567,118794,119877,67370,112878,123678,18812,80431,26882,117108,82199,18162,30492,80248,29750,110860,68842,110582,111303,108345,76831,22602,27168,28777,27384,25566,99216,113659,25252,73596,105991,38923,28779,70054,38201,36031,65942,28408,33550,108651,34524,80914,105006,110732,79794,30102,92569,73516,78702,69247,28160,103204,120957,68944,105036,64768,129726,109038,123651,125662,112531,104738,32421,72086,24391,100661,15671,109809,72055,78837,15695,108499,22008,96241,74460,62886,106894,74430,24376,67346,106014,78078,31366,82343,35484,98993,120465,104285,102291,26665,21652,67372,122671,68038,107994,107932,126601,110106,127699,23854,100592,116616,65313,94762,27705,22616,72027,117050,70580,70676,101209,73675,63476,67731,29029,106757,107100,70430,69408,71229,23400,108417,24105,30481,22782,28165,123005,18724,27271,36463,70369,74282,36032,29909,77052,132948,30756,98030,128625,101206,35297,20681,30267],\"type\":\"scatter3d\"}],                        {\"height\":600,\"margin\":{\"l\":0,\"r\":0},\"scene\":{\"xaxis\":{\"title\":{\"text\":\"Age\"}},\"yaxis\":{\"title\":{\"text\":\"Spending Score\"}},\"zaxis\":{\"title\":{\"text\":\"Income\"}}},\"width\":600,\"template\":{\"data\":{\"histogram2dcontour\":[{\"type\":\"histogram2dcontour\",\"colorbar\":{\"outlinewidth\":0,\"ticks\":\"\"},\"colorscale\":[[0.0,\"#0d0887\"],[0.1111111111111111,\"#46039f\"],[0.2222222222222222,\"#7201a8\"],[0.3333333333333333,\"#9c179e\"],[0.4444444444444444,\"#bd3786\"],[0.5555555555555556,\"#d8576b\"],[0.6666666666666666,\"#ed7953\"],[0.7777777777777778,\"#fb9f3a\"],[0.8888888888888888,\"#fdca26\"],[1.0,\"#f0f921\"]]}],\"choropleth\":[{\"type\":\"choropleth\",\"colorbar\":{\"outlinewidth\":0,\"ticks\":\"\"}}],\"histogram2d\":[{\"type\":\"histogram2d\",\"colorbar\":{\"outlinewidth\":0,\"ticks\":\"\"},\"colorscale\":[[0.0,\"#0d0887\"],[0.1111111111111111,\"#46039f\"],[0.2222222222222222,\"#7201a8\"],[0.3333333333333333,\"#9c179e\"],[0.4444444444444444,\"#bd3786\"],[0.5555555555555556,\"#d8576b\"],[0.6666666666666666,\"#ed7953\"],[0.7777777777777778,\"#fb9f3a\"],[0.8888888888888888,\"#fdca26\"],[1.0,\"#f0f921\"]]}],\"heatmap\":[{\"type\":\"heatmap\",\"colorbar\":{\"outlinewidth\":0,\"ticks\":\"\"},\"colorscale\":[[0.0,\"#0d0887\"],[0.1111111111111111,\"#46039f\"],[0.2222222222222222,\"#7201a8\"],[0.3333333333333333,\"#9c179e\"],[0.4444444444444444,\"#bd3786\"],[0.5555555555555556,\"#d8576b\"],[0.6666666666666666,\"#ed7953\"],[0.7777777777777778,\"#fb9f3a\"],[0.8888888888888888,\"#fdca26\"],[1.0,\"#f0f921\"]]}],\"heatmapgl\":[{\"type\":\"heatmapgl\",\"colorbar\":{\"outlinewidth\":0,\"ticks\":\"\"},\"colorscale\":[[0.0,\"#0d0887\"],[0.1111111111111111,\"#46039f\"],[0.2222222222222222,\"#7201a8\"],[0.3333333333333333,\"#9c179e\"],[0.4444444444444444,\"#bd3786\"],[0.5555555555555556,\"#d8576b\"],[0.6666666666666666,\"#ed7953\"],[0.7777777777777778,\"#fb9f3a\"],[0.8888888888888888,\"#fdca26\"],[1.0,\"#f0f921\"]]}],\"contourcarpet\":[{\"type\":\"contourcarpet\",\"colorbar\":{\"outlinewidth\":0,\"ticks\":\"\"}}],\"contour\":[{\"type\":\"contour\",\"colorbar\":{\"outlinewidth\":0,\"ticks\":\"\"},\"colorscale\":[[0.0,\"#0d0887\"],[0.1111111111111111,\"#46039f\"],[0.2222222222222222,\"#7201a8\"],[0.3333333333333333,\"#9c179e\"],[0.4444444444444444,\"#bd3786\"],[0.5555555555555556,\"#d8576b\"],[0.6666666666666666,\"#ed7953\"],[0.7777777777777778,\"#fb9f3a\"],[0.8888888888888888,\"#fdca26\"],[1.0,\"#f0f921\"]]}],\"surface\":[{\"type\":\"surface\",\"colorbar\":{\"outlinewidth\":0,\"ticks\":\"\"},\"colorscale\":[[0.0,\"#0d0887\"],[0.1111111111111111,\"#46039f\"],[0.2222222222222222,\"#7201a8\"],[0.3333333333333333,\"#9c179e\"],[0.4444444444444444,\"#bd3786\"],[0.5555555555555556,\"#d8576b\"],[0.6666666666666666,\"#ed7953\"],[0.7777777777777778,\"#fb9f3a\"],[0.8888888888888888,\"#fdca26\"],[1.0,\"#f0f921\"]]}],\"mesh3d\":[{\"type\":\"mesh3d\",\"colorbar\":{\"outlinewidth\":0,\"ticks\":\"\"}}],\"scatter\":[{\"fillpattern\":{\"fillmode\":\"overlay\",\"size\":10,\"solidity\":0.2},\"type\":\"scatter\"}],\"parcoords\":[{\"type\":\"parcoords\",\"line\":{\"colorbar\":{\"outlinewidth\":0,\"ticks\":\"\"}}}],\"scatterpolargl\":[{\"type\":\"scatterpolargl\",\"marker\":{\"colorbar\":{\"outlinewidth\":0,\"ticks\":\"\"}}}],\"bar\":[{\"error_x\":{\"color\":\"#2a3f5f\"},\"error_y\":{\"color\":\"#2a3f5f\"},\"marker\":{\"line\":{\"color\":\"#E5ECF6\",\"width\":0.5},\"pattern\":{\"fillmode\":\"overlay\",\"size\":10,\"solidity\":0.2}},\"type\":\"bar\"}],\"scattergeo\":[{\"type\":\"scattergeo\",\"marker\":{\"colorbar\":{\"outlinewidth\":0,\"ticks\":\"\"}}}],\"scatterpolar\":[{\"type\":\"scatterpolar\",\"marker\":{\"colorbar\":{\"outlinewidth\":0,\"ticks\":\"\"}}}],\"histogram\":[{\"marker\":{\"pattern\":{\"fillmode\":\"overlay\",\"size\":10,\"solidity\":0.2}},\"type\":\"histogram\"}],\"scattergl\":[{\"type\":\"scattergl\",\"marker\":{\"colorbar\":{\"outlinewidth\":0,\"ticks\":\"\"}}}],\"scatter3d\":[{\"type\":\"scatter3d\",\"line\":{\"colorbar\":{\"outlinewidth\":0,\"ticks\":\"\"}},\"marker\":{\"colorbar\":{\"outlinewidth\":0,\"ticks\":\"\"}}}],\"scattermapbox\":[{\"type\":\"scattermapbox\",\"marker\":{\"colorbar\":{\"outlinewidth\":0,\"ticks\":\"\"}}}],\"scatterternary\":[{\"type\":\"scatterternary\",\"marker\":{\"colorbar\":{\"outlinewidth\":0,\"ticks\":\"\"}}}],\"scattercarpet\":[{\"type\":\"scattercarpet\",\"marker\":{\"colorbar\":{\"outlinewidth\":0,\"ticks\":\"\"}}}],\"carpet\":[{\"aaxis\":{\"endlinecolor\":\"#2a3f5f\",\"gridcolor\":\"white\",\"linecolor\":\"white\",\"minorgridcolor\":\"white\",\"startlinecolor\":\"#2a3f5f\"},\"baxis\":{\"endlinecolor\":\"#2a3f5f\",\"gridcolor\":\"white\",\"linecolor\":\"white\",\"minorgridcolor\":\"white\",\"startlinecolor\":\"#2a3f5f\"},\"type\":\"carpet\"}],\"table\":[{\"cells\":{\"fill\":{\"color\":\"#EBF0F8\"},\"line\":{\"color\":\"white\"}},\"header\":{\"fill\":{\"color\":\"#C8D4E3\"},\"line\":{\"color\":\"white\"}},\"type\":\"table\"}],\"barpolar\":[{\"marker\":{\"line\":{\"color\":\"#E5ECF6\",\"width\":0.5},\"pattern\":{\"fillmode\":\"overlay\",\"size\":10,\"solidity\":0.2}},\"type\":\"barpolar\"}],\"pie\":[{\"automargin\":true,\"type\":\"pie\"}]},\"layout\":{\"autotypenumbers\":\"strict\",\"colorway\":[\"#636efa\",\"#EF553B\",\"#00cc96\",\"#ab63fa\",\"#FFA15A\",\"#19d3f3\",\"#FF6692\",\"#B6E880\",\"#FF97FF\",\"#FECB52\"],\"font\":{\"color\":\"#2a3f5f\"},\"hovermode\":\"closest\",\"hoverlabel\":{\"align\":\"left\"},\"paper_bgcolor\":\"white\",\"plot_bgcolor\":\"#E5ECF6\",\"polar\":{\"bgcolor\":\"#E5ECF6\",\"angularaxis\":{\"gridcolor\":\"white\",\"linecolor\":\"white\",\"ticks\":\"\"},\"radialaxis\":{\"gridcolor\":\"white\",\"linecolor\":\"white\",\"ticks\":\"\"}},\"ternary\":{\"bgcolor\":\"#E5ECF6\",\"aaxis\":{\"gridcolor\":\"white\",\"linecolor\":\"white\",\"ticks\":\"\"},\"baxis\":{\"gridcolor\":\"white\",\"linecolor\":\"white\",\"ticks\":\"\"},\"caxis\":{\"gridcolor\":\"white\",\"linecolor\":\"white\",\"ticks\":\"\"}},\"coloraxis\":{\"colorbar\":{\"outlinewidth\":0,\"ticks\":\"\"}},\"colorscale\":{\"sequential\":[[0.0,\"#0d0887\"],[0.1111111111111111,\"#46039f\"],[0.2222222222222222,\"#7201a8\"],[0.3333333333333333,\"#9c179e\"],[0.4444444444444444,\"#bd3786\"],[0.5555555555555556,\"#d8576b\"],[0.6666666666666666,\"#ed7953\"],[0.7777777777777778,\"#fb9f3a\"],[0.8888888888888888,\"#fdca26\"],[1.0,\"#f0f921\"]],\"sequentialminus\":[[0.0,\"#0d0887\"],[0.1111111111111111,\"#46039f\"],[0.2222222222222222,\"#7201a8\"],[0.3333333333333333,\"#9c179e\"],[0.4444444444444444,\"#bd3786\"],[0.5555555555555556,\"#d8576b\"],[0.6666666666666666,\"#ed7953\"],[0.7777777777777778,\"#fb9f3a\"],[0.8888888888888888,\"#fdca26\"],[1.0,\"#f0f921\"]],\"diverging\":[[0,\"#8e0152\"],[0.1,\"#c51b7d\"],[0.2,\"#de77ae\"],[0.3,\"#f1b6da\"],[0.4,\"#fde0ef\"],[0.5,\"#f7f7f7\"],[0.6,\"#e6f5d0\"],[0.7,\"#b8e186\"],[0.8,\"#7fbc41\"],[0.9,\"#4d9221\"],[1,\"#276419\"]]},\"xaxis\":{\"gridcolor\":\"white\",\"linecolor\":\"white\",\"ticks\":\"\",\"title\":{\"standoff\":15},\"zerolinecolor\":\"white\",\"automargin\":true,\"zerolinewidth\":2},\"yaxis\":{\"gridcolor\":\"white\",\"linecolor\":\"white\",\"ticks\":\"\",\"title\":{\"standoff\":15},\"zerolinecolor\":\"white\",\"automargin\":true,\"zerolinewidth\":2},\"scene\":{\"xaxis\":{\"backgroundcolor\":\"#E5ECF6\",\"gridcolor\":\"white\",\"linecolor\":\"white\",\"showbackground\":true,\"ticks\":\"\",\"zerolinecolor\":\"white\",\"gridwidth\":2},\"yaxis\":{\"backgroundcolor\":\"#E5ECF6\",\"gridcolor\":\"white\",\"linecolor\":\"white\",\"showbackground\":true,\"ticks\":\"\",\"zerolinecolor\":\"white\",\"gridwidth\":2},\"zaxis\":{\"backgroundcolor\":\"#E5ECF6\",\"gridcolor\":\"white\",\"linecolor\":\"white\",\"showbackground\":true,\"ticks\":\"\",\"zerolinecolor\":\"white\",\"gridwidth\":2}},\"shapedefaults\":{\"line\":{\"color\":\"#2a3f5f\"}},\"annotationdefaults\":{\"arrowcolor\":\"#2a3f5f\",\"arrowhead\":0,\"arrowwidth\":1},\"geo\":{\"bgcolor\":\"white\",\"landcolor\":\"#E5ECF6\",\"subunitcolor\":\"white\",\"showland\":true,\"showlakes\":true,\"lakecolor\":\"white\"},\"title\":{\"x\":0.05},\"mapbox\":{\"style\":\"light\"}}}},                        {\"responsive\": true}                    ).then(function(){\n",
       "                            \n",
       "var gd = document.getElementById('6fd12d18-e22a-4edb-bace-f887d35013d2');\n",
       "var x = new MutationObserver(function (mutations, observer) {{\n",
       "        var display = window.getComputedStyle(gd).display;\n",
       "        if (!display || display === 'none') {{\n",
       "            console.log([gd, 'removed!']);\n",
       "            Plotly.purge(gd);\n",
       "            observer.disconnect();\n",
       "        }}\n",
       "}});\n",
       "\n",
       "// Listen for the removal of the full notebook cells\n",
       "var notebookContainer = gd.closest('#notebook-container');\n",
       "if (notebookContainer) {{\n",
       "    x.observe(notebookContainer, {childList: true});\n",
       "}}\n",
       "\n",
       "// Listen for the clearing of the current output cell\n",
       "var outputEl = gd.closest('.output');\n",
       "if (outputEl) {{\n",
       "    x.observe(outputEl, {childList: true});\n",
       "}}\n",
       "\n",
       "                        })                };                });            </script>        </div>"
      ]
     },
     "metadata": {},
     "output_type": "display_data"
    }
   ],
   "source": [
    "import plotly.graph_objs as go\n",
    "from plotly import tools\n",
    "from plotly.subplots import make_subplots\n",
    "import plotly.offline as py\n",
    "\n",
    "Scene = dict(xaxis = dict(title  = 'Age'),yaxis = dict(title  = 'Spending Score'),zaxis = dict(title  = 'Income'))\n",
    "\n",
    "# model.labels_ is nothing but the predicted clusters i.e y_clusters\n",
    "labels = customerDataSet['Cluster']\n",
    "trace = go.Scatter3d(x=customerDataSet['Age'], y=customerDataSet['SpendingScore'], z=customerDataSet['Income'], mode='markers',marker=dict(color = labels, size= 10, line=dict(color= 'black',width = 10)))\n",
    "layout = go.Layout(margin=dict(l=0,r=0),scene = Scene,height = 600,width = 600)\n",
    "data = [trace]\n",
    "fig = go.Figure(data = data, layout = layout)\n",
    "fig.show()"
   ]
  },
  {
   "cell_type": "markdown",
   "id": "e89e4fce",
   "metadata": {},
   "source": [
    "## Clustering Summary"
   ]
  },
  {
   "cell_type": "code",
   "execution_count": 19,
   "id": "33db3b44",
   "metadata": {},
   "outputs": [
    {
     "name": "stdout",
     "output_type": "stream",
     "text": [
      "\n",
      "Clustering Summary: \n",
      "---------------------\n"
     ]
    },
    {
     "data": {
      "text/html": [
       "<div>\n",
       "<style scoped>\n",
       "    .dataframe tbody tr th:only-of-type {\n",
       "        vertical-align: middle;\n",
       "    }\n",
       "\n",
       "    .dataframe tbody tr th {\n",
       "        vertical-align: top;\n",
       "    }\n",
       "\n",
       "    .dataframe thead th {\n",
       "        text-align: right;\n",
       "    }\n",
       "</style>\n",
       "<table border=\"1\" class=\"dataframe\">\n",
       "  <thead>\n",
       "    <tr style=\"text-align: right;\">\n",
       "      <th></th>\n",
       "      <th>Cluster #</th>\n",
       "      <th>Cluster Color</th>\n",
       "      <th>Age</th>\n",
       "      <th>Spending Score</th>\n",
       "      <th>Income</th>\n",
       "    </tr>\n",
       "  </thead>\n",
       "  <tbody>\n",
       "    <tr>\n",
       "      <th>0</th>\n",
       "      <td>0</td>\n",
       "      <td>Blue</td>\n",
       "      <td>High (50-70)</td>\n",
       "      <td>High (0.6-0.9)</td>\n",
       "      <td>Average (50K-90K)</td>\n",
       "    </tr>\n",
       "    <tr>\n",
       "      <th>1</th>\n",
       "      <td>1</td>\n",
       "      <td>Violet</td>\n",
       "      <td>Very High (79+)</td>\n",
       "      <td>Low (0-0.4)</td>\n",
       "      <td>Low (12K-50K)</td>\n",
       "    </tr>\n",
       "    <tr>\n",
       "      <th>2</th>\n",
       "      <td>2</td>\n",
       "      <td>Pink</td>\n",
       "      <td>Average (25-45)</td>\n",
       "      <td>Low (0-0.4)</td>\n",
       "      <td>High (80K-120K)</td>\n",
       "    </tr>\n",
       "    <tr>\n",
       "      <th>3</th>\n",
       "      <td>3</td>\n",
       "      <td>Orange</td>\n",
       "      <td>Very High (80+)</td>\n",
       "      <td>Very Low (0-0.1)</td>\n",
       "      <td>Very High (110K+)</td>\n",
       "    </tr>\n",
       "    <tr>\n",
       "      <th>4</th>\n",
       "      <td>4</td>\n",
       "      <td>Yellow</td>\n",
       "      <td>Low (18-30)</td>\n",
       "      <td>Very High (0.8+)</td>\n",
       "      <td>Very High (120K+)</td>\n",
       "    </tr>\n",
       "  </tbody>\n",
       "</table>\n",
       "</div>"
      ],
      "text/plain": [
       "   Cluster # Cluster Color              Age    Spending Score  \\\n",
       "0          0          Blue     High (50-70)    High (0.6-0.9)   \n",
       "1          1        Violet  Very High (79+)       Low (0-0.4)   \n",
       "2          2          Pink  Average (25-45)       Low (0-0.4)   \n",
       "3          3        Orange  Very High (80+)  Very Low (0-0.1)   \n",
       "4          4        Yellow      Low (18-30)  Very High (0.8+)   \n",
       "\n",
       "              Income  \n",
       "0  Average (50K-90K)  \n",
       "1      Low (12K-50K)  \n",
       "2    High (80K-120K)  \n",
       "3  Very High (110K+)  \n",
       "4  Very High (120K+)  "
      ]
     },
     "execution_count": 19,
     "metadata": {},
     "output_type": "execute_result"
    }
   ],
   "source": [
    "summaryData = [[0,'Blue','High (50-70)','High (0.6-0.9)','Average (50K-90K)'],[1,'Violet','Very High (79+)','Low (0-0.4)','Low (12K-50K)'],[2,'Pink','Average (25-45)','Low (0-0.4)','High (80K-120K)'],[3,'Orange','Very High (80+)','Very Low (0-0.1)','Very High (110K+)'],[4,'Yellow','Low (18-30)','Very High (0.8+)','Very High (120K+)']]\n",
    "summaryDataFrame = pd.DataFrame(summaryData,columns=['Cluster #','Cluster Color', 'Age', 'Spending Score', 'Income'])\n",
    "print('\\nClustering Summary: ')\n",
    "print('---------------------')\n",
    "summaryDataFrame"
   ]
  },
  {
   "cell_type": "markdown",
   "id": "2204c392",
   "metadata": {},
   "source": [
    "Clustering Insights for Jewellery Store and Indicative Business Proposals:\n",
    "-------------------------------------------------------------------------------------------------\n",
    "\n",
    "\n",
    "Cluster 0 (Blue): \n",
    "-----------------------\n",
    "These are customers nearing retirement/recently retired. Their income and spending scores are average. These customers can be given offers on jewellery/gold that are medium to long term investment oriented, options to buy in smaller chunks and accumulate, goal oriented investment like kids marriage, education etc.\n",
    "\n",
    "\n",
    "Cluster 1 (Violet): \n",
    "-------------------------\n",
    "These are customers whose age is very high (super senior citizens) and their income is low. Given the age, their needs for jewellery as an ornament or investment (Gold/Silver etc.) is highly unlikely and the income also doesnt support purchase of jewellery. \n",
    "These customers can be considered for giving offers on best rates on sale of their existing jewellery or low interest rate offers on jewellery/gold loans.\n",
    "\n",
    "\n",
    "Cluster 2 (Pink): \n",
    "-----------------------\n",
    "These are customers in the 25-45 years age range with a decent income. However their spending score is low. Given their age they might be investing on house, funds, deposits etc. and must be having a need basis (marriage, special occassions etc.) jewellery purchase plan and hence the low spending score.\n",
    "These customers can be given offers on jewellery/gold that are long term investment oriented, options to buy in smaller chunks and accumulate, goal oriented investment like kids marriage, education etc.\n",
    "\n",
    "\n",
    "Cluster 3 (Orange): \n",
    "---------------------------\n",
    "These are customers whose age is very high (super senior citizens) and their income is also very high. Given their high age, the high income could be a result of a steady business or good returns from investments made at an early age. Given the age and their very low spending score their seems to be no need for purchasing jewellery as an ornament. However, considering these customers are business/investment oriented, they can be considered for giving tailored offers portraying jewellery/gold as a high return investment option.\n",
    "\n",
    "\n",
    "Cluster 4 (Yellow): \n",
    "--------------------------\n",
    "These are young customers with very high income and very high spending score as well. Could be young entrepreneurs/customers in high paying jobs with niche skills. They have a high spending capacity and are comparitively an easier target segment here. They can be offered various offers on jewellery both as an ornament and as an investment.\n",
    "\n",
    "\n",
    "\n"
   ]
  },
  {
   "cell_type": "code",
   "execution_count": null,
   "id": "902f98af",
   "metadata": {},
   "outputs": [],
   "source": []
  }
 ],
 "metadata": {
  "kernelspec": {
   "display_name": "Python 3 (ipykernel)",
   "language": "python",
   "name": "python3"
  },
  "language_info": {
   "codemirror_mode": {
    "name": "ipython",
    "version": 3
   },
   "file_extension": ".py",
   "mimetype": "text/x-python",
   "name": "python",
   "nbconvert_exporter": "python",
   "pygments_lexer": "ipython3",
   "version": "3.9.7"
  }
 },
 "nbformat": 4,
 "nbformat_minor": 5
}
