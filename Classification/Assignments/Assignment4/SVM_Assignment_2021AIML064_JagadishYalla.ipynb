{
 "cells": [
  {
   "cell_type": "markdown",
   "id": "8ac2fca8",
   "metadata": {},
   "source": [
    "# AIML Classification Assignment 4\n",
    "## Student Id: 2021AIML064\n",
    "\n",
    "###  SVM Assignment\n",
    "#### Problem Statement:\n",
    "\n",
    "#### The given dataset was collected from the hospital for nearly 2 months of period. We will be using this dataset to predict Chronic Kidney Disease.\n",
    "\n",
    "Data Set Information:    \n",
    "\n",
    "age - age     \n",
    "bp - blood pressure    \n",
    "sg - specific gravity   \n",
    "al - albumin   \n",
    "su - sugar            \n",
    "rbc - red blood cells   \n",
    "pc - pus cell        \n",
    "pcc - pus cell clumps    \n",
    "ba - bacteria               \n",
    "bgr - blood glucose random           \n",
    "bu - blood urea                \n",
    "sc - serum creatinine             \n",
    "sod - sodium                       \n",
    "pot - potassium                \n",
    "hemo - hemoglobin                 \n",
    "pcv - packed cell volume           \n",
    "wc - white blood cell count           \n",
    "rc - red blood cell count          \n",
    "htn - hypertension               \n",
    "dm - diabetes mellitus               \n",
    "cad - coronary artery disease                \n",
    "appet - appetite                    \n",
    "pe - pedal edema                  \n",
    "ane - anemia                \n",
    "class - class ( Here ckd means patient have Chronic kidney disease and not  ckd indicated absence of the same)\n",
    " \n",
    "\n",
    "Questions (Total: 9 M)  \n",
    "\n",
    "\n",
    "  1.  Import the dataset from https://www.kaggle.com/mansoordaku/ckdisease (1 point).\n",
    "\n",
    "  2. Extract X as all columns except the last column and Y as the last column. (1 point)\n",
    "\n",
    "  3. Visualize the dataset using any two appropriate graphs. (1 point)\n",
    "\n",
    "  4. Visualize the correlation between all the variables of the dataset. (1 point)\n",
    "\n",
    "  5. Do feature scaling (1 point)\n",
    "\n",
    "  6. Split the data into a training set and testing set. (1 point).\n",
    "\n",
    "  7. Perform 5-fold cross-validation (1 point).\n",
    "\n",
    "  8. Train an SVM model for the dataset. (1 point)\n",
    "\n",
    "  9. Get the classification report and confusion matrix. (1 point)"
   ]
  },
  {
   "cell_type": "code",
   "execution_count": 1,
   "id": "900ace8c",
   "metadata": {
    "scrolled": true
   },
   "outputs": [],
   "source": [
    "#!pip install opendatasets to insatll library"
   ]
  },
  {
   "cell_type": "code",
   "execution_count": 2,
   "id": "1bd3858d",
   "metadata": {},
   "outputs": [],
   "source": [
    "# Importing  libraries\n",
    "\n",
    "import pandas as pd\n",
    "import numpy as np\n",
    "\n",
    "# Data Visualization\n",
    "import matplotlib.pyplot as plt\n",
    "\n",
    "%matplotlib inline\n",
    "import opendatasets as od\n",
    "import seaborn as sns\n",
    "import warnings\n",
    "warnings.filterwarnings('ignore')\n",
    "\n",
    "# Import sklearn libraries for the algo\n",
    "\n",
    "from sklearn.svm import SVC, LinearSVC\n"
   ]
  },
  {
   "cell_type": "markdown",
   "id": "5933ff03",
   "metadata": {},
   "source": [
    "## Question1: Import the dataset from https://www.kaggle.com/mansoordaku/ckdisease (1 point)."
   ]
  },
  {
   "cell_type": "code",
   "execution_count": 3,
   "id": "3466c33a",
   "metadata": {},
   "outputs": [
    {
     "name": "stdout",
     "output_type": "stream",
     "text": [
      "Skipping, found downloaded files in \".\\ckdisease\" (use force=True to force download)\n"
     ]
    }
   ],
   "source": [
    "od.download(\"https://www.kaggle.com/mansoordaku/ckdisease\")"
   ]
  },
  {
   "cell_type": "code",
   "execution_count": 4,
   "id": "e5c91c44",
   "metadata": {},
   "outputs": [],
   "source": [
    "kidney_disease = pd.read_csv('kidney_disease.csv')"
   ]
  },
  {
   "cell_type": "code",
   "execution_count": 5,
   "id": "8c5285b2",
   "metadata": {
    "scrolled": true
   },
   "outputs": [
    {
     "data": {
      "text/html": [
       "<div>\n",
       "<style scoped>\n",
       "    .dataframe tbody tr th:only-of-type {\n",
       "        vertical-align: middle;\n",
       "    }\n",
       "\n",
       "    .dataframe tbody tr th {\n",
       "        vertical-align: top;\n",
       "    }\n",
       "\n",
       "    .dataframe thead th {\n",
       "        text-align: right;\n",
       "    }\n",
       "</style>\n",
       "<table border=\"1\" class=\"dataframe\">\n",
       "  <thead>\n",
       "    <tr style=\"text-align: right;\">\n",
       "      <th></th>\n",
       "      <th>id</th>\n",
       "      <th>age</th>\n",
       "      <th>bp</th>\n",
       "      <th>sg</th>\n",
       "      <th>al</th>\n",
       "      <th>su</th>\n",
       "      <th>rbc</th>\n",
       "      <th>pc</th>\n",
       "      <th>pcc</th>\n",
       "      <th>ba</th>\n",
       "      <th>...</th>\n",
       "      <th>pcv</th>\n",
       "      <th>wc</th>\n",
       "      <th>rc</th>\n",
       "      <th>htn</th>\n",
       "      <th>dm</th>\n",
       "      <th>cad</th>\n",
       "      <th>appet</th>\n",
       "      <th>pe</th>\n",
       "      <th>ane</th>\n",
       "      <th>classification</th>\n",
       "    </tr>\n",
       "  </thead>\n",
       "  <tbody>\n",
       "    <tr>\n",
       "      <th>0</th>\n",
       "      <td>0</td>\n",
       "      <td>48.0</td>\n",
       "      <td>80.0</td>\n",
       "      <td>1.020</td>\n",
       "      <td>1.0</td>\n",
       "      <td>0.0</td>\n",
       "      <td>NaN</td>\n",
       "      <td>normal</td>\n",
       "      <td>notpresent</td>\n",
       "      <td>notpresent</td>\n",
       "      <td>...</td>\n",
       "      <td>44</td>\n",
       "      <td>7800</td>\n",
       "      <td>5.2</td>\n",
       "      <td>yes</td>\n",
       "      <td>yes</td>\n",
       "      <td>no</td>\n",
       "      <td>good</td>\n",
       "      <td>no</td>\n",
       "      <td>no</td>\n",
       "      <td>ckd</td>\n",
       "    </tr>\n",
       "    <tr>\n",
       "      <th>1</th>\n",
       "      <td>1</td>\n",
       "      <td>7.0</td>\n",
       "      <td>50.0</td>\n",
       "      <td>1.020</td>\n",
       "      <td>4.0</td>\n",
       "      <td>0.0</td>\n",
       "      <td>NaN</td>\n",
       "      <td>normal</td>\n",
       "      <td>notpresent</td>\n",
       "      <td>notpresent</td>\n",
       "      <td>...</td>\n",
       "      <td>38</td>\n",
       "      <td>6000</td>\n",
       "      <td>NaN</td>\n",
       "      <td>no</td>\n",
       "      <td>no</td>\n",
       "      <td>no</td>\n",
       "      <td>good</td>\n",
       "      <td>no</td>\n",
       "      <td>no</td>\n",
       "      <td>ckd</td>\n",
       "    </tr>\n",
       "    <tr>\n",
       "      <th>2</th>\n",
       "      <td>2</td>\n",
       "      <td>62.0</td>\n",
       "      <td>80.0</td>\n",
       "      <td>1.010</td>\n",
       "      <td>2.0</td>\n",
       "      <td>3.0</td>\n",
       "      <td>normal</td>\n",
       "      <td>normal</td>\n",
       "      <td>notpresent</td>\n",
       "      <td>notpresent</td>\n",
       "      <td>...</td>\n",
       "      <td>31</td>\n",
       "      <td>7500</td>\n",
       "      <td>NaN</td>\n",
       "      <td>no</td>\n",
       "      <td>yes</td>\n",
       "      <td>no</td>\n",
       "      <td>poor</td>\n",
       "      <td>no</td>\n",
       "      <td>yes</td>\n",
       "      <td>ckd</td>\n",
       "    </tr>\n",
       "    <tr>\n",
       "      <th>3</th>\n",
       "      <td>3</td>\n",
       "      <td>48.0</td>\n",
       "      <td>70.0</td>\n",
       "      <td>1.005</td>\n",
       "      <td>4.0</td>\n",
       "      <td>0.0</td>\n",
       "      <td>normal</td>\n",
       "      <td>abnormal</td>\n",
       "      <td>present</td>\n",
       "      <td>notpresent</td>\n",
       "      <td>...</td>\n",
       "      <td>32</td>\n",
       "      <td>6700</td>\n",
       "      <td>3.9</td>\n",
       "      <td>yes</td>\n",
       "      <td>no</td>\n",
       "      <td>no</td>\n",
       "      <td>poor</td>\n",
       "      <td>yes</td>\n",
       "      <td>yes</td>\n",
       "      <td>ckd</td>\n",
       "    </tr>\n",
       "    <tr>\n",
       "      <th>4</th>\n",
       "      <td>4</td>\n",
       "      <td>51.0</td>\n",
       "      <td>80.0</td>\n",
       "      <td>1.010</td>\n",
       "      <td>2.0</td>\n",
       "      <td>0.0</td>\n",
       "      <td>normal</td>\n",
       "      <td>normal</td>\n",
       "      <td>notpresent</td>\n",
       "      <td>notpresent</td>\n",
       "      <td>...</td>\n",
       "      <td>35</td>\n",
       "      <td>7300</td>\n",
       "      <td>4.6</td>\n",
       "      <td>no</td>\n",
       "      <td>no</td>\n",
       "      <td>no</td>\n",
       "      <td>good</td>\n",
       "      <td>no</td>\n",
       "      <td>no</td>\n",
       "      <td>ckd</td>\n",
       "    </tr>\n",
       "    <tr>\n",
       "      <th>5</th>\n",
       "      <td>5</td>\n",
       "      <td>60.0</td>\n",
       "      <td>90.0</td>\n",
       "      <td>1.015</td>\n",
       "      <td>3.0</td>\n",
       "      <td>0.0</td>\n",
       "      <td>NaN</td>\n",
       "      <td>NaN</td>\n",
       "      <td>notpresent</td>\n",
       "      <td>notpresent</td>\n",
       "      <td>...</td>\n",
       "      <td>39</td>\n",
       "      <td>7800</td>\n",
       "      <td>4.4</td>\n",
       "      <td>yes</td>\n",
       "      <td>yes</td>\n",
       "      <td>no</td>\n",
       "      <td>good</td>\n",
       "      <td>yes</td>\n",
       "      <td>no</td>\n",
       "      <td>ckd</td>\n",
       "    </tr>\n",
       "    <tr>\n",
       "      <th>6</th>\n",
       "      <td>6</td>\n",
       "      <td>68.0</td>\n",
       "      <td>70.0</td>\n",
       "      <td>1.010</td>\n",
       "      <td>0.0</td>\n",
       "      <td>0.0</td>\n",
       "      <td>NaN</td>\n",
       "      <td>normal</td>\n",
       "      <td>notpresent</td>\n",
       "      <td>notpresent</td>\n",
       "      <td>...</td>\n",
       "      <td>36</td>\n",
       "      <td>NaN</td>\n",
       "      <td>NaN</td>\n",
       "      <td>no</td>\n",
       "      <td>no</td>\n",
       "      <td>no</td>\n",
       "      <td>good</td>\n",
       "      <td>no</td>\n",
       "      <td>no</td>\n",
       "      <td>ckd</td>\n",
       "    </tr>\n",
       "    <tr>\n",
       "      <th>7</th>\n",
       "      <td>7</td>\n",
       "      <td>24.0</td>\n",
       "      <td>NaN</td>\n",
       "      <td>1.015</td>\n",
       "      <td>2.0</td>\n",
       "      <td>4.0</td>\n",
       "      <td>normal</td>\n",
       "      <td>abnormal</td>\n",
       "      <td>notpresent</td>\n",
       "      <td>notpresent</td>\n",
       "      <td>...</td>\n",
       "      <td>44</td>\n",
       "      <td>6900</td>\n",
       "      <td>5</td>\n",
       "      <td>no</td>\n",
       "      <td>yes</td>\n",
       "      <td>no</td>\n",
       "      <td>good</td>\n",
       "      <td>yes</td>\n",
       "      <td>no</td>\n",
       "      <td>ckd</td>\n",
       "    </tr>\n",
       "    <tr>\n",
       "      <th>8</th>\n",
       "      <td>8</td>\n",
       "      <td>52.0</td>\n",
       "      <td>100.0</td>\n",
       "      <td>1.015</td>\n",
       "      <td>3.0</td>\n",
       "      <td>0.0</td>\n",
       "      <td>normal</td>\n",
       "      <td>abnormal</td>\n",
       "      <td>present</td>\n",
       "      <td>notpresent</td>\n",
       "      <td>...</td>\n",
       "      <td>33</td>\n",
       "      <td>9600</td>\n",
       "      <td>4.0</td>\n",
       "      <td>yes</td>\n",
       "      <td>yes</td>\n",
       "      <td>no</td>\n",
       "      <td>good</td>\n",
       "      <td>no</td>\n",
       "      <td>yes</td>\n",
       "      <td>ckd</td>\n",
       "    </tr>\n",
       "    <tr>\n",
       "      <th>9</th>\n",
       "      <td>9</td>\n",
       "      <td>53.0</td>\n",
       "      <td>90.0</td>\n",
       "      <td>1.020</td>\n",
       "      <td>2.0</td>\n",
       "      <td>0.0</td>\n",
       "      <td>abnormal</td>\n",
       "      <td>abnormal</td>\n",
       "      <td>present</td>\n",
       "      <td>notpresent</td>\n",
       "      <td>...</td>\n",
       "      <td>29</td>\n",
       "      <td>12100</td>\n",
       "      <td>3.7</td>\n",
       "      <td>yes</td>\n",
       "      <td>yes</td>\n",
       "      <td>no</td>\n",
       "      <td>poor</td>\n",
       "      <td>no</td>\n",
       "      <td>yes</td>\n",
       "      <td>ckd</td>\n",
       "    </tr>\n",
       "  </tbody>\n",
       "</table>\n",
       "<p>10 rows × 26 columns</p>\n",
       "</div>"
      ],
      "text/plain": [
       "   id   age     bp     sg   al   su       rbc        pc         pcc  \\\n",
       "0   0  48.0   80.0  1.020  1.0  0.0       NaN    normal  notpresent   \n",
       "1   1   7.0   50.0  1.020  4.0  0.0       NaN    normal  notpresent   \n",
       "2   2  62.0   80.0  1.010  2.0  3.0    normal    normal  notpresent   \n",
       "3   3  48.0   70.0  1.005  4.0  0.0    normal  abnormal     present   \n",
       "4   4  51.0   80.0  1.010  2.0  0.0    normal    normal  notpresent   \n",
       "5   5  60.0   90.0  1.015  3.0  0.0       NaN       NaN  notpresent   \n",
       "6   6  68.0   70.0  1.010  0.0  0.0       NaN    normal  notpresent   \n",
       "7   7  24.0    NaN  1.015  2.0  4.0    normal  abnormal  notpresent   \n",
       "8   8  52.0  100.0  1.015  3.0  0.0    normal  abnormal     present   \n",
       "9   9  53.0   90.0  1.020  2.0  0.0  abnormal  abnormal     present   \n",
       "\n",
       "           ba  ...  pcv     wc   rc  htn   dm  cad appet   pe  ane  \\\n",
       "0  notpresent  ...   44   7800  5.2  yes  yes   no  good   no   no   \n",
       "1  notpresent  ...   38   6000  NaN   no   no   no  good   no   no   \n",
       "2  notpresent  ...   31   7500  NaN   no  yes   no  poor   no  yes   \n",
       "3  notpresent  ...   32   6700  3.9  yes   no   no  poor  yes  yes   \n",
       "4  notpresent  ...   35   7300  4.6   no   no   no  good   no   no   \n",
       "5  notpresent  ...   39   7800  4.4  yes  yes   no  good  yes   no   \n",
       "6  notpresent  ...   36    NaN  NaN   no   no   no  good   no   no   \n",
       "7  notpresent  ...   44   6900    5   no  yes   no  good  yes   no   \n",
       "8  notpresent  ...   33   9600  4.0  yes  yes   no  good   no  yes   \n",
       "9  notpresent  ...   29  12100  3.7  yes  yes   no  poor   no  yes   \n",
       "\n",
       "  classification  \n",
       "0            ckd  \n",
       "1            ckd  \n",
       "2            ckd  \n",
       "3            ckd  \n",
       "4            ckd  \n",
       "5            ckd  \n",
       "6            ckd  \n",
       "7            ckd  \n",
       "8            ckd  \n",
       "9            ckd  \n",
       "\n",
       "[10 rows x 26 columns]"
      ]
     },
     "execution_count": 5,
     "metadata": {},
     "output_type": "execute_result"
    }
   ],
   "source": [
    "kidney_disease.head(10)"
   ]
  },
  {
   "cell_type": "code",
   "execution_count": 6,
   "id": "1548cd6d",
   "metadata": {},
   "outputs": [
    {
     "name": "stdout",
     "output_type": "stream",
     "text": [
      "<class 'pandas.core.frame.DataFrame'>\n",
      "RangeIndex: 400 entries, 0 to 399\n",
      "Data columns (total 26 columns):\n",
      " #   Column          Non-Null Count  Dtype  \n",
      "---  ------          --------------  -----  \n",
      " 0   id              400 non-null    int64  \n",
      " 1   age             391 non-null    float64\n",
      " 2   bp              388 non-null    float64\n",
      " 3   sg              353 non-null    float64\n",
      " 4   al              354 non-null    float64\n",
      " 5   su              351 non-null    float64\n",
      " 6   rbc             248 non-null    object \n",
      " 7   pc              335 non-null    object \n",
      " 8   pcc             396 non-null    object \n",
      " 9   ba              396 non-null    object \n",
      " 10  bgr             356 non-null    float64\n",
      " 11  bu              381 non-null    float64\n",
      " 12  sc              383 non-null    float64\n",
      " 13  sod             313 non-null    float64\n",
      " 14  pot             312 non-null    float64\n",
      " 15  hemo            348 non-null    float64\n",
      " 16  pcv             330 non-null    object \n",
      " 17  wc              295 non-null    object \n",
      " 18  rc              270 non-null    object \n",
      " 19  htn             398 non-null    object \n",
      " 20  dm              398 non-null    object \n",
      " 21  cad             398 non-null    object \n",
      " 22  appet           399 non-null    object \n",
      " 23  pe              399 non-null    object \n",
      " 24  ane             399 non-null    object \n",
      " 25  classification  400 non-null    object \n",
      "dtypes: float64(11), int64(1), object(14)\n",
      "memory usage: 81.4+ KB\n"
     ]
    }
   ],
   "source": [
    "kidney_disease.info()"
   ]
  },
  {
   "cell_type": "markdown",
   "id": "e3e68f76",
   "metadata": {},
   "source": [
    "## Observations\n",
    "#### Null values  and data noise is identified  across columns\n",
    "#### Categorical value are there which need to be converted to numerics before  model design"
   ]
  },
  {
   "cell_type": "markdown",
   "id": "e783fa5a",
   "metadata": {},
   "source": [
    "  ## Question 2. Extract X as all columns except the last column and Y as the last column. (1 point)"
   ]
  },
  {
   "cell_type": "code",
   "execution_count": 7,
   "id": "6b934916",
   "metadata": {},
   "outputs": [],
   "source": [
    "X = kidney_disease.drop('classification', axis =1)\n",
    "Y = kidney_disease['classification']"
   ]
  },
  {
   "cell_type": "markdown",
   "id": "510a7098",
   "metadata": {},
   "source": [
    "**Printing meta data of X and Y   \n",
    " X is predictor variables/indep variables  \n",
    " Y is the dependent variable**"
   ]
  },
  {
   "cell_type": "code",
   "execution_count": 8,
   "id": "c687fb37",
   "metadata": {
    "scrolled": true
   },
   "outputs": [
    {
     "name": "stdout",
     "output_type": "stream",
     "text": [
      "<class 'pandas.core.frame.DataFrame'>\n",
      "RangeIndex: 400 entries, 0 to 399\n",
      "Data columns (total 25 columns):\n",
      " #   Column  Non-Null Count  Dtype  \n",
      "---  ------  --------------  -----  \n",
      " 0   id      400 non-null    int64  \n",
      " 1   age     391 non-null    float64\n",
      " 2   bp      388 non-null    float64\n",
      " 3   sg      353 non-null    float64\n",
      " 4   al      354 non-null    float64\n",
      " 5   su      351 non-null    float64\n",
      " 6   rbc     248 non-null    object \n",
      " 7   pc      335 non-null    object \n",
      " 8   pcc     396 non-null    object \n",
      " 9   ba      396 non-null    object \n",
      " 10  bgr     356 non-null    float64\n",
      " 11  bu      381 non-null    float64\n",
      " 12  sc      383 non-null    float64\n",
      " 13  sod     313 non-null    float64\n",
      " 14  pot     312 non-null    float64\n",
      " 15  hemo    348 non-null    float64\n",
      " 16  pcv     330 non-null    object \n",
      " 17  wc      295 non-null    object \n",
      " 18  rc      270 non-null    object \n",
      " 19  htn     398 non-null    object \n",
      " 20  dm      398 non-null    object \n",
      " 21  cad     398 non-null    object \n",
      " 22  appet   399 non-null    object \n",
      " 23  pe      399 non-null    object \n",
      " 24  ane     399 non-null    object \n",
      "dtypes: float64(11), int64(1), object(13)\n",
      "memory usage: 78.2+ KB\n"
     ]
    }
   ],
   "source": [
    "X.info()"
   ]
  },
  {
   "cell_type": "code",
   "execution_count": 9,
   "id": "d835e336",
   "metadata": {},
   "outputs": [
    {
     "data": {
      "text/html": [
       "<div>\n",
       "<style scoped>\n",
       "    .dataframe tbody tr th:only-of-type {\n",
       "        vertical-align: middle;\n",
       "    }\n",
       "\n",
       "    .dataframe tbody tr th {\n",
       "        vertical-align: top;\n",
       "    }\n",
       "\n",
       "    .dataframe thead th {\n",
       "        text-align: right;\n",
       "    }\n",
       "</style>\n",
       "<table border=\"1\" class=\"dataframe\">\n",
       "  <thead>\n",
       "    <tr style=\"text-align: right;\">\n",
       "      <th></th>\n",
       "      <th>id</th>\n",
       "      <th>age</th>\n",
       "      <th>bp</th>\n",
       "      <th>sg</th>\n",
       "      <th>al</th>\n",
       "      <th>su</th>\n",
       "      <th>rbc</th>\n",
       "      <th>pc</th>\n",
       "      <th>pcc</th>\n",
       "      <th>ba</th>\n",
       "      <th>...</th>\n",
       "      <th>pcv</th>\n",
       "      <th>wc</th>\n",
       "      <th>rc</th>\n",
       "      <th>htn</th>\n",
       "      <th>dm</th>\n",
       "      <th>cad</th>\n",
       "      <th>appet</th>\n",
       "      <th>pe</th>\n",
       "      <th>ane</th>\n",
       "      <th>classification</th>\n",
       "    </tr>\n",
       "  </thead>\n",
       "  <tbody>\n",
       "    <tr>\n",
       "      <th>0</th>\n",
       "      <td>0</td>\n",
       "      <td>48.0</td>\n",
       "      <td>80.0</td>\n",
       "      <td>1.020</td>\n",
       "      <td>1.0</td>\n",
       "      <td>0.0</td>\n",
       "      <td>NaN</td>\n",
       "      <td>normal</td>\n",
       "      <td>notpresent</td>\n",
       "      <td>notpresent</td>\n",
       "      <td>...</td>\n",
       "      <td>44</td>\n",
       "      <td>7800</td>\n",
       "      <td>5.2</td>\n",
       "      <td>yes</td>\n",
       "      <td>yes</td>\n",
       "      <td>no</td>\n",
       "      <td>good</td>\n",
       "      <td>no</td>\n",
       "      <td>no</td>\n",
       "      <td>ckd</td>\n",
       "    </tr>\n",
       "    <tr>\n",
       "      <th>1</th>\n",
       "      <td>1</td>\n",
       "      <td>7.0</td>\n",
       "      <td>50.0</td>\n",
       "      <td>1.020</td>\n",
       "      <td>4.0</td>\n",
       "      <td>0.0</td>\n",
       "      <td>NaN</td>\n",
       "      <td>normal</td>\n",
       "      <td>notpresent</td>\n",
       "      <td>notpresent</td>\n",
       "      <td>...</td>\n",
       "      <td>38</td>\n",
       "      <td>6000</td>\n",
       "      <td>NaN</td>\n",
       "      <td>no</td>\n",
       "      <td>no</td>\n",
       "      <td>no</td>\n",
       "      <td>good</td>\n",
       "      <td>no</td>\n",
       "      <td>no</td>\n",
       "      <td>ckd</td>\n",
       "    </tr>\n",
       "    <tr>\n",
       "      <th>2</th>\n",
       "      <td>2</td>\n",
       "      <td>62.0</td>\n",
       "      <td>80.0</td>\n",
       "      <td>1.010</td>\n",
       "      <td>2.0</td>\n",
       "      <td>3.0</td>\n",
       "      <td>normal</td>\n",
       "      <td>normal</td>\n",
       "      <td>notpresent</td>\n",
       "      <td>notpresent</td>\n",
       "      <td>...</td>\n",
       "      <td>31</td>\n",
       "      <td>7500</td>\n",
       "      <td>NaN</td>\n",
       "      <td>no</td>\n",
       "      <td>yes</td>\n",
       "      <td>no</td>\n",
       "      <td>poor</td>\n",
       "      <td>no</td>\n",
       "      <td>yes</td>\n",
       "      <td>ckd</td>\n",
       "    </tr>\n",
       "    <tr>\n",
       "      <th>3</th>\n",
       "      <td>3</td>\n",
       "      <td>48.0</td>\n",
       "      <td>70.0</td>\n",
       "      <td>1.005</td>\n",
       "      <td>4.0</td>\n",
       "      <td>0.0</td>\n",
       "      <td>normal</td>\n",
       "      <td>abnormal</td>\n",
       "      <td>present</td>\n",
       "      <td>notpresent</td>\n",
       "      <td>...</td>\n",
       "      <td>32</td>\n",
       "      <td>6700</td>\n",
       "      <td>3.9</td>\n",
       "      <td>yes</td>\n",
       "      <td>no</td>\n",
       "      <td>no</td>\n",
       "      <td>poor</td>\n",
       "      <td>yes</td>\n",
       "      <td>yes</td>\n",
       "      <td>ckd</td>\n",
       "    </tr>\n",
       "    <tr>\n",
       "      <th>4</th>\n",
       "      <td>4</td>\n",
       "      <td>51.0</td>\n",
       "      <td>80.0</td>\n",
       "      <td>1.010</td>\n",
       "      <td>2.0</td>\n",
       "      <td>0.0</td>\n",
       "      <td>normal</td>\n",
       "      <td>normal</td>\n",
       "      <td>notpresent</td>\n",
       "      <td>notpresent</td>\n",
       "      <td>...</td>\n",
       "      <td>35</td>\n",
       "      <td>7300</td>\n",
       "      <td>4.6</td>\n",
       "      <td>no</td>\n",
       "      <td>no</td>\n",
       "      <td>no</td>\n",
       "      <td>good</td>\n",
       "      <td>no</td>\n",
       "      <td>no</td>\n",
       "      <td>ckd</td>\n",
       "    </tr>\n",
       "  </tbody>\n",
       "</table>\n",
       "<p>5 rows × 26 columns</p>\n",
       "</div>"
      ],
      "text/plain": [
       "   id   age    bp     sg   al   su     rbc        pc         pcc          ba  \\\n",
       "0   0  48.0  80.0  1.020  1.0  0.0     NaN    normal  notpresent  notpresent   \n",
       "1   1   7.0  50.0  1.020  4.0  0.0     NaN    normal  notpresent  notpresent   \n",
       "2   2  62.0  80.0  1.010  2.0  3.0  normal    normal  notpresent  notpresent   \n",
       "3   3  48.0  70.0  1.005  4.0  0.0  normal  abnormal     present  notpresent   \n",
       "4   4  51.0  80.0  1.010  2.0  0.0  normal    normal  notpresent  notpresent   \n",
       "\n",
       "   ...  pcv    wc   rc  htn   dm  cad appet   pe  ane classification  \n",
       "0  ...   44  7800  5.2  yes  yes   no  good   no   no            ckd  \n",
       "1  ...   38  6000  NaN   no   no   no  good   no   no            ckd  \n",
       "2  ...   31  7500  NaN   no  yes   no  poor   no  yes            ckd  \n",
       "3  ...   32  6700  3.9  yes   no   no  poor  yes  yes            ckd  \n",
       "4  ...   35  7300  4.6   no   no   no  good   no   no            ckd  \n",
       "\n",
       "[5 rows x 26 columns]"
      ]
     },
     "execution_count": 9,
     "metadata": {},
     "output_type": "execute_result"
    }
   ],
   "source": [
    "# Check dataset to see what categorical varibles need conversion to numeric\n",
    "\n",
    "kidney_disease.head(5)"
   ]
  },
  {
   "cell_type": "code",
   "execution_count": 10,
   "id": "3eb37a75",
   "metadata": {},
   "outputs": [],
   "source": [
    "#Before getting into visualization, need to convert some columns into numeric\n",
    "# These should be numeric based in their description given in the assignment, and on the data observed in the above head\n",
    "kidney_disease['pcv'] = pd.to_numeric(kidney_disease['pcv'],errors=\"coerce\")\n",
    "kidney_disease['wc'] = pd.to_numeric(kidney_disease['wc'],errors=\"coerce\")\n",
    "kidney_disease['rc'] = pd.to_numeric(kidney_disease['rc'],errors=\"coerce\")"
   ]
  },
  {
   "cell_type": "code",
   "execution_count": 11,
   "id": "b17085aa",
   "metadata": {},
   "outputs": [
    {
     "data": {
      "text/html": [
       "<div>\n",
       "<style scoped>\n",
       "    .dataframe tbody tr th:only-of-type {\n",
       "        vertical-align: middle;\n",
       "    }\n",
       "\n",
       "    .dataframe tbody tr th {\n",
       "        vertical-align: top;\n",
       "    }\n",
       "\n",
       "    .dataframe thead th {\n",
       "        text-align: right;\n",
       "    }\n",
       "</style>\n",
       "<table border=\"1\" class=\"dataframe\">\n",
       "  <thead>\n",
       "    <tr style=\"text-align: right;\">\n",
       "      <th></th>\n",
       "      <th>id</th>\n",
       "      <th>age</th>\n",
       "      <th>bp</th>\n",
       "      <th>sg</th>\n",
       "      <th>al</th>\n",
       "      <th>su</th>\n",
       "      <th>bgr</th>\n",
       "      <th>bu</th>\n",
       "      <th>sc</th>\n",
       "      <th>sod</th>\n",
       "      <th>pot</th>\n",
       "      <th>hemo</th>\n",
       "      <th>pcv</th>\n",
       "      <th>wc</th>\n",
       "      <th>rc</th>\n",
       "    </tr>\n",
       "  </thead>\n",
       "  <tbody>\n",
       "    <tr>\n",
       "      <th>count</th>\n",
       "      <td>400.000000</td>\n",
       "      <td>391.000000</td>\n",
       "      <td>388.000000</td>\n",
       "      <td>353.000000</td>\n",
       "      <td>354.000000</td>\n",
       "      <td>351.000000</td>\n",
       "      <td>356.000000</td>\n",
       "      <td>381.000000</td>\n",
       "      <td>383.000000</td>\n",
       "      <td>313.000000</td>\n",
       "      <td>312.000000</td>\n",
       "      <td>348.000000</td>\n",
       "      <td>329.000000</td>\n",
       "      <td>294.000000</td>\n",
       "      <td>269.000000</td>\n",
       "    </tr>\n",
       "    <tr>\n",
       "      <th>mean</th>\n",
       "      <td>199.500000</td>\n",
       "      <td>51.483376</td>\n",
       "      <td>76.469072</td>\n",
       "      <td>1.017408</td>\n",
       "      <td>1.016949</td>\n",
       "      <td>0.450142</td>\n",
       "      <td>148.036517</td>\n",
       "      <td>57.425722</td>\n",
       "      <td>3.072454</td>\n",
       "      <td>137.528754</td>\n",
       "      <td>4.627244</td>\n",
       "      <td>12.526437</td>\n",
       "      <td>38.884498</td>\n",
       "      <td>8406.122449</td>\n",
       "      <td>4.707435</td>\n",
       "    </tr>\n",
       "    <tr>\n",
       "      <th>std</th>\n",
       "      <td>115.614301</td>\n",
       "      <td>17.169714</td>\n",
       "      <td>13.683637</td>\n",
       "      <td>0.005717</td>\n",
       "      <td>1.352679</td>\n",
       "      <td>1.099191</td>\n",
       "      <td>79.281714</td>\n",
       "      <td>50.503006</td>\n",
       "      <td>5.741126</td>\n",
       "      <td>10.408752</td>\n",
       "      <td>3.193904</td>\n",
       "      <td>2.912587</td>\n",
       "      <td>8.990105</td>\n",
       "      <td>2944.474190</td>\n",
       "      <td>1.025323</td>\n",
       "    </tr>\n",
       "    <tr>\n",
       "      <th>min</th>\n",
       "      <td>0.000000</td>\n",
       "      <td>2.000000</td>\n",
       "      <td>50.000000</td>\n",
       "      <td>1.005000</td>\n",
       "      <td>0.000000</td>\n",
       "      <td>0.000000</td>\n",
       "      <td>22.000000</td>\n",
       "      <td>1.500000</td>\n",
       "      <td>0.400000</td>\n",
       "      <td>4.500000</td>\n",
       "      <td>2.500000</td>\n",
       "      <td>3.100000</td>\n",
       "      <td>9.000000</td>\n",
       "      <td>2200.000000</td>\n",
       "      <td>2.100000</td>\n",
       "    </tr>\n",
       "    <tr>\n",
       "      <th>25%</th>\n",
       "      <td>99.750000</td>\n",
       "      <td>42.000000</td>\n",
       "      <td>70.000000</td>\n",
       "      <td>1.010000</td>\n",
       "      <td>0.000000</td>\n",
       "      <td>0.000000</td>\n",
       "      <td>99.000000</td>\n",
       "      <td>27.000000</td>\n",
       "      <td>0.900000</td>\n",
       "      <td>135.000000</td>\n",
       "      <td>3.800000</td>\n",
       "      <td>10.300000</td>\n",
       "      <td>32.000000</td>\n",
       "      <td>6500.000000</td>\n",
       "      <td>3.900000</td>\n",
       "    </tr>\n",
       "    <tr>\n",
       "      <th>50%</th>\n",
       "      <td>199.500000</td>\n",
       "      <td>55.000000</td>\n",
       "      <td>80.000000</td>\n",
       "      <td>1.020000</td>\n",
       "      <td>0.000000</td>\n",
       "      <td>0.000000</td>\n",
       "      <td>121.000000</td>\n",
       "      <td>42.000000</td>\n",
       "      <td>1.300000</td>\n",
       "      <td>138.000000</td>\n",
       "      <td>4.400000</td>\n",
       "      <td>12.650000</td>\n",
       "      <td>40.000000</td>\n",
       "      <td>8000.000000</td>\n",
       "      <td>4.800000</td>\n",
       "    </tr>\n",
       "    <tr>\n",
       "      <th>75%</th>\n",
       "      <td>299.250000</td>\n",
       "      <td>64.500000</td>\n",
       "      <td>80.000000</td>\n",
       "      <td>1.020000</td>\n",
       "      <td>2.000000</td>\n",
       "      <td>0.000000</td>\n",
       "      <td>163.000000</td>\n",
       "      <td>66.000000</td>\n",
       "      <td>2.800000</td>\n",
       "      <td>142.000000</td>\n",
       "      <td>4.900000</td>\n",
       "      <td>15.000000</td>\n",
       "      <td>45.000000</td>\n",
       "      <td>9800.000000</td>\n",
       "      <td>5.400000</td>\n",
       "    </tr>\n",
       "    <tr>\n",
       "      <th>max</th>\n",
       "      <td>399.000000</td>\n",
       "      <td>90.000000</td>\n",
       "      <td>180.000000</td>\n",
       "      <td>1.025000</td>\n",
       "      <td>5.000000</td>\n",
       "      <td>5.000000</td>\n",
       "      <td>490.000000</td>\n",
       "      <td>391.000000</td>\n",
       "      <td>76.000000</td>\n",
       "      <td>163.000000</td>\n",
       "      <td>47.000000</td>\n",
       "      <td>17.800000</td>\n",
       "      <td>54.000000</td>\n",
       "      <td>26400.000000</td>\n",
       "      <td>8.000000</td>\n",
       "    </tr>\n",
       "  </tbody>\n",
       "</table>\n",
       "</div>"
      ],
      "text/plain": [
       "               id         age          bp          sg          al          su  \\\n",
       "count  400.000000  391.000000  388.000000  353.000000  354.000000  351.000000   \n",
       "mean   199.500000   51.483376   76.469072    1.017408    1.016949    0.450142   \n",
       "std    115.614301   17.169714   13.683637    0.005717    1.352679    1.099191   \n",
       "min      0.000000    2.000000   50.000000    1.005000    0.000000    0.000000   \n",
       "25%     99.750000   42.000000   70.000000    1.010000    0.000000    0.000000   \n",
       "50%    199.500000   55.000000   80.000000    1.020000    0.000000    0.000000   \n",
       "75%    299.250000   64.500000   80.000000    1.020000    2.000000    0.000000   \n",
       "max    399.000000   90.000000  180.000000    1.025000    5.000000    5.000000   \n",
       "\n",
       "              bgr          bu          sc         sod         pot        hemo  \\\n",
       "count  356.000000  381.000000  383.000000  313.000000  312.000000  348.000000   \n",
       "mean   148.036517   57.425722    3.072454  137.528754    4.627244   12.526437   \n",
       "std     79.281714   50.503006    5.741126   10.408752    3.193904    2.912587   \n",
       "min     22.000000    1.500000    0.400000    4.500000    2.500000    3.100000   \n",
       "25%     99.000000   27.000000    0.900000  135.000000    3.800000   10.300000   \n",
       "50%    121.000000   42.000000    1.300000  138.000000    4.400000   12.650000   \n",
       "75%    163.000000   66.000000    2.800000  142.000000    4.900000   15.000000   \n",
       "max    490.000000  391.000000   76.000000  163.000000   47.000000   17.800000   \n",
       "\n",
       "              pcv            wc          rc  \n",
       "count  329.000000    294.000000  269.000000  \n",
       "mean    38.884498   8406.122449    4.707435  \n",
       "std      8.990105   2944.474190    1.025323  \n",
       "min      9.000000   2200.000000    2.100000  \n",
       "25%     32.000000   6500.000000    3.900000  \n",
       "50%     40.000000   8000.000000    4.800000  \n",
       "75%     45.000000   9800.000000    5.400000  \n",
       "max     54.000000  26400.000000    8.000000  "
      ]
     },
     "execution_count": 11,
     "metadata": {},
     "output_type": "execute_result"
    }
   ],
   "source": [
    "kidney_disease.describe()"
   ]
  },
  {
   "cell_type": "markdown",
   "id": "b7402658",
   "metadata": {},
   "source": [
    " ## Question3. Visualize the dataset using any two appropriate graphs. (1 point)"
   ]
  },
  {
   "cell_type": "markdown",
   "id": "afe23ba9",
   "metadata": {},
   "source": [
    "### Visualize null values in the dataset"
   ]
  },
  {
   "cell_type": "code",
   "execution_count": 12,
   "id": "9222179b",
   "metadata": {
    "scrolled": true
   },
   "outputs": [
    {
     "data": {
      "text/plain": [
       "<AxesSubplot:>"
      ]
     },
     "execution_count": 12,
     "metadata": {},
     "output_type": "execute_result"
    },
    {
     "data": {
      "image/png": "[encoded data removed]",
      "text/plain": [
       "<Figure size 1440x864 with 2 Axes>"
      ]
     },
     "metadata": {
      "needs_background": "light"
     },
     "output_type": "display_data"
    }
   ],
   "source": [
    "plt.figure(figsize =(20,12))\n",
    "sns.heatmap(kidney_disease.isnull() ,yticklabels =False, cbar=True)"
   ]
  },
  {
   "cell_type": "code",
   "execution_count": 13,
   "id": "bd4c7f5c",
   "metadata": {},
   "outputs": [
    {
     "data": {
      "text/plain": [
       "<AxesSubplot:>"
      ]
     },
     "execution_count": 13,
     "metadata": {},
     "output_type": "execute_result"
    },
    {
     "data": {
      "image/png": "[encoded data removed]",
      "text/plain": [
       "<Figure size 1800x720 with 3 Axes>"
      ]
     },
     "metadata": {
      "needs_background": "light"
     },
     "output_type": "display_data"
    }
   ],
   "source": [
    "import missingno as msno\n",
    "msno.bar(kidney_disease)"
   ]
  },
  {
   "cell_type": "code",
   "execution_count": 14,
   "id": "e517d7cc",
   "metadata": {},
   "outputs": [],
   "source": [
    "# Extracting columns with null values\n",
    "\n",
    "null_col = kidney_disease.columns[kidney_disease.isnull().any()]"
   ]
  },
  {
   "cell_type": "code",
   "execution_count": 15,
   "id": "90fa3bf6",
   "metadata": {},
   "outputs": [],
   "source": [
    "## seperating numeric and categorical data\n",
    "\n",
    "numeric_col = [col for col in kidney_disease.columns if kidney_disease[col].dtype != 'object']\n",
    "categorical_col = [col for col in kidney_disease.columns if kidney_disease[col].dtype == 'object']"
   ]
  },
  {
   "cell_type": "code",
   "execution_count": 16,
   "id": "63a70916",
   "metadata": {},
   "outputs": [
    {
     "data": {
      "text/plain": [
       "['id',\n",
       " 'age',\n",
       " 'bp',\n",
       " 'sg',\n",
       " 'al',\n",
       " 'su',\n",
       " 'bgr',\n",
       " 'bu',\n",
       " 'sc',\n",
       " 'sod',\n",
       " 'pot',\n",
       " 'hemo',\n",
       " 'pcv',\n",
       " 'wc',\n",
       " 'rc']"
      ]
     },
     "execution_count": 16,
     "metadata": {},
     "output_type": "execute_result"
    }
   ],
   "source": [
    "# Numeric columns\n",
    "numeric_col"
   ]
  },
  {
   "cell_type": "code",
   "execution_count": 17,
   "id": "ca8440f9",
   "metadata": {},
   "outputs": [
    {
     "data": {
      "text/plain": [
       "['rbc',\n",
       " 'pc',\n",
       " 'pcc',\n",
       " 'ba',\n",
       " 'htn',\n",
       " 'dm',\n",
       " 'cad',\n",
       " 'appet',\n",
       " 'pe',\n",
       " 'ane',\n",
       " 'classification']"
      ]
     },
     "execution_count": 17,
     "metadata": {},
     "output_type": "execute_result"
    }
   ],
   "source": [
    "# Categorical columns\n",
    "categorical_col"
   ]
  },
  {
   "cell_type": "code",
   "execution_count": 18,
   "id": "94442127",
   "metadata": {},
   "outputs": [
    {
     "name": "stdout",
     "output_type": "stream",
     "text": [
      "rbc has [nan 'normal' 'abnormal'] values\n",
      "\n",
      "pc has ['normal' 'abnormal' nan] values\n",
      "\n",
      "pcc has ['notpresent' 'present' nan] values\n",
      "\n",
      "ba has ['notpresent' 'present' nan] values\n",
      "\n",
      "htn has ['yes' 'no' nan] values\n",
      "\n",
      "dm has ['yes' 'no' ' yes' '\\tno' '\\tyes' nan] values\n",
      "\n",
      "cad has ['no' 'yes' '\\tno' nan] values\n",
      "\n",
      "appet has ['good' 'poor' nan] values\n",
      "\n",
      "pe has ['no' 'yes' nan] values\n",
      "\n",
      "ane has ['no' 'yes' nan] values\n",
      "\n",
      "classification has ['ckd' 'ckd\\t' 'notckd'] values\n",
      "\n"
     ]
    }
   ],
   "source": [
    "# Examining categorical data in details\n",
    "\n",
    "#####check unique values in the categorical data \n",
    "\n",
    "for col in categorical_col:\n",
    "    print(f\"{col} has {kidney_disease[col].unique()} values\\n\")"
   ]
  },
  {
   "cell_type": "code",
   "execution_count": 19,
   "id": "d6abab36",
   "metadata": {},
   "outputs": [],
   "source": [
    "# From above some data cleaning require in columns like dm, cad, classification\n",
    "\n",
    "kidney_disease['dm'].replace(to_replace={'\\tno' :'no' ,'\\tyes' :'yes' , ' yes' :'yes'},inplace=True)\n",
    "kidney_disease['cad'].replace(to_replace='\\tno' , value='no',inplace=True)\n",
    "kidney_disease['classification'].replace(to_replace=\"ckd\\t\" ,value=\"ckd\",inplace=True) \n"
   ]
  },
  {
   "cell_type": "code",
   "execution_count": 20,
   "id": "9c58398d",
   "metadata": {},
   "outputs": [
    {
     "name": "stdout",
     "output_type": "stream",
     "text": [
      "rbc has [nan 'normal' 'abnormal'] values\n",
      "\n",
      "pc has ['normal' 'abnormal' nan] values\n",
      "\n",
      "pcc has ['notpresent' 'present' nan] values\n",
      "\n",
      "ba has ['notpresent' 'present' nan] values\n",
      "\n",
      "htn has ['yes' 'no' nan] values\n",
      "\n",
      "dm has ['yes' 'no' nan] values\n",
      "\n",
      "cad has ['no' 'yes' nan] values\n",
      "\n",
      "appet has ['good' 'poor' nan] values\n",
      "\n",
      "pe has ['no' 'yes' nan] values\n",
      "\n",
      "ane has ['no' 'yes' nan] values\n",
      "\n",
      "classification has ['ckd' 'notckd'] values\n",
      "\n"
     ]
    }
   ],
   "source": [
    "for col in categorical_col:\n",
    "    print(f\"{col} has {kidney_disease[col].unique()} values\\n\")"
   ]
  },
  {
   "cell_type": "markdown",
   "id": "b8fc92ae",
   "metadata": {},
   "source": [
    "### Visualizing numeric columns"
   ]
  },
  {
   "cell_type": "code",
   "execution_count": 21,
   "id": "462a5a6f",
   "metadata": {
    "scrolled": true
   },
   "outputs": [
    {
     "data": {
      "image/png": "[encoded data removed]",
      "text/plain": [
       "<Figure size 1440x1080 with 14 Axes>"
      ]
     },
     "metadata": {
      "needs_background": "light"
     },
     "output_type": "display_data"
    }
   ],
   "source": [
    "plt.figure(figsize = (20, 15))\n",
    "plotnumber = 1\n",
    "\n",
    "for column in numeric_col:\n",
    "    if plotnumber <= 14:\n",
    "        ax = plt.subplot(3, 5, plotnumber)\n",
    "        sns.distplot(kidney_disease[column])\n",
    "        plt.xlabel(column)\n",
    "        \n",
    "    plotnumber += 1\n",
    "\n",
    "plt.tight_layout()\n",
    "plt.show()"
   ]
  },
  {
   "cell_type": "code",
   "execution_count": 22,
   "id": "c8f480b6",
   "metadata": {},
   "outputs": [],
   "source": [
    "#####to handel the skewness in the data \n",
    "def handel_outlier(col):\n",
    "    kidney_disease[col] =np.log1p(kidney_disease[col])"
   ]
  },
  {
   "cell_type": "code",
   "execution_count": 23,
   "id": "e4c7a09c",
   "metadata": {},
   "outputs": [],
   "source": [
    "handel_outlier('bu')\n",
    "handel_outlier('sod')\n",
    "handel_outlier('pot')\n",
    "handel_outlier('sc')\n",
    "handel_outlier('su')"
   ]
  },
  {
   "cell_type": "markdown",
   "id": "725cc740",
   "metadata": {},
   "source": [
    "### Check class balance"
   ]
  },
  {
   "cell_type": "code",
   "execution_count": 24,
   "id": "f0a78c27",
   "metadata": {
    "scrolled": false
   },
   "outputs": [
    {
     "name": "stdout",
     "output_type": "stream",
     "text": [
      "ckd       250\n",
      "notckd    150\n",
      "Name: classification, dtype: int64\n"
     ]
    },
    {
     "data": {
      "image/png": "[encoded data removed]",
      "text/plain": [
       "<Figure size 432x288 with 1 Axes>"
      ]
     },
     "metadata": {
      "needs_background": "light"
     },
     "output_type": "display_data"
    }
   ],
   "source": [
    "# Check class balance\n",
    "print(kidney_disease['classification'].value_counts())\n",
    "plt.hist(kidney_disease['classification'])\n",
    "plt.show()"
   ]
  },
  {
   "cell_type": "markdown",
   "id": "44816c8f",
   "metadata": {},
   "source": [
    "### There is no class imbalace problem from above graph"
   ]
  },
  {
   "cell_type": "markdown",
   "id": "3359a9d5",
   "metadata": {},
   "source": [
    "## Question 4. Visualize the correlation between all the variables of the dataset. (1 point)\n"
   ]
  },
  {
   "cell_type": "code",
   "execution_count": 25,
   "id": "b4f52775",
   "metadata": {},
   "outputs": [],
   "source": [
    "# We will visualise the correlation between numeric columns above since correlation is appropriate for only numeric columns\n",
    "# Before looking at correlation, we need to treat the data for null values and outliers\n",
    "\n",
    "#filling null values, we will use two methods, random sampling for numeric columns and mean/mode sampling for categorical columns\n",
    "# We define 2 functions to help us do this\n",
    "\n",
    "def random_value_imputation(feature):\n",
    "    random_sample = kidney_disease[feature].dropna().sample(kidney_disease[feature].isna().sum())\n",
    "    random_sample.index = kidney_disease[kidney_disease[feature].isnull()].index\n",
    "    kidney_disease.loc[kidney_disease[feature].isnull(),feature] =random_sample\n",
    "    \n",
    "def impute_mode(feature):\n",
    "    mode = kidney_disease[feature].mode()[0]\n",
    "    kidney_disease[feature] = kidney_disease[feature].fillna(mode)"
   ]
  },
  {
   "cell_type": "code",
   "execution_count": 26,
   "id": "65481fa4",
   "metadata": {
    "scrolled": true
   },
   "outputs": [
    {
     "data": {
      "text/plain": [
       "rc      131\n",
       "wc      106\n",
       "pot      88\n",
       "sod      87\n",
       "pcv      71\n",
       "hemo     52\n",
       "su       49\n",
       "sg       47\n",
       "al       46\n",
       "bgr      44\n",
       "bu       19\n",
       "sc       17\n",
       "bp       12\n",
       "age       9\n",
       "id        0\n",
       "dtype: int64"
      ]
     },
     "execution_count": 26,
     "metadata": {},
     "output_type": "execute_result"
    }
   ],
   "source": [
    "# see null values from numeric columns\n",
    "kidney_disease[numeric_col].isnull().sum().sort_values(ascending = False)"
   ]
  },
  {
   "cell_type": "code",
   "execution_count": 27,
   "id": "ecc98219",
   "metadata": {},
   "outputs": [],
   "source": [
    "# Calling the function to fill random null values for numeric columns\n",
    "for col in numeric_col:\n",
    "    random_value_imputation(col)"
   ]
  },
  {
   "cell_type": "code",
   "execution_count": 28,
   "id": "b561bee9",
   "metadata": {},
   "outputs": [
    {
     "data": {
      "text/plain": [
       "id      0\n",
       "age     0\n",
       "bp      0\n",
       "sg      0\n",
       "al      0\n",
       "su      0\n",
       "bgr     0\n",
       "bu      0\n",
       "sc      0\n",
       "sod     0\n",
       "pot     0\n",
       "hemo    0\n",
       "pcv     0\n",
       "wc      0\n",
       "rc      0\n",
       "dtype: int64"
      ]
     },
     "execution_count": 28,
     "metadata": {},
     "output_type": "execute_result"
    }
   ],
   "source": [
    "# Checking the null value fix for numeric columns\n",
    "\n",
    "kidney_disease[numeric_col].isnull().sum()"
   ]
  },
  {
   "cell_type": "code",
   "execution_count": 29,
   "id": "735d4b2b",
   "metadata": {},
   "outputs": [
    {
     "data": {
      "text/plain": [
       "<AxesSubplot:>"
      ]
     },
     "execution_count": 29,
     "metadata": {},
     "output_type": "execute_result"
    },
    {
     "data": {
      "image/png": "[encoded data removed]",
      "text/plain": [
       "<Figure size 1440x864 with 2 Axes>"
      ]
     },
     "metadata": {
      "needs_background": "light"
     },
     "output_type": "display_data"
    }
   ],
   "source": [
    "# Checking correlations among numeric variables\n",
    "\n",
    "# heatmap to find correlation across the independent variables\n",
    "plt.figure(figsize = (20,12)) \n",
    "sns.heatmap(kidney_disease[numeric_col].corr(), annot = True)"
   ]
  },
  {
   "cell_type": "code",
   "execution_count": 30,
   "id": "9a572eaa",
   "metadata": {
    "scrolled": true
   },
   "outputs": [
    {
     "data": {
      "text/plain": [
       "rbc               152\n",
       "pc                 65\n",
       "pcc                 4\n",
       "ba                  4\n",
       "htn                 2\n",
       "dm                  2\n",
       "cad                 2\n",
       "appet               1\n",
       "pe                  1\n",
       "ane                 1\n",
       "classification      0\n",
       "dtype: int64"
      ]
     },
     "execution_count": 30,
     "metadata": {},
     "output_type": "execute_result"
    }
   ],
   "source": [
    "#checking null values for categoril columns\n",
    "kidney_disease[categorical_col].isnull().sum().sort_values(ascending = False)"
   ]
  },
  {
   "cell_type": "code",
   "execution_count": 31,
   "id": "01bcdc84",
   "metadata": {},
   "outputs": [],
   "source": [
    "# Categorical variables are imputed with model value\n",
    "\n",
    "for col in categorical_col:\n",
    "    impute_mode(col)"
   ]
  },
  {
   "cell_type": "code",
   "execution_count": 32,
   "id": "d665f655",
   "metadata": {},
   "outputs": [
    {
     "data": {
      "text/plain": [
       "rbc               0\n",
       "pc                0\n",
       "pcc               0\n",
       "ba                0\n",
       "htn               0\n",
       "dm                0\n",
       "cad               0\n",
       "appet             0\n",
       "pe                0\n",
       "ane               0\n",
       "classification    0\n",
       "dtype: int64"
      ]
     },
     "execution_count": 32,
     "metadata": {},
     "output_type": "execute_result"
    }
   ],
   "source": [
    "# Checking after imputation the values for categorical columns\n",
    "kidney_disease[categorical_col].isnull().sum()"
   ]
  },
  {
   "cell_type": "code",
   "execution_count": 33,
   "id": "222cc48d",
   "metadata": {},
   "outputs": [],
   "source": [
    "###label encoding for categorical data \n",
    "from sklearn.preprocessing  import LabelEncoder\n",
    "encode = LabelEncoder()\n",
    "\n",
    "for col in categorical_col:\n",
    "    kidney_disease[col]=encode.fit_transform(kidney_disease[col])"
   ]
  },
  {
   "cell_type": "code",
   "execution_count": 34,
   "id": "f5aabb41",
   "metadata": {},
   "outputs": [
    {
     "data": {
      "text/html": [
       "<div>\n",
       "<style scoped>\n",
       "    .dataframe tbody tr th:only-of-type {\n",
       "        vertical-align: middle;\n",
       "    }\n",
       "\n",
       "    .dataframe tbody tr th {\n",
       "        vertical-align: top;\n",
       "    }\n",
       "\n",
       "    .dataframe thead th {\n",
       "        text-align: right;\n",
       "    }\n",
       "</style>\n",
       "<table border=\"1\" class=\"dataframe\">\n",
       "  <thead>\n",
       "    <tr style=\"text-align: right;\">\n",
       "      <th></th>\n",
       "      <th>id</th>\n",
       "      <th>age</th>\n",
       "      <th>bp</th>\n",
       "      <th>sg</th>\n",
       "      <th>al</th>\n",
       "      <th>su</th>\n",
       "      <th>rbc</th>\n",
       "      <th>pc</th>\n",
       "      <th>pcc</th>\n",
       "      <th>ba</th>\n",
       "      <th>...</th>\n",
       "      <th>pcv</th>\n",
       "      <th>wc</th>\n",
       "      <th>rc</th>\n",
       "      <th>htn</th>\n",
       "      <th>dm</th>\n",
       "      <th>cad</th>\n",
       "      <th>appet</th>\n",
       "      <th>pe</th>\n",
       "      <th>ane</th>\n",
       "      <th>classification</th>\n",
       "    </tr>\n",
       "  </thead>\n",
       "  <tbody>\n",
       "    <tr>\n",
       "      <th>0</th>\n",
       "      <td>0</td>\n",
       "      <td>48.0</td>\n",
       "      <td>80.0</td>\n",
       "      <td>1.020</td>\n",
       "      <td>1.0</td>\n",
       "      <td>0.000000</td>\n",
       "      <td>1</td>\n",
       "      <td>1</td>\n",
       "      <td>0</td>\n",
       "      <td>0</td>\n",
       "      <td>...</td>\n",
       "      <td>44.0</td>\n",
       "      <td>7800.0</td>\n",
       "      <td>5.2</td>\n",
       "      <td>1</td>\n",
       "      <td>1</td>\n",
       "      <td>0</td>\n",
       "      <td>0</td>\n",
       "      <td>0</td>\n",
       "      <td>0</td>\n",
       "      <td>0</td>\n",
       "    </tr>\n",
       "    <tr>\n",
       "      <th>1</th>\n",
       "      <td>1</td>\n",
       "      <td>7.0</td>\n",
       "      <td>50.0</td>\n",
       "      <td>1.020</td>\n",
       "      <td>4.0</td>\n",
       "      <td>0.000000</td>\n",
       "      <td>1</td>\n",
       "      <td>1</td>\n",
       "      <td>0</td>\n",
       "      <td>0</td>\n",
       "      <td>...</td>\n",
       "      <td>38.0</td>\n",
       "      <td>6000.0</td>\n",
       "      <td>5.0</td>\n",
       "      <td>0</td>\n",
       "      <td>0</td>\n",
       "      <td>0</td>\n",
       "      <td>0</td>\n",
       "      <td>0</td>\n",
       "      <td>0</td>\n",
       "      <td>0</td>\n",
       "    </tr>\n",
       "    <tr>\n",
       "      <th>2</th>\n",
       "      <td>2</td>\n",
       "      <td>62.0</td>\n",
       "      <td>80.0</td>\n",
       "      <td>1.010</td>\n",
       "      <td>2.0</td>\n",
       "      <td>1.386294</td>\n",
       "      <td>1</td>\n",
       "      <td>1</td>\n",
       "      <td>0</td>\n",
       "      <td>0</td>\n",
       "      <td>...</td>\n",
       "      <td>31.0</td>\n",
       "      <td>7500.0</td>\n",
       "      <td>3.7</td>\n",
       "      <td>0</td>\n",
       "      <td>1</td>\n",
       "      <td>0</td>\n",
       "      <td>1</td>\n",
       "      <td>0</td>\n",
       "      <td>1</td>\n",
       "      <td>0</td>\n",
       "    </tr>\n",
       "    <tr>\n",
       "      <th>3</th>\n",
       "      <td>3</td>\n",
       "      <td>48.0</td>\n",
       "      <td>70.0</td>\n",
       "      <td>1.005</td>\n",
       "      <td>4.0</td>\n",
       "      <td>0.000000</td>\n",
       "      <td>1</td>\n",
       "      <td>0</td>\n",
       "      <td>1</td>\n",
       "      <td>0</td>\n",
       "      <td>...</td>\n",
       "      <td>32.0</td>\n",
       "      <td>6700.0</td>\n",
       "      <td>3.9</td>\n",
       "      <td>1</td>\n",
       "      <td>0</td>\n",
       "      <td>0</td>\n",
       "      <td>1</td>\n",
       "      <td>1</td>\n",
       "      <td>1</td>\n",
       "      <td>0</td>\n",
       "    </tr>\n",
       "    <tr>\n",
       "      <th>4</th>\n",
       "      <td>4</td>\n",
       "      <td>51.0</td>\n",
       "      <td>80.0</td>\n",
       "      <td>1.010</td>\n",
       "      <td>2.0</td>\n",
       "      <td>0.000000</td>\n",
       "      <td>1</td>\n",
       "      <td>1</td>\n",
       "      <td>0</td>\n",
       "      <td>0</td>\n",
       "      <td>...</td>\n",
       "      <td>35.0</td>\n",
       "      <td>7300.0</td>\n",
       "      <td>4.6</td>\n",
       "      <td>0</td>\n",
       "      <td>0</td>\n",
       "      <td>0</td>\n",
       "      <td>0</td>\n",
       "      <td>0</td>\n",
       "      <td>0</td>\n",
       "      <td>0</td>\n",
       "    </tr>\n",
       "  </tbody>\n",
       "</table>\n",
       "<p>5 rows × 26 columns</p>\n",
       "</div>"
      ],
      "text/plain": [
       "   id   age    bp     sg   al        su  rbc  pc  pcc  ba  ...   pcv      wc  \\\n",
       "0   0  48.0  80.0  1.020  1.0  0.000000    1   1    0   0  ...  44.0  7800.0   \n",
       "1   1   7.0  50.0  1.020  4.0  0.000000    1   1    0   0  ...  38.0  6000.0   \n",
       "2   2  62.0  80.0  1.010  2.0  1.386294    1   1    0   0  ...  31.0  7500.0   \n",
       "3   3  48.0  70.0  1.005  4.0  0.000000    1   0    1   0  ...  32.0  6700.0   \n",
       "4   4  51.0  80.0  1.010  2.0  0.000000    1   1    0   0  ...  35.0  7300.0   \n",
       "\n",
       "    rc  htn  dm  cad  appet  pe  ane  classification  \n",
       "0  5.2    1   1    0      0   0    0               0  \n",
       "1  5.0    0   0    0      0   0    0               0  \n",
       "2  3.7    0   1    0      1   0    1               0  \n",
       "3  3.9    1   0    0      1   1    1               0  \n",
       "4  4.6    0   0    0      0   0    0               0  \n",
       "\n",
       "[5 rows x 26 columns]"
      ]
     },
     "execution_count": 34,
     "metadata": {},
     "output_type": "execute_result"
    }
   ],
   "source": [
    "kidney_disease.head()"
   ]
  },
  {
   "cell_type": "code",
   "execution_count": 35,
   "id": "24b3dc03",
   "metadata": {},
   "outputs": [
    {
     "name": "stdout",
     "output_type": "stream",
     "text": [
      "<class 'pandas.core.frame.DataFrame'>\n",
      "RangeIndex: 400 entries, 0 to 399\n",
      "Data columns (total 26 columns):\n",
      " #   Column          Non-Null Count  Dtype  \n",
      "---  ------          --------------  -----  \n",
      " 0   id              400 non-null    int64  \n",
      " 1   age             400 non-null    float64\n",
      " 2   bp              400 non-null    float64\n",
      " 3   sg              400 non-null    float64\n",
      " 4   al              400 non-null    float64\n",
      " 5   su              400 non-null    float64\n",
      " 6   rbc             400 non-null    int32  \n",
      " 7   pc              400 non-null    int32  \n",
      " 8   pcc             400 non-null    int32  \n",
      " 9   ba              400 non-null    int32  \n",
      " 10  bgr             400 non-null    float64\n",
      " 11  bu              400 non-null    float64\n",
      " 12  sc              400 non-null    float64\n",
      " 13  sod             400 non-null    float64\n",
      " 14  pot             400 non-null    float64\n",
      " 15  hemo            400 non-null    float64\n",
      " 16  pcv             400 non-null    float64\n",
      " 17  wc              400 non-null    float64\n",
      " 18  rc              400 non-null    float64\n",
      " 19  htn             400 non-null    int32  \n",
      " 20  dm              400 non-null    int32  \n",
      " 21  cad             400 non-null    int32  \n",
      " 22  appet           400 non-null    int32  \n",
      " 23  pe              400 non-null    int32  \n",
      " 24  ane             400 non-null    int32  \n",
      " 25  classification  400 non-null    int32  \n",
      "dtypes: float64(14), int32(11), int64(1)\n",
      "memory usage: 64.2 KB\n"
     ]
    }
   ],
   "source": [
    "kidney_disease.info()"
   ]
  },
  {
   "cell_type": "markdown",
   "id": "68301962",
   "metadata": {},
   "source": [
    "#  Question.5 :  Do feature scaling (1 point)"
   ]
  },
  {
   "cell_type": "code",
   "execution_count": 36,
   "id": "cdee3931",
   "metadata": {},
   "outputs": [],
   "source": [
    "from sklearn import preprocessing\n",
    "from sklearn.preprocessing import StandardScaler"
   ]
  },
  {
   "cell_type": "code",
   "execution_count": 37,
   "id": "82417aaf",
   "metadata": {},
   "outputs": [],
   "source": [
    "scaler = StandardScaler()"
   ]
  },
  {
   "cell_type": "code",
   "execution_count": 38,
   "id": "ae9e2aef",
   "metadata": {},
   "outputs": [],
   "source": [
    "kidney_disease[numeric_col] = scaler.fit_transform(kidney_disease[numeric_col].values)"
   ]
  },
  {
   "cell_type": "code",
   "execution_count": 39,
   "id": "97a87417",
   "metadata": {},
   "outputs": [],
   "source": [
    "# Prepating to seperate the preictor and indep variables again\n",
    "### splitting the data\n",
    "Xf = kidney_disease.drop(columns =['classification', 'id'], axis=1)\n",
    "Yf = pd.DataFrame(kidney_disease['classification'])"
   ]
  },
  {
   "cell_type": "code",
   "execution_count": 40,
   "id": "2bfac3d2",
   "metadata": {},
   "outputs": [],
   "source": [
    "Xf = pd.DataFrame(Xf, columns=['age', 'bp', 'sg', 'al', 'su', 'rbc', 'pc', \n",
    "                                                             'pcc', 'ba', 'bgr', 'bu', 'sc', 'sod', 'pot', \n",
    "                                                             'hemo', 'pcv', 'wc', 'rc', 'htn', 'dm', \n",
    "                                                             'cad', 'appet', 'pe', 'ane'])"
   ]
  },
  {
   "cell_type": "code",
   "execution_count": 41,
   "id": "3685390b",
   "metadata": {},
   "outputs": [
    {
     "data": {
      "text/html": [
       "<div>\n",
       "<style scoped>\n",
       "    .dataframe tbody tr th:only-of-type {\n",
       "        vertical-align: middle;\n",
       "    }\n",
       "\n",
       "    .dataframe tbody tr th {\n",
       "        vertical-align: top;\n",
       "    }\n",
       "\n",
       "    .dataframe thead th {\n",
       "        text-align: right;\n",
       "    }\n",
       "</style>\n",
       "<table border=\"1\" class=\"dataframe\">\n",
       "  <thead>\n",
       "    <tr style=\"text-align: right;\">\n",
       "      <th></th>\n",
       "      <th>age</th>\n",
       "      <th>bp</th>\n",
       "      <th>sg</th>\n",
       "      <th>al</th>\n",
       "      <th>su</th>\n",
       "      <th>rbc</th>\n",
       "      <th>pc</th>\n",
       "      <th>pcc</th>\n",
       "      <th>ba</th>\n",
       "      <th>bgr</th>\n",
       "      <th>...</th>\n",
       "      <th>hemo</th>\n",
       "      <th>pcv</th>\n",
       "      <th>wc</th>\n",
       "      <th>rc</th>\n",
       "      <th>htn</th>\n",
       "      <th>dm</th>\n",
       "      <th>cad</th>\n",
       "      <th>appet</th>\n",
       "      <th>pe</th>\n",
       "      <th>ane</th>\n",
       "    </tr>\n",
       "  </thead>\n",
       "  <tbody>\n",
       "    <tr>\n",
       "      <th>0</th>\n",
       "      <td>-0.207014</td>\n",
       "      <td>0.247353</td>\n",
       "      <td>0.438529</td>\n",
       "      <td>0.000000</td>\n",
       "      <td>-0.437314</td>\n",
       "      <td>1</td>\n",
       "      <td>1</td>\n",
       "      <td>0</td>\n",
       "      <td>0</td>\n",
       "      <td>-0.341372</td>\n",
       "      <td>...</td>\n",
       "      <td>1.017508</td>\n",
       "      <td>0.566531</td>\n",
       "      <td>-0.194424</td>\n",
       "      <td>0.468059</td>\n",
       "      <td>1</td>\n",
       "      <td>1</td>\n",
       "      <td>0</td>\n",
       "      <td>0</td>\n",
       "      <td>0</td>\n",
       "      <td>0</td>\n",
       "    </tr>\n",
       "    <tr>\n",
       "      <th>1</th>\n",
       "      <td>-2.611431</td>\n",
       "      <td>-1.935172</td>\n",
       "      <td>0.438529</td>\n",
       "      <td>2.242305</td>\n",
       "      <td>-0.437314</td>\n",
       "      <td>1</td>\n",
       "      <td>1</td>\n",
       "      <td>0</td>\n",
       "      <td>0</td>\n",
       "      <td>0.066503</td>\n",
       "      <td>...</td>\n",
       "      <td>-0.415233</td>\n",
       "      <td>-0.101942</td>\n",
       "      <td>-0.827557</td>\n",
       "      <td>0.271808</td>\n",
       "      <td>0</td>\n",
       "      <td>0</td>\n",
       "      <td>0</td>\n",
       "      <td>0</td>\n",
       "      <td>0</td>\n",
       "      <td>0</td>\n",
       "    </tr>\n",
       "    <tr>\n",
       "      <th>2</th>\n",
       "      <td>0.614006</td>\n",
       "      <td>0.247353</td>\n",
       "      <td>-1.315587</td>\n",
       "      <td>0.747435</td>\n",
       "      <td>2.404765</td>\n",
       "      <td>1</td>\n",
       "      <td>1</td>\n",
       "      <td>0</td>\n",
       "      <td>0</td>\n",
       "      <td>3.507950</td>\n",
       "      <td>...</td>\n",
       "      <td>-1.009296</td>\n",
       "      <td>-0.881828</td>\n",
       "      <td>-0.299946</td>\n",
       "      <td>-1.003824</td>\n",
       "      <td>0</td>\n",
       "      <td>1</td>\n",
       "      <td>0</td>\n",
       "      <td>1</td>\n",
       "      <td>0</td>\n",
       "      <td>1</td>\n",
       "    </tr>\n",
       "    <tr>\n",
       "      <th>3</th>\n",
       "      <td>-0.207014</td>\n",
       "      <td>-0.480156</td>\n",
       "      <td>-2.192645</td>\n",
       "      <td>2.242305</td>\n",
       "      <td>-0.437314</td>\n",
       "      <td>1</td>\n",
       "      <td>0</td>\n",
       "      <td>1</td>\n",
       "      <td>0</td>\n",
       "      <td>-0.392357</td>\n",
       "      <td>...</td>\n",
       "      <td>-0.450177</td>\n",
       "      <td>-0.770415</td>\n",
       "      <td>-0.581339</td>\n",
       "      <td>-0.807573</td>\n",
       "      <td>1</td>\n",
       "      <td>0</td>\n",
       "      <td>0</td>\n",
       "      <td>1</td>\n",
       "      <td>1</td>\n",
       "      <td>1</td>\n",
       "    </tr>\n",
       "    <tr>\n",
       "      <th>4</th>\n",
       "      <td>-0.031081</td>\n",
       "      <td>0.247353</td>\n",
       "      <td>-1.315587</td>\n",
       "      <td>0.747435</td>\n",
       "      <td>-0.437314</td>\n",
       "      <td>1</td>\n",
       "      <td>1</td>\n",
       "      <td>0</td>\n",
       "      <td>0</td>\n",
       "      <td>-0.532564</td>\n",
       "      <td>...</td>\n",
       "      <td>-0.310398</td>\n",
       "      <td>-0.436179</td>\n",
       "      <td>-0.370294</td>\n",
       "      <td>-0.120694</td>\n",
       "      <td>0</td>\n",
       "      <td>0</td>\n",
       "      <td>0</td>\n",
       "      <td>0</td>\n",
       "      <td>0</td>\n",
       "      <td>0</td>\n",
       "    </tr>\n",
       "  </tbody>\n",
       "</table>\n",
       "<p>5 rows × 24 columns</p>\n",
       "</div>"
      ],
      "text/plain": [
       "        age        bp        sg        al        su  rbc  pc  pcc  ba  \\\n",
       "0 -0.207014  0.247353  0.438529  0.000000 -0.437314    1   1    0   0   \n",
       "1 -2.611431 -1.935172  0.438529  2.242305 -0.437314    1   1    0   0   \n",
       "2  0.614006  0.247353 -1.315587  0.747435  2.404765    1   1    0   0   \n",
       "3 -0.207014 -0.480156 -2.192645  2.242305 -0.437314    1   0    1   0   \n",
       "4 -0.031081  0.247353 -1.315587  0.747435 -0.437314    1   1    0   0   \n",
       "\n",
       "        bgr  ...      hemo       pcv        wc        rc  htn  dm  cad  appet  \\\n",
       "0 -0.341372  ...  1.017508  0.566531 -0.194424  0.468059    1   1    0      0   \n",
       "1  0.066503  ... -0.415233 -0.101942 -0.827557  0.271808    0   0    0      0   \n",
       "2  3.507950  ... -1.009296 -0.881828 -0.299946 -1.003824    0   1    0      1   \n",
       "3 -0.392357  ... -0.450177 -0.770415 -0.581339 -0.807573    1   0    0      1   \n",
       "4 -0.532564  ... -0.310398 -0.436179 -0.370294 -0.120694    0   0    0      0   \n",
       "\n",
       "   pe  ane  \n",
       "0   0    0  \n",
       "1   0    0  \n",
       "2   0    1  \n",
       "3   1    1  \n",
       "4   0    0  \n",
       "\n",
       "[5 rows x 24 columns]"
      ]
     },
     "execution_count": 41,
     "metadata": {},
     "output_type": "execute_result"
    }
   ],
   "source": [
    "Xf.head()"
   ]
  },
  {
   "cell_type": "code",
   "execution_count": 42,
   "id": "97da618c",
   "metadata": {},
   "outputs": [
    {
     "data": {
      "text/html": [
       "<div>\n",
       "<style scoped>\n",
       "    .dataframe tbody tr th:only-of-type {\n",
       "        vertical-align: middle;\n",
       "    }\n",
       "\n",
       "    .dataframe tbody tr th {\n",
       "        vertical-align: top;\n",
       "    }\n",
       "\n",
       "    .dataframe thead th {\n",
       "        text-align: right;\n",
       "    }\n",
       "</style>\n",
       "<table border=\"1\" class=\"dataframe\">\n",
       "  <thead>\n",
       "    <tr style=\"text-align: right;\">\n",
       "      <th></th>\n",
       "      <th>classification</th>\n",
       "    </tr>\n",
       "  </thead>\n",
       "  <tbody>\n",
       "    <tr>\n",
       "      <th>0</th>\n",
       "      <td>0</td>\n",
       "    </tr>\n",
       "    <tr>\n",
       "      <th>1</th>\n",
       "      <td>0</td>\n",
       "    </tr>\n",
       "    <tr>\n",
       "      <th>2</th>\n",
       "      <td>0</td>\n",
       "    </tr>\n",
       "    <tr>\n",
       "      <th>3</th>\n",
       "      <td>0</td>\n",
       "    </tr>\n",
       "    <tr>\n",
       "      <th>4</th>\n",
       "      <td>0</td>\n",
       "    </tr>\n",
       "  </tbody>\n",
       "</table>\n",
       "</div>"
      ],
      "text/plain": [
       "   classification\n",
       "0               0\n",
       "1               0\n",
       "2               0\n",
       "3               0\n",
       "4               0"
      ]
     },
     "execution_count": 42,
     "metadata": {},
     "output_type": "execute_result"
    }
   ],
   "source": [
    "Yf.head()"
   ]
  },
  {
   "cell_type": "markdown",
   "id": "24f9bbff",
   "metadata": {},
   "source": [
    " # Question.6 : Split the data into a training set and testing set. (1 point)."
   ]
  },
  {
   "cell_type": "code",
   "execution_count": 43,
   "id": "0d085c5f",
   "metadata": {},
   "outputs": [],
   "source": [
    "from sklearn.model_selection import train_test_split"
   ]
  },
  {
   "cell_type": "code",
   "execution_count": 44,
   "id": "a9d3bac8",
   "metadata": {},
   "outputs": [],
   "source": [
    "X_train, X_test , Y_train, Y_test = train_test_split(Xf, Yf,train_size = 0.7, random_state = 101)"
   ]
  },
  {
   "cell_type": "markdown",
   "id": "7cf2aa5f",
   "metadata": {},
   "source": [
    " ## Question 7. Train an SVM model for the dataset. (1 point)"
   ]
  },
  {
   "cell_type": "code",
   "execution_count": 45,
   "id": "62255b3d",
   "metadata": {},
   "outputs": [],
   "source": [
    "# Prepare parameters for modelling\n",
    "\n",
    "from sklearn.svm import SVC\n",
    "from sklearn.model_selection import GridSearchCV,RepeatedStratifiedKFold\n",
    "from sklearn import metrics\n",
    "from sklearn.model_selection import KFold\n",
    "from sklearn.model_selection import train_test_split\n",
    "from sklearn import preprocessing\n",
    "from sklearn.metrics import confusion_matrix, classification_report, accuracy_score, f1_score, roc_curve, roc_auc_score, auc"
   ]
  },
  {
   "cell_type": "code",
   "execution_count": 46,
   "id": "4a477153",
   "metadata": {},
   "outputs": [],
   "source": [
    "svm = SVC(random_state = 101)"
   ]
  },
  {
   "cell_type": "code",
   "execution_count": 47,
   "id": "3b8b2bdb",
   "metadata": {},
   "outputs": [],
   "source": [
    "parameters_grid = {'kernel': ['poly', 'rbf', 'linear', 'sigmoid'], \n",
    "                   'C': [0.1, 1,5, 10, 100, 1000], \n",
    "                   'gamma': ['scale', 'auto'], \n",
    "                   'shrinking': [True, False]}"
   ]
  },
  {
   "cell_type": "code",
   "execution_count": 48,
   "id": "3bf32fcb",
   "metadata": {},
   "outputs": [],
   "source": [
    "svm_grid_search = GridSearchCV(svm, parameters_grid, scoring = 'accuracy')"
   ]
  },
  {
   "cell_type": "code",
   "execution_count": 49,
   "id": "d3e37796",
   "metadata": {},
   "outputs": [
    {
     "data": {
      "text/plain": [
       "GridSearchCV(estimator=SVC(random_state=101),\n",
       "             param_grid={'C': [0.1, 1, 5, 10, 100, 1000],\n",
       "                         'gamma': ['scale', 'auto'],\n",
       "                         'kernel': ['poly', 'rbf', 'linear', 'sigmoid'],\n",
       "                         'shrinking': [True, False]},\n",
       "             scoring='accuracy')"
      ]
     },
     "execution_count": 49,
     "metadata": {},
     "output_type": "execute_result"
    }
   ],
   "source": [
    "#fit the data to the grid\n",
    "svm_grid_search.fit(Xf, Yf)"
   ]
  },
  {
   "cell_type": "code",
   "execution_count": 50,
   "id": "df870bca",
   "metadata": {
    "scrolled": true
   },
   "outputs": [
    {
     "name": "stdout",
     "output_type": "stream",
     "text": [
      "The best parameters are:\n",
      " {'C': 1, 'gamma': 'scale', 'kernel': 'linear', 'shrinking': True}\n",
      "\n",
      "The best model after gridsearch is:\n",
      " SVC(C=1, kernel='linear', random_state=101)\n"
     ]
    }
   ],
   "source": [
    "#print which are best parameters after gridsearch\n",
    "print('The best parameters are:\\n ' +str(svm_grid_search.best_params_))\n",
    "\n",
    "#print the best model after gridsearch\n",
    "print('\\nThe best model after gridsearch is:\\n ' + str(svm_grid_search.best_estimator_))"
   ]
  },
  {
   "cell_type": "code",
   "execution_count": 51,
   "id": "8b78edd6",
   "metadata": {},
   "outputs": [
    {
     "name": "stdout",
     "output_type": "stream",
     "text": [
      "[0 1 1 0 0 0 0 0 0 0 0 1 0 0 1 0 1 0 1 0 1 0 1 1 1 0 0 1 0 0 0 0 0 0 0 0 0\n",
      " 1 1 0 0 0 0 0 1 0 0 0 1 0 1 0 0 1 1 1 1 0 0 1 1 1 0 0 0 0 1 1 0 1 0 0 0 0\n",
      " 0 0 0 0 1 1 0 0 0 0 1 1 0 1 1 1 1 0 0 0 1 0 0 0 1 0 0 0 0 0 1 0 1 0 0 0 0\n",
      " 1 0 0 0 0 0 1 0 0]\n"
     ]
    }
   ],
   "source": [
    "# Create a Decision Tree Classifier with balanced class weight\n",
    "svm = SVC(C=10, gamma='auto', kernel= 'rbf',random_state=101)\n",
    "svm.fit(X_train, Y_train)\n",
    "\n",
    "#Predict Output \n",
    "y_pred= svm.predict(X_test)\n",
    "print (y_pred)"
   ]
  },
  {
   "cell_type": "code",
   "execution_count": 52,
   "id": "598cb050",
   "metadata": {},
   "outputs": [
    {
     "name": "stdout",
     "output_type": "stream",
     "text": [
      "Training Accuracy  : 1.000\n",
      "Testing Accuracy   : 0.975\n",
      "Prediction Accuracy: 0.975\n"
     ]
    }
   ],
   "source": [
    "print(\"Training Accuracy  : {:.3f}\".format(svm.score(X_train, Y_train)))\n",
    "print(\"Testing Accuracy   : {:.3f}\".format(svm.score(X_test, Y_test)))\n",
    "print('Prediction Accuracy:', round(accuracy_score(Y_test, y_pred), 3))"
   ]
  },
  {
   "cell_type": "code",
   "execution_count": 53,
   "id": "2bb3d760",
   "metadata": {
    "scrolled": true
   },
   "outputs": [
    {
     "data": {
      "text/plain": [
       "array([0, 1, 1, 0, 0, 0, 0, 0, 0, 0, 0, 1, 0, 0, 1, 0, 1, 0, 1, 0, 1, 0,\n",
       "       1, 1, 1, 0, 0, 1, 0, 0, 0, 0, 0, 0, 0, 0, 0, 1, 1, 0, 0, 0, 0, 0,\n",
       "       1, 0, 0, 0, 1, 0, 1, 0, 0, 1, 1, 1, 1, 0, 0, 1, 1, 1, 0, 0, 0, 0,\n",
       "       1, 1, 0, 1, 0, 0, 0, 0, 0, 0, 0, 0, 1, 1, 0, 0, 0, 0, 1, 1, 0, 1,\n",
       "       1, 1, 1, 0, 0, 0, 1, 0, 0, 0, 1, 0, 0, 0, 0, 0, 1, 0, 1, 0, 0, 0,\n",
       "       0, 1, 0, 0, 0, 0, 0, 1, 0, 0])"
      ]
     },
     "execution_count": 53,
     "metadata": {},
     "output_type": "execute_result"
    }
   ],
   "source": [
    "y_pred"
   ]
  },
  {
   "cell_type": "markdown",
   "id": "9389e0b1",
   "metadata": {},
   "source": [
    "## Question 8. Perform 5-fold cross-validation (1 point)."
   ]
  },
  {
   "cell_type": "code",
   "execution_count": 54,
   "id": "e033e4fe",
   "metadata": {},
   "outputs": [],
   "source": [
    "# importing neessary libraries\n",
    "from sklearn.model_selection import train_test_split, GridSearchCV,cross_val_score, StratifiedKFold"
   ]
  },
  {
   "cell_type": "code",
   "execution_count": 55,
   "id": "657ec3e3",
   "metadata": {},
   "outputs": [
    {
     "name": "stdout",
     "output_type": "stream",
     "text": [
      "Stratified Cross Validation Accuracy for model svm2: 0.98 (+/- 0.02)\n"
     ]
    }
   ],
   "source": [
    "# Getting the stratified CV accuracy of model svc\n",
    "skf = StratifiedKFold(n_splits = 5, shuffle= True, random_state = 101)\n",
    "cv_svm = cross_val_score(svm, Xf, Yf, cv=skf, scoring='accuracy')\n",
    "cv_svm\n",
    "print(\"Stratified Cross Validation Accuracy for model svm2: %0.2f (+/- %0.2f)\" % (cv_svm.mean(), cv_svm.std() * 2))"
   ]
  },
  {
   "cell_type": "markdown",
   "id": "3670a0d1",
   "metadata": {},
   "source": [
    " ##  Question.9 : Get the classification report and confusion matrix. (1 point)"
   ]
  },
  {
   "cell_type": "code",
   "execution_count": 56,
   "id": "43572118",
   "metadata": {
    "scrolled": true
   },
   "outputs": [
    {
     "name": "stdout",
     "output_type": "stream",
     "text": [
      "\n",
      "Classification Report:      \n",
      "              precision    recall  f1-score   support\n",
      "\n",
      "           0       0.99      0.98      0.98        81\n",
      "           1       0.95      0.97      0.96        39\n",
      "\n",
      "    accuracy                           0.97       120\n",
      "   macro avg       0.97      0.97      0.97       120\n",
      "weighted avg       0.98      0.97      0.98       120\n",
      "\n"
     ]
    }
   ],
   "source": [
    "print('\\nClassification Report:      \\n' + str(metrics.classification_report(Y_test, y_pred)))"
   ]
  },
  {
   "cell_type": "code",
   "execution_count": 57,
   "id": "92e85162",
   "metadata": {
    "scrolled": false
   },
   "outputs": [
    {
     "name": "stdout",
     "output_type": "stream",
     "text": [
      "\n",
      "Confusion Matrix: \n",
      "[[79  2]\n",
      " [ 1 38]]\n"
     ]
    }
   ],
   "source": [
    "#display confusion matrix\n",
    "print('\\nConfusion Matrix: \\n' + str(metrics.confusion_matrix(Y_test, y_pred)))"
   ]
  },
  {
   "cell_type": "code",
   "execution_count": null,
   "id": "d7f11080",
   "metadata": {},
   "outputs": [],
   "source": []
  },
  {
   "cell_type": "code",
   "execution_count": null,
   "id": "b8a67910",
   "metadata": {},
   "outputs": [],
   "source": []
  }
 ],
 "metadata": {
  "kernelspec": {
   "display_name": "Python 3 (ipykernel)",
   "language": "python",
   "name": "python3"
  },
  "language_info": {
   "codemirror_mode": {
    "name": "ipython",
    "version": 3
   },
   "file_extension": ".py",
   "mimetype": "text/x-python",
   "name": "python",
   "nbconvert_exporter": "python",
   "pygments_lexer": "ipython3",
   "version": "3.9.7"
  }
 },
 "nbformat": 4,
 "nbformat_minor": 5
}
