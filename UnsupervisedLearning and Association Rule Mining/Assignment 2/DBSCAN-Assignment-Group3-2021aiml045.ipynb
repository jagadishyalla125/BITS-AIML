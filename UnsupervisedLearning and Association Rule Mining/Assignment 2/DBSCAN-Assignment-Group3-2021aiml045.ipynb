{
 "cells": [
  {
   "cell_type": "markdown",
   "id": "9c906e2d",
   "metadata": {},
   "source": [
    "# importing required libraries"
   ]
  },
  {
   "cell_type": "code",
   "execution_count": 1,
   "id": "1416211e",
   "metadata": {},
   "outputs": [],
   "source": [
    "import pandas as pd\n",
    "import numpy as np\n",
    "import matplotlib.pyplot as plt\n",
    "import matplotlib\n",
    "import seaborn as sns\n",
    "from numpy.random import uniform\n",
    "from random import sample\n",
    "from sklearn.neighbors import NearestNeighbors\n",
    "%matplotlib inline"
   ]
  },
  {
   "cell_type": "markdown",
   "id": "85591d91",
   "metadata": {},
   "source": [
    "# Read the dataset"
   ]
  },
  {
   "cell_type": "code",
   "execution_count": 2,
   "id": "4e9779bb",
   "metadata": {},
   "outputs": [
    {
     "data": {
      "text/html": [
       "<div>\n",
       "<style scoped>\n",
       "    .dataframe tbody tr th:only-of-type {\n",
       "        vertical-align: middle;\n",
       "    }\n",
       "\n",
       "    .dataframe tbody tr th {\n",
       "        vertical-align: top;\n",
       "    }\n",
       "\n",
       "    .dataframe thead th {\n",
       "        text-align: right;\n",
       "    }\n",
       "</style>\n",
       "<table border=\"1\" class=\"dataframe\">\n",
       "  <thead>\n",
       "    <tr style=\"text-align: right;\">\n",
       "      <th></th>\n",
       "      <th>Alcohol</th>\n",
       "      <th>Malic_Acid</th>\n",
       "      <th>Ash</th>\n",
       "      <th>Ash_Alcanity</th>\n",
       "      <th>Magnesium</th>\n",
       "      <th>Total_Phenols</th>\n",
       "      <th>Flavanoids</th>\n",
       "      <th>Nonflavanoid_Phenols</th>\n",
       "      <th>Proanthocyanins</th>\n",
       "      <th>Color_Intensity</th>\n",
       "      <th>Hue</th>\n",
       "      <th>OD280</th>\n",
       "      <th>Proline</th>\n",
       "    </tr>\n",
       "  </thead>\n",
       "  <tbody>\n",
       "    <tr>\n",
       "      <th>0</th>\n",
       "      <td>14.23</td>\n",
       "      <td>1.71</td>\n",
       "      <td>2.43</td>\n",
       "      <td>15.6</td>\n",
       "      <td>127</td>\n",
       "      <td>2.80</td>\n",
       "      <td>3.06</td>\n",
       "      <td>0.28</td>\n",
       "      <td>2.29</td>\n",
       "      <td>5.64</td>\n",
       "      <td>1.04</td>\n",
       "      <td>3.92</td>\n",
       "      <td>1065</td>\n",
       "    </tr>\n",
       "    <tr>\n",
       "      <th>1</th>\n",
       "      <td>13.20</td>\n",
       "      <td>1.78</td>\n",
       "      <td>2.14</td>\n",
       "      <td>11.2</td>\n",
       "      <td>100</td>\n",
       "      <td>2.65</td>\n",
       "      <td>2.76</td>\n",
       "      <td>0.26</td>\n",
       "      <td>1.28</td>\n",
       "      <td>4.38</td>\n",
       "      <td>1.05</td>\n",
       "      <td>3.40</td>\n",
       "      <td>1050</td>\n",
       "    </tr>\n",
       "    <tr>\n",
       "      <th>2</th>\n",
       "      <td>13.16</td>\n",
       "      <td>2.36</td>\n",
       "      <td>2.67</td>\n",
       "      <td>18.6</td>\n",
       "      <td>101</td>\n",
       "      <td>2.80</td>\n",
       "      <td>3.24</td>\n",
       "      <td>0.30</td>\n",
       "      <td>2.81</td>\n",
       "      <td>5.68</td>\n",
       "      <td>1.03</td>\n",
       "      <td>3.17</td>\n",
       "      <td>1185</td>\n",
       "    </tr>\n",
       "    <tr>\n",
       "      <th>3</th>\n",
       "      <td>14.37</td>\n",
       "      <td>1.95</td>\n",
       "      <td>2.50</td>\n",
       "      <td>16.8</td>\n",
       "      <td>113</td>\n",
       "      <td>3.85</td>\n",
       "      <td>3.49</td>\n",
       "      <td>0.24</td>\n",
       "      <td>2.18</td>\n",
       "      <td>7.80</td>\n",
       "      <td>0.86</td>\n",
       "      <td>3.45</td>\n",
       "      <td>1480</td>\n",
       "    </tr>\n",
       "    <tr>\n",
       "      <th>4</th>\n",
       "      <td>13.24</td>\n",
       "      <td>2.59</td>\n",
       "      <td>2.87</td>\n",
       "      <td>21.0</td>\n",
       "      <td>118</td>\n",
       "      <td>2.80</td>\n",
       "      <td>2.69</td>\n",
       "      <td>0.39</td>\n",
       "      <td>1.82</td>\n",
       "      <td>4.32</td>\n",
       "      <td>1.04</td>\n",
       "      <td>2.93</td>\n",
       "      <td>735</td>\n",
       "    </tr>\n",
       "  </tbody>\n",
       "</table>\n",
       "</div>"
      ],
      "text/plain": [
       "   Alcohol  Malic_Acid   Ash  Ash_Alcanity  Magnesium  Total_Phenols  \\\n",
       "0    14.23        1.71  2.43          15.6        127           2.80   \n",
       "1    13.20        1.78  2.14          11.2        100           2.65   \n",
       "2    13.16        2.36  2.67          18.6        101           2.80   \n",
       "3    14.37        1.95  2.50          16.8        113           3.85   \n",
       "4    13.24        2.59  2.87          21.0        118           2.80   \n",
       "\n",
       "   Flavanoids  Nonflavanoid_Phenols  Proanthocyanins  Color_Intensity   Hue  \\\n",
       "0        3.06                  0.28             2.29             5.64  1.04   \n",
       "1        2.76                  0.26             1.28             4.38  1.05   \n",
       "2        3.24                  0.30             2.81             5.68  1.03   \n",
       "3        3.49                  0.24             2.18             7.80  0.86   \n",
       "4        2.69                  0.39             1.82             4.32  1.04   \n",
       "\n",
       "   OD280  Proline  \n",
       "0   3.92     1065  \n",
       "1   3.40     1050  \n",
       "2   3.17     1185  \n",
       "3   3.45     1480  \n",
       "4   2.93      735  "
      ]
     },
     "execution_count": 2,
     "metadata": {},
     "output_type": "execute_result"
    }
   ],
   "source": [
    "df = pd.read_csv(\"wine-clustering.csv\")\n",
    "df.head()"
   ]
  },
  {
   "cell_type": "markdown",
   "id": "8c18b626",
   "metadata": {},
   "source": [
    "# Check for null values"
   ]
  },
  {
   "cell_type": "code",
   "execution_count": 3,
   "id": "bc9ce07a",
   "metadata": {},
   "outputs": [
    {
     "name": "stdout",
     "output_type": "stream",
     "text": [
      "<class 'pandas.core.frame.DataFrame'>\n",
      "RangeIndex: 178 entries, 0 to 177\n",
      "Data columns (total 13 columns):\n",
      " #   Column                Non-Null Count  Dtype  \n",
      "---  ------                --------------  -----  \n",
      " 0   Alcohol               178 non-null    float64\n",
      " 1   Malic_Acid            178 non-null    float64\n",
      " 2   Ash                   178 non-null    float64\n",
      " 3   Ash_Alcanity          178 non-null    float64\n",
      " 4   Magnesium             178 non-null    int64  \n",
      " 5   Total_Phenols         178 non-null    float64\n",
      " 6   Flavanoids            178 non-null    float64\n",
      " 7   Nonflavanoid_Phenols  178 non-null    float64\n",
      " 8   Proanthocyanins       178 non-null    float64\n",
      " 9   Color_Intensity       178 non-null    float64\n",
      " 10  Hue                   178 non-null    float64\n",
      " 11  OD280                 178 non-null    float64\n",
      " 12  Proline               178 non-null    int64  \n",
      "dtypes: float64(11), int64(2)\n",
      "memory usage: 18.2 KB\n"
     ]
    }
   ],
   "source": [
    "df.info()"
   ]
  },
  {
   "cell_type": "code",
   "execution_count": 4,
   "id": "e1066187",
   "metadata": {},
   "outputs": [
    {
     "data": {
      "text/plain": [
       "<AxesSubplot:>"
      ]
     },
     "execution_count": 4,
     "metadata": {},
     "output_type": "execute_result"
    },
    {
     "data": {
      "image/png": "[encoded data removed]",
      "text/plain": [
       "<Figure size 864x864 with 1 Axes>"
      ]
     },
     "metadata": {
      "needs_background": "light"
     },
     "output_type": "display_data"
    }
   ],
   "source": [
    "plt.figure(figsize=(12,12))\n",
    "sns.heatmap(df.isnull(),yticklabels=False,cbar=False,cmap='viridis')"
   ]
  },
  {
   "cell_type": "markdown",
   "id": "72ce61fa",
   "metadata": {},
   "source": [
    "# Check the data distribution"
   ]
  },
  {
   "cell_type": "code",
   "execution_count": 5,
   "id": "d648f300",
   "metadata": {},
   "outputs": [
    {
     "data": {
      "image/png": "[encoded data removed]",
      "text/plain": [
       "<Figure size 1440x1080 with 13 Axes>"
      ]
     },
     "metadata": {
      "needs_background": "light"
     },
     "output_type": "display_data"
    }
   ],
   "source": [
    "numeric_cols = [col for col in df.columns if df[col].dtype != 'object']\n",
    "numeric_cols\n",
    "import warnings\n",
    "warnings.filterwarnings('ignore')\n",
    "plt.figure(figsize = (20, 15))\n",
    "plotnumber = 1\n",
    "\n",
    "for column in numeric_cols:\n",
    "    if plotnumber <= 13:\n",
    "        ax = plt.subplot(3, 5, plotnumber)\n",
    "        sns.distplot(df[column])\n",
    "        plt.xlabel(column)\n",
    "        \n",
    "    plotnumber += 1\n",
    "\n",
    "plt.tight_layout()\n",
    "plt.show()"
   ]
  },
  {
   "cell_type": "markdown",
   "id": "0b88744f",
   "metadata": {},
   "source": [
    "# Check the correlation"
   ]
  },
  {
   "cell_type": "code",
   "execution_count": 6,
   "id": "a4d35ac6",
   "metadata": {},
   "outputs": [
    {
     "data": {
      "text/plain": [
       "<AxesSubplot:>"
      ]
     },
     "execution_count": 6,
     "metadata": {},
     "output_type": "execute_result"
    },
    {
     "data": {
      "image/png": "[encoded data removed]",
      "text/plain": [
       "<Figure size 1152x864 with 2 Axes>"
      ]
     },
     "metadata": {
      "needs_background": "light"
     },
     "output_type": "display_data"
    }
   ],
   "source": [
    "fig, ax = plt.subplots(figsize=(16,12))   \n",
    "import seaborn as sns\n",
    "sns.heatmap(df.corr(),linewidths=1.9,annot=True, cmap='coolwarm')"
   ]
  },
  {
   "cell_type": "markdown",
   "id": "38a1b65c",
   "metadata": {},
   "source": [
    "# Fetching features having corelation > 0.8"
   ]
  },
  {
   "cell_type": "code",
   "execution_count": 7,
   "id": "06308853",
   "metadata": {},
   "outputs": [
    {
     "data": {
      "text/html": [
       "<div>\n",
       "<style scoped>\n",
       "    .dataframe tbody tr th:only-of-type {\n",
       "        vertical-align: middle;\n",
       "    }\n",
       "\n",
       "    .dataframe tbody tr th {\n",
       "        vertical-align: top;\n",
       "    }\n",
       "\n",
       "    .dataframe thead th {\n",
       "        text-align: right;\n",
       "    }\n",
       "</style>\n",
       "<table border=\"1\" class=\"dataframe\">\n",
       "  <thead>\n",
       "    <tr style=\"text-align: right;\">\n",
       "      <th></th>\n",
       "      <th>column</th>\n",
       "      <th>row</th>\n",
       "      <th>corr</th>\n",
       "    </tr>\n",
       "  </thead>\n",
       "  <tbody>\n",
       "    <tr>\n",
       "      <th>0</th>\n",
       "      <td>Total_Phenols</td>\n",
       "      <td>Flavanoids</td>\n",
       "      <td>0.86</td>\n",
       "    </tr>\n",
       "    <tr>\n",
       "      <th>1</th>\n",
       "      <td>Flavanoids</td>\n",
       "      <td>Total_Phenols</td>\n",
       "      <td>0.86</td>\n",
       "    </tr>\n",
       "  </tbody>\n",
       "</table>\n",
       "</div>"
      ],
      "text/plain": [
       "          column            row  corr\n",
       "0  Total_Phenols     Flavanoids  0.86\n",
       "1     Flavanoids  Total_Phenols  0.86"
      ]
     },
     "execution_count": 7,
     "metadata": {},
     "output_type": "execute_result"
    }
   ],
   "source": [
    "\n",
    "used = []\n",
    "corrs = []\n",
    "for i, j in enumerate(df.corr().columns):\n",
    "    for k in range(len(df.corr())):\n",
    "        if ((df.corr().iloc[k, i] > 0.8) & \n",
    "            (j not in used) &\n",
    "            (j != df.corr().index[k])):\n",
    "            \n",
    "            used.append(j)\n",
    "            corrs.append((j, df.corr().index[k], \n",
    "                          np.round(df.corr().iloc[k, i], 2)))\n",
    "\n",
    "            \n",
    "corrsdf = pd.DataFrame([[i[0] for i in corrs],\n",
    "                        [i[1] for i in corrs],\n",
    "                        [i[2] for i in corrs]])\n",
    "\n",
    "corrsdf = corrsdf.T.rename(columns = {0:'column',1:'row',2:'corr'})\n",
    "corrsdf[:20]"
   ]
  },
  {
   "cell_type": "markdown",
   "id": "c20dd5a7",
   "metadata": {},
   "source": [
    "# Implementing Hopkins Statistics to test Cluster Tendency"
   ]
  },
  {
   "cell_type": "code",
   "execution_count": 8,
   "id": "0a37678a",
   "metadata": {},
   "outputs": [],
   "source": [
    "# function to compute hopkins's statistic for the dataframe X\n",
    "def hopkins_statistic(X):\n",
    "    \n",
    "    X=X.values  #convert dataframe to a numpy array\n",
    "    sample_size = int(X.shape[0]*0.05) #0.05 (5%) based on paper by Lawson and Jures\n",
    "    \n",
    "    \n",
    "    #a uniform random sample in the original data space\n",
    "    X_uniform_random_sample = uniform(X.min(axis=0), X.max(axis=0) ,(sample_size , X.shape[1]))\n",
    "    \n",
    "    \n",
    "    \n",
    "    #a random sample of size sample_size from the original data X\n",
    "    random_indices=sample(range(0, X.shape[0], 1), sample_size)\n",
    "    X_sample = X[random_indices]\n",
    "   \n",
    "    \n",
    "    #initialise unsupervised learner for implementing neighbor searches\n",
    "    neigh = NearestNeighbors(n_neighbors=2)\n",
    "    nbrs=neigh.fit(X)\n",
    "    \n",
    "    #u_distances = nearest neighbour distances from uniform random sample\n",
    "    u_distances , u_indices = nbrs.kneighbors(X_uniform_random_sample , n_neighbors=2)\n",
    "    u_distances = u_distances[: , 0] #distance to the first (nearest) neighbour\n",
    "    \n",
    "    #w_distances = nearest neighbour distances from a sample of points from original data X\n",
    "    w_distances , w_indices = nbrs.kneighbors(X_sample , n_neighbors=2)\n",
    "    #distance to the second nearest neighbour (as the first neighbour will be the point itself, with distance = 0)\n",
    "    w_distances = w_distances[: , 1]\n",
    "    \n",
    " \n",
    "    \n",
    "    u_sum = np.sum(u_distances)\n",
    "    w_sum = np.sum(w_distances)\n",
    "    \n",
    "    #compute and return hopkins' statistic\n",
    "    H = u_sum/ (u_sum + w_sum)\n",
    "    return H\n",
    "    "
   ]
  },
  {
   "cell_type": "code",
   "execution_count": 9,
   "id": "8bf56c16",
   "metadata": {},
   "outputs": [
    {
     "data": {
      "text/plain": [
       "0.6888677672547501"
      ]
     },
     "execution_count": 9,
     "metadata": {},
     "output_type": "execute_result"
    }
   ],
   "source": [
    "l = [] #list to hold values for each call\n",
    "for i in range(20):\n",
    "    H=hopkins_statistic(df)\n",
    "    l.append(H)\n",
    "#print average value:\n",
    "np.mean(l)"
   ]
  },
  {
   "cell_type": "markdown",
   "id": "6b79b0be",
   "metadata": {},
   "source": [
    "# Therefore, we can interpret Hopkins' statistic in the following manner:If the value is between {0.01, ...,0.3}, the data is regularly spaced.If the value is around 0.5, it is random.If the value is between {0.7, ..., 0.99}, it has a high tendency to cluster, Here in our case it is close to 0.7"
   ]
  },
  {
   "cell_type": "markdown",
   "id": "c1a6db9e",
   "metadata": {},
   "source": [
    "# Scaling the data"
   ]
  },
  {
   "cell_type": "code",
   "execution_count": 10,
   "id": "081479c3",
   "metadata": {},
   "outputs": [
    {
     "data": {
      "text/html": [
       "<div>\n",
       "<style scoped>\n",
       "    .dataframe tbody tr th:only-of-type {\n",
       "        vertical-align: middle;\n",
       "    }\n",
       "\n",
       "    .dataframe tbody tr th {\n",
       "        vertical-align: top;\n",
       "    }\n",
       "\n",
       "    .dataframe thead th {\n",
       "        text-align: right;\n",
       "    }\n",
       "</style>\n",
       "<table border=\"1\" class=\"dataframe\">\n",
       "  <thead>\n",
       "    <tr style=\"text-align: right;\">\n",
       "      <th></th>\n",
       "      <th>Alcohol</th>\n",
       "      <th>Malic_Acid</th>\n",
       "      <th>Ash</th>\n",
       "      <th>Ash_Alcanity</th>\n",
       "      <th>Magnesium</th>\n",
       "      <th>Total_Phenols</th>\n",
       "      <th>Flavanoids</th>\n",
       "      <th>Nonflavanoid_Phenols</th>\n",
       "      <th>Proanthocyanins</th>\n",
       "      <th>Color_Intensity</th>\n",
       "      <th>Hue</th>\n",
       "      <th>OD280</th>\n",
       "      <th>Proline</th>\n",
       "    </tr>\n",
       "  </thead>\n",
       "  <tbody>\n",
       "    <tr>\n",
       "      <th>0</th>\n",
       "      <td>1.518613</td>\n",
       "      <td>-0.562250</td>\n",
       "      <td>0.232053</td>\n",
       "      <td>-1.169593</td>\n",
       "      <td>1.913905</td>\n",
       "      <td>0.808997</td>\n",
       "      <td>1.034819</td>\n",
       "      <td>-0.659563</td>\n",
       "      <td>1.224884</td>\n",
       "      <td>0.251717</td>\n",
       "      <td>0.362177</td>\n",
       "      <td>1.847920</td>\n",
       "      <td>1.013009</td>\n",
       "    </tr>\n",
       "    <tr>\n",
       "      <th>1</th>\n",
       "      <td>0.246290</td>\n",
       "      <td>-0.499413</td>\n",
       "      <td>-0.827996</td>\n",
       "      <td>-2.490847</td>\n",
       "      <td>0.018145</td>\n",
       "      <td>0.568648</td>\n",
       "      <td>0.733629</td>\n",
       "      <td>-0.820719</td>\n",
       "      <td>-0.544721</td>\n",
       "      <td>-0.293321</td>\n",
       "      <td>0.406051</td>\n",
       "      <td>1.113449</td>\n",
       "      <td>0.965242</td>\n",
       "    </tr>\n",
       "    <tr>\n",
       "      <th>2</th>\n",
       "      <td>0.196879</td>\n",
       "      <td>0.021231</td>\n",
       "      <td>1.109334</td>\n",
       "      <td>-0.268738</td>\n",
       "      <td>0.088358</td>\n",
       "      <td>0.808997</td>\n",
       "      <td>1.215533</td>\n",
       "      <td>-0.498407</td>\n",
       "      <td>2.135968</td>\n",
       "      <td>0.269020</td>\n",
       "      <td>0.318304</td>\n",
       "      <td>0.788587</td>\n",
       "      <td>1.395148</td>\n",
       "    </tr>\n",
       "    <tr>\n",
       "      <th>3</th>\n",
       "      <td>1.691550</td>\n",
       "      <td>-0.346811</td>\n",
       "      <td>0.487926</td>\n",
       "      <td>-0.809251</td>\n",
       "      <td>0.930918</td>\n",
       "      <td>2.491446</td>\n",
       "      <td>1.466525</td>\n",
       "      <td>-0.981875</td>\n",
       "      <td>1.032155</td>\n",
       "      <td>1.186068</td>\n",
       "      <td>-0.427544</td>\n",
       "      <td>1.184071</td>\n",
       "      <td>2.334574</td>\n",
       "    </tr>\n",
       "    <tr>\n",
       "      <th>4</th>\n",
       "      <td>0.295700</td>\n",
       "      <td>0.227694</td>\n",
       "      <td>1.840403</td>\n",
       "      <td>0.451946</td>\n",
       "      <td>1.281985</td>\n",
       "      <td>0.808997</td>\n",
       "      <td>0.663351</td>\n",
       "      <td>0.226796</td>\n",
       "      <td>0.401404</td>\n",
       "      <td>-0.319276</td>\n",
       "      <td>0.362177</td>\n",
       "      <td>0.449601</td>\n",
       "      <td>-0.037874</td>\n",
       "    </tr>\n",
       "  </tbody>\n",
       "</table>\n",
       "</div>"
      ],
      "text/plain": [
       "    Alcohol  Malic_Acid       Ash  Ash_Alcanity  Magnesium  Total_Phenols  \\\n",
       "0  1.518613   -0.562250  0.232053     -1.169593   1.913905       0.808997   \n",
       "1  0.246290   -0.499413 -0.827996     -2.490847   0.018145       0.568648   \n",
       "2  0.196879    0.021231  1.109334     -0.268738   0.088358       0.808997   \n",
       "3  1.691550   -0.346811  0.487926     -0.809251   0.930918       2.491446   \n",
       "4  0.295700    0.227694  1.840403      0.451946   1.281985       0.808997   \n",
       "\n",
       "   Flavanoids  Nonflavanoid_Phenols  Proanthocyanins  Color_Intensity  \\\n",
       "0    1.034819             -0.659563         1.224884         0.251717   \n",
       "1    0.733629             -0.820719        -0.544721        -0.293321   \n",
       "2    1.215533             -0.498407         2.135968         0.269020   \n",
       "3    1.466525             -0.981875         1.032155         1.186068   \n",
       "4    0.663351              0.226796         0.401404        -0.319276   \n",
       "\n",
       "        Hue     OD280   Proline  \n",
       "0  0.362177  1.847920  1.013009  \n",
       "1  0.406051  1.113449  0.965242  \n",
       "2  0.318304  0.788587  1.395148  \n",
       "3 -0.427544  1.184071  2.334574  \n",
       "4  0.362177  0.449601 -0.037874  "
      ]
     },
     "execution_count": 10,
     "metadata": {},
     "output_type": "execute_result"
    }
   ],
   "source": [
    "from sklearn.preprocessing import StandardScaler\n",
    "scobj = StandardScaler()\n",
    "scobj.fit(df)\n",
    "scfeat = scobj.transform(df)\n",
    "normalized_df = pd.DataFrame(scfeat,columns=df.columns[:])\n",
    "normalized_df.head()"
   ]
  },
  {
   "cell_type": "markdown",
   "id": "7e754490",
   "metadata": {},
   "source": [
    "# Using Principle component Analysis to reduce the dimensionality"
   ]
  },
  {
   "cell_type": "code",
   "execution_count": 11,
   "id": "178e177d",
   "metadata": {},
   "outputs": [
    {
     "data": {
      "text/html": [
       "<div>\n",
       "<style scoped>\n",
       "    .dataframe tbody tr th:only-of-type {\n",
       "        vertical-align: middle;\n",
       "    }\n",
       "\n",
       "    .dataframe tbody tr th {\n",
       "        vertical-align: top;\n",
       "    }\n",
       "\n",
       "    .dataframe thead th {\n",
       "        text-align: right;\n",
       "    }\n",
       "</style>\n",
       "<table border=\"1\" class=\"dataframe\">\n",
       "  <thead>\n",
       "    <tr style=\"text-align: right;\">\n",
       "      <th></th>\n",
       "      <th>principal component 1</th>\n",
       "      <th>principal component 2</th>\n",
       "      <th>principal component 3</th>\n",
       "    </tr>\n",
       "  </thead>\n",
       "  <tbody>\n",
       "    <tr>\n",
       "      <th>173</th>\n",
       "      <td>-3.370524</td>\n",
       "      <td>-2.216289</td>\n",
       "      <td>-0.342570</td>\n",
       "    </tr>\n",
       "    <tr>\n",
       "      <th>174</th>\n",
       "      <td>-2.601956</td>\n",
       "      <td>-1.757229</td>\n",
       "      <td>0.207581</td>\n",
       "    </tr>\n",
       "    <tr>\n",
       "      <th>175</th>\n",
       "      <td>-2.677839</td>\n",
       "      <td>-2.760899</td>\n",
       "      <td>-0.940942</td>\n",
       "    </tr>\n",
       "    <tr>\n",
       "      <th>176</th>\n",
       "      <td>-2.387017</td>\n",
       "      <td>-2.297347</td>\n",
       "      <td>-0.550696</td>\n",
       "    </tr>\n",
       "    <tr>\n",
       "      <th>177</th>\n",
       "      <td>-3.208758</td>\n",
       "      <td>-2.768920</td>\n",
       "      <td>1.013914</td>\n",
       "    </tr>\n",
       "  </tbody>\n",
       "</table>\n",
       "</div>"
      ],
      "text/plain": [
       "     principal component 1  principal component 2  principal component 3\n",
       "173              -3.370524              -2.216289              -0.342570\n",
       "174              -2.601956              -1.757229               0.207581\n",
       "175              -2.677839              -2.760899              -0.940942\n",
       "176              -2.387017              -2.297347              -0.550696\n",
       "177              -3.208758              -2.768920               1.013914"
      ]
     },
     "execution_count": 11,
     "metadata": {},
     "output_type": "execute_result"
    }
   ],
   "source": [
    "from sklearn.decomposition import PCA\n",
    "pca_wine = PCA(n_components=3)\n",
    "principalComponents_wine = pca_wine.fit_transform(normalized_df)\n",
    "principal_wine_Df = pd.DataFrame(data = principalComponents_wine, columns = ['principal component 1', 'principal component 2','principal component 3'])\n",
    "principal_wine_Df.tail()"
   ]
  },
  {
   "cell_type": "code",
   "execution_count": 12,
   "id": "c1af0092",
   "metadata": {},
   "outputs": [
    {
     "name": "stdout",
     "output_type": "stream",
     "text": [
      "Explained variation per principal component: [0.36198848 0.1920749  0.11123631]\n"
     ]
    }
   ],
   "source": [
    "print('Explained variation per principal component: {}'.format(pca_wine.explained_variance_ratio_))"
   ]
  },
  {
   "cell_type": "markdown",
   "id": "7bbf6699",
   "metadata": {},
   "source": [
    "# 36+19+11 = 66 i.e. we are getting 66% of information from these three components\n"
   ]
  },
  {
   "cell_type": "markdown",
   "id": "0648bd24",
   "metadata": {},
   "source": [
    "# Data distribution after Normalization"
   ]
  },
  {
   "cell_type": "code",
   "execution_count": 13,
   "id": "2e1f893e",
   "metadata": {},
   "outputs": [
    {
     "data": {
      "image/png": "[encoded data removed]",
      "text/plain": [
       "<Figure size 1440x1080 with 11 Axes>"
      ]
     },
     "metadata": {
      "needs_background": "light"
     },
     "output_type": "display_data"
    }
   ],
   "source": [
    "import warnings\n",
    "warnings.filterwarnings('ignore')\n",
    "plt.figure(figsize = (20, 15))\n",
    "plotnumber = 1\n",
    "numeric_cols = [col for col in normalized_df.columns if normalized_df[col].dtype != 'object']\n",
    "for column in numeric_cols:\n",
    "    if plotnumber <= 11:\n",
    "        ax = plt.subplot(3, 4, plotnumber)\n",
    "        sns.distplot(normalized_df[column])\n",
    "        plt.xlabel(column)\n",
    "        \n",
    "    plotnumber += 1\n",
    "\n",
    "plt.tight_layout()\n",
    "plt.show()"
   ]
  },
  {
   "cell_type": "markdown",
   "id": "c82221f4",
   "metadata": {},
   "source": [
    "# Performing DBSCAN without any optimization ,Here by default epsilon is 0.5, and min_samples or minPoints is 5. Let’s visualize the results from this model"
   ]
  },
  {
   "cell_type": "code",
   "execution_count": 14,
   "id": "b3801b64",
   "metadata": {},
   "outputs": [],
   "source": [
    "X = principal_wine_Df"
   ]
  },
  {
   "cell_type": "code",
   "execution_count": 15,
   "id": "dfbd99a3",
   "metadata": {},
   "outputs": [],
   "source": [
    "# Using the elbow method to find the optimal number of clusters\n",
    "from sklearn.cluster import DBSCAN\n",
    "from sklearn import metrics"
   ]
  },
  {
   "cell_type": "code",
   "execution_count": 16,
   "id": "d1417490",
   "metadata": {},
   "outputs": [
    {
     "ename": "ModuleNotFoundError",
     "evalue": "No module named 'plotly'",
     "output_type": "error",
     "traceback": [
      "\u001b[1;31m---------------------------------------------------------------------------\u001b[0m",
      "\u001b[1;31mModuleNotFoundError\u001b[0m                       Traceback (most recent call last)",
      "\u001b[1;32m~\\AppData\\Local\\Temp/ipykernel_12092/3325961800.py\u001b[0m in \u001b[0;36m<module>\u001b[1;34m\u001b[0m\n\u001b[1;32m----> 1\u001b[1;33m \u001b[1;32mimport\u001b[0m \u001b[0mplotly\u001b[0m\u001b[1;33m.\u001b[0m\u001b[0mgraph_objs\u001b[0m \u001b[1;32mas\u001b[0m \u001b[0mgo\u001b[0m\u001b[1;33m\u001b[0m\u001b[1;33m\u001b[0m\u001b[0m\n\u001b[0m\u001b[0;32m      2\u001b[0m \u001b[1;32mfrom\u001b[0m \u001b[0mplotly\u001b[0m \u001b[1;32mimport\u001b[0m \u001b[0mtools\u001b[0m\u001b[1;33m\u001b[0m\u001b[1;33m\u001b[0m\u001b[0m\n\u001b[0;32m      3\u001b[0m \u001b[1;32mfrom\u001b[0m \u001b[0mplotly\u001b[0m\u001b[1;33m.\u001b[0m\u001b[0msubplots\u001b[0m \u001b[1;32mimport\u001b[0m \u001b[0mmake_subplots\u001b[0m\u001b[1;33m\u001b[0m\u001b[1;33m\u001b[0m\u001b[0m\n\u001b[0;32m      4\u001b[0m \u001b[1;32mimport\u001b[0m \u001b[0mplotly\u001b[0m\u001b[1;33m.\u001b[0m\u001b[0moffline\u001b[0m \u001b[1;32mas\u001b[0m \u001b[0mpy\u001b[0m\u001b[1;33m\u001b[0m\u001b[1;33m\u001b[0m\u001b[0m\n\u001b[0;32m      5\u001b[0m \u001b[1;32mdef\u001b[0m \u001b[0mplot_dbscan\u001b[0m\u001b[1;33m(\u001b[0m\u001b[1;33m)\u001b[0m\u001b[1;33m:\u001b[0m\u001b[1;33m\u001b[0m\u001b[1;33m\u001b[0m\u001b[0m\n",
      "\u001b[1;31mModuleNotFoundError\u001b[0m: No module named 'plotly'"
     ]
    }
   ],
   "source": [
    "import plotly.graph_objs as go\n",
    "from plotly import tools\n",
    "from plotly.subplots import make_subplots\n",
    "import plotly.offline as py\n",
    "def plot_dbscan():\n",
    "    dbscan=DBSCAN()\n",
    "    dbscan.fit(X)\n",
    "    colors=['purple','red','blue','green']\n",
    "    normalized_df['DBSCAN_labels']=dbscan.labels_\n",
    "    # Plotting resulting clusters\n",
    "    Scene = dict(xaxis = dict(title  = 'principal component 1'),yaxis = dict(title  = 'principal component 2'),zaxis = dict(title  = 'principal component 3'))\n",
    "    labels = normalized_df['DBSCAN_labels']\n",
    "    trace = go.Scatter3d(x=X['principal component 1'], y=X['principal component 2'], z=X['principal component 3'], mode='markers',marker=dict(color = labels, size= 10, line=dict(color= 'black',width = 10)))\n",
    "    layout = go.Layout(margin=dict(l=0,r=0),scene = Scene,height = 600,width = 600)\n",
    "    data = [trace]\n",
    "    fig = go.Figure(data = data, layout = layout)\n",
    "    print(\"silhouette score: \",metrics.silhouette_score(X,labels))\n",
    "    fig.show()"
   ]
  },
  {
   "cell_type": "code",
   "execution_count": 17,
   "id": "506dbf3e",
   "metadata": {},
   "outputs": [
    {
     "ename": "NameError",
     "evalue": "name 'plot_dbscan' is not defined",
     "output_type": "error",
     "traceback": [
      "\u001b[1;31m---------------------------------------------------------------------------\u001b[0m",
      "\u001b[1;31mNameError\u001b[0m                                 Traceback (most recent call last)",
      "\u001b[1;32m~\\AppData\\Local\\Temp/ipykernel_12092/552621017.py\u001b[0m in \u001b[0;36m<module>\u001b[1;34m\u001b[0m\n\u001b[1;32m----> 1\u001b[1;33m \u001b[0mplot_dbscan\u001b[0m\u001b[1;33m(\u001b[0m\u001b[1;33m)\u001b[0m\u001b[1;33m\u001b[0m\u001b[1;33m\u001b[0m\u001b[0m\n\u001b[0m",
      "\u001b[1;31mNameError\u001b[0m: name 'plot_dbscan' is not defined"
     ]
    }
   ],
   "source": [
    "plot_dbscan()"
   ]
  },
  {
   "cell_type": "markdown",
   "id": "2df6370a",
   "metadata": {},
   "source": [
    "# Performing DBSCAN with optimization using K-distance graph"
   ]
  },
  {
   "cell_type": "code",
   "execution_count": 18,
   "id": "2a20e584",
   "metadata": {},
   "outputs": [
    {
     "data": {
      "image/png": "[encoded data removed]",
      "text/plain": [
       "<Figure size 1440x720 with 1 Axes>"
      ]
     },
     "metadata": {
      "needs_background": "light"
     },
     "output_type": "display_data"
    }
   ],
   "source": [
    "neigh = NearestNeighbors(n_neighbors=2)\n",
    "nbrs = neigh.fit(X)\n",
    "distances, indices = nbrs.kneighbors(X)\n",
    "# Plotting K-distance Graph\n",
    "distances = np.sort(distances, axis=0)\n",
    "distances = distances[:,1]\n",
    "plt.figure(figsize=(20,10))\n",
    "plt.plot(distances)\n",
    "plt.title('K-distance Graph',fontsize=20)\n",
    "plt.xlabel('Data Points sorted by distance',fontsize=14)\n",
    "plt.ylabel('Epsilon',fontsize=14)\n",
    "plt.show()"
   ]
  },
  {
   "cell_type": "markdown",
   "id": "45e59d1d",
   "metadata": {},
   "source": [
    "# The optimum value of epsilon is at the point of maximum curvature in the K-Distance Graph, which is 1.0 in this case."
   ]
  },
  {
   "cell_type": "code",
   "execution_count": 19,
   "id": "afadf62c",
   "metadata": {},
   "outputs": [
    {
     "name": "stdout",
     "output_type": "stream",
     "text": [
      "Minpoints =  6\n"
     ]
    }
   ],
   "source": [
    "# Deriving Minpoints\n",
    "minpoints = 2*X.shape[1]\n",
    "print ('Minpoints = ', minpoints)"
   ]
  },
  {
   "cell_type": "markdown",
   "id": "99604b5e",
   "metadata": {},
   "source": [
    "# Minimum number of points are 6"
   ]
  },
  {
   "cell_type": "markdown",
   "id": "347f8c56",
   "metadata": {},
   "source": [
    "# Defining an optimized DBSCAN algo"
   ]
  },
  {
   "cell_type": "code",
   "execution_count": 20,
   "id": "4205bb79",
   "metadata": {},
   "outputs": [],
   "source": [
    "def plot_optdbscan(eps,min_samples):\n",
    "    dbscan_opt=DBSCAN(eps,min_samples)\n",
    "    dbscan_opt.fit(X)\n",
    "    normalized_df['DBSCAN_opt_labels']=dbscan_opt.labels_ \n",
    "    normalized_df['DBSCAN_opt_labels'].value_counts()\n",
    "    Scene = dict(xaxis = dict(title  = 'principal component 1'),yaxis = dict(title  = 'principal component 2'),zaxis = dict(title  = 'principal component 3'))\n",
    "    labels = normalized_df['DBSCAN_opt_labels']\n",
    "    trace = go.Scatter3d(x=X['principal component 1'], y=X['principal component 2'], z=X['principal component 3'], mode='markers',marker=dict(color = labels, size= 10, line=dict(color= 'black',width = 10)))\n",
    "    layout = go.Layout(margin=dict(l=0,r=0),scene = Scene,height = 600,width = 600)\n",
    "    data = [trace]\n",
    "    fig = go.Figure(data = data, layout = layout)\n",
    "    print(\"silhouette score: \",metrics.silhouette_score(X,labels))\n",
    "    fig.show()"
   ]
  },
  {
   "cell_type": "markdown",
   "id": "9fc49ed3",
   "metadata": {},
   "source": [
    "# Plotting three 3-dimentional graph with multiple Epsilon "
   ]
  },
  {
   "cell_type": "code",
   "execution_count": 21,
   "id": "fc40ae83",
   "metadata": {},
   "outputs": [
    {
     "name": "stdout",
     "output_type": "stream",
     "text": [
      "silhouette score:  0.2920822635316758\n"
     ]
    },
    {
     "data": {
      "application/vnd.plotly.v1+json": {
       "config": {
        "plotlyServerURL": "https://plot.ly"
       },
       "data": [
        {
         "marker": {
          "color": [
           0,
           0,
           0,
           0,
           0,
           0,
           0,
           0,
           0,
           0,
           0,
           0,
           0,
           0,
           0,
           0,
           0,
           0,
           0,
           0,
           0,
           0,
           0,
           0,
           0,
           -1,
           0,
           0,
           0,
           0,
           0,
           0,
           0,
           0,
           0,
           0,
           0,
           0,
           0,
           0,
           0,
           0,
           0,
           0,
           0,
           0,
           0,
           0,
           0,
           0,
           0,
           0,
           0,
           0,
           0,
           0,
           0,
           0,
           0,
           -1,
           0,
           0,
           0,
           0,
           0,
           0,
           0,
           0,
           0,
           0,
           0,
           0,
           0,
           -1,
           0,
           0,
           0,
           0,
           0,
           0,
           0,
           0,
           0,
           0,
           0,
           0,
           0,
           0,
           0,
           0,
           0,
           0,
           0,
           0,
           0,
           0,
           0,
           0,
           0,
           0,
           0,
           0,
           0,
           0,
           0,
           0,
           0,
           0,
           0,
           0,
           0,
           0,
           0,
           0,
           0,
           -1,
           0,
           0,
           0,
           0,
           0,
           -1,
           0,
           0,
           0,
           0,
           0,
           0,
           0,
           0,
           0,
           0,
           0,
           0,
           0,
           0,
           0,
           0,
           0,
           0,
           0,
           0,
           0,
           0,
           0,
           0,
           0,
           0,
           0,
           0,
           0,
           0,
           0,
           0,
           0,
           0,
           0,
           0,
           0,
           0,
           0,
           0,
           0,
           0,
           0,
           0,
           0,
           0,
           0,
           0,
           0,
           0,
           0,
           0,
           0,
           0,
           0,
           0
          ],
          "line": {
           "color": "black",
           "width": 10
          },
          "size": 10
         },
         "mode": "markers",
         "type": "scatter3d",
         "x": [
          3.3167508122147753,
          2.2094649169188436,
          2.5167401466103803,
          3.7570656097732,
          1.0089084937957138,
          3.050253922418077,
          2.4490896695962308,
          2.059436871437913,
          2.510874297398989,
          2.7536281876339084,
          3.47973668273121,
          1.7547529012945884,
          2.113462340315095,
          3.458156819336721,
          4.312783906765558,
          2.30518820082797,
          2.1719552737415113,
          1.8989711765627602,
          3.5419850819434666,
          2.0845222047303116,
          3.1244025351672,
          1.0865700683322397,
          2.5352240799037142,
          1.6449883412544688,
          1.7615758722693,
          0.9900791016088539,
          1.7752776281133675,
          1.2354239643099056,
          2.1884063344519613,
          2.2561089812837074,
          2.5002200257894245,
          2.677411047444013,
          1.6285791164309182,
          1.902690862238146,
          1.4103885265954055,
          1.9038262321944859,
          1.384862230374837,
          1.1222074104413093,
          1.5021945006181914,
          2.5298010923718093,
          2.588095425854402,
          0.6684819937541876,
          3.0708069904120063,
          0.4622091375160073,
          2.101351930538015,
          1.1361661775610183,
          2.726600963640804,
          2.8213392741922485,
          2.009850850912358,
          2.7074913042663926,
          3.2149174747738214,
          2.858959826717293,
          3.5056043559232197,
          2.2247913805321717,
          2.1469878235638653,
          2.4693294837977864,
          2.741517914277451,
          2.1737409209653054,
          3.139380151828993,
          -0.9285819689218536,
          -1.5424801378968804,
          -1.8362497634669395,
          0.030606834086681682,
          2.050261607576315,
          -0.6096808271776226,
          0.9002278387071417,
          2.248507190798394,
          0.1833840266847562,
          -0.8128050273520709,
          1.9756204987985522,
          -1.572216219626299,
          1.6576818088332903,
          -0.725372388035354,
          2.5622271731703585,
          1.8325675700495454,
          -0.8679929031954124,
          0.37001440429478377,
          -1.4573770449061387,
          1.2629308497284955,
          0.3761503719342409,
          0.7620639041095983,
          1.0345779671651871,
          -0.4948767556803275,
          -2.538977084295118,
          0.8353201453942957,
          0.7879046149897092,
          -0.8068321559655388,
          -0.5580426248756825,
          -1.1151110419194465,
          -0.5557228299517006,
          -1.3492852824437305,
          -1.5644826057199062,
          -1.9325556106314636,
          0.7466659419884497,
          0.9574553638036392,
          2.543865184199549,
          -0.5439525887762311,
          1.0310497503881482,
          2.2519094221481226,
          1.4102160153374583,
          0.7977197926930409,
          -0.5495317266494637,
          -0.16117373994854525,
          -0.6597949416843601,
          0.39235440818508327,
          -1.7724990779600338,
          -0.366267357352064,
          -1.6206725727874787,
          0.08253578349332737,
          1.5782750709323796,
          1.4205692478240148,
          -0.2787027536488543,
          -1.3031449662482815,
          -0.4570718656526261,
          -0.49418584704437535,
          0.48207440977309185,
          -0.2528888776531998,
          -0.10722763772912346,
          -2.433012602550216,
          -0.5510895391746496,
          0.7396219285682196,
          1.3363217334183273,
          -1.177086996247772,
          -0.4623350080196765,
          0.9784740793566474,
          -0.09680972631598551,
          0.03848714594902482,
          -1.597158501207472,
          -0.47956491608312474,
          -1.7928334730311433,
          -1.3271016561416018,
          -2.3845008347435286,
          -2.936940102146611,
          -2.146811133816063,
          -2.3698694883330416,
          -3.063841568720353,
          -3.9157537837118883,
          -3.936463390715962,
          -3.0942761177622726,
          -2.374471628006922,
          -2.7788129476325127,
          -2.286561284738468,
          -2.9856334874494643,
          -2.375194698227107,
          -2.2098655255958715,
          -2.6256210046927193,
          -4.280638778751083,
          -3.582641372001102,
          -2.8070637200816573,
          -2.899659333023909,
          -2.3207369765492043,
          -2.5498309472261362,
          -1.8125412848422988,
          -2.7601446419239495,
          -2.737150500667991,
          -3.6048688681834222,
          -2.8898259968735047,
          -3.392156076835721,
          -1.0481818968536778,
          -1.6099122828479355,
          -3.143130966743974,
          -2.24015689626954,
          -2.8476737761195197,
          -2.5974970566487636,
          -2.949299373134843,
          -3.5300322663493096,
          -2.4061105404785517,
          -2.9290847269674543,
          -2.18141277881262,
          -2.3809277871356382,
          -3.2116172150412474,
          -3.677918720973815,
          -2.4655557980404477,
          -3.3705241454428583,
          -2.6019558512247363,
          -2.6778394608645013,
          -2.3870170912797186,
          -3.20875816419802
         ],
         "y": [
          -1.4434626343180088,
          0.33339288708029985,
          -1.0311512962743197,
          -2.756371913710715,
          -0.8698308214172058,
          -2.1224011146341937,
          -1.1748501316494753,
          -1.6089630683635092,
          -0.9180709573337771,
          -0.7894376738336074,
          -1.3023332371235965,
          -0.6119772287456323,
          -0.6757063391426198,
          -1.1306298761729388,
          -2.095975575341264,
          -1.6625517299890584,
          -2.3273053361914218,
          -1.63136887864284,
          -2.51834366930665,
          -1.0611379935838607,
          -0.7868971056508955,
          -0.24174355133283978,
          0.09184062072088074,
          0.5162789300672352,
          0.31714893268438116,
          -0.9406673381906354,
          -0.6861751342850249,
          0.08980704136064004,
          -0.6895696206616251,
          -0.19146193688666505,
          -1.2408338348969448,
          -1.4718736461032509,
          -0.052704450575323775,
          -1.633060434769985,
          -0.6979343246113576,
          -0.17671095109545648,
          -0.6586398536611502,
          -0.11410976029688874,
          0.7694320064310095,
          -1.8030019760618285,
          -0.7796163041925084,
          -0.16996094061987485,
          -1.1559189566098846,
          -0.330742132192275,
          0.07100892095406687,
          -1.7771073929776393,
          -1.1913346919571848,
          -0.6462585991417041,
          -1.2470294606787615,
          -1.7519674072063394,
          -0.1669919949967911,
          -0.7452788039895895,
          -1.6127338560350133,
          -1.8751679995630268,
          -1.0167515377576608,
          -1.3290083106496238,
          -1.436548783512516,
          -1.212199840697796,
          -1.731579115992515,
          3.073486163188932,
          1.3814435080942298,
          0.829984123055719,
          1.2627861442114034,
          1.9250326046501016,
          1.9080588050851888,
          0.763911473609609,
          1.884592484550134,
          2.4271461147035733,
          0.22051398690226945,
          1.403283225309617,
          0.8849831369082231,
          0.9567121974591496,
          1.0636454007060956,
          -0.2601985506545973,
          1.2878781978605263,
          2.444101185580866,
          2.1539069751569904,
          1.383351769076261,
          0.7708495299701186,
          1.0270434033558236,
          3.3750538099635374,
          1.4507097382440928,
          2.3812435267673715,
          0.08744335730498286,
          1.473670551400869,
          2.026626522462479,
          2.233830390843913,
          2.3729854288494563,
          1.8022471916654548,
          2.657540035392295,
          2.1180014697848204,
          1.8522145217655521,
          1.559495456898623,
          2.3129317092207424,
          2.2235284346674615,
          -0.16927402279974083,
          0.3689265458773172,
          2.565569348733525,
          1.4327413803542552,
          2.1661917693703856,
          2.3769488030818637,
          2.293128643245629,
          1.1644833215600165,
          2.679961185989638,
          2.098731708765539,
          1.717288469376144,
          2.169353297829285,
          1.3555833880259582,
          2.3062345877483272,
          1.4620342902048171,
          1.4182066376337517,
          1.93056808867047,
          0.7631723136577919,
          2.2694156075896763,
          1.9390450494868336,
          3.8717838484072415,
          2.821492374701595,
          1.9289220425669604,
          1.2571410404943948,
          2.222161550776624,
          1.4089566673657128,
          -0.25333693116830713,
          0.6639668398015719,
          0.6182881794850437,
          1.4455704988958278,
          2.1099979931352273,
          1.2667621091578858,
          1.208143574128486,
          1.9388406603940493,
          1.1502881044421063,
          -0.17038923204902764,
          -0.37458260552469336,
          -0.26386183006838027,
          -0.3682549518864612,
          0.45963480923116673,
          -0.35341283545840335,
          -0.1545825194417321,
          -0.6596872334097823,
          -0.34884275927379566,
          -0.29198035155999447,
          -0.2868048728821742,
          -0.3725078446852987,
          -0.4892179083470127,
          -0.4823337172448774,
          -1.1600525041576437,
          -0.5631607642108342,
          -0.6496709640237052,
          -1.2727027497273018,
          -1.5705337870411984,
          -2.041057007938465,
          -2.356366075556676,
          -2.0452830910195257,
          -1.5276459462687526,
          -2.1389323476426125,
          -0.4098862708817906,
          -1.8023842175839677,
          -1.9252186131303433,
          -1.3118763884735976,
          -3.5150896912197336,
          -2.4066381595743307,
          -0.7381610441757982,
          -1.1754652881188647,
          -0.5560439658826741,
          -0.6979655372009196,
          -1.555308964283984,
          -0.8825267962042361,
          -2.5923561750423993,
          -1.2744469479044833,
          -2.0775373127345174,
          -2.5886674324185917,
          0.25124910442559206,
          -0.8477478441497638,
          -2.193798303654095,
          -2.2162891398611375,
          -1.7572293509792754,
          -2.760899131674548,
          -2.297346679712821,
          -2.7689195660475763
         ],
         "z": [
          -0.16573904461441977,
          -2.0264573738075335,
          0.982818670212059,
          -0.17619184219949258,
          2.0266882192354063,
          -0.6293958270439122,
          -0.9770948907141955,
          0.14628188306155923,
          -1.7709690272289416,
          -0.9842474895182348,
          -0.4227352165808461,
          -1.1908783196301738,
          -0.8650864256166532,
          -1.20427635253819,
          -1.2639127523579985,
          0.21790261559595828,
          0.8317298659860067,
          0.7949137923810692,
          -0.4854585076662916,
          -0.16474667849947355,
          -0.3648870829888463,
          0.936961599610645,
          -0.311932659347969,
          0.14388509467079577,
          0.8902856474056889,
          3.820908008194834,
          -0.08670040648876251,
          -1.3868965448964345,
          1.394566880850359,
          -1.0926572575082927,
          1.3860178547156772,
          -0.3322617283750933,
          -0.167128706245334,
          1.172082119175344,
          0.4797430251686612,
          0.45083504003720887,
          0.45843858085206185,
          -0.03910727668974891,
          -1.4261773458904599,
          -0.3431523889796911,
          -0.11847746611373658,
          -0.7833625480611431,
          -0.3127580839341535,
          -0.20147649625677078,
          -0.655849415043434,
          0.028705735784752807,
          -0.5397732611476717,
          -1.1555524107274069,
          -0.05729398793992294,
          -0.6431136120007939,
          -1.9735716799013714,
          0.004719502164697485,
          -0.5207745300761741,
          0.33954985035420876,
          -0.957762761950327,
          0.5134374530359685,
          -0.6124733957169589,
          0.26177959277079027,
          -0.28566141261644945,
          -4.585064007148202,
          -0.8746831124458087,
          -1.6057021863206187,
          -1.784408010418854,
          -0.0073687773498163685,
          0.6793579379775355,
          0.5733613020971904,
          -2.031840192867584,
          -1.0697455602477957,
          -0.7070053958009676,
          -1.2382762196848662,
          -0.6289979502315949,
          1.9525842166061973,
          0.08033222861543701,
          3.3743939622397536,
          0.4582800273995581,
          -1.563333178950377,
          -2.4493863483037366,
          -0.22730690232730455,
          -1.1842245173752441,
          1.7944662945426586,
          -0.3574700555394637,
          -0.36301177316395966,
          1.3357431762848657,
          0.4742513927691472,
          0.6100935756921052,
          -0.25472340396955,
          0.7728557971982637,
          2.307611404012003,
          0.9592533076886539,
          0.8491268977432256,
          -0.047652320848692094,
          0.7810670309346305,
          -0.08927467610867924,
          0.11467976874541666,
          0.14244477369872643,
          0.7886969907454728,
          1.3088959318568572,
          -1.0863901738177377,
          -0.2302082437978136,
          0.7488964107708795,
          -1.568112531275524,
          -1.4989353232010765,
          1.0037131028373556,
          -0.7649208684795135,
          -0.4718500076097371,
          0.9470331744608651,
          -0.4813242347422896,
          0.2871590006956159,
          -0.46357498937395414,
          1.7796459547332826,
          0.13927582948819153,
          0.07867055304723465,
          1.999596510486854,
          1.0613389675926643,
          1.3239380723766925,
          1.344271223393072,
          -0.30263978453063933,
          0.6901482425075112,
          -1.903027404411348,
          -0.35622883021253426,
          1.1253454920042358,
          5.34538817919574,
          3.0102218879464275,
          0.483442366344183,
          1.4812369749959464,
          0.43482611561678924,
          0.6875779128728086,
          3.361175555386425,
          1.2965075188296686,
          0.7828001731822654,
          -1.180013355309487,
          -0.7238225948116626,
          -0.16763981598372138,
          -0.45330130146918574,
          -1.1013997885920581,
          -1.0991241041153403,
          0.22182779984104778,
          1.7122154192145356,
          -1.0268314134224497,
          1.2419143328305622,
          0.6096701239723719,
          -0.9716430323608533,
          0.9469529317999691,
          -0.2528839940533326,
          -1.2451252259210637,
          -0.8559610818033772,
          -1.4581969616385655,
          -0.11078403762472656,
          -0.4725279345720869,
          -0.49595981023509345,
          0.43768174361876044,
          -0.31226799865093213,
          1.3625897815878683,
          -0.9646286882006795,
          -1.1904046839669862,
          -0.09403686133597251,
          -0.7823225555084473,
          1.6020259689000198,
          1.1600385659132237,
          0.5485596972407076,
          -0.09099872392222295,
          -0.10137693249612162,
          0.8042152181010276,
          -0.8849395211306328,
          -0.983400727224941,
          -0.4660291277785392,
          0.428226210799577,
          -1.2133582715051474,
          0.7637825515581176,
          1.4180440294968124,
          -0.8471291521285004,
          -1.3394202310855157,
          -0.9187809604264906,
          -0.34256951241432193,
          0.20758135498125058,
          -0.9409418766769949,
          -0.5506961970110882,
          1.0139136641131123
         ]
        }
       ],
       "layout": {
        "height": 600,
        "margin": {
         "l": 0,
         "r": 0
        },
        "scene": {
         "xaxis": {
          "title": {
           "text": "principal component 1"
          }
         },
         "yaxis": {
          "title": {
           "text": "principal component 2"
          }
         },
         "zaxis": {
          "title": {
           "text": "principal component 3"
          }
         }
        },
        "template": {
         "data": {
          "bar": [
           {
            "error_x": {
             "color": "#2a3f5f"
            },
            "error_y": {
             "color": "#2a3f5f"
            },
            "marker": {
             "line": {
              "color": "#E5ECF6",
              "width": 0.5
             },
             "pattern": {
              "fillmode": "overlay",
              "size": 10,
              "solidity": 0.2
             }
            },
            "type": "bar"
           }
          ],
          "barpolar": [
           {
            "marker": {
             "line": {
              "color": "#E5ECF6",
              "width": 0.5
             },
             "pattern": {
              "fillmode": "overlay",
              "size": 10,
              "solidity": 0.2
             }
            },
            "type": "barpolar"
           }
          ],
          "carpet": [
           {
            "aaxis": {
             "endlinecolor": "#2a3f5f",
             "gridcolor": "white",
             "linecolor": "white",
             "minorgridcolor": "white",
             "startlinecolor": "#2a3f5f"
            },
            "baxis": {
             "endlinecolor": "#2a3f5f",
             "gridcolor": "white",
             "linecolor": "white",
             "minorgridcolor": "white",
             "startlinecolor": "#2a3f5f"
            },
            "type": "carpet"
           }
          ],
          "choropleth": [
           {
            "colorbar": {
             "outlinewidth": 0,
             "ticks": ""
            },
            "type": "choropleth"
           }
          ],
          "contour": [
           {
            "colorbar": {
             "outlinewidth": 0,
             "ticks": ""
            },
            "colorscale": [
             [
              0,
              "#0d0887"
             ],
             [
              0.1111111111111111,
              "#46039f"
             ],
             [
              0.2222222222222222,
              "#7201a8"
             ],
             [
              0.3333333333333333,
              "#9c179e"
             ],
             [
              0.4444444444444444,
              "#bd3786"
             ],
             [
              0.5555555555555556,
              "#d8576b"
             ],
             [
              0.6666666666666666,
              "#ed7953"
             ],
             [
              0.7777777777777778,
              "#fb9f3a"
             ],
             [
              0.8888888888888888,
              "#fdca26"
             ],
             [
              1,
              "#f0f921"
             ]
            ],
            "type": "contour"
           }
          ],
          "contourcarpet": [
           {
            "colorbar": {
             "outlinewidth": 0,
             "ticks": ""
            },
            "type": "contourcarpet"
           }
          ],
          "heatmap": [
           {
            "colorbar": {
             "outlinewidth": 0,
             "ticks": ""
            },
            "colorscale": [
             [
              0,
              "#0d0887"
             ],
             [
              0.1111111111111111,
              "#46039f"
             ],
             [
              0.2222222222222222,
              "#7201a8"
             ],
             [
              0.3333333333333333,
              "#9c179e"
             ],
             [
              0.4444444444444444,
              "#bd3786"
             ],
             [
              0.5555555555555556,
              "#d8576b"
             ],
             [
              0.6666666666666666,
              "#ed7953"
             ],
             [
              0.7777777777777778,
              "#fb9f3a"
             ],
             [
              0.8888888888888888,
              "#fdca26"
             ],
             [
              1,
              "#f0f921"
             ]
            ],
            "type": "heatmap"
           }
          ],
          "heatmapgl": [
           {
            "colorbar": {
             "outlinewidth": 0,
             "ticks": ""
            },
            "colorscale": [
             [
              0,
              "#0d0887"
             ],
             [
              0.1111111111111111,
              "#46039f"
             ],
             [
              0.2222222222222222,
              "#7201a8"
             ],
             [
              0.3333333333333333,
              "#9c179e"
             ],
             [
              0.4444444444444444,
              "#bd3786"
             ],
             [
              0.5555555555555556,
              "#d8576b"
             ],
             [
              0.6666666666666666,
              "#ed7953"
             ],
             [
              0.7777777777777778,
              "#fb9f3a"
             ],
             [
              0.8888888888888888,
              "#fdca26"
             ],
             [
              1,
              "#f0f921"
             ]
            ],
            "type": "heatmapgl"
           }
          ],
          "histogram": [
           {
            "marker": {
             "pattern": {
              "fillmode": "overlay",
              "size": 10,
              "solidity": 0.2
             }
            },
            "type": "histogram"
           }
          ],
          "histogram2d": [
           {
            "colorbar": {
             "outlinewidth": 0,
             "ticks": ""
            },
            "colorscale": [
             [
              0,
              "#0d0887"
             ],
             [
              0.1111111111111111,
              "#46039f"
             ],
             [
              0.2222222222222222,
              "#7201a8"
             ],
             [
              0.3333333333333333,
              "#9c179e"
             ],
             [
              0.4444444444444444,
              "#bd3786"
             ],
             [
              0.5555555555555556,
              "#d8576b"
             ],
             [
              0.6666666666666666,
              "#ed7953"
             ],
             [
              0.7777777777777778,
              "#fb9f3a"
             ],
             [
              0.8888888888888888,
              "#fdca26"
             ],
             [
              1,
              "#f0f921"
             ]
            ],
            "type": "histogram2d"
           }
          ],
          "histogram2dcontour": [
           {
            "colorbar": {
             "outlinewidth": 0,
             "ticks": ""
            },
            "colorscale": [
             [
              0,
              "#0d0887"
             ],
             [
              0.1111111111111111,
              "#46039f"
             ],
             [
              0.2222222222222222,
              "#7201a8"
             ],
             [
              0.3333333333333333,
              "#9c179e"
             ],
             [
              0.4444444444444444,
              "#bd3786"
             ],
             [
              0.5555555555555556,
              "#d8576b"
             ],
             [
              0.6666666666666666,
              "#ed7953"
             ],
             [
              0.7777777777777778,
              "#fb9f3a"
             ],
             [
              0.8888888888888888,
              "#fdca26"
             ],
             [
              1,
              "#f0f921"
             ]
            ],
            "type": "histogram2dcontour"
           }
          ],
          "mesh3d": [
           {
            "colorbar": {
             "outlinewidth": 0,
             "ticks": ""
            },
            "type": "mesh3d"
           }
          ],
          "parcoords": [
           {
            "line": {
             "colorbar": {
              "outlinewidth": 0,
              "ticks": ""
             }
            },
            "type": "parcoords"
           }
          ],
          "pie": [
           {
            "automargin": true,
            "type": "pie"
           }
          ],
          "scatter": [
           {
            "marker": {
             "colorbar": {
              "outlinewidth": 0,
              "ticks": ""
             }
            },
            "type": "scatter"
           }
          ],
          "scatter3d": [
           {
            "line": {
             "colorbar": {
              "outlinewidth": 0,
              "ticks": ""
             }
            },
            "marker": {
             "colorbar": {
              "outlinewidth": 0,
              "ticks": ""
             }
            },
            "type": "scatter3d"
           }
          ],
          "scattercarpet": [
           {
            "marker": {
             "colorbar": {
              "outlinewidth": 0,
              "ticks": ""
             }
            },
            "type": "scattercarpet"
           }
          ],
          "scattergeo": [
           {
            "marker": {
             "colorbar": {
              "outlinewidth": 0,
              "ticks": ""
             }
            },
            "type": "scattergeo"
           }
          ],
          "scattergl": [
           {
            "marker": {
             "colorbar": {
              "outlinewidth": 0,
              "ticks": ""
             }
            },
            "type": "scattergl"
           }
          ],
          "scattermapbox": [
           {
            "marker": {
             "colorbar": {
              "outlinewidth": 0,
              "ticks": ""
             }
            },
            "type": "scattermapbox"
           }
          ],
          "scatterpolar": [
           {
            "marker": {
             "colorbar": {
              "outlinewidth": 0,
              "ticks": ""
             }
            },
            "type": "scatterpolar"
           }
          ],
          "scatterpolargl": [
           {
            "marker": {
             "colorbar": {
              "outlinewidth": 0,
              "ticks": ""
             }
            },
            "type": "scatterpolargl"
           }
          ],
          "scatterternary": [
           {
            "marker": {
             "colorbar": {
              "outlinewidth": 0,
              "ticks": ""
             }
            },
            "type": "scatterternary"
           }
          ],
          "surface": [
           {
            "colorbar": {
             "outlinewidth": 0,
             "ticks": ""
            },
            "colorscale": [
             [
              0,
              "#0d0887"
             ],
             [
              0.1111111111111111,
              "#46039f"
             ],
             [
              0.2222222222222222,
              "#7201a8"
             ],
             [
              0.3333333333333333,
              "#9c179e"
             ],
             [
              0.4444444444444444,
              "#bd3786"
             ],
             [
              0.5555555555555556,
              "#d8576b"
             ],
             [
              0.6666666666666666,
              "#ed7953"
             ],
             [
              0.7777777777777778,
              "#fb9f3a"
             ],
             [
              0.8888888888888888,
              "#fdca26"
             ],
             [
              1,
              "#f0f921"
             ]
            ],
            "type": "surface"
           }
          ],
          "table": [
           {
            "cells": {
             "fill": {
              "color": "#EBF0F8"
             },
             "line": {
              "color": "white"
             }
            },
            "header": {
             "fill": {
              "color": "#C8D4E3"
             },
             "line": {
              "color": "white"
             }
            },
            "type": "table"
           }
          ]
         },
         "layout": {
          "annotationdefaults": {
           "arrowcolor": "#2a3f5f",
           "arrowhead": 0,
           "arrowwidth": 1
          },
          "autotypenumbers": "strict",
          "coloraxis": {
           "colorbar": {
            "outlinewidth": 0,
            "ticks": ""
           }
          },
          "colorscale": {
           "diverging": [
            [
             0,
             "#8e0152"
            ],
            [
             0.1,
             "#c51b7d"
            ],
            [
             0.2,
             "#de77ae"
            ],
            [
             0.3,
             "#f1b6da"
            ],
            [
             0.4,
             "#fde0ef"
            ],
            [
             0.5,
             "#f7f7f7"
            ],
            [
             0.6,
             "#e6f5d0"
            ],
            [
             0.7,
             "#b8e186"
            ],
            [
             0.8,
             "#7fbc41"
            ],
            [
             0.9,
             "#4d9221"
            ],
            [
             1,
             "#276419"
            ]
           ],
           "sequential": [
            [
             0,
             "#0d0887"
            ],
            [
             0.1111111111111111,
             "#46039f"
            ],
            [
             0.2222222222222222,
             "#7201a8"
            ],
            [
             0.3333333333333333,
             "#9c179e"
            ],
            [
             0.4444444444444444,
             "#bd3786"
            ],
            [
             0.5555555555555556,
             "#d8576b"
            ],
            [
             0.6666666666666666,
             "#ed7953"
            ],
            [
             0.7777777777777778,
             "#fb9f3a"
            ],
            [
             0.8888888888888888,
             "#fdca26"
            ],
            [
             1,
             "#f0f921"
            ]
           ],
           "sequentialminus": [
            [
             0,
             "#0d0887"
            ],
            [
             0.1111111111111111,
             "#46039f"
            ],
            [
             0.2222222222222222,
             "#7201a8"
            ],
            [
             0.3333333333333333,
             "#9c179e"
            ],
            [
             0.4444444444444444,
             "#bd3786"
            ],
            [
             0.5555555555555556,
             "#d8576b"
            ],
            [
             0.6666666666666666,
             "#ed7953"
            ],
            [
             0.7777777777777778,
             "#fb9f3a"
            ],
            [
             0.8888888888888888,
             "#fdca26"
            ],
            [
             1,
             "#f0f921"
            ]
           ]
          },
          "colorway": [
           "#636efa",
           "#EF553B",
           "#00cc96",
           "#ab63fa",
           "#FFA15A",
           "#19d3f3",
           "#FF6692",
           "#B6E880",
           "#FF97FF",
           "#FECB52"
          ],
          "font": {
           "color": "#2a3f5f"
          },
          "geo": {
           "bgcolor": "white",
           "lakecolor": "white",
           "landcolor": "#E5ECF6",
           "showlakes": true,
           "showland": true,
           "subunitcolor": "white"
          },
          "hoverlabel": {
           "align": "left"
          },
          "hovermode": "closest",
          "mapbox": {
           "style": "light"
          },
          "paper_bgcolor": "white",
          "plot_bgcolor": "#E5ECF6",
          "polar": {
           "angularaxis": {
            "gridcolor": "white",
            "linecolor": "white",
            "ticks": ""
           },
           "bgcolor": "#E5ECF6",
           "radialaxis": {
            "gridcolor": "white",
            "linecolor": "white",
            "ticks": ""
           }
          },
          "scene": {
           "xaxis": {
            "backgroundcolor": "#E5ECF6",
            "gridcolor": "white",
            "gridwidth": 2,
            "linecolor": "white",
            "showbackground": true,
            "ticks": "",
            "zerolinecolor": "white"
           },
           "yaxis": {
            "backgroundcolor": "#E5ECF6",
            "gridcolor": "white",
            "gridwidth": 2,
            "linecolor": "white",
            "showbackground": true,
            "ticks": "",
            "zerolinecolor": "white"
           },
           "zaxis": {
            "backgroundcolor": "#E5ECF6",
            "gridcolor": "white",
            "gridwidth": 2,
            "linecolor": "white",
            "showbackground": true,
            "ticks": "",
            "zerolinecolor": "white"
           }
          },
          "shapedefaults": {
           "line": {
            "color": "#2a3f5f"
           }
          },
          "ternary": {
           "aaxis": {
            "gridcolor": "white",
            "linecolor": "white",
            "ticks": ""
           },
           "baxis": {
            "gridcolor": "white",
            "linecolor": "white",
            "ticks": ""
           },
           "bgcolor": "#E5ECF6",
           "caxis": {
            "gridcolor": "white",
            "linecolor": "white",
            "ticks": ""
           }
          },
          "title": {
           "x": 0.05
          },
          "xaxis": {
           "automargin": true,
           "gridcolor": "white",
           "linecolor": "white",
           "ticks": "",
           "title": {
            "standoff": 15
           },
           "zerolinecolor": "white",
           "zerolinewidth": 2
          },
          "yaxis": {
           "automargin": true,
           "gridcolor": "white",
           "linecolor": "white",
           "ticks": "",
           "title": {
            "standoff": 15
           },
           "zerolinecolor": "white",
           "zerolinewidth": 2
          }
         }
        },
        "width": 600
       }
      },
      "text/html": [
       "<div>                            <div id=\"4e193ec0-926c-4094-a3f6-7aaa9f1e7e55\" class=\"plotly-graph-div\" style=\"height:600px; width:600px;\"></div>            <script type=\"text/javascript\">                require([\"plotly\"], function(Plotly) {                    window.PLOTLYENV=window.PLOTLYENV || {};                                    if (document.getElementById(\"4e193ec0-926c-4094-a3f6-7aaa9f1e7e55\")) {                    Plotly.newPlot(                        \"4e193ec0-926c-4094-a3f6-7aaa9f1e7e55\",                        [{\"marker\":{\"color\":[0,0,0,0,0,0,0,0,0,0,0,0,0,0,0,0,0,0,0,0,0,0,0,0,0,-1,0,0,0,0,0,0,0,0,0,0,0,0,0,0,0,0,0,0,0,0,0,0,0,0,0,0,0,0,0,0,0,0,0,-1,0,0,0,0,0,0,0,0,0,0,0,0,0,-1,0,0,0,0,0,0,0,0,0,0,0,0,0,0,0,0,0,0,0,0,0,0,0,0,0,0,0,0,0,0,0,0,0,0,0,0,0,0,0,0,0,-1,0,0,0,0,0,-1,0,0,0,0,0,0,0,0,0,0,0,0,0,0,0,0,0,0,0,0,0,0,0,0,0,0,0,0,0,0,0,0,0,0,0,0,0,0,0,0,0,0,0,0,0,0,0,0,0,0,0,0,0,0,0,0],\"line\":{\"color\":\"black\",\"width\":10},\"size\":10},\"mode\":\"markers\",\"type\":\"scatter3d\",\"x\":[3.3167508122147753,2.2094649169188436,2.5167401466103803,3.7570656097732,1.0089084937957138,3.050253922418077,2.4490896695962308,2.059436871437913,2.510874297398989,2.7536281876339084,3.47973668273121,1.7547529012945884,2.113462340315095,3.458156819336721,4.312783906765558,2.30518820082797,2.1719552737415113,1.8989711765627602,3.5419850819434666,2.0845222047303116,3.1244025351672,1.0865700683322397,2.5352240799037142,1.6449883412544688,1.7615758722693,0.9900791016088539,1.7752776281133675,1.2354239643099056,2.1884063344519613,2.2561089812837074,2.5002200257894245,2.677411047444013,1.6285791164309182,1.902690862238146,1.4103885265954055,1.9038262321944859,1.384862230374837,1.1222074104413093,1.5021945006181914,2.5298010923718093,2.588095425854402,0.6684819937541876,3.0708069904120063,0.4622091375160073,2.101351930538015,1.1361661775610183,2.726600963640804,2.8213392741922485,2.009850850912358,2.7074913042663926,3.2149174747738214,2.858959826717293,3.5056043559232197,2.2247913805321717,2.1469878235638653,2.4693294837977864,2.741517914277451,2.1737409209653054,3.139380151828993,-0.9285819689218536,-1.5424801378968804,-1.8362497634669395,0.030606834086681682,2.050261607576315,-0.6096808271776226,0.9002278387071417,2.248507190798394,0.1833840266847562,-0.8128050273520709,1.9756204987985522,-1.572216219626299,1.6576818088332903,-0.725372388035354,2.5622271731703585,1.8325675700495454,-0.8679929031954124,0.37001440429478377,-1.4573770449061387,1.2629308497284955,0.3761503719342409,0.7620639041095983,1.0345779671651871,-0.4948767556803275,-2.538977084295118,0.8353201453942957,0.7879046149897092,-0.8068321559655388,-0.5580426248756825,-1.1151110419194465,-0.5557228299517006,-1.3492852824437305,-1.5644826057199062,-1.9325556106314636,0.7466659419884497,0.9574553638036392,2.543865184199549,-0.5439525887762311,1.0310497503881482,2.2519094221481226,1.4102160153374583,0.7977197926930409,-0.5495317266494637,-0.16117373994854525,-0.6597949416843601,0.39235440818508327,-1.7724990779600338,-0.366267357352064,-1.6206725727874787,0.08253578349332737,1.5782750709323796,1.4205692478240148,-0.2787027536488543,-1.3031449662482815,-0.4570718656526261,-0.49418584704437535,0.48207440977309185,-0.2528888776531998,-0.10722763772912346,-2.433012602550216,-0.5510895391746496,0.7396219285682196,1.3363217334183273,-1.177086996247772,-0.4623350080196765,0.9784740793566474,-0.09680972631598551,0.03848714594902482,-1.597158501207472,-0.47956491608312474,-1.7928334730311433,-1.3271016561416018,-2.3845008347435286,-2.936940102146611,-2.146811133816063,-2.3698694883330416,-3.063841568720353,-3.9157537837118883,-3.936463390715962,-3.0942761177622726,-2.374471628006922,-2.7788129476325127,-2.286561284738468,-2.9856334874494643,-2.375194698227107,-2.2098655255958715,-2.6256210046927193,-4.280638778751083,-3.582641372001102,-2.8070637200816573,-2.899659333023909,-2.3207369765492043,-2.5498309472261362,-1.8125412848422988,-2.7601446419239495,-2.737150500667991,-3.6048688681834222,-2.8898259968735047,-3.392156076835721,-1.0481818968536778,-1.6099122828479355,-3.143130966743974,-2.24015689626954,-2.8476737761195197,-2.5974970566487636,-2.949299373134843,-3.5300322663493096,-2.4061105404785517,-2.9290847269674543,-2.18141277881262,-2.3809277871356382,-3.2116172150412474,-3.677918720973815,-2.4655557980404477,-3.3705241454428583,-2.6019558512247363,-2.6778394608645013,-2.3870170912797186,-3.20875816419802],\"y\":[-1.4434626343180088,0.33339288708029985,-1.0311512962743197,-2.756371913710715,-0.8698308214172058,-2.1224011146341937,-1.1748501316494753,-1.6089630683635092,-0.9180709573337771,-0.7894376738336074,-1.3023332371235965,-0.6119772287456323,-0.6757063391426198,-1.1306298761729388,-2.095975575341264,-1.6625517299890584,-2.3273053361914218,-1.63136887864284,-2.51834366930665,-1.0611379935838607,-0.7868971056508955,-0.24174355133283978,0.09184062072088074,0.5162789300672352,0.31714893268438116,-0.9406673381906354,-0.6861751342850249,0.08980704136064004,-0.6895696206616251,-0.19146193688666505,-1.2408338348969448,-1.4718736461032509,-0.052704450575323775,-1.633060434769985,-0.6979343246113576,-0.17671095109545648,-0.6586398536611502,-0.11410976029688874,0.7694320064310095,-1.8030019760618285,-0.7796163041925084,-0.16996094061987485,-1.1559189566098846,-0.330742132192275,0.07100892095406687,-1.7771073929776393,-1.1913346919571848,-0.6462585991417041,-1.2470294606787615,-1.7519674072063394,-0.1669919949967911,-0.7452788039895895,-1.6127338560350133,-1.8751679995630268,-1.0167515377576608,-1.3290083106496238,-1.436548783512516,-1.212199840697796,-1.731579115992515,3.073486163188932,1.3814435080942298,0.829984123055719,1.2627861442114034,1.9250326046501016,1.9080588050851888,0.763911473609609,1.884592484550134,2.4271461147035733,0.22051398690226945,1.403283225309617,0.8849831369082231,0.9567121974591496,1.0636454007060956,-0.2601985506545973,1.2878781978605263,2.444101185580866,2.1539069751569904,1.383351769076261,0.7708495299701186,1.0270434033558236,3.3750538099635374,1.4507097382440928,2.3812435267673715,0.08744335730498286,1.473670551400869,2.026626522462479,2.233830390843913,2.3729854288494563,1.8022471916654548,2.657540035392295,2.1180014697848204,1.8522145217655521,1.559495456898623,2.3129317092207424,2.2235284346674615,-0.16927402279974083,0.3689265458773172,2.565569348733525,1.4327413803542552,2.1661917693703856,2.3769488030818637,2.293128643245629,1.1644833215600165,2.679961185989638,2.098731708765539,1.717288469376144,2.169353297829285,1.3555833880259582,2.3062345877483272,1.4620342902048171,1.4182066376337517,1.93056808867047,0.7631723136577919,2.2694156075896763,1.9390450494868336,3.8717838484072415,2.821492374701595,1.9289220425669604,1.2571410404943948,2.222161550776624,1.4089566673657128,-0.25333693116830713,0.6639668398015719,0.6182881794850437,1.4455704988958278,2.1099979931352273,1.2667621091578858,1.208143574128486,1.9388406603940493,1.1502881044421063,-0.17038923204902764,-0.37458260552469336,-0.26386183006838027,-0.3682549518864612,0.45963480923116673,-0.35341283545840335,-0.1545825194417321,-0.6596872334097823,-0.34884275927379566,-0.29198035155999447,-0.2868048728821742,-0.3725078446852987,-0.4892179083470127,-0.4823337172448774,-1.1600525041576437,-0.5631607642108342,-0.6496709640237052,-1.2727027497273018,-1.5705337870411984,-2.041057007938465,-2.356366075556676,-2.0452830910195257,-1.5276459462687526,-2.1389323476426125,-0.4098862708817906,-1.8023842175839677,-1.9252186131303433,-1.3118763884735976,-3.5150896912197336,-2.4066381595743307,-0.7381610441757982,-1.1754652881188647,-0.5560439658826741,-0.6979655372009196,-1.555308964283984,-0.8825267962042361,-2.5923561750423993,-1.2744469479044833,-2.0775373127345174,-2.5886674324185917,0.25124910442559206,-0.8477478441497638,-2.193798303654095,-2.2162891398611375,-1.7572293509792754,-2.760899131674548,-2.297346679712821,-2.7689195660475763],\"z\":[-0.16573904461441977,-2.0264573738075335,0.982818670212059,-0.17619184219949258,2.0266882192354063,-0.6293958270439122,-0.9770948907141955,0.14628188306155923,-1.7709690272289416,-0.9842474895182348,-0.4227352165808461,-1.1908783196301738,-0.8650864256166532,-1.20427635253819,-1.2639127523579985,0.21790261559595828,0.8317298659860067,0.7949137923810692,-0.4854585076662916,-0.16474667849947355,-0.3648870829888463,0.936961599610645,-0.311932659347969,0.14388509467079577,0.8902856474056889,3.820908008194834,-0.08670040648876251,-1.3868965448964345,1.394566880850359,-1.0926572575082927,1.3860178547156772,-0.3322617283750933,-0.167128706245334,1.172082119175344,0.4797430251686612,0.45083504003720887,0.45843858085206185,-0.03910727668974891,-1.4261773458904599,-0.3431523889796911,-0.11847746611373658,-0.7833625480611431,-0.3127580839341535,-0.20147649625677078,-0.655849415043434,0.028705735784752807,-0.5397732611476717,-1.1555524107274069,-0.05729398793992294,-0.6431136120007939,-1.9735716799013714,0.004719502164697485,-0.5207745300761741,0.33954985035420876,-0.957762761950327,0.5134374530359685,-0.6124733957169589,0.26177959277079027,-0.28566141261644945,-4.585064007148202,-0.8746831124458087,-1.6057021863206187,-1.784408010418854,-0.0073687773498163685,0.6793579379775355,0.5733613020971904,-2.031840192867584,-1.0697455602477957,-0.7070053958009676,-1.2382762196848662,-0.6289979502315949,1.9525842166061973,0.08033222861543701,3.3743939622397536,0.4582800273995581,-1.563333178950377,-2.4493863483037366,-0.22730690232730455,-1.1842245173752441,1.7944662945426586,-0.3574700555394637,-0.36301177316395966,1.3357431762848657,0.4742513927691472,0.6100935756921052,-0.25472340396955,0.7728557971982637,2.307611404012003,0.9592533076886539,0.8491268977432256,-0.047652320848692094,0.7810670309346305,-0.08927467610867924,0.11467976874541666,0.14244477369872643,0.7886969907454728,1.3088959318568572,-1.0863901738177377,-0.2302082437978136,0.7488964107708795,-1.568112531275524,-1.4989353232010765,1.0037131028373556,-0.7649208684795135,-0.4718500076097371,0.9470331744608651,-0.4813242347422896,0.2871590006956159,-0.46357498937395414,1.7796459547332826,0.13927582948819153,0.07867055304723465,1.999596510486854,1.0613389675926643,1.3239380723766925,1.344271223393072,-0.30263978453063933,0.6901482425075112,-1.903027404411348,-0.35622883021253426,1.1253454920042358,5.34538817919574,3.0102218879464275,0.483442366344183,1.4812369749959464,0.43482611561678924,0.6875779128728086,3.361175555386425,1.2965075188296686,0.7828001731822654,-1.180013355309487,-0.7238225948116626,-0.16763981598372138,-0.45330130146918574,-1.1013997885920581,-1.0991241041153403,0.22182779984104778,1.7122154192145356,-1.0268314134224497,1.2419143328305622,0.6096701239723719,-0.9716430323608533,0.9469529317999691,-0.2528839940533326,-1.2451252259210637,-0.8559610818033772,-1.4581969616385655,-0.11078403762472656,-0.4725279345720869,-0.49595981023509345,0.43768174361876044,-0.31226799865093213,1.3625897815878683,-0.9646286882006795,-1.1904046839669862,-0.09403686133597251,-0.7823225555084473,1.6020259689000198,1.1600385659132237,0.5485596972407076,-0.09099872392222295,-0.10137693249612162,0.8042152181010276,-0.8849395211306328,-0.983400727224941,-0.4660291277785392,0.428226210799577,-1.2133582715051474,0.7637825515581176,1.4180440294968124,-0.8471291521285004,-1.3394202310855157,-0.9187809604264906,-0.34256951241432193,0.20758135498125058,-0.9409418766769949,-0.5506961970110882,1.0139136641131123]}],                        {\"height\":600,\"margin\":{\"l\":0,\"r\":0},\"scene\":{\"xaxis\":{\"title\":{\"text\":\"principal component 1\"}},\"yaxis\":{\"title\":{\"text\":\"principal component 2\"}},\"zaxis\":{\"title\":{\"text\":\"principal component 3\"}}},\"template\":{\"data\":{\"bar\":[{\"error_x\":{\"color\":\"#2a3f5f\"},\"error_y\":{\"color\":\"#2a3f5f\"},\"marker\":{\"line\":{\"color\":\"#E5ECF6\",\"width\":0.5},\"pattern\":{\"fillmode\":\"overlay\",\"size\":10,\"solidity\":0.2}},\"type\":\"bar\"}],\"barpolar\":[{\"marker\":{\"line\":{\"color\":\"#E5ECF6\",\"width\":0.5},\"pattern\":{\"fillmode\":\"overlay\",\"size\":10,\"solidity\":0.2}},\"type\":\"barpolar\"}],\"carpet\":[{\"aaxis\":{\"endlinecolor\":\"#2a3f5f\",\"gridcolor\":\"white\",\"linecolor\":\"white\",\"minorgridcolor\":\"white\",\"startlinecolor\":\"#2a3f5f\"},\"baxis\":{\"endlinecolor\":\"#2a3f5f\",\"gridcolor\":\"white\",\"linecolor\":\"white\",\"minorgridcolor\":\"white\",\"startlinecolor\":\"#2a3f5f\"},\"type\":\"carpet\"}],\"choropleth\":[{\"colorbar\":{\"outlinewidth\":0,\"ticks\":\"\"},\"type\":\"choropleth\"}],\"contour\":[{\"colorbar\":{\"outlinewidth\":0,\"ticks\":\"\"},\"colorscale\":[[0.0,\"#0d0887\"],[0.1111111111111111,\"#46039f\"],[0.2222222222222222,\"#7201a8\"],[0.3333333333333333,\"#9c179e\"],[0.4444444444444444,\"#bd3786\"],[0.5555555555555556,\"#d8576b\"],[0.6666666666666666,\"#ed7953\"],[0.7777777777777778,\"#fb9f3a\"],[0.8888888888888888,\"#fdca26\"],[1.0,\"#f0f921\"]],\"type\":\"contour\"}],\"contourcarpet\":[{\"colorbar\":{\"outlinewidth\":0,\"ticks\":\"\"},\"type\":\"contourcarpet\"}],\"heatmap\":[{\"colorbar\":{\"outlinewidth\":0,\"ticks\":\"\"},\"colorscale\":[[0.0,\"#0d0887\"],[0.1111111111111111,\"#46039f\"],[0.2222222222222222,\"#7201a8\"],[0.3333333333333333,\"#9c179e\"],[0.4444444444444444,\"#bd3786\"],[0.5555555555555556,\"#d8576b\"],[0.6666666666666666,\"#ed7953\"],[0.7777777777777778,\"#fb9f3a\"],[0.8888888888888888,\"#fdca26\"],[1.0,\"#f0f921\"]],\"type\":\"heatmap\"}],\"heatmapgl\":[{\"colorbar\":{\"outlinewidth\":0,\"ticks\":\"\"},\"colorscale\":[[0.0,\"#0d0887\"],[0.1111111111111111,\"#46039f\"],[0.2222222222222222,\"#7201a8\"],[0.3333333333333333,\"#9c179e\"],[0.4444444444444444,\"#bd3786\"],[0.5555555555555556,\"#d8576b\"],[0.6666666666666666,\"#ed7953\"],[0.7777777777777778,\"#fb9f3a\"],[0.8888888888888888,\"#fdca26\"],[1.0,\"#f0f921\"]],\"type\":\"heatmapgl\"}],\"histogram\":[{\"marker\":{\"pattern\":{\"fillmode\":\"overlay\",\"size\":10,\"solidity\":0.2}},\"type\":\"histogram\"}],\"histogram2d\":[{\"colorbar\":{\"outlinewidth\":0,\"ticks\":\"\"},\"colorscale\":[[0.0,\"#0d0887\"],[0.1111111111111111,\"#46039f\"],[0.2222222222222222,\"#7201a8\"],[0.3333333333333333,\"#9c179e\"],[0.4444444444444444,\"#bd3786\"],[0.5555555555555556,\"#d8576b\"],[0.6666666666666666,\"#ed7953\"],[0.7777777777777778,\"#fb9f3a\"],[0.8888888888888888,\"#fdca26\"],[1.0,\"#f0f921\"]],\"type\":\"histogram2d\"}],\"histogram2dcontour\":[{\"colorbar\":{\"outlinewidth\":0,\"ticks\":\"\"},\"colorscale\":[[0.0,\"#0d0887\"],[0.1111111111111111,\"#46039f\"],[0.2222222222222222,\"#7201a8\"],[0.3333333333333333,\"#9c179e\"],[0.4444444444444444,\"#bd3786\"],[0.5555555555555556,\"#d8576b\"],[0.6666666666666666,\"#ed7953\"],[0.7777777777777778,\"#fb9f3a\"],[0.8888888888888888,\"#fdca26\"],[1.0,\"#f0f921\"]],\"type\":\"histogram2dcontour\"}],\"mesh3d\":[{\"colorbar\":{\"outlinewidth\":0,\"ticks\":\"\"},\"type\":\"mesh3d\"}],\"parcoords\":[{\"line\":{\"colorbar\":{\"outlinewidth\":0,\"ticks\":\"\"}},\"type\":\"parcoords\"}],\"pie\":[{\"automargin\":true,\"type\":\"pie\"}],\"scatter\":[{\"marker\":{\"colorbar\":{\"outlinewidth\":0,\"ticks\":\"\"}},\"type\":\"scatter\"}],\"scatter3d\":[{\"line\":{\"colorbar\":{\"outlinewidth\":0,\"ticks\":\"\"}},\"marker\":{\"colorbar\":{\"outlinewidth\":0,\"ticks\":\"\"}},\"type\":\"scatter3d\"}],\"scattercarpet\":[{\"marker\":{\"colorbar\":{\"outlinewidth\":0,\"ticks\":\"\"}},\"type\":\"scattercarpet\"}],\"scattergeo\":[{\"marker\":{\"colorbar\":{\"outlinewidth\":0,\"ticks\":\"\"}},\"type\":\"scattergeo\"}],\"scattergl\":[{\"marker\":{\"colorbar\":{\"outlinewidth\":0,\"ticks\":\"\"}},\"type\":\"scattergl\"}],\"scattermapbox\":[{\"marker\":{\"colorbar\":{\"outlinewidth\":0,\"ticks\":\"\"}},\"type\":\"scattermapbox\"}],\"scatterpolar\":[{\"marker\":{\"colorbar\":{\"outlinewidth\":0,\"ticks\":\"\"}},\"type\":\"scatterpolar\"}],\"scatterpolargl\":[{\"marker\":{\"colorbar\":{\"outlinewidth\":0,\"ticks\":\"\"}},\"type\":\"scatterpolargl\"}],\"scatterternary\":[{\"marker\":{\"colorbar\":{\"outlinewidth\":0,\"ticks\":\"\"}},\"type\":\"scatterternary\"}],\"surface\":[{\"colorbar\":{\"outlinewidth\":0,\"ticks\":\"\"},\"colorscale\":[[0.0,\"#0d0887\"],[0.1111111111111111,\"#46039f\"],[0.2222222222222222,\"#7201a8\"],[0.3333333333333333,\"#9c179e\"],[0.4444444444444444,\"#bd3786\"],[0.5555555555555556,\"#d8576b\"],[0.6666666666666666,\"#ed7953\"],[0.7777777777777778,\"#fb9f3a\"],[0.8888888888888888,\"#fdca26\"],[1.0,\"#f0f921\"]],\"type\":\"surface\"}],\"table\":[{\"cells\":{\"fill\":{\"color\":\"#EBF0F8\"},\"line\":{\"color\":\"white\"}},\"header\":{\"fill\":{\"color\":\"#C8D4E3\"},\"line\":{\"color\":\"white\"}},\"type\":\"table\"}]},\"layout\":{\"annotationdefaults\":{\"arrowcolor\":\"#2a3f5f\",\"arrowhead\":0,\"arrowwidth\":1},\"autotypenumbers\":\"strict\",\"coloraxis\":{\"colorbar\":{\"outlinewidth\":0,\"ticks\":\"\"}},\"colorscale\":{\"diverging\":[[0,\"#8e0152\"],[0.1,\"#c51b7d\"],[0.2,\"#de77ae\"],[0.3,\"#f1b6da\"],[0.4,\"#fde0ef\"],[0.5,\"#f7f7f7\"],[0.6,\"#e6f5d0\"],[0.7,\"#b8e186\"],[0.8,\"#7fbc41\"],[0.9,\"#4d9221\"],[1,\"#276419\"]],\"sequential\":[[0.0,\"#0d0887\"],[0.1111111111111111,\"#46039f\"],[0.2222222222222222,\"#7201a8\"],[0.3333333333333333,\"#9c179e\"],[0.4444444444444444,\"#bd3786\"],[0.5555555555555556,\"#d8576b\"],[0.6666666666666666,\"#ed7953\"],[0.7777777777777778,\"#fb9f3a\"],[0.8888888888888888,\"#fdca26\"],[1.0,\"#f0f921\"]],\"sequentialminus\":[[0.0,\"#0d0887\"],[0.1111111111111111,\"#46039f\"],[0.2222222222222222,\"#7201a8\"],[0.3333333333333333,\"#9c179e\"],[0.4444444444444444,\"#bd3786\"],[0.5555555555555556,\"#d8576b\"],[0.6666666666666666,\"#ed7953\"],[0.7777777777777778,\"#fb9f3a\"],[0.8888888888888888,\"#fdca26\"],[1.0,\"#f0f921\"]]},\"colorway\":[\"#636efa\",\"#EF553B\",\"#00cc96\",\"#ab63fa\",\"#FFA15A\",\"#19d3f3\",\"#FF6692\",\"#B6E880\",\"#FF97FF\",\"#FECB52\"],\"font\":{\"color\":\"#2a3f5f\"},\"geo\":{\"bgcolor\":\"white\",\"lakecolor\":\"white\",\"landcolor\":\"#E5ECF6\",\"showlakes\":true,\"showland\":true,\"subunitcolor\":\"white\"},\"hoverlabel\":{\"align\":\"left\"},\"hovermode\":\"closest\",\"mapbox\":{\"style\":\"light\"},\"paper_bgcolor\":\"white\",\"plot_bgcolor\":\"#E5ECF6\",\"polar\":{\"angularaxis\":{\"gridcolor\":\"white\",\"linecolor\":\"white\",\"ticks\":\"\"},\"bgcolor\":\"#E5ECF6\",\"radialaxis\":{\"gridcolor\":\"white\",\"linecolor\":\"white\",\"ticks\":\"\"}},\"scene\":{\"xaxis\":{\"backgroundcolor\":\"#E5ECF6\",\"gridcolor\":\"white\",\"gridwidth\":2,\"linecolor\":\"white\",\"showbackground\":true,\"ticks\":\"\",\"zerolinecolor\":\"white\"},\"yaxis\":{\"backgroundcolor\":\"#E5ECF6\",\"gridcolor\":\"white\",\"gridwidth\":2,\"linecolor\":\"white\",\"showbackground\":true,\"ticks\":\"\",\"zerolinecolor\":\"white\"},\"zaxis\":{\"backgroundcolor\":\"#E5ECF6\",\"gridcolor\":\"white\",\"gridwidth\":2,\"linecolor\":\"white\",\"showbackground\":true,\"ticks\":\"\",\"zerolinecolor\":\"white\"}},\"shapedefaults\":{\"line\":{\"color\":\"#2a3f5f\"}},\"ternary\":{\"aaxis\":{\"gridcolor\":\"white\",\"linecolor\":\"white\",\"ticks\":\"\"},\"baxis\":{\"gridcolor\":\"white\",\"linecolor\":\"white\",\"ticks\":\"\"},\"bgcolor\":\"#E5ECF6\",\"caxis\":{\"gridcolor\":\"white\",\"linecolor\":\"white\",\"ticks\":\"\"}},\"title\":{\"x\":0.05},\"xaxis\":{\"automargin\":true,\"gridcolor\":\"white\",\"linecolor\":\"white\",\"ticks\":\"\",\"title\":{\"standoff\":15},\"zerolinecolor\":\"white\",\"zerolinewidth\":2},\"yaxis\":{\"automargin\":true,\"gridcolor\":\"white\",\"linecolor\":\"white\",\"ticks\":\"\",\"title\":{\"standoff\":15},\"zerolinecolor\":\"white\",\"zerolinewidth\":2}}},\"width\":600},                        {\"responsive\": true}                    ).then(function(){\n",
       "                            \n",
       "var gd = document.getElementById('4e193ec0-926c-4094-a3f6-7aaa9f1e7e55');\n",
       "var x = new MutationObserver(function (mutations, observer) {{\n",
       "        var display = window.getComputedStyle(gd).display;\n",
       "        if (!display || display === 'none') {{\n",
       "            console.log([gd, 'removed!']);\n",
       "            Plotly.purge(gd);\n",
       "            observer.disconnect();\n",
       "        }}\n",
       "}});\n",
       "\n",
       "// Listen for the removal of the full notebook cells\n",
       "var notebookContainer = gd.closest('#notebook-container');\n",
       "if (notebookContainer) {{\n",
       "    x.observe(notebookContainer, {childList: true});\n",
       "}}\n",
       "\n",
       "// Listen for the clearing of the current output cell\n",
       "var outputEl = gd.closest('.output');\n",
       "if (outputEl) {{\n",
       "    x.observe(outputEl, {childList: true});\n",
       "}}\n",
       "\n",
       "                        })                };                });            </script>        </div>"
      ]
     },
     "metadata": {},
     "output_type": "display_data"
    },
    {
     "name": "stdout",
     "output_type": "stream",
     "text": [
      "silhouette score:  0.2088911609754712\n"
     ]
    },
    {
     "data": {
      "application/vnd.plotly.v1+json": {
       "config": {
        "plotlyServerURL": "https://plot.ly"
       },
       "data": [
        {
         "marker": {
          "color": [
           0,
           0,
           0,
           0,
           -1,
           0,
           0,
           0,
           0,
           0,
           0,
           0,
           0,
           0,
           0,
           0,
           0,
           0,
           0,
           0,
           0,
           0,
           0,
           0,
           0,
           -1,
           0,
           0,
           0,
           0,
           0,
           0,
           0,
           0,
           0,
           0,
           0,
           0,
           0,
           0,
           0,
           0,
           0,
           0,
           0,
           0,
           0,
           0,
           0,
           0,
           0,
           0,
           0,
           0,
           0,
           0,
           0,
           0,
           0,
           -1,
           0,
           0,
           0,
           0,
           0,
           0,
           -1,
           0,
           0,
           0,
           0,
           0,
           0,
           -1,
           0,
           0,
           -1,
           0,
           0,
           0,
           0,
           0,
           0,
           0,
           0,
           0,
           0,
           0,
           0,
           0,
           0,
           0,
           0,
           0,
           0,
           0,
           0,
           0,
           0,
           0,
           0,
           0,
           0,
           0,
           0,
           0,
           0,
           0,
           0,
           0,
           0,
           0,
           0,
           0,
           0,
           -1,
           0,
           0,
           0,
           0,
           0,
           -1,
           -1,
           0,
           0,
           0,
           0,
           -1,
           0,
           0,
           0,
           0,
           0,
           0,
           0,
           0,
           0,
           0,
           0,
           0,
           0,
           0,
           0,
           0,
           0,
           0,
           0,
           0,
           0,
           0,
           0,
           0,
           0,
           0,
           0,
           0,
           0,
           0,
           -1,
           0,
           0,
           0,
           0,
           0,
           0,
           0,
           0,
           0,
           0,
           0,
           0,
           0,
           0,
           0,
           0,
           0,
           0,
           0
          ],
          "line": {
           "color": "black",
           "width": 10
          },
          "size": 10
         },
         "mode": "markers",
         "type": "scatter3d",
         "x": [
          3.3167508122147753,
          2.2094649169188436,
          2.5167401466103803,
          3.7570656097732,
          1.0089084937957138,
          3.050253922418077,
          2.4490896695962308,
          2.059436871437913,
          2.510874297398989,
          2.7536281876339084,
          3.47973668273121,
          1.7547529012945884,
          2.113462340315095,
          3.458156819336721,
          4.312783906765558,
          2.30518820082797,
          2.1719552737415113,
          1.8989711765627602,
          3.5419850819434666,
          2.0845222047303116,
          3.1244025351672,
          1.0865700683322397,
          2.5352240799037142,
          1.6449883412544688,
          1.7615758722693,
          0.9900791016088539,
          1.7752776281133675,
          1.2354239643099056,
          2.1884063344519613,
          2.2561089812837074,
          2.5002200257894245,
          2.677411047444013,
          1.6285791164309182,
          1.902690862238146,
          1.4103885265954055,
          1.9038262321944859,
          1.384862230374837,
          1.1222074104413093,
          1.5021945006181914,
          2.5298010923718093,
          2.588095425854402,
          0.6684819937541876,
          3.0708069904120063,
          0.4622091375160073,
          2.101351930538015,
          1.1361661775610183,
          2.726600963640804,
          2.8213392741922485,
          2.009850850912358,
          2.7074913042663926,
          3.2149174747738214,
          2.858959826717293,
          3.5056043559232197,
          2.2247913805321717,
          2.1469878235638653,
          2.4693294837977864,
          2.741517914277451,
          2.1737409209653054,
          3.139380151828993,
          -0.9285819689218536,
          -1.5424801378968804,
          -1.8362497634669395,
          0.030606834086681682,
          2.050261607576315,
          -0.6096808271776226,
          0.9002278387071417,
          2.248507190798394,
          0.1833840266847562,
          -0.8128050273520709,
          1.9756204987985522,
          -1.572216219626299,
          1.6576818088332903,
          -0.725372388035354,
          2.5622271731703585,
          1.8325675700495454,
          -0.8679929031954124,
          0.37001440429478377,
          -1.4573770449061387,
          1.2629308497284955,
          0.3761503719342409,
          0.7620639041095983,
          1.0345779671651871,
          -0.4948767556803275,
          -2.538977084295118,
          0.8353201453942957,
          0.7879046149897092,
          -0.8068321559655388,
          -0.5580426248756825,
          -1.1151110419194465,
          -0.5557228299517006,
          -1.3492852824437305,
          -1.5644826057199062,
          -1.9325556106314636,
          0.7466659419884497,
          0.9574553638036392,
          2.543865184199549,
          -0.5439525887762311,
          1.0310497503881482,
          2.2519094221481226,
          1.4102160153374583,
          0.7977197926930409,
          -0.5495317266494637,
          -0.16117373994854525,
          -0.6597949416843601,
          0.39235440818508327,
          -1.7724990779600338,
          -0.366267357352064,
          -1.6206725727874787,
          0.08253578349332737,
          1.5782750709323796,
          1.4205692478240148,
          -0.2787027536488543,
          -1.3031449662482815,
          -0.4570718656526261,
          -0.49418584704437535,
          0.48207440977309185,
          -0.2528888776531998,
          -0.10722763772912346,
          -2.433012602550216,
          -0.5510895391746496,
          0.7396219285682196,
          1.3363217334183273,
          -1.177086996247772,
          -0.4623350080196765,
          0.9784740793566474,
          -0.09680972631598551,
          0.03848714594902482,
          -1.597158501207472,
          -0.47956491608312474,
          -1.7928334730311433,
          -1.3271016561416018,
          -2.3845008347435286,
          -2.936940102146611,
          -2.146811133816063,
          -2.3698694883330416,
          -3.063841568720353,
          -3.9157537837118883,
          -3.936463390715962,
          -3.0942761177622726,
          -2.374471628006922,
          -2.7788129476325127,
          -2.286561284738468,
          -2.9856334874494643,
          -2.375194698227107,
          -2.2098655255958715,
          -2.6256210046927193,
          -4.280638778751083,
          -3.582641372001102,
          -2.8070637200816573,
          -2.899659333023909,
          -2.3207369765492043,
          -2.5498309472261362,
          -1.8125412848422988,
          -2.7601446419239495,
          -2.737150500667991,
          -3.6048688681834222,
          -2.8898259968735047,
          -3.392156076835721,
          -1.0481818968536778,
          -1.6099122828479355,
          -3.143130966743974,
          -2.24015689626954,
          -2.8476737761195197,
          -2.5974970566487636,
          -2.949299373134843,
          -3.5300322663493096,
          -2.4061105404785517,
          -2.9290847269674543,
          -2.18141277881262,
          -2.3809277871356382,
          -3.2116172150412474,
          -3.677918720973815,
          -2.4655557980404477,
          -3.3705241454428583,
          -2.6019558512247363,
          -2.6778394608645013,
          -2.3870170912797186,
          -3.20875816419802
         ],
         "y": [
          -1.4434626343180088,
          0.33339288708029985,
          -1.0311512962743197,
          -2.756371913710715,
          -0.8698308214172058,
          -2.1224011146341937,
          -1.1748501316494753,
          -1.6089630683635092,
          -0.9180709573337771,
          -0.7894376738336074,
          -1.3023332371235965,
          -0.6119772287456323,
          -0.6757063391426198,
          -1.1306298761729388,
          -2.095975575341264,
          -1.6625517299890584,
          -2.3273053361914218,
          -1.63136887864284,
          -2.51834366930665,
          -1.0611379935838607,
          -0.7868971056508955,
          -0.24174355133283978,
          0.09184062072088074,
          0.5162789300672352,
          0.31714893268438116,
          -0.9406673381906354,
          -0.6861751342850249,
          0.08980704136064004,
          -0.6895696206616251,
          -0.19146193688666505,
          -1.2408338348969448,
          -1.4718736461032509,
          -0.052704450575323775,
          -1.633060434769985,
          -0.6979343246113576,
          -0.17671095109545648,
          -0.6586398536611502,
          -0.11410976029688874,
          0.7694320064310095,
          -1.8030019760618285,
          -0.7796163041925084,
          -0.16996094061987485,
          -1.1559189566098846,
          -0.330742132192275,
          0.07100892095406687,
          -1.7771073929776393,
          -1.1913346919571848,
          -0.6462585991417041,
          -1.2470294606787615,
          -1.7519674072063394,
          -0.1669919949967911,
          -0.7452788039895895,
          -1.6127338560350133,
          -1.8751679995630268,
          -1.0167515377576608,
          -1.3290083106496238,
          -1.436548783512516,
          -1.212199840697796,
          -1.731579115992515,
          3.073486163188932,
          1.3814435080942298,
          0.829984123055719,
          1.2627861442114034,
          1.9250326046501016,
          1.9080588050851888,
          0.763911473609609,
          1.884592484550134,
          2.4271461147035733,
          0.22051398690226945,
          1.403283225309617,
          0.8849831369082231,
          0.9567121974591496,
          1.0636454007060956,
          -0.2601985506545973,
          1.2878781978605263,
          2.444101185580866,
          2.1539069751569904,
          1.383351769076261,
          0.7708495299701186,
          1.0270434033558236,
          3.3750538099635374,
          1.4507097382440928,
          2.3812435267673715,
          0.08744335730498286,
          1.473670551400869,
          2.026626522462479,
          2.233830390843913,
          2.3729854288494563,
          1.8022471916654548,
          2.657540035392295,
          2.1180014697848204,
          1.8522145217655521,
          1.559495456898623,
          2.3129317092207424,
          2.2235284346674615,
          -0.16927402279974083,
          0.3689265458773172,
          2.565569348733525,
          1.4327413803542552,
          2.1661917693703856,
          2.3769488030818637,
          2.293128643245629,
          1.1644833215600165,
          2.679961185989638,
          2.098731708765539,
          1.717288469376144,
          2.169353297829285,
          1.3555833880259582,
          2.3062345877483272,
          1.4620342902048171,
          1.4182066376337517,
          1.93056808867047,
          0.7631723136577919,
          2.2694156075896763,
          1.9390450494868336,
          3.8717838484072415,
          2.821492374701595,
          1.9289220425669604,
          1.2571410404943948,
          2.222161550776624,
          1.4089566673657128,
          -0.25333693116830713,
          0.6639668398015719,
          0.6182881794850437,
          1.4455704988958278,
          2.1099979931352273,
          1.2667621091578858,
          1.208143574128486,
          1.9388406603940493,
          1.1502881044421063,
          -0.17038923204902764,
          -0.37458260552469336,
          -0.26386183006838027,
          -0.3682549518864612,
          0.45963480923116673,
          -0.35341283545840335,
          -0.1545825194417321,
          -0.6596872334097823,
          -0.34884275927379566,
          -0.29198035155999447,
          -0.2868048728821742,
          -0.3725078446852987,
          -0.4892179083470127,
          -0.4823337172448774,
          -1.1600525041576437,
          -0.5631607642108342,
          -0.6496709640237052,
          -1.2727027497273018,
          -1.5705337870411984,
          -2.041057007938465,
          -2.356366075556676,
          -2.0452830910195257,
          -1.5276459462687526,
          -2.1389323476426125,
          -0.4098862708817906,
          -1.8023842175839677,
          -1.9252186131303433,
          -1.3118763884735976,
          -3.5150896912197336,
          -2.4066381595743307,
          -0.7381610441757982,
          -1.1754652881188647,
          -0.5560439658826741,
          -0.6979655372009196,
          -1.555308964283984,
          -0.8825267962042361,
          -2.5923561750423993,
          -1.2744469479044833,
          -2.0775373127345174,
          -2.5886674324185917,
          0.25124910442559206,
          -0.8477478441497638,
          -2.193798303654095,
          -2.2162891398611375,
          -1.7572293509792754,
          -2.760899131674548,
          -2.297346679712821,
          -2.7689195660475763
         ],
         "z": [
          -0.16573904461441977,
          -2.0264573738075335,
          0.982818670212059,
          -0.17619184219949258,
          2.0266882192354063,
          -0.6293958270439122,
          -0.9770948907141955,
          0.14628188306155923,
          -1.7709690272289416,
          -0.9842474895182348,
          -0.4227352165808461,
          -1.1908783196301738,
          -0.8650864256166532,
          -1.20427635253819,
          -1.2639127523579985,
          0.21790261559595828,
          0.8317298659860067,
          0.7949137923810692,
          -0.4854585076662916,
          -0.16474667849947355,
          -0.3648870829888463,
          0.936961599610645,
          -0.311932659347969,
          0.14388509467079577,
          0.8902856474056889,
          3.820908008194834,
          -0.08670040648876251,
          -1.3868965448964345,
          1.394566880850359,
          -1.0926572575082927,
          1.3860178547156772,
          -0.3322617283750933,
          -0.167128706245334,
          1.172082119175344,
          0.4797430251686612,
          0.45083504003720887,
          0.45843858085206185,
          -0.03910727668974891,
          -1.4261773458904599,
          -0.3431523889796911,
          -0.11847746611373658,
          -0.7833625480611431,
          -0.3127580839341535,
          -0.20147649625677078,
          -0.655849415043434,
          0.028705735784752807,
          -0.5397732611476717,
          -1.1555524107274069,
          -0.05729398793992294,
          -0.6431136120007939,
          -1.9735716799013714,
          0.004719502164697485,
          -0.5207745300761741,
          0.33954985035420876,
          -0.957762761950327,
          0.5134374530359685,
          -0.6124733957169589,
          0.26177959277079027,
          -0.28566141261644945,
          -4.585064007148202,
          -0.8746831124458087,
          -1.6057021863206187,
          -1.784408010418854,
          -0.0073687773498163685,
          0.6793579379775355,
          0.5733613020971904,
          -2.031840192867584,
          -1.0697455602477957,
          -0.7070053958009676,
          -1.2382762196848662,
          -0.6289979502315949,
          1.9525842166061973,
          0.08033222861543701,
          3.3743939622397536,
          0.4582800273995581,
          -1.563333178950377,
          -2.4493863483037366,
          -0.22730690232730455,
          -1.1842245173752441,
          1.7944662945426586,
          -0.3574700555394637,
          -0.36301177316395966,
          1.3357431762848657,
          0.4742513927691472,
          0.6100935756921052,
          -0.25472340396955,
          0.7728557971982637,
          2.307611404012003,
          0.9592533076886539,
          0.8491268977432256,
          -0.047652320848692094,
          0.7810670309346305,
          -0.08927467610867924,
          0.11467976874541666,
          0.14244477369872643,
          0.7886969907454728,
          1.3088959318568572,
          -1.0863901738177377,
          -0.2302082437978136,
          0.7488964107708795,
          -1.568112531275524,
          -1.4989353232010765,
          1.0037131028373556,
          -0.7649208684795135,
          -0.4718500076097371,
          0.9470331744608651,
          -0.4813242347422896,
          0.2871590006956159,
          -0.46357498937395414,
          1.7796459547332826,
          0.13927582948819153,
          0.07867055304723465,
          1.999596510486854,
          1.0613389675926643,
          1.3239380723766925,
          1.344271223393072,
          -0.30263978453063933,
          0.6901482425075112,
          -1.903027404411348,
          -0.35622883021253426,
          1.1253454920042358,
          5.34538817919574,
          3.0102218879464275,
          0.483442366344183,
          1.4812369749959464,
          0.43482611561678924,
          0.6875779128728086,
          3.361175555386425,
          1.2965075188296686,
          0.7828001731822654,
          -1.180013355309487,
          -0.7238225948116626,
          -0.16763981598372138,
          -0.45330130146918574,
          -1.1013997885920581,
          -1.0991241041153403,
          0.22182779984104778,
          1.7122154192145356,
          -1.0268314134224497,
          1.2419143328305622,
          0.6096701239723719,
          -0.9716430323608533,
          0.9469529317999691,
          -0.2528839940533326,
          -1.2451252259210637,
          -0.8559610818033772,
          -1.4581969616385655,
          -0.11078403762472656,
          -0.4725279345720869,
          -0.49595981023509345,
          0.43768174361876044,
          -0.31226799865093213,
          1.3625897815878683,
          -0.9646286882006795,
          -1.1904046839669862,
          -0.09403686133597251,
          -0.7823225555084473,
          1.6020259689000198,
          1.1600385659132237,
          0.5485596972407076,
          -0.09099872392222295,
          -0.10137693249612162,
          0.8042152181010276,
          -0.8849395211306328,
          -0.983400727224941,
          -0.4660291277785392,
          0.428226210799577,
          -1.2133582715051474,
          0.7637825515581176,
          1.4180440294968124,
          -0.8471291521285004,
          -1.3394202310855157,
          -0.9187809604264906,
          -0.34256951241432193,
          0.20758135498125058,
          -0.9409418766769949,
          -0.5506961970110882,
          1.0139136641131123
         ]
        }
       ],
       "layout": {
        "height": 600,
        "margin": {
         "l": 0,
         "r": 0
        },
        "scene": {
         "xaxis": {
          "title": {
           "text": "principal component 1"
          }
         },
         "yaxis": {
          "title": {
           "text": "principal component 2"
          }
         },
         "zaxis": {
          "title": {
           "text": "principal component 3"
          }
         }
        },
        "template": {
         "data": {
          "bar": [
           {
            "error_x": {
             "color": "#2a3f5f"
            },
            "error_y": {
             "color": "#2a3f5f"
            },
            "marker": {
             "line": {
              "color": "#E5ECF6",
              "width": 0.5
             },
             "pattern": {
              "fillmode": "overlay",
              "size": 10,
              "solidity": 0.2
             }
            },
            "type": "bar"
           }
          ],
          "barpolar": [
           {
            "marker": {
             "line": {
              "color": "#E5ECF6",
              "width": 0.5
             },
             "pattern": {
              "fillmode": "overlay",
              "size": 10,
              "solidity": 0.2
             }
            },
            "type": "barpolar"
           }
          ],
          "carpet": [
           {
            "aaxis": {
             "endlinecolor": "#2a3f5f",
             "gridcolor": "white",
             "linecolor": "white",
             "minorgridcolor": "white",
             "startlinecolor": "#2a3f5f"
            },
            "baxis": {
             "endlinecolor": "#2a3f5f",
             "gridcolor": "white",
             "linecolor": "white",
             "minorgridcolor": "white",
             "startlinecolor": "#2a3f5f"
            },
            "type": "carpet"
           }
          ],
          "choropleth": [
           {
            "colorbar": {
             "outlinewidth": 0,
             "ticks": ""
            },
            "type": "choropleth"
           }
          ],
          "contour": [
           {
            "colorbar": {
             "outlinewidth": 0,
             "ticks": ""
            },
            "colorscale": [
             [
              0,
              "#0d0887"
             ],
             [
              0.1111111111111111,
              "#46039f"
             ],
             [
              0.2222222222222222,
              "#7201a8"
             ],
             [
              0.3333333333333333,
              "#9c179e"
             ],
             [
              0.4444444444444444,
              "#bd3786"
             ],
             [
              0.5555555555555556,
              "#d8576b"
             ],
             [
              0.6666666666666666,
              "#ed7953"
             ],
             [
              0.7777777777777778,
              "#fb9f3a"
             ],
             [
              0.8888888888888888,
              "#fdca26"
             ],
             [
              1,
              "#f0f921"
             ]
            ],
            "type": "contour"
           }
          ],
          "contourcarpet": [
           {
            "colorbar": {
             "outlinewidth": 0,
             "ticks": ""
            },
            "type": "contourcarpet"
           }
          ],
          "heatmap": [
           {
            "colorbar": {
             "outlinewidth": 0,
             "ticks": ""
            },
            "colorscale": [
             [
              0,
              "#0d0887"
             ],
             [
              0.1111111111111111,
              "#46039f"
             ],
             [
              0.2222222222222222,
              "#7201a8"
             ],
             [
              0.3333333333333333,
              "#9c179e"
             ],
             [
              0.4444444444444444,
              "#bd3786"
             ],
             [
              0.5555555555555556,
              "#d8576b"
             ],
             [
              0.6666666666666666,
              "#ed7953"
             ],
             [
              0.7777777777777778,
              "#fb9f3a"
             ],
             [
              0.8888888888888888,
              "#fdca26"
             ],
             [
              1,
              "#f0f921"
             ]
            ],
            "type": "heatmap"
           }
          ],
          "heatmapgl": [
           {
            "colorbar": {
             "outlinewidth": 0,
             "ticks": ""
            },
            "colorscale": [
             [
              0,
              "#0d0887"
             ],
             [
              0.1111111111111111,
              "#46039f"
             ],
             [
              0.2222222222222222,
              "#7201a8"
             ],
             [
              0.3333333333333333,
              "#9c179e"
             ],
             [
              0.4444444444444444,
              "#bd3786"
             ],
             [
              0.5555555555555556,
              "#d8576b"
             ],
             [
              0.6666666666666666,
              "#ed7953"
             ],
             [
              0.7777777777777778,
              "#fb9f3a"
             ],
             [
              0.8888888888888888,
              "#fdca26"
             ],
             [
              1,
              "#f0f921"
             ]
            ],
            "type": "heatmapgl"
           }
          ],
          "histogram": [
           {
            "marker": {
             "pattern": {
              "fillmode": "overlay",
              "size": 10,
              "solidity": 0.2
             }
            },
            "type": "histogram"
           }
          ],
          "histogram2d": [
           {
            "colorbar": {
             "outlinewidth": 0,
             "ticks": ""
            },
            "colorscale": [
             [
              0,
              "#0d0887"
             ],
             [
              0.1111111111111111,
              "#46039f"
             ],
             [
              0.2222222222222222,
              "#7201a8"
             ],
             [
              0.3333333333333333,
              "#9c179e"
             ],
             [
              0.4444444444444444,
              "#bd3786"
             ],
             [
              0.5555555555555556,
              "#d8576b"
             ],
             [
              0.6666666666666666,
              "#ed7953"
             ],
             [
              0.7777777777777778,
              "#fb9f3a"
             ],
             [
              0.8888888888888888,
              "#fdca26"
             ],
             [
              1,
              "#f0f921"
             ]
            ],
            "type": "histogram2d"
           }
          ],
          "histogram2dcontour": [
           {
            "colorbar": {
             "outlinewidth": 0,
             "ticks": ""
            },
            "colorscale": [
             [
              0,
              "#0d0887"
             ],
             [
              0.1111111111111111,
              "#46039f"
             ],
             [
              0.2222222222222222,
              "#7201a8"
             ],
             [
              0.3333333333333333,
              "#9c179e"
             ],
             [
              0.4444444444444444,
              "#bd3786"
             ],
             [
              0.5555555555555556,
              "#d8576b"
             ],
             [
              0.6666666666666666,
              "#ed7953"
             ],
             [
              0.7777777777777778,
              "#fb9f3a"
             ],
             [
              0.8888888888888888,
              "#fdca26"
             ],
             [
              1,
              "#f0f921"
             ]
            ],
            "type": "histogram2dcontour"
           }
          ],
          "mesh3d": [
           {
            "colorbar": {
             "outlinewidth": 0,
             "ticks": ""
            },
            "type": "mesh3d"
           }
          ],
          "parcoords": [
           {
            "line": {
             "colorbar": {
              "outlinewidth": 0,
              "ticks": ""
             }
            },
            "type": "parcoords"
           }
          ],
          "pie": [
           {
            "automargin": true,
            "type": "pie"
           }
          ],
          "scatter": [
           {
            "marker": {
             "colorbar": {
              "outlinewidth": 0,
              "ticks": ""
             }
            },
            "type": "scatter"
           }
          ],
          "scatter3d": [
           {
            "line": {
             "colorbar": {
              "outlinewidth": 0,
              "ticks": ""
             }
            },
            "marker": {
             "colorbar": {
              "outlinewidth": 0,
              "ticks": ""
             }
            },
            "type": "scatter3d"
           }
          ],
          "scattercarpet": [
           {
            "marker": {
             "colorbar": {
              "outlinewidth": 0,
              "ticks": ""
             }
            },
            "type": "scattercarpet"
           }
          ],
          "scattergeo": [
           {
            "marker": {
             "colorbar": {
              "outlinewidth": 0,
              "ticks": ""
             }
            },
            "type": "scattergeo"
           }
          ],
          "scattergl": [
           {
            "marker": {
             "colorbar": {
              "outlinewidth": 0,
              "ticks": ""
             }
            },
            "type": "scattergl"
           }
          ],
          "scattermapbox": [
           {
            "marker": {
             "colorbar": {
              "outlinewidth": 0,
              "ticks": ""
             }
            },
            "type": "scattermapbox"
           }
          ],
          "scatterpolar": [
           {
            "marker": {
             "colorbar": {
              "outlinewidth": 0,
              "ticks": ""
             }
            },
            "type": "scatterpolar"
           }
          ],
          "scatterpolargl": [
           {
            "marker": {
             "colorbar": {
              "outlinewidth": 0,
              "ticks": ""
             }
            },
            "type": "scatterpolargl"
           }
          ],
          "scatterternary": [
           {
            "marker": {
             "colorbar": {
              "outlinewidth": 0,
              "ticks": ""
             }
            },
            "type": "scatterternary"
           }
          ],
          "surface": [
           {
            "colorbar": {
             "outlinewidth": 0,
             "ticks": ""
            },
            "colorscale": [
             [
              0,
              "#0d0887"
             ],
             [
              0.1111111111111111,
              "#46039f"
             ],
             [
              0.2222222222222222,
              "#7201a8"
             ],
             [
              0.3333333333333333,
              "#9c179e"
             ],
             [
              0.4444444444444444,
              "#bd3786"
             ],
             [
              0.5555555555555556,
              "#d8576b"
             ],
             [
              0.6666666666666666,
              "#ed7953"
             ],
             [
              0.7777777777777778,
              "#fb9f3a"
             ],
             [
              0.8888888888888888,
              "#fdca26"
             ],
             [
              1,
              "#f0f921"
             ]
            ],
            "type": "surface"
           }
          ],
          "table": [
           {
            "cells": {
             "fill": {
              "color": "#EBF0F8"
             },
             "line": {
              "color": "white"
             }
            },
            "header": {
             "fill": {
              "color": "#C8D4E3"
             },
             "line": {
              "color": "white"
             }
            },
            "type": "table"
           }
          ]
         },
         "layout": {
          "annotationdefaults": {
           "arrowcolor": "#2a3f5f",
           "arrowhead": 0,
           "arrowwidth": 1
          },
          "autotypenumbers": "strict",
          "coloraxis": {
           "colorbar": {
            "outlinewidth": 0,
            "ticks": ""
           }
          },
          "colorscale": {
           "diverging": [
            [
             0,
             "#8e0152"
            ],
            [
             0.1,
             "#c51b7d"
            ],
            [
             0.2,
             "#de77ae"
            ],
            [
             0.3,
             "#f1b6da"
            ],
            [
             0.4,
             "#fde0ef"
            ],
            [
             0.5,
             "#f7f7f7"
            ],
            [
             0.6,
             "#e6f5d0"
            ],
            [
             0.7,
             "#b8e186"
            ],
            [
             0.8,
             "#7fbc41"
            ],
            [
             0.9,
             "#4d9221"
            ],
            [
             1,
             "#276419"
            ]
           ],
           "sequential": [
            [
             0,
             "#0d0887"
            ],
            [
             0.1111111111111111,
             "#46039f"
            ],
            [
             0.2222222222222222,
             "#7201a8"
            ],
            [
             0.3333333333333333,
             "#9c179e"
            ],
            [
             0.4444444444444444,
             "#bd3786"
            ],
            [
             0.5555555555555556,
             "#d8576b"
            ],
            [
             0.6666666666666666,
             "#ed7953"
            ],
            [
             0.7777777777777778,
             "#fb9f3a"
            ],
            [
             0.8888888888888888,
             "#fdca26"
            ],
            [
             1,
             "#f0f921"
            ]
           ],
           "sequentialminus": [
            [
             0,
             "#0d0887"
            ],
            [
             0.1111111111111111,
             "#46039f"
            ],
            [
             0.2222222222222222,
             "#7201a8"
            ],
            [
             0.3333333333333333,
             "#9c179e"
            ],
            [
             0.4444444444444444,
             "#bd3786"
            ],
            [
             0.5555555555555556,
             "#d8576b"
            ],
            [
             0.6666666666666666,
             "#ed7953"
            ],
            [
             0.7777777777777778,
             "#fb9f3a"
            ],
            [
             0.8888888888888888,
             "#fdca26"
            ],
            [
             1,
             "#f0f921"
            ]
           ]
          },
          "colorway": [
           "#636efa",
           "#EF553B",
           "#00cc96",
           "#ab63fa",
           "#FFA15A",
           "#19d3f3",
           "#FF6692",
           "#B6E880",
           "#FF97FF",
           "#FECB52"
          ],
          "font": {
           "color": "#2a3f5f"
          },
          "geo": {
           "bgcolor": "white",
           "lakecolor": "white",
           "landcolor": "#E5ECF6",
           "showlakes": true,
           "showland": true,
           "subunitcolor": "white"
          },
          "hoverlabel": {
           "align": "left"
          },
          "hovermode": "closest",
          "mapbox": {
           "style": "light"
          },
          "paper_bgcolor": "white",
          "plot_bgcolor": "#E5ECF6",
          "polar": {
           "angularaxis": {
            "gridcolor": "white",
            "linecolor": "white",
            "ticks": ""
           },
           "bgcolor": "#E5ECF6",
           "radialaxis": {
            "gridcolor": "white",
            "linecolor": "white",
            "ticks": ""
           }
          },
          "scene": {
           "xaxis": {
            "backgroundcolor": "#E5ECF6",
            "gridcolor": "white",
            "gridwidth": 2,
            "linecolor": "white",
            "showbackground": true,
            "ticks": "",
            "zerolinecolor": "white"
           },
           "yaxis": {
            "backgroundcolor": "#E5ECF6",
            "gridcolor": "white",
            "gridwidth": 2,
            "linecolor": "white",
            "showbackground": true,
            "ticks": "",
            "zerolinecolor": "white"
           },
           "zaxis": {
            "backgroundcolor": "#E5ECF6",
            "gridcolor": "white",
            "gridwidth": 2,
            "linecolor": "white",
            "showbackground": true,
            "ticks": "",
            "zerolinecolor": "white"
           }
          },
          "shapedefaults": {
           "line": {
            "color": "#2a3f5f"
           }
          },
          "ternary": {
           "aaxis": {
            "gridcolor": "white",
            "linecolor": "white",
            "ticks": ""
           },
           "baxis": {
            "gridcolor": "white",
            "linecolor": "white",
            "ticks": ""
           },
           "bgcolor": "#E5ECF6",
           "caxis": {
            "gridcolor": "white",
            "linecolor": "white",
            "ticks": ""
           }
          },
          "title": {
           "x": 0.05
          },
          "xaxis": {
           "automargin": true,
           "gridcolor": "white",
           "linecolor": "white",
           "ticks": "",
           "title": {
            "standoff": 15
           },
           "zerolinecolor": "white",
           "zerolinewidth": 2
          },
          "yaxis": {
           "automargin": true,
           "gridcolor": "white",
           "linecolor": "white",
           "ticks": "",
           "title": {
            "standoff": 15
           },
           "zerolinecolor": "white",
           "zerolinewidth": 2
          }
         }
        },
        "width": 600
       }
      },
      "text/html": [
       "<div>                            <div id=\"ff7aeece-2995-4e53-a5fe-e2ec958e26ce\" class=\"plotly-graph-div\" style=\"height:600px; width:600px;\"></div>            <script type=\"text/javascript\">                require([\"plotly\"], function(Plotly) {                    window.PLOTLYENV=window.PLOTLYENV || {};                                    if (document.getElementById(\"ff7aeece-2995-4e53-a5fe-e2ec958e26ce\")) {                    Plotly.newPlot(                        \"ff7aeece-2995-4e53-a5fe-e2ec958e26ce\",                        [{\"marker\":{\"color\":[0,0,0,0,-1,0,0,0,0,0,0,0,0,0,0,0,0,0,0,0,0,0,0,0,0,-1,0,0,0,0,0,0,0,0,0,0,0,0,0,0,0,0,0,0,0,0,0,0,0,0,0,0,0,0,0,0,0,0,0,-1,0,0,0,0,0,0,-1,0,0,0,0,0,0,-1,0,0,-1,0,0,0,0,0,0,0,0,0,0,0,0,0,0,0,0,0,0,0,0,0,0,0,0,0,0,0,0,0,0,0,0,0,0,0,0,0,0,-1,0,0,0,0,0,-1,-1,0,0,0,0,-1,0,0,0,0,0,0,0,0,0,0,0,0,0,0,0,0,0,0,0,0,0,0,0,0,0,0,0,0,0,0,-1,0,0,0,0,0,0,0,0,0,0,0,0,0,0,0,0,0,0,0],\"line\":{\"color\":\"black\",\"width\":10},\"size\":10},\"mode\":\"markers\",\"type\":\"scatter3d\",\"x\":[3.3167508122147753,2.2094649169188436,2.5167401466103803,3.7570656097732,1.0089084937957138,3.050253922418077,2.4490896695962308,2.059436871437913,2.510874297398989,2.7536281876339084,3.47973668273121,1.7547529012945884,2.113462340315095,3.458156819336721,4.312783906765558,2.30518820082797,2.1719552737415113,1.8989711765627602,3.5419850819434666,2.0845222047303116,3.1244025351672,1.0865700683322397,2.5352240799037142,1.6449883412544688,1.7615758722693,0.9900791016088539,1.7752776281133675,1.2354239643099056,2.1884063344519613,2.2561089812837074,2.5002200257894245,2.677411047444013,1.6285791164309182,1.902690862238146,1.4103885265954055,1.9038262321944859,1.384862230374837,1.1222074104413093,1.5021945006181914,2.5298010923718093,2.588095425854402,0.6684819937541876,3.0708069904120063,0.4622091375160073,2.101351930538015,1.1361661775610183,2.726600963640804,2.8213392741922485,2.009850850912358,2.7074913042663926,3.2149174747738214,2.858959826717293,3.5056043559232197,2.2247913805321717,2.1469878235638653,2.4693294837977864,2.741517914277451,2.1737409209653054,3.139380151828993,-0.9285819689218536,-1.5424801378968804,-1.8362497634669395,0.030606834086681682,2.050261607576315,-0.6096808271776226,0.9002278387071417,2.248507190798394,0.1833840266847562,-0.8128050273520709,1.9756204987985522,-1.572216219626299,1.6576818088332903,-0.725372388035354,2.5622271731703585,1.8325675700495454,-0.8679929031954124,0.37001440429478377,-1.4573770449061387,1.2629308497284955,0.3761503719342409,0.7620639041095983,1.0345779671651871,-0.4948767556803275,-2.538977084295118,0.8353201453942957,0.7879046149897092,-0.8068321559655388,-0.5580426248756825,-1.1151110419194465,-0.5557228299517006,-1.3492852824437305,-1.5644826057199062,-1.9325556106314636,0.7466659419884497,0.9574553638036392,2.543865184199549,-0.5439525887762311,1.0310497503881482,2.2519094221481226,1.4102160153374583,0.7977197926930409,-0.5495317266494637,-0.16117373994854525,-0.6597949416843601,0.39235440818508327,-1.7724990779600338,-0.366267357352064,-1.6206725727874787,0.08253578349332737,1.5782750709323796,1.4205692478240148,-0.2787027536488543,-1.3031449662482815,-0.4570718656526261,-0.49418584704437535,0.48207440977309185,-0.2528888776531998,-0.10722763772912346,-2.433012602550216,-0.5510895391746496,0.7396219285682196,1.3363217334183273,-1.177086996247772,-0.4623350080196765,0.9784740793566474,-0.09680972631598551,0.03848714594902482,-1.597158501207472,-0.47956491608312474,-1.7928334730311433,-1.3271016561416018,-2.3845008347435286,-2.936940102146611,-2.146811133816063,-2.3698694883330416,-3.063841568720353,-3.9157537837118883,-3.936463390715962,-3.0942761177622726,-2.374471628006922,-2.7788129476325127,-2.286561284738468,-2.9856334874494643,-2.375194698227107,-2.2098655255958715,-2.6256210046927193,-4.280638778751083,-3.582641372001102,-2.8070637200816573,-2.899659333023909,-2.3207369765492043,-2.5498309472261362,-1.8125412848422988,-2.7601446419239495,-2.737150500667991,-3.6048688681834222,-2.8898259968735047,-3.392156076835721,-1.0481818968536778,-1.6099122828479355,-3.143130966743974,-2.24015689626954,-2.8476737761195197,-2.5974970566487636,-2.949299373134843,-3.5300322663493096,-2.4061105404785517,-2.9290847269674543,-2.18141277881262,-2.3809277871356382,-3.2116172150412474,-3.677918720973815,-2.4655557980404477,-3.3705241454428583,-2.6019558512247363,-2.6778394608645013,-2.3870170912797186,-3.20875816419802],\"y\":[-1.4434626343180088,0.33339288708029985,-1.0311512962743197,-2.756371913710715,-0.8698308214172058,-2.1224011146341937,-1.1748501316494753,-1.6089630683635092,-0.9180709573337771,-0.7894376738336074,-1.3023332371235965,-0.6119772287456323,-0.6757063391426198,-1.1306298761729388,-2.095975575341264,-1.6625517299890584,-2.3273053361914218,-1.63136887864284,-2.51834366930665,-1.0611379935838607,-0.7868971056508955,-0.24174355133283978,0.09184062072088074,0.5162789300672352,0.31714893268438116,-0.9406673381906354,-0.6861751342850249,0.08980704136064004,-0.6895696206616251,-0.19146193688666505,-1.2408338348969448,-1.4718736461032509,-0.052704450575323775,-1.633060434769985,-0.6979343246113576,-0.17671095109545648,-0.6586398536611502,-0.11410976029688874,0.7694320064310095,-1.8030019760618285,-0.7796163041925084,-0.16996094061987485,-1.1559189566098846,-0.330742132192275,0.07100892095406687,-1.7771073929776393,-1.1913346919571848,-0.6462585991417041,-1.2470294606787615,-1.7519674072063394,-0.1669919949967911,-0.7452788039895895,-1.6127338560350133,-1.8751679995630268,-1.0167515377576608,-1.3290083106496238,-1.436548783512516,-1.212199840697796,-1.731579115992515,3.073486163188932,1.3814435080942298,0.829984123055719,1.2627861442114034,1.9250326046501016,1.9080588050851888,0.763911473609609,1.884592484550134,2.4271461147035733,0.22051398690226945,1.403283225309617,0.8849831369082231,0.9567121974591496,1.0636454007060956,-0.2601985506545973,1.2878781978605263,2.444101185580866,2.1539069751569904,1.383351769076261,0.7708495299701186,1.0270434033558236,3.3750538099635374,1.4507097382440928,2.3812435267673715,0.08744335730498286,1.473670551400869,2.026626522462479,2.233830390843913,2.3729854288494563,1.8022471916654548,2.657540035392295,2.1180014697848204,1.8522145217655521,1.559495456898623,2.3129317092207424,2.2235284346674615,-0.16927402279974083,0.3689265458773172,2.565569348733525,1.4327413803542552,2.1661917693703856,2.3769488030818637,2.293128643245629,1.1644833215600165,2.679961185989638,2.098731708765539,1.717288469376144,2.169353297829285,1.3555833880259582,2.3062345877483272,1.4620342902048171,1.4182066376337517,1.93056808867047,0.7631723136577919,2.2694156075896763,1.9390450494868336,3.8717838484072415,2.821492374701595,1.9289220425669604,1.2571410404943948,2.222161550776624,1.4089566673657128,-0.25333693116830713,0.6639668398015719,0.6182881794850437,1.4455704988958278,2.1099979931352273,1.2667621091578858,1.208143574128486,1.9388406603940493,1.1502881044421063,-0.17038923204902764,-0.37458260552469336,-0.26386183006838027,-0.3682549518864612,0.45963480923116673,-0.35341283545840335,-0.1545825194417321,-0.6596872334097823,-0.34884275927379566,-0.29198035155999447,-0.2868048728821742,-0.3725078446852987,-0.4892179083470127,-0.4823337172448774,-1.1600525041576437,-0.5631607642108342,-0.6496709640237052,-1.2727027497273018,-1.5705337870411984,-2.041057007938465,-2.356366075556676,-2.0452830910195257,-1.5276459462687526,-2.1389323476426125,-0.4098862708817906,-1.8023842175839677,-1.9252186131303433,-1.3118763884735976,-3.5150896912197336,-2.4066381595743307,-0.7381610441757982,-1.1754652881188647,-0.5560439658826741,-0.6979655372009196,-1.555308964283984,-0.8825267962042361,-2.5923561750423993,-1.2744469479044833,-2.0775373127345174,-2.5886674324185917,0.25124910442559206,-0.8477478441497638,-2.193798303654095,-2.2162891398611375,-1.7572293509792754,-2.760899131674548,-2.297346679712821,-2.7689195660475763],\"z\":[-0.16573904461441977,-2.0264573738075335,0.982818670212059,-0.17619184219949258,2.0266882192354063,-0.6293958270439122,-0.9770948907141955,0.14628188306155923,-1.7709690272289416,-0.9842474895182348,-0.4227352165808461,-1.1908783196301738,-0.8650864256166532,-1.20427635253819,-1.2639127523579985,0.21790261559595828,0.8317298659860067,0.7949137923810692,-0.4854585076662916,-0.16474667849947355,-0.3648870829888463,0.936961599610645,-0.311932659347969,0.14388509467079577,0.8902856474056889,3.820908008194834,-0.08670040648876251,-1.3868965448964345,1.394566880850359,-1.0926572575082927,1.3860178547156772,-0.3322617283750933,-0.167128706245334,1.172082119175344,0.4797430251686612,0.45083504003720887,0.45843858085206185,-0.03910727668974891,-1.4261773458904599,-0.3431523889796911,-0.11847746611373658,-0.7833625480611431,-0.3127580839341535,-0.20147649625677078,-0.655849415043434,0.028705735784752807,-0.5397732611476717,-1.1555524107274069,-0.05729398793992294,-0.6431136120007939,-1.9735716799013714,0.004719502164697485,-0.5207745300761741,0.33954985035420876,-0.957762761950327,0.5134374530359685,-0.6124733957169589,0.26177959277079027,-0.28566141261644945,-4.585064007148202,-0.8746831124458087,-1.6057021863206187,-1.784408010418854,-0.0073687773498163685,0.6793579379775355,0.5733613020971904,-2.031840192867584,-1.0697455602477957,-0.7070053958009676,-1.2382762196848662,-0.6289979502315949,1.9525842166061973,0.08033222861543701,3.3743939622397536,0.4582800273995581,-1.563333178950377,-2.4493863483037366,-0.22730690232730455,-1.1842245173752441,1.7944662945426586,-0.3574700555394637,-0.36301177316395966,1.3357431762848657,0.4742513927691472,0.6100935756921052,-0.25472340396955,0.7728557971982637,2.307611404012003,0.9592533076886539,0.8491268977432256,-0.047652320848692094,0.7810670309346305,-0.08927467610867924,0.11467976874541666,0.14244477369872643,0.7886969907454728,1.3088959318568572,-1.0863901738177377,-0.2302082437978136,0.7488964107708795,-1.568112531275524,-1.4989353232010765,1.0037131028373556,-0.7649208684795135,-0.4718500076097371,0.9470331744608651,-0.4813242347422896,0.2871590006956159,-0.46357498937395414,1.7796459547332826,0.13927582948819153,0.07867055304723465,1.999596510486854,1.0613389675926643,1.3239380723766925,1.344271223393072,-0.30263978453063933,0.6901482425075112,-1.903027404411348,-0.35622883021253426,1.1253454920042358,5.34538817919574,3.0102218879464275,0.483442366344183,1.4812369749959464,0.43482611561678924,0.6875779128728086,3.361175555386425,1.2965075188296686,0.7828001731822654,-1.180013355309487,-0.7238225948116626,-0.16763981598372138,-0.45330130146918574,-1.1013997885920581,-1.0991241041153403,0.22182779984104778,1.7122154192145356,-1.0268314134224497,1.2419143328305622,0.6096701239723719,-0.9716430323608533,0.9469529317999691,-0.2528839940533326,-1.2451252259210637,-0.8559610818033772,-1.4581969616385655,-0.11078403762472656,-0.4725279345720869,-0.49595981023509345,0.43768174361876044,-0.31226799865093213,1.3625897815878683,-0.9646286882006795,-1.1904046839669862,-0.09403686133597251,-0.7823225555084473,1.6020259689000198,1.1600385659132237,0.5485596972407076,-0.09099872392222295,-0.10137693249612162,0.8042152181010276,-0.8849395211306328,-0.983400727224941,-0.4660291277785392,0.428226210799577,-1.2133582715051474,0.7637825515581176,1.4180440294968124,-0.8471291521285004,-1.3394202310855157,-0.9187809604264906,-0.34256951241432193,0.20758135498125058,-0.9409418766769949,-0.5506961970110882,1.0139136641131123]}],                        {\"height\":600,\"margin\":{\"l\":0,\"r\":0},\"scene\":{\"xaxis\":{\"title\":{\"text\":\"principal component 1\"}},\"yaxis\":{\"title\":{\"text\":\"principal component 2\"}},\"zaxis\":{\"title\":{\"text\":\"principal component 3\"}}},\"template\":{\"data\":{\"bar\":[{\"error_x\":{\"color\":\"#2a3f5f\"},\"error_y\":{\"color\":\"#2a3f5f\"},\"marker\":{\"line\":{\"color\":\"#E5ECF6\",\"width\":0.5},\"pattern\":{\"fillmode\":\"overlay\",\"size\":10,\"solidity\":0.2}},\"type\":\"bar\"}],\"barpolar\":[{\"marker\":{\"line\":{\"color\":\"#E5ECF6\",\"width\":0.5},\"pattern\":{\"fillmode\":\"overlay\",\"size\":10,\"solidity\":0.2}},\"type\":\"barpolar\"}],\"carpet\":[{\"aaxis\":{\"endlinecolor\":\"#2a3f5f\",\"gridcolor\":\"white\",\"linecolor\":\"white\",\"minorgridcolor\":\"white\",\"startlinecolor\":\"#2a3f5f\"},\"baxis\":{\"endlinecolor\":\"#2a3f5f\",\"gridcolor\":\"white\",\"linecolor\":\"white\",\"minorgridcolor\":\"white\",\"startlinecolor\":\"#2a3f5f\"},\"type\":\"carpet\"}],\"choropleth\":[{\"colorbar\":{\"outlinewidth\":0,\"ticks\":\"\"},\"type\":\"choropleth\"}],\"contour\":[{\"colorbar\":{\"outlinewidth\":0,\"ticks\":\"\"},\"colorscale\":[[0.0,\"#0d0887\"],[0.1111111111111111,\"#46039f\"],[0.2222222222222222,\"#7201a8\"],[0.3333333333333333,\"#9c179e\"],[0.4444444444444444,\"#bd3786\"],[0.5555555555555556,\"#d8576b\"],[0.6666666666666666,\"#ed7953\"],[0.7777777777777778,\"#fb9f3a\"],[0.8888888888888888,\"#fdca26\"],[1.0,\"#f0f921\"]],\"type\":\"contour\"}],\"contourcarpet\":[{\"colorbar\":{\"outlinewidth\":0,\"ticks\":\"\"},\"type\":\"contourcarpet\"}],\"heatmap\":[{\"colorbar\":{\"outlinewidth\":0,\"ticks\":\"\"},\"colorscale\":[[0.0,\"#0d0887\"],[0.1111111111111111,\"#46039f\"],[0.2222222222222222,\"#7201a8\"],[0.3333333333333333,\"#9c179e\"],[0.4444444444444444,\"#bd3786\"],[0.5555555555555556,\"#d8576b\"],[0.6666666666666666,\"#ed7953\"],[0.7777777777777778,\"#fb9f3a\"],[0.8888888888888888,\"#fdca26\"],[1.0,\"#f0f921\"]],\"type\":\"heatmap\"}],\"heatmapgl\":[{\"colorbar\":{\"outlinewidth\":0,\"ticks\":\"\"},\"colorscale\":[[0.0,\"#0d0887\"],[0.1111111111111111,\"#46039f\"],[0.2222222222222222,\"#7201a8\"],[0.3333333333333333,\"#9c179e\"],[0.4444444444444444,\"#bd3786\"],[0.5555555555555556,\"#d8576b\"],[0.6666666666666666,\"#ed7953\"],[0.7777777777777778,\"#fb9f3a\"],[0.8888888888888888,\"#fdca26\"],[1.0,\"#f0f921\"]],\"type\":\"heatmapgl\"}],\"histogram\":[{\"marker\":{\"pattern\":{\"fillmode\":\"overlay\",\"size\":10,\"solidity\":0.2}},\"type\":\"histogram\"}],\"histogram2d\":[{\"colorbar\":{\"outlinewidth\":0,\"ticks\":\"\"},\"colorscale\":[[0.0,\"#0d0887\"],[0.1111111111111111,\"#46039f\"],[0.2222222222222222,\"#7201a8\"],[0.3333333333333333,\"#9c179e\"],[0.4444444444444444,\"#bd3786\"],[0.5555555555555556,\"#d8576b\"],[0.6666666666666666,\"#ed7953\"],[0.7777777777777778,\"#fb9f3a\"],[0.8888888888888888,\"#fdca26\"],[1.0,\"#f0f921\"]],\"type\":\"histogram2d\"}],\"histogram2dcontour\":[{\"colorbar\":{\"outlinewidth\":0,\"ticks\":\"\"},\"colorscale\":[[0.0,\"#0d0887\"],[0.1111111111111111,\"#46039f\"],[0.2222222222222222,\"#7201a8\"],[0.3333333333333333,\"#9c179e\"],[0.4444444444444444,\"#bd3786\"],[0.5555555555555556,\"#d8576b\"],[0.6666666666666666,\"#ed7953\"],[0.7777777777777778,\"#fb9f3a\"],[0.8888888888888888,\"#fdca26\"],[1.0,\"#f0f921\"]],\"type\":\"histogram2dcontour\"}],\"mesh3d\":[{\"colorbar\":{\"outlinewidth\":0,\"ticks\":\"\"},\"type\":\"mesh3d\"}],\"parcoords\":[{\"line\":{\"colorbar\":{\"outlinewidth\":0,\"ticks\":\"\"}},\"type\":\"parcoords\"}],\"pie\":[{\"automargin\":true,\"type\":\"pie\"}],\"scatter\":[{\"marker\":{\"colorbar\":{\"outlinewidth\":0,\"ticks\":\"\"}},\"type\":\"scatter\"}],\"scatter3d\":[{\"line\":{\"colorbar\":{\"outlinewidth\":0,\"ticks\":\"\"}},\"marker\":{\"colorbar\":{\"outlinewidth\":0,\"ticks\":\"\"}},\"type\":\"scatter3d\"}],\"scattercarpet\":[{\"marker\":{\"colorbar\":{\"outlinewidth\":0,\"ticks\":\"\"}},\"type\":\"scattercarpet\"}],\"scattergeo\":[{\"marker\":{\"colorbar\":{\"outlinewidth\":0,\"ticks\":\"\"}},\"type\":\"scattergeo\"}],\"scattergl\":[{\"marker\":{\"colorbar\":{\"outlinewidth\":0,\"ticks\":\"\"}},\"type\":\"scattergl\"}],\"scattermapbox\":[{\"marker\":{\"colorbar\":{\"outlinewidth\":0,\"ticks\":\"\"}},\"type\":\"scattermapbox\"}],\"scatterpolar\":[{\"marker\":{\"colorbar\":{\"outlinewidth\":0,\"ticks\":\"\"}},\"type\":\"scatterpolar\"}],\"scatterpolargl\":[{\"marker\":{\"colorbar\":{\"outlinewidth\":0,\"ticks\":\"\"}},\"type\":\"scatterpolargl\"}],\"scatterternary\":[{\"marker\":{\"colorbar\":{\"outlinewidth\":0,\"ticks\":\"\"}},\"type\":\"scatterternary\"}],\"surface\":[{\"colorbar\":{\"outlinewidth\":0,\"ticks\":\"\"},\"colorscale\":[[0.0,\"#0d0887\"],[0.1111111111111111,\"#46039f\"],[0.2222222222222222,\"#7201a8\"],[0.3333333333333333,\"#9c179e\"],[0.4444444444444444,\"#bd3786\"],[0.5555555555555556,\"#d8576b\"],[0.6666666666666666,\"#ed7953\"],[0.7777777777777778,\"#fb9f3a\"],[0.8888888888888888,\"#fdca26\"],[1.0,\"#f0f921\"]],\"type\":\"surface\"}],\"table\":[{\"cells\":{\"fill\":{\"color\":\"#EBF0F8\"},\"line\":{\"color\":\"white\"}},\"header\":{\"fill\":{\"color\":\"#C8D4E3\"},\"line\":{\"color\":\"white\"}},\"type\":\"table\"}]},\"layout\":{\"annotationdefaults\":{\"arrowcolor\":\"#2a3f5f\",\"arrowhead\":0,\"arrowwidth\":1},\"autotypenumbers\":\"strict\",\"coloraxis\":{\"colorbar\":{\"outlinewidth\":0,\"ticks\":\"\"}},\"colorscale\":{\"diverging\":[[0,\"#8e0152\"],[0.1,\"#c51b7d\"],[0.2,\"#de77ae\"],[0.3,\"#f1b6da\"],[0.4,\"#fde0ef\"],[0.5,\"#f7f7f7\"],[0.6,\"#e6f5d0\"],[0.7,\"#b8e186\"],[0.8,\"#7fbc41\"],[0.9,\"#4d9221\"],[1,\"#276419\"]],\"sequential\":[[0.0,\"#0d0887\"],[0.1111111111111111,\"#46039f\"],[0.2222222222222222,\"#7201a8\"],[0.3333333333333333,\"#9c179e\"],[0.4444444444444444,\"#bd3786\"],[0.5555555555555556,\"#d8576b\"],[0.6666666666666666,\"#ed7953\"],[0.7777777777777778,\"#fb9f3a\"],[0.8888888888888888,\"#fdca26\"],[1.0,\"#f0f921\"]],\"sequentialminus\":[[0.0,\"#0d0887\"],[0.1111111111111111,\"#46039f\"],[0.2222222222222222,\"#7201a8\"],[0.3333333333333333,\"#9c179e\"],[0.4444444444444444,\"#bd3786\"],[0.5555555555555556,\"#d8576b\"],[0.6666666666666666,\"#ed7953\"],[0.7777777777777778,\"#fb9f3a\"],[0.8888888888888888,\"#fdca26\"],[1.0,\"#f0f921\"]]},\"colorway\":[\"#636efa\",\"#EF553B\",\"#00cc96\",\"#ab63fa\",\"#FFA15A\",\"#19d3f3\",\"#FF6692\",\"#B6E880\",\"#FF97FF\",\"#FECB52\"],\"font\":{\"color\":\"#2a3f5f\"},\"geo\":{\"bgcolor\":\"white\",\"lakecolor\":\"white\",\"landcolor\":\"#E5ECF6\",\"showlakes\":true,\"showland\":true,\"subunitcolor\":\"white\"},\"hoverlabel\":{\"align\":\"left\"},\"hovermode\":\"closest\",\"mapbox\":{\"style\":\"light\"},\"paper_bgcolor\":\"white\",\"plot_bgcolor\":\"#E5ECF6\",\"polar\":{\"angularaxis\":{\"gridcolor\":\"white\",\"linecolor\":\"white\",\"ticks\":\"\"},\"bgcolor\":\"#E5ECF6\",\"radialaxis\":{\"gridcolor\":\"white\",\"linecolor\":\"white\",\"ticks\":\"\"}},\"scene\":{\"xaxis\":{\"backgroundcolor\":\"#E5ECF6\",\"gridcolor\":\"white\",\"gridwidth\":2,\"linecolor\":\"white\",\"showbackground\":true,\"ticks\":\"\",\"zerolinecolor\":\"white\"},\"yaxis\":{\"backgroundcolor\":\"#E5ECF6\",\"gridcolor\":\"white\",\"gridwidth\":2,\"linecolor\":\"white\",\"showbackground\":true,\"ticks\":\"\",\"zerolinecolor\":\"white\"},\"zaxis\":{\"backgroundcolor\":\"#E5ECF6\",\"gridcolor\":\"white\",\"gridwidth\":2,\"linecolor\":\"white\",\"showbackground\":true,\"ticks\":\"\",\"zerolinecolor\":\"white\"}},\"shapedefaults\":{\"line\":{\"color\":\"#2a3f5f\"}},\"ternary\":{\"aaxis\":{\"gridcolor\":\"white\",\"linecolor\":\"white\",\"ticks\":\"\"},\"baxis\":{\"gridcolor\":\"white\",\"linecolor\":\"white\",\"ticks\":\"\"},\"bgcolor\":\"#E5ECF6\",\"caxis\":{\"gridcolor\":\"white\",\"linecolor\":\"white\",\"ticks\":\"\"}},\"title\":{\"x\":0.05},\"xaxis\":{\"automargin\":true,\"gridcolor\":\"white\",\"linecolor\":\"white\",\"ticks\":\"\",\"title\":{\"standoff\":15},\"zerolinecolor\":\"white\",\"zerolinewidth\":2},\"yaxis\":{\"automargin\":true,\"gridcolor\":\"white\",\"linecolor\":\"white\",\"ticks\":\"\",\"title\":{\"standoff\":15},\"zerolinecolor\":\"white\",\"zerolinewidth\":2}}},\"width\":600},                        {\"responsive\": true}                    ).then(function(){\n",
       "                            \n",
       "var gd = document.getElementById('ff7aeece-2995-4e53-a5fe-e2ec958e26ce');\n",
       "var x = new MutationObserver(function (mutations, observer) {{\n",
       "        var display = window.getComputedStyle(gd).display;\n",
       "        if (!display || display === 'none') {{\n",
       "            console.log([gd, 'removed!']);\n",
       "            Plotly.purge(gd);\n",
       "            observer.disconnect();\n",
       "        }}\n",
       "}});\n",
       "\n",
       "// Listen for the removal of the full notebook cells\n",
       "var notebookContainer = gd.closest('#notebook-container');\n",
       "if (notebookContainer) {{\n",
       "    x.observe(notebookContainer, {childList: true});\n",
       "}}\n",
       "\n",
       "// Listen for the clearing of the current output cell\n",
       "var outputEl = gd.closest('.output');\n",
       "if (outputEl) {{\n",
       "    x.observe(outputEl, {childList: true});\n",
       "}}\n",
       "\n",
       "                        })                };                });            </script>        </div>"
      ]
     },
     "metadata": {},
     "output_type": "display_data"
    },
    {
     "name": "stdout",
     "output_type": "stream",
     "text": [
      "silhouette score:  0.27416089765934876\n"
     ]
    },
    {
     "data": {
      "application/vnd.plotly.v1+json": {
       "config": {
        "plotlyServerURL": "https://plot.ly"
       },
       "data": [
        {
         "marker": {
          "color": [
           0,
           -1,
           0,
           -1,
           -1,
           0,
           0,
           0,
           0,
           0,
           0,
           0,
           0,
           0,
           -1,
           0,
           0,
           0,
           0,
           0,
           0,
           0,
           0,
           0,
           0,
           -1,
           0,
           0,
           0,
           0,
           0,
           0,
           0,
           0,
           0,
           0,
           0,
           0,
           -1,
           0,
           0,
           0,
           0,
           0,
           0,
           0,
           0,
           0,
           0,
           0,
           -1,
           0,
           0,
           0,
           0,
           0,
           0,
           0,
           0,
           -1,
           0,
           1,
           -1,
           0,
           0,
           0,
           -1,
           0,
           -1,
           -1,
           0,
           0,
           0,
           -1,
           0,
           0,
           -1,
           0,
           -1,
           0,
           -1,
           0,
           0,
           1,
           0,
           0,
           0,
           0,
           0,
           0,
           0,
           0,
           0,
           0,
           0,
           0,
           0,
           0,
           0,
           0,
           0,
           0,
           0,
           0,
           0,
           0,
           0,
           0,
           0,
           0,
           0,
           0,
           -1,
           0,
           0,
           -1,
           0,
           0,
           -1,
           0,
           0,
           -1,
           -1,
           0,
           0,
           0,
           0,
           -1,
           0,
           0,
           -1,
           1,
           1,
           1,
           1,
           1,
           -1,
           -1,
           1,
           1,
           1,
           1,
           1,
           1,
           1,
           1,
           1,
           1,
           1,
           1,
           1,
           1,
           1,
           1,
           1,
           1,
           1,
           -1,
           -1,
           1,
           1,
           1,
           1,
           1,
           1,
           1,
           1,
           1,
           1,
           1,
           1,
           1,
           1,
           1,
           1,
           1,
           1,
           -1
          ],
          "line": {
           "color": "black",
           "width": 10
          },
          "size": 10
         },
         "mode": "markers",
         "type": "scatter3d",
         "x": [
          3.3167508122147753,
          2.2094649169188436,
          2.5167401466103803,
          3.7570656097732,
          1.0089084937957138,
          3.050253922418077,
          2.4490896695962308,
          2.059436871437913,
          2.510874297398989,
          2.7536281876339084,
          3.47973668273121,
          1.7547529012945884,
          2.113462340315095,
          3.458156819336721,
          4.312783906765558,
          2.30518820082797,
          2.1719552737415113,
          1.8989711765627602,
          3.5419850819434666,
          2.0845222047303116,
          3.1244025351672,
          1.0865700683322397,
          2.5352240799037142,
          1.6449883412544688,
          1.7615758722693,
          0.9900791016088539,
          1.7752776281133675,
          1.2354239643099056,
          2.1884063344519613,
          2.2561089812837074,
          2.5002200257894245,
          2.677411047444013,
          1.6285791164309182,
          1.902690862238146,
          1.4103885265954055,
          1.9038262321944859,
          1.384862230374837,
          1.1222074104413093,
          1.5021945006181914,
          2.5298010923718093,
          2.588095425854402,
          0.6684819937541876,
          3.0708069904120063,
          0.4622091375160073,
          2.101351930538015,
          1.1361661775610183,
          2.726600963640804,
          2.8213392741922485,
          2.009850850912358,
          2.7074913042663926,
          3.2149174747738214,
          2.858959826717293,
          3.5056043559232197,
          2.2247913805321717,
          2.1469878235638653,
          2.4693294837977864,
          2.741517914277451,
          2.1737409209653054,
          3.139380151828993,
          -0.9285819689218536,
          -1.5424801378968804,
          -1.8362497634669395,
          0.030606834086681682,
          2.050261607576315,
          -0.6096808271776226,
          0.9002278387071417,
          2.248507190798394,
          0.1833840266847562,
          -0.8128050273520709,
          1.9756204987985522,
          -1.572216219626299,
          1.6576818088332903,
          -0.725372388035354,
          2.5622271731703585,
          1.8325675700495454,
          -0.8679929031954124,
          0.37001440429478377,
          -1.4573770449061387,
          1.2629308497284955,
          0.3761503719342409,
          0.7620639041095983,
          1.0345779671651871,
          -0.4948767556803275,
          -2.538977084295118,
          0.8353201453942957,
          0.7879046149897092,
          -0.8068321559655388,
          -0.5580426248756825,
          -1.1151110419194465,
          -0.5557228299517006,
          -1.3492852824437305,
          -1.5644826057199062,
          -1.9325556106314636,
          0.7466659419884497,
          0.9574553638036392,
          2.543865184199549,
          -0.5439525887762311,
          1.0310497503881482,
          2.2519094221481226,
          1.4102160153374583,
          0.7977197926930409,
          -0.5495317266494637,
          -0.16117373994854525,
          -0.6597949416843601,
          0.39235440818508327,
          -1.7724990779600338,
          -0.366267357352064,
          -1.6206725727874787,
          0.08253578349332737,
          1.5782750709323796,
          1.4205692478240148,
          -0.2787027536488543,
          -1.3031449662482815,
          -0.4570718656526261,
          -0.49418584704437535,
          0.48207440977309185,
          -0.2528888776531998,
          -0.10722763772912346,
          -2.433012602550216,
          -0.5510895391746496,
          0.7396219285682196,
          1.3363217334183273,
          -1.177086996247772,
          -0.4623350080196765,
          0.9784740793566474,
          -0.09680972631598551,
          0.03848714594902482,
          -1.597158501207472,
          -0.47956491608312474,
          -1.7928334730311433,
          -1.3271016561416018,
          -2.3845008347435286,
          -2.936940102146611,
          -2.146811133816063,
          -2.3698694883330416,
          -3.063841568720353,
          -3.9157537837118883,
          -3.936463390715962,
          -3.0942761177622726,
          -2.374471628006922,
          -2.7788129476325127,
          -2.286561284738468,
          -2.9856334874494643,
          -2.375194698227107,
          -2.2098655255958715,
          -2.6256210046927193,
          -4.280638778751083,
          -3.582641372001102,
          -2.8070637200816573,
          -2.899659333023909,
          -2.3207369765492043,
          -2.5498309472261362,
          -1.8125412848422988,
          -2.7601446419239495,
          -2.737150500667991,
          -3.6048688681834222,
          -2.8898259968735047,
          -3.392156076835721,
          -1.0481818968536778,
          -1.6099122828479355,
          -3.143130966743974,
          -2.24015689626954,
          -2.8476737761195197,
          -2.5974970566487636,
          -2.949299373134843,
          -3.5300322663493096,
          -2.4061105404785517,
          -2.9290847269674543,
          -2.18141277881262,
          -2.3809277871356382,
          -3.2116172150412474,
          -3.677918720973815,
          -2.4655557980404477,
          -3.3705241454428583,
          -2.6019558512247363,
          -2.6778394608645013,
          -2.3870170912797186,
          -3.20875816419802
         ],
         "y": [
          -1.4434626343180088,
          0.33339288708029985,
          -1.0311512962743197,
          -2.756371913710715,
          -0.8698308214172058,
          -2.1224011146341937,
          -1.1748501316494753,
          -1.6089630683635092,
          -0.9180709573337771,
          -0.7894376738336074,
          -1.3023332371235965,
          -0.6119772287456323,
          -0.6757063391426198,
          -1.1306298761729388,
          -2.095975575341264,
          -1.6625517299890584,
          -2.3273053361914218,
          -1.63136887864284,
          -2.51834366930665,
          -1.0611379935838607,
          -0.7868971056508955,
          -0.24174355133283978,
          0.09184062072088074,
          0.5162789300672352,
          0.31714893268438116,
          -0.9406673381906354,
          -0.6861751342850249,
          0.08980704136064004,
          -0.6895696206616251,
          -0.19146193688666505,
          -1.2408338348969448,
          -1.4718736461032509,
          -0.052704450575323775,
          -1.633060434769985,
          -0.6979343246113576,
          -0.17671095109545648,
          -0.6586398536611502,
          -0.11410976029688874,
          0.7694320064310095,
          -1.8030019760618285,
          -0.7796163041925084,
          -0.16996094061987485,
          -1.1559189566098846,
          -0.330742132192275,
          0.07100892095406687,
          -1.7771073929776393,
          -1.1913346919571848,
          -0.6462585991417041,
          -1.2470294606787615,
          -1.7519674072063394,
          -0.1669919949967911,
          -0.7452788039895895,
          -1.6127338560350133,
          -1.8751679995630268,
          -1.0167515377576608,
          -1.3290083106496238,
          -1.436548783512516,
          -1.212199840697796,
          -1.731579115992515,
          3.073486163188932,
          1.3814435080942298,
          0.829984123055719,
          1.2627861442114034,
          1.9250326046501016,
          1.9080588050851888,
          0.763911473609609,
          1.884592484550134,
          2.4271461147035733,
          0.22051398690226945,
          1.403283225309617,
          0.8849831369082231,
          0.9567121974591496,
          1.0636454007060956,
          -0.2601985506545973,
          1.2878781978605263,
          2.444101185580866,
          2.1539069751569904,
          1.383351769076261,
          0.7708495299701186,
          1.0270434033558236,
          3.3750538099635374,
          1.4507097382440928,
          2.3812435267673715,
          0.08744335730498286,
          1.473670551400869,
          2.026626522462479,
          2.233830390843913,
          2.3729854288494563,
          1.8022471916654548,
          2.657540035392295,
          2.1180014697848204,
          1.8522145217655521,
          1.559495456898623,
          2.3129317092207424,
          2.2235284346674615,
          -0.16927402279974083,
          0.3689265458773172,
          2.565569348733525,
          1.4327413803542552,
          2.1661917693703856,
          2.3769488030818637,
          2.293128643245629,
          1.1644833215600165,
          2.679961185989638,
          2.098731708765539,
          1.717288469376144,
          2.169353297829285,
          1.3555833880259582,
          2.3062345877483272,
          1.4620342902048171,
          1.4182066376337517,
          1.93056808867047,
          0.7631723136577919,
          2.2694156075896763,
          1.9390450494868336,
          3.8717838484072415,
          2.821492374701595,
          1.9289220425669604,
          1.2571410404943948,
          2.222161550776624,
          1.4089566673657128,
          -0.25333693116830713,
          0.6639668398015719,
          0.6182881794850437,
          1.4455704988958278,
          2.1099979931352273,
          1.2667621091578858,
          1.208143574128486,
          1.9388406603940493,
          1.1502881044421063,
          -0.17038923204902764,
          -0.37458260552469336,
          -0.26386183006838027,
          -0.3682549518864612,
          0.45963480923116673,
          -0.35341283545840335,
          -0.1545825194417321,
          -0.6596872334097823,
          -0.34884275927379566,
          -0.29198035155999447,
          -0.2868048728821742,
          -0.3725078446852987,
          -0.4892179083470127,
          -0.4823337172448774,
          -1.1600525041576437,
          -0.5631607642108342,
          -0.6496709640237052,
          -1.2727027497273018,
          -1.5705337870411984,
          -2.041057007938465,
          -2.356366075556676,
          -2.0452830910195257,
          -1.5276459462687526,
          -2.1389323476426125,
          -0.4098862708817906,
          -1.8023842175839677,
          -1.9252186131303433,
          -1.3118763884735976,
          -3.5150896912197336,
          -2.4066381595743307,
          -0.7381610441757982,
          -1.1754652881188647,
          -0.5560439658826741,
          -0.6979655372009196,
          -1.555308964283984,
          -0.8825267962042361,
          -2.5923561750423993,
          -1.2744469479044833,
          -2.0775373127345174,
          -2.5886674324185917,
          0.25124910442559206,
          -0.8477478441497638,
          -2.193798303654095,
          -2.2162891398611375,
          -1.7572293509792754,
          -2.760899131674548,
          -2.297346679712821,
          -2.7689195660475763
         ],
         "z": [
          -0.16573904461441977,
          -2.0264573738075335,
          0.982818670212059,
          -0.17619184219949258,
          2.0266882192354063,
          -0.6293958270439122,
          -0.9770948907141955,
          0.14628188306155923,
          -1.7709690272289416,
          -0.9842474895182348,
          -0.4227352165808461,
          -1.1908783196301738,
          -0.8650864256166532,
          -1.20427635253819,
          -1.2639127523579985,
          0.21790261559595828,
          0.8317298659860067,
          0.7949137923810692,
          -0.4854585076662916,
          -0.16474667849947355,
          -0.3648870829888463,
          0.936961599610645,
          -0.311932659347969,
          0.14388509467079577,
          0.8902856474056889,
          3.820908008194834,
          -0.08670040648876251,
          -1.3868965448964345,
          1.394566880850359,
          -1.0926572575082927,
          1.3860178547156772,
          -0.3322617283750933,
          -0.167128706245334,
          1.172082119175344,
          0.4797430251686612,
          0.45083504003720887,
          0.45843858085206185,
          -0.03910727668974891,
          -1.4261773458904599,
          -0.3431523889796911,
          -0.11847746611373658,
          -0.7833625480611431,
          -0.3127580839341535,
          -0.20147649625677078,
          -0.655849415043434,
          0.028705735784752807,
          -0.5397732611476717,
          -1.1555524107274069,
          -0.05729398793992294,
          -0.6431136120007939,
          -1.9735716799013714,
          0.004719502164697485,
          -0.5207745300761741,
          0.33954985035420876,
          -0.957762761950327,
          0.5134374530359685,
          -0.6124733957169589,
          0.26177959277079027,
          -0.28566141261644945,
          -4.585064007148202,
          -0.8746831124458087,
          -1.6057021863206187,
          -1.784408010418854,
          -0.0073687773498163685,
          0.6793579379775355,
          0.5733613020971904,
          -2.031840192867584,
          -1.0697455602477957,
          -0.7070053958009676,
          -1.2382762196848662,
          -0.6289979502315949,
          1.9525842166061973,
          0.08033222861543701,
          3.3743939622397536,
          0.4582800273995581,
          -1.563333178950377,
          -2.4493863483037366,
          -0.22730690232730455,
          -1.1842245173752441,
          1.7944662945426586,
          -0.3574700555394637,
          -0.36301177316395966,
          1.3357431762848657,
          0.4742513927691472,
          0.6100935756921052,
          -0.25472340396955,
          0.7728557971982637,
          2.307611404012003,
          0.9592533076886539,
          0.8491268977432256,
          -0.047652320848692094,
          0.7810670309346305,
          -0.08927467610867924,
          0.11467976874541666,
          0.14244477369872643,
          0.7886969907454728,
          1.3088959318568572,
          -1.0863901738177377,
          -0.2302082437978136,
          0.7488964107708795,
          -1.568112531275524,
          -1.4989353232010765,
          1.0037131028373556,
          -0.7649208684795135,
          -0.4718500076097371,
          0.9470331744608651,
          -0.4813242347422896,
          0.2871590006956159,
          -0.46357498937395414,
          1.7796459547332826,
          0.13927582948819153,
          0.07867055304723465,
          1.999596510486854,
          1.0613389675926643,
          1.3239380723766925,
          1.344271223393072,
          -0.30263978453063933,
          0.6901482425075112,
          -1.903027404411348,
          -0.35622883021253426,
          1.1253454920042358,
          5.34538817919574,
          3.0102218879464275,
          0.483442366344183,
          1.4812369749959464,
          0.43482611561678924,
          0.6875779128728086,
          3.361175555386425,
          1.2965075188296686,
          0.7828001731822654,
          -1.180013355309487,
          -0.7238225948116626,
          -0.16763981598372138,
          -0.45330130146918574,
          -1.1013997885920581,
          -1.0991241041153403,
          0.22182779984104778,
          1.7122154192145356,
          -1.0268314134224497,
          1.2419143328305622,
          0.6096701239723719,
          -0.9716430323608533,
          0.9469529317999691,
          -0.2528839940533326,
          -1.2451252259210637,
          -0.8559610818033772,
          -1.4581969616385655,
          -0.11078403762472656,
          -0.4725279345720869,
          -0.49595981023509345,
          0.43768174361876044,
          -0.31226799865093213,
          1.3625897815878683,
          -0.9646286882006795,
          -1.1904046839669862,
          -0.09403686133597251,
          -0.7823225555084473,
          1.6020259689000198,
          1.1600385659132237,
          0.5485596972407076,
          -0.09099872392222295,
          -0.10137693249612162,
          0.8042152181010276,
          -0.8849395211306328,
          -0.983400727224941,
          -0.4660291277785392,
          0.428226210799577,
          -1.2133582715051474,
          0.7637825515581176,
          1.4180440294968124,
          -0.8471291521285004,
          -1.3394202310855157,
          -0.9187809604264906,
          -0.34256951241432193,
          0.20758135498125058,
          -0.9409418766769949,
          -0.5506961970110882,
          1.0139136641131123
         ]
        }
       ],
       "layout": {
        "height": 600,
        "margin": {
         "l": 0,
         "r": 0
        },
        "scene": {
         "xaxis": {
          "title": {
           "text": "principal component 1"
          }
         },
         "yaxis": {
          "title": {
           "text": "principal component 2"
          }
         },
         "zaxis": {
          "title": {
           "text": "principal component 3"
          }
         }
        },
        "template": {
         "data": {
          "bar": [
           {
            "error_x": {
             "color": "#2a3f5f"
            },
            "error_y": {
             "color": "#2a3f5f"
            },
            "marker": {
             "line": {
              "color": "#E5ECF6",
              "width": 0.5
             },
             "pattern": {
              "fillmode": "overlay",
              "size": 10,
              "solidity": 0.2
             }
            },
            "type": "bar"
           }
          ],
          "barpolar": [
           {
            "marker": {
             "line": {
              "color": "#E5ECF6",
              "width": 0.5
             },
             "pattern": {
              "fillmode": "overlay",
              "size": 10,
              "solidity": 0.2
             }
            },
            "type": "barpolar"
           }
          ],
          "carpet": [
           {
            "aaxis": {
             "endlinecolor": "#2a3f5f",
             "gridcolor": "white",
             "linecolor": "white",
             "minorgridcolor": "white",
             "startlinecolor": "#2a3f5f"
            },
            "baxis": {
             "endlinecolor": "#2a3f5f",
             "gridcolor": "white",
             "linecolor": "white",
             "minorgridcolor": "white",
             "startlinecolor": "#2a3f5f"
            },
            "type": "carpet"
           }
          ],
          "choropleth": [
           {
            "colorbar": {
             "outlinewidth": 0,
             "ticks": ""
            },
            "type": "choropleth"
           }
          ],
          "contour": [
           {
            "colorbar": {
             "outlinewidth": 0,
             "ticks": ""
            },
            "colorscale": [
             [
              0,
              "#0d0887"
             ],
             [
              0.1111111111111111,
              "#46039f"
             ],
             [
              0.2222222222222222,
              "#7201a8"
             ],
             [
              0.3333333333333333,
              "#9c179e"
             ],
             [
              0.4444444444444444,
              "#bd3786"
             ],
             [
              0.5555555555555556,
              "#d8576b"
             ],
             [
              0.6666666666666666,
              "#ed7953"
             ],
             [
              0.7777777777777778,
              "#fb9f3a"
             ],
             [
              0.8888888888888888,
              "#fdca26"
             ],
             [
              1,
              "#f0f921"
             ]
            ],
            "type": "contour"
           }
          ],
          "contourcarpet": [
           {
            "colorbar": {
             "outlinewidth": 0,
             "ticks": ""
            },
            "type": "contourcarpet"
           }
          ],
          "heatmap": [
           {
            "colorbar": {
             "outlinewidth": 0,
             "ticks": ""
            },
            "colorscale": [
             [
              0,
              "#0d0887"
             ],
             [
              0.1111111111111111,
              "#46039f"
             ],
             [
              0.2222222222222222,
              "#7201a8"
             ],
             [
              0.3333333333333333,
              "#9c179e"
             ],
             [
              0.4444444444444444,
              "#bd3786"
             ],
             [
              0.5555555555555556,
              "#d8576b"
             ],
             [
              0.6666666666666666,
              "#ed7953"
             ],
             [
              0.7777777777777778,
              "#fb9f3a"
             ],
             [
              0.8888888888888888,
              "#fdca26"
             ],
             [
              1,
              "#f0f921"
             ]
            ],
            "type": "heatmap"
           }
          ],
          "heatmapgl": [
           {
            "colorbar": {
             "outlinewidth": 0,
             "ticks": ""
            },
            "colorscale": [
             [
              0,
              "#0d0887"
             ],
             [
              0.1111111111111111,
              "#46039f"
             ],
             [
              0.2222222222222222,
              "#7201a8"
             ],
             [
              0.3333333333333333,
              "#9c179e"
             ],
             [
              0.4444444444444444,
              "#bd3786"
             ],
             [
              0.5555555555555556,
              "#d8576b"
             ],
             [
              0.6666666666666666,
              "#ed7953"
             ],
             [
              0.7777777777777778,
              "#fb9f3a"
             ],
             [
              0.8888888888888888,
              "#fdca26"
             ],
             [
              1,
              "#f0f921"
             ]
            ],
            "type": "heatmapgl"
           }
          ],
          "histogram": [
           {
            "marker": {
             "pattern": {
              "fillmode": "overlay",
              "size": 10,
              "solidity": 0.2
             }
            },
            "type": "histogram"
           }
          ],
          "histogram2d": [
           {
            "colorbar": {
             "outlinewidth": 0,
             "ticks": ""
            },
            "colorscale": [
             [
              0,
              "#0d0887"
             ],
             [
              0.1111111111111111,
              "#46039f"
             ],
             [
              0.2222222222222222,
              "#7201a8"
             ],
             [
              0.3333333333333333,
              "#9c179e"
             ],
             [
              0.4444444444444444,
              "#bd3786"
             ],
             [
              0.5555555555555556,
              "#d8576b"
             ],
             [
              0.6666666666666666,
              "#ed7953"
             ],
             [
              0.7777777777777778,
              "#fb9f3a"
             ],
             [
              0.8888888888888888,
              "#fdca26"
             ],
             [
              1,
              "#f0f921"
             ]
            ],
            "type": "histogram2d"
           }
          ],
          "histogram2dcontour": [
           {
            "colorbar": {
             "outlinewidth": 0,
             "ticks": ""
            },
            "colorscale": [
             [
              0,
              "#0d0887"
             ],
             [
              0.1111111111111111,
              "#46039f"
             ],
             [
              0.2222222222222222,
              "#7201a8"
             ],
             [
              0.3333333333333333,
              "#9c179e"
             ],
             [
              0.4444444444444444,
              "#bd3786"
             ],
             [
              0.5555555555555556,
              "#d8576b"
             ],
             [
              0.6666666666666666,
              "#ed7953"
             ],
             [
              0.7777777777777778,
              "#fb9f3a"
             ],
             [
              0.8888888888888888,
              "#fdca26"
             ],
             [
              1,
              "#f0f921"
             ]
            ],
            "type": "histogram2dcontour"
           }
          ],
          "mesh3d": [
           {
            "colorbar": {
             "outlinewidth": 0,
             "ticks": ""
            },
            "type": "mesh3d"
           }
          ],
          "parcoords": [
           {
            "line": {
             "colorbar": {
              "outlinewidth": 0,
              "ticks": ""
             }
            },
            "type": "parcoords"
           }
          ],
          "pie": [
           {
            "automargin": true,
            "type": "pie"
           }
          ],
          "scatter": [
           {
            "marker": {
             "colorbar": {
              "outlinewidth": 0,
              "ticks": ""
             }
            },
            "type": "scatter"
           }
          ],
          "scatter3d": [
           {
            "line": {
             "colorbar": {
              "outlinewidth": 0,
              "ticks": ""
             }
            },
            "marker": {
             "colorbar": {
              "outlinewidth": 0,
              "ticks": ""
             }
            },
            "type": "scatter3d"
           }
          ],
          "scattercarpet": [
           {
            "marker": {
             "colorbar": {
              "outlinewidth": 0,
              "ticks": ""
             }
            },
            "type": "scattercarpet"
           }
          ],
          "scattergeo": [
           {
            "marker": {
             "colorbar": {
              "outlinewidth": 0,
              "ticks": ""
             }
            },
            "type": "scattergeo"
           }
          ],
          "scattergl": [
           {
            "marker": {
             "colorbar": {
              "outlinewidth": 0,
              "ticks": ""
             }
            },
            "type": "scattergl"
           }
          ],
          "scattermapbox": [
           {
            "marker": {
             "colorbar": {
              "outlinewidth": 0,
              "ticks": ""
             }
            },
            "type": "scattermapbox"
           }
          ],
          "scatterpolar": [
           {
            "marker": {
             "colorbar": {
              "outlinewidth": 0,
              "ticks": ""
             }
            },
            "type": "scatterpolar"
           }
          ],
          "scatterpolargl": [
           {
            "marker": {
             "colorbar": {
              "outlinewidth": 0,
              "ticks": ""
             }
            },
            "type": "scatterpolargl"
           }
          ],
          "scatterternary": [
           {
            "marker": {
             "colorbar": {
              "outlinewidth": 0,
              "ticks": ""
             }
            },
            "type": "scatterternary"
           }
          ],
          "surface": [
           {
            "colorbar": {
             "outlinewidth": 0,
             "ticks": ""
            },
            "colorscale": [
             [
              0,
              "#0d0887"
             ],
             [
              0.1111111111111111,
              "#46039f"
             ],
             [
              0.2222222222222222,
              "#7201a8"
             ],
             [
              0.3333333333333333,
              "#9c179e"
             ],
             [
              0.4444444444444444,
              "#bd3786"
             ],
             [
              0.5555555555555556,
              "#d8576b"
             ],
             [
              0.6666666666666666,
              "#ed7953"
             ],
             [
              0.7777777777777778,
              "#fb9f3a"
             ],
             [
              0.8888888888888888,
              "#fdca26"
             ],
             [
              1,
              "#f0f921"
             ]
            ],
            "type": "surface"
           }
          ],
          "table": [
           {
            "cells": {
             "fill": {
              "color": "#EBF0F8"
             },
             "line": {
              "color": "white"
             }
            },
            "header": {
             "fill": {
              "color": "#C8D4E3"
             },
             "line": {
              "color": "white"
             }
            },
            "type": "table"
           }
          ]
         },
         "layout": {
          "annotationdefaults": {
           "arrowcolor": "#2a3f5f",
           "arrowhead": 0,
           "arrowwidth": 1
          },
          "autotypenumbers": "strict",
          "coloraxis": {
           "colorbar": {
            "outlinewidth": 0,
            "ticks": ""
           }
          },
          "colorscale": {
           "diverging": [
            [
             0,
             "#8e0152"
            ],
            [
             0.1,
             "#c51b7d"
            ],
            [
             0.2,
             "#de77ae"
            ],
            [
             0.3,
             "#f1b6da"
            ],
            [
             0.4,
             "#fde0ef"
            ],
            [
             0.5,
             "#f7f7f7"
            ],
            [
             0.6,
             "#e6f5d0"
            ],
            [
             0.7,
             "#b8e186"
            ],
            [
             0.8,
             "#7fbc41"
            ],
            [
             0.9,
             "#4d9221"
            ],
            [
             1,
             "#276419"
            ]
           ],
           "sequential": [
            [
             0,
             "#0d0887"
            ],
            [
             0.1111111111111111,
             "#46039f"
            ],
            [
             0.2222222222222222,
             "#7201a8"
            ],
            [
             0.3333333333333333,
             "#9c179e"
            ],
            [
             0.4444444444444444,
             "#bd3786"
            ],
            [
             0.5555555555555556,
             "#d8576b"
            ],
            [
             0.6666666666666666,
             "#ed7953"
            ],
            [
             0.7777777777777778,
             "#fb9f3a"
            ],
            [
             0.8888888888888888,
             "#fdca26"
            ],
            [
             1,
             "#f0f921"
            ]
           ],
           "sequentialminus": [
            [
             0,
             "#0d0887"
            ],
            [
             0.1111111111111111,
             "#46039f"
            ],
            [
             0.2222222222222222,
             "#7201a8"
            ],
            [
             0.3333333333333333,
             "#9c179e"
            ],
            [
             0.4444444444444444,
             "#bd3786"
            ],
            [
             0.5555555555555556,
             "#d8576b"
            ],
            [
             0.6666666666666666,
             "#ed7953"
            ],
            [
             0.7777777777777778,
             "#fb9f3a"
            ],
            [
             0.8888888888888888,
             "#fdca26"
            ],
            [
             1,
             "#f0f921"
            ]
           ]
          },
          "colorway": [
           "#636efa",
           "#EF553B",
           "#00cc96",
           "#ab63fa",
           "#FFA15A",
           "#19d3f3",
           "#FF6692",
           "#B6E880",
           "#FF97FF",
           "#FECB52"
          ],
          "font": {
           "color": "#2a3f5f"
          },
          "geo": {
           "bgcolor": "white",
           "lakecolor": "white",
           "landcolor": "#E5ECF6",
           "showlakes": true,
           "showland": true,
           "subunitcolor": "white"
          },
          "hoverlabel": {
           "align": "left"
          },
          "hovermode": "closest",
          "mapbox": {
           "style": "light"
          },
          "paper_bgcolor": "white",
          "plot_bgcolor": "#E5ECF6",
          "polar": {
           "angularaxis": {
            "gridcolor": "white",
            "linecolor": "white",
            "ticks": ""
           },
           "bgcolor": "#E5ECF6",
           "radialaxis": {
            "gridcolor": "white",
            "linecolor": "white",
            "ticks": ""
           }
          },
          "scene": {
           "xaxis": {
            "backgroundcolor": "#E5ECF6",
            "gridcolor": "white",
            "gridwidth": 2,
            "linecolor": "white",
            "showbackground": true,
            "ticks": "",
            "zerolinecolor": "white"
           },
           "yaxis": {
            "backgroundcolor": "#E5ECF6",
            "gridcolor": "white",
            "gridwidth": 2,
            "linecolor": "white",
            "showbackground": true,
            "ticks": "",
            "zerolinecolor": "white"
           },
           "zaxis": {
            "backgroundcolor": "#E5ECF6",
            "gridcolor": "white",
            "gridwidth": 2,
            "linecolor": "white",
            "showbackground": true,
            "ticks": "",
            "zerolinecolor": "white"
           }
          },
          "shapedefaults": {
           "line": {
            "color": "#2a3f5f"
           }
          },
          "ternary": {
           "aaxis": {
            "gridcolor": "white",
            "linecolor": "white",
            "ticks": ""
           },
           "baxis": {
            "gridcolor": "white",
            "linecolor": "white",
            "ticks": ""
           },
           "bgcolor": "#E5ECF6",
           "caxis": {
            "gridcolor": "white",
            "linecolor": "white",
            "ticks": ""
           }
          },
          "title": {
           "x": 0.05
          },
          "xaxis": {
           "automargin": true,
           "gridcolor": "white",
           "linecolor": "white",
           "ticks": "",
           "title": {
            "standoff": 15
           },
           "zerolinecolor": "white",
           "zerolinewidth": 2
          },
          "yaxis": {
           "automargin": true,
           "gridcolor": "white",
           "linecolor": "white",
           "ticks": "",
           "title": {
            "standoff": 15
           },
           "zerolinecolor": "white",
           "zerolinewidth": 2
          }
         }
        },
        "width": 600
       }
      },
      "text/html": [
       "<div>                            <div id=\"7126c70f-8fb8-480d-b9cd-0fd255e29878\" class=\"plotly-graph-div\" style=\"height:600px; width:600px;\"></div>            <script type=\"text/javascript\">                require([\"plotly\"], function(Plotly) {                    window.PLOTLYENV=window.PLOTLYENV || {};                                    if (document.getElementById(\"7126c70f-8fb8-480d-b9cd-0fd255e29878\")) {                    Plotly.newPlot(                        \"7126c70f-8fb8-480d-b9cd-0fd255e29878\",                        [{\"marker\":{\"color\":[0,-1,0,-1,-1,0,0,0,0,0,0,0,0,0,-1,0,0,0,0,0,0,0,0,0,0,-1,0,0,0,0,0,0,0,0,0,0,0,0,-1,0,0,0,0,0,0,0,0,0,0,0,-1,0,0,0,0,0,0,0,0,-1,0,1,-1,0,0,0,-1,0,-1,-1,0,0,0,-1,0,0,-1,0,-1,0,-1,0,0,1,0,0,0,0,0,0,0,0,0,0,0,0,0,0,0,0,0,0,0,0,0,0,0,0,0,0,0,0,-1,0,0,-1,0,0,-1,0,0,-1,-1,0,0,0,0,-1,0,0,-1,1,1,1,1,1,-1,-1,1,1,1,1,1,1,1,1,1,1,1,1,1,1,1,1,1,1,1,-1,-1,1,1,1,1,1,1,1,1,1,1,1,1,1,1,1,1,1,1,-1],\"line\":{\"color\":\"black\",\"width\":10},\"size\":10},\"mode\":\"markers\",\"type\":\"scatter3d\",\"x\":[3.3167508122147753,2.2094649169188436,2.5167401466103803,3.7570656097732,1.0089084937957138,3.050253922418077,2.4490896695962308,2.059436871437913,2.510874297398989,2.7536281876339084,3.47973668273121,1.7547529012945884,2.113462340315095,3.458156819336721,4.312783906765558,2.30518820082797,2.1719552737415113,1.8989711765627602,3.5419850819434666,2.0845222047303116,3.1244025351672,1.0865700683322397,2.5352240799037142,1.6449883412544688,1.7615758722693,0.9900791016088539,1.7752776281133675,1.2354239643099056,2.1884063344519613,2.2561089812837074,2.5002200257894245,2.677411047444013,1.6285791164309182,1.902690862238146,1.4103885265954055,1.9038262321944859,1.384862230374837,1.1222074104413093,1.5021945006181914,2.5298010923718093,2.588095425854402,0.6684819937541876,3.0708069904120063,0.4622091375160073,2.101351930538015,1.1361661775610183,2.726600963640804,2.8213392741922485,2.009850850912358,2.7074913042663926,3.2149174747738214,2.858959826717293,3.5056043559232197,2.2247913805321717,2.1469878235638653,2.4693294837977864,2.741517914277451,2.1737409209653054,3.139380151828993,-0.9285819689218536,-1.5424801378968804,-1.8362497634669395,0.030606834086681682,2.050261607576315,-0.6096808271776226,0.9002278387071417,2.248507190798394,0.1833840266847562,-0.8128050273520709,1.9756204987985522,-1.572216219626299,1.6576818088332903,-0.725372388035354,2.5622271731703585,1.8325675700495454,-0.8679929031954124,0.37001440429478377,-1.4573770449061387,1.2629308497284955,0.3761503719342409,0.7620639041095983,1.0345779671651871,-0.4948767556803275,-2.538977084295118,0.8353201453942957,0.7879046149897092,-0.8068321559655388,-0.5580426248756825,-1.1151110419194465,-0.5557228299517006,-1.3492852824437305,-1.5644826057199062,-1.9325556106314636,0.7466659419884497,0.9574553638036392,2.543865184199549,-0.5439525887762311,1.0310497503881482,2.2519094221481226,1.4102160153374583,0.7977197926930409,-0.5495317266494637,-0.16117373994854525,-0.6597949416843601,0.39235440818508327,-1.7724990779600338,-0.366267357352064,-1.6206725727874787,0.08253578349332737,1.5782750709323796,1.4205692478240148,-0.2787027536488543,-1.3031449662482815,-0.4570718656526261,-0.49418584704437535,0.48207440977309185,-0.2528888776531998,-0.10722763772912346,-2.433012602550216,-0.5510895391746496,0.7396219285682196,1.3363217334183273,-1.177086996247772,-0.4623350080196765,0.9784740793566474,-0.09680972631598551,0.03848714594902482,-1.597158501207472,-0.47956491608312474,-1.7928334730311433,-1.3271016561416018,-2.3845008347435286,-2.936940102146611,-2.146811133816063,-2.3698694883330416,-3.063841568720353,-3.9157537837118883,-3.936463390715962,-3.0942761177622726,-2.374471628006922,-2.7788129476325127,-2.286561284738468,-2.9856334874494643,-2.375194698227107,-2.2098655255958715,-2.6256210046927193,-4.280638778751083,-3.582641372001102,-2.8070637200816573,-2.899659333023909,-2.3207369765492043,-2.5498309472261362,-1.8125412848422988,-2.7601446419239495,-2.737150500667991,-3.6048688681834222,-2.8898259968735047,-3.392156076835721,-1.0481818968536778,-1.6099122828479355,-3.143130966743974,-2.24015689626954,-2.8476737761195197,-2.5974970566487636,-2.949299373134843,-3.5300322663493096,-2.4061105404785517,-2.9290847269674543,-2.18141277881262,-2.3809277871356382,-3.2116172150412474,-3.677918720973815,-2.4655557980404477,-3.3705241454428583,-2.6019558512247363,-2.6778394608645013,-2.3870170912797186,-3.20875816419802],\"y\":[-1.4434626343180088,0.33339288708029985,-1.0311512962743197,-2.756371913710715,-0.8698308214172058,-2.1224011146341937,-1.1748501316494753,-1.6089630683635092,-0.9180709573337771,-0.7894376738336074,-1.3023332371235965,-0.6119772287456323,-0.6757063391426198,-1.1306298761729388,-2.095975575341264,-1.6625517299890584,-2.3273053361914218,-1.63136887864284,-2.51834366930665,-1.0611379935838607,-0.7868971056508955,-0.24174355133283978,0.09184062072088074,0.5162789300672352,0.31714893268438116,-0.9406673381906354,-0.6861751342850249,0.08980704136064004,-0.6895696206616251,-0.19146193688666505,-1.2408338348969448,-1.4718736461032509,-0.052704450575323775,-1.633060434769985,-0.6979343246113576,-0.17671095109545648,-0.6586398536611502,-0.11410976029688874,0.7694320064310095,-1.8030019760618285,-0.7796163041925084,-0.16996094061987485,-1.1559189566098846,-0.330742132192275,0.07100892095406687,-1.7771073929776393,-1.1913346919571848,-0.6462585991417041,-1.2470294606787615,-1.7519674072063394,-0.1669919949967911,-0.7452788039895895,-1.6127338560350133,-1.8751679995630268,-1.0167515377576608,-1.3290083106496238,-1.436548783512516,-1.212199840697796,-1.731579115992515,3.073486163188932,1.3814435080942298,0.829984123055719,1.2627861442114034,1.9250326046501016,1.9080588050851888,0.763911473609609,1.884592484550134,2.4271461147035733,0.22051398690226945,1.403283225309617,0.8849831369082231,0.9567121974591496,1.0636454007060956,-0.2601985506545973,1.2878781978605263,2.444101185580866,2.1539069751569904,1.383351769076261,0.7708495299701186,1.0270434033558236,3.3750538099635374,1.4507097382440928,2.3812435267673715,0.08744335730498286,1.473670551400869,2.026626522462479,2.233830390843913,2.3729854288494563,1.8022471916654548,2.657540035392295,2.1180014697848204,1.8522145217655521,1.559495456898623,2.3129317092207424,2.2235284346674615,-0.16927402279974083,0.3689265458773172,2.565569348733525,1.4327413803542552,2.1661917693703856,2.3769488030818637,2.293128643245629,1.1644833215600165,2.679961185989638,2.098731708765539,1.717288469376144,2.169353297829285,1.3555833880259582,2.3062345877483272,1.4620342902048171,1.4182066376337517,1.93056808867047,0.7631723136577919,2.2694156075896763,1.9390450494868336,3.8717838484072415,2.821492374701595,1.9289220425669604,1.2571410404943948,2.222161550776624,1.4089566673657128,-0.25333693116830713,0.6639668398015719,0.6182881794850437,1.4455704988958278,2.1099979931352273,1.2667621091578858,1.208143574128486,1.9388406603940493,1.1502881044421063,-0.17038923204902764,-0.37458260552469336,-0.26386183006838027,-0.3682549518864612,0.45963480923116673,-0.35341283545840335,-0.1545825194417321,-0.6596872334097823,-0.34884275927379566,-0.29198035155999447,-0.2868048728821742,-0.3725078446852987,-0.4892179083470127,-0.4823337172448774,-1.1600525041576437,-0.5631607642108342,-0.6496709640237052,-1.2727027497273018,-1.5705337870411984,-2.041057007938465,-2.356366075556676,-2.0452830910195257,-1.5276459462687526,-2.1389323476426125,-0.4098862708817906,-1.8023842175839677,-1.9252186131303433,-1.3118763884735976,-3.5150896912197336,-2.4066381595743307,-0.7381610441757982,-1.1754652881188647,-0.5560439658826741,-0.6979655372009196,-1.555308964283984,-0.8825267962042361,-2.5923561750423993,-1.2744469479044833,-2.0775373127345174,-2.5886674324185917,0.25124910442559206,-0.8477478441497638,-2.193798303654095,-2.2162891398611375,-1.7572293509792754,-2.760899131674548,-2.297346679712821,-2.7689195660475763],\"z\":[-0.16573904461441977,-2.0264573738075335,0.982818670212059,-0.17619184219949258,2.0266882192354063,-0.6293958270439122,-0.9770948907141955,0.14628188306155923,-1.7709690272289416,-0.9842474895182348,-0.4227352165808461,-1.1908783196301738,-0.8650864256166532,-1.20427635253819,-1.2639127523579985,0.21790261559595828,0.8317298659860067,0.7949137923810692,-0.4854585076662916,-0.16474667849947355,-0.3648870829888463,0.936961599610645,-0.311932659347969,0.14388509467079577,0.8902856474056889,3.820908008194834,-0.08670040648876251,-1.3868965448964345,1.394566880850359,-1.0926572575082927,1.3860178547156772,-0.3322617283750933,-0.167128706245334,1.172082119175344,0.4797430251686612,0.45083504003720887,0.45843858085206185,-0.03910727668974891,-1.4261773458904599,-0.3431523889796911,-0.11847746611373658,-0.7833625480611431,-0.3127580839341535,-0.20147649625677078,-0.655849415043434,0.028705735784752807,-0.5397732611476717,-1.1555524107274069,-0.05729398793992294,-0.6431136120007939,-1.9735716799013714,0.004719502164697485,-0.5207745300761741,0.33954985035420876,-0.957762761950327,0.5134374530359685,-0.6124733957169589,0.26177959277079027,-0.28566141261644945,-4.585064007148202,-0.8746831124458087,-1.6057021863206187,-1.784408010418854,-0.0073687773498163685,0.6793579379775355,0.5733613020971904,-2.031840192867584,-1.0697455602477957,-0.7070053958009676,-1.2382762196848662,-0.6289979502315949,1.9525842166061973,0.08033222861543701,3.3743939622397536,0.4582800273995581,-1.563333178950377,-2.4493863483037366,-0.22730690232730455,-1.1842245173752441,1.7944662945426586,-0.3574700555394637,-0.36301177316395966,1.3357431762848657,0.4742513927691472,0.6100935756921052,-0.25472340396955,0.7728557971982637,2.307611404012003,0.9592533076886539,0.8491268977432256,-0.047652320848692094,0.7810670309346305,-0.08927467610867924,0.11467976874541666,0.14244477369872643,0.7886969907454728,1.3088959318568572,-1.0863901738177377,-0.2302082437978136,0.7488964107708795,-1.568112531275524,-1.4989353232010765,1.0037131028373556,-0.7649208684795135,-0.4718500076097371,0.9470331744608651,-0.4813242347422896,0.2871590006956159,-0.46357498937395414,1.7796459547332826,0.13927582948819153,0.07867055304723465,1.999596510486854,1.0613389675926643,1.3239380723766925,1.344271223393072,-0.30263978453063933,0.6901482425075112,-1.903027404411348,-0.35622883021253426,1.1253454920042358,5.34538817919574,3.0102218879464275,0.483442366344183,1.4812369749959464,0.43482611561678924,0.6875779128728086,3.361175555386425,1.2965075188296686,0.7828001731822654,-1.180013355309487,-0.7238225948116626,-0.16763981598372138,-0.45330130146918574,-1.1013997885920581,-1.0991241041153403,0.22182779984104778,1.7122154192145356,-1.0268314134224497,1.2419143328305622,0.6096701239723719,-0.9716430323608533,0.9469529317999691,-0.2528839940533326,-1.2451252259210637,-0.8559610818033772,-1.4581969616385655,-0.11078403762472656,-0.4725279345720869,-0.49595981023509345,0.43768174361876044,-0.31226799865093213,1.3625897815878683,-0.9646286882006795,-1.1904046839669862,-0.09403686133597251,-0.7823225555084473,1.6020259689000198,1.1600385659132237,0.5485596972407076,-0.09099872392222295,-0.10137693249612162,0.8042152181010276,-0.8849395211306328,-0.983400727224941,-0.4660291277785392,0.428226210799577,-1.2133582715051474,0.7637825515581176,1.4180440294968124,-0.8471291521285004,-1.3394202310855157,-0.9187809604264906,-0.34256951241432193,0.20758135498125058,-0.9409418766769949,-0.5506961970110882,1.0139136641131123]}],                        {\"height\":600,\"margin\":{\"l\":0,\"r\":0},\"scene\":{\"xaxis\":{\"title\":{\"text\":\"principal component 1\"}},\"yaxis\":{\"title\":{\"text\":\"principal component 2\"}},\"zaxis\":{\"title\":{\"text\":\"principal component 3\"}}},\"template\":{\"data\":{\"bar\":[{\"error_x\":{\"color\":\"#2a3f5f\"},\"error_y\":{\"color\":\"#2a3f5f\"},\"marker\":{\"line\":{\"color\":\"#E5ECF6\",\"width\":0.5},\"pattern\":{\"fillmode\":\"overlay\",\"size\":10,\"solidity\":0.2}},\"type\":\"bar\"}],\"barpolar\":[{\"marker\":{\"line\":{\"color\":\"#E5ECF6\",\"width\":0.5},\"pattern\":{\"fillmode\":\"overlay\",\"size\":10,\"solidity\":0.2}},\"type\":\"barpolar\"}],\"carpet\":[{\"aaxis\":{\"endlinecolor\":\"#2a3f5f\",\"gridcolor\":\"white\",\"linecolor\":\"white\",\"minorgridcolor\":\"white\",\"startlinecolor\":\"#2a3f5f\"},\"baxis\":{\"endlinecolor\":\"#2a3f5f\",\"gridcolor\":\"white\",\"linecolor\":\"white\",\"minorgridcolor\":\"white\",\"startlinecolor\":\"#2a3f5f\"},\"type\":\"carpet\"}],\"choropleth\":[{\"colorbar\":{\"outlinewidth\":0,\"ticks\":\"\"},\"type\":\"choropleth\"}],\"contour\":[{\"colorbar\":{\"outlinewidth\":0,\"ticks\":\"\"},\"colorscale\":[[0.0,\"#0d0887\"],[0.1111111111111111,\"#46039f\"],[0.2222222222222222,\"#7201a8\"],[0.3333333333333333,\"#9c179e\"],[0.4444444444444444,\"#bd3786\"],[0.5555555555555556,\"#d8576b\"],[0.6666666666666666,\"#ed7953\"],[0.7777777777777778,\"#fb9f3a\"],[0.8888888888888888,\"#fdca26\"],[1.0,\"#f0f921\"]],\"type\":\"contour\"}],\"contourcarpet\":[{\"colorbar\":{\"outlinewidth\":0,\"ticks\":\"\"},\"type\":\"contourcarpet\"}],\"heatmap\":[{\"colorbar\":{\"outlinewidth\":0,\"ticks\":\"\"},\"colorscale\":[[0.0,\"#0d0887\"],[0.1111111111111111,\"#46039f\"],[0.2222222222222222,\"#7201a8\"],[0.3333333333333333,\"#9c179e\"],[0.4444444444444444,\"#bd3786\"],[0.5555555555555556,\"#d8576b\"],[0.6666666666666666,\"#ed7953\"],[0.7777777777777778,\"#fb9f3a\"],[0.8888888888888888,\"#fdca26\"],[1.0,\"#f0f921\"]],\"type\":\"heatmap\"}],\"heatmapgl\":[{\"colorbar\":{\"outlinewidth\":0,\"ticks\":\"\"},\"colorscale\":[[0.0,\"#0d0887\"],[0.1111111111111111,\"#46039f\"],[0.2222222222222222,\"#7201a8\"],[0.3333333333333333,\"#9c179e\"],[0.4444444444444444,\"#bd3786\"],[0.5555555555555556,\"#d8576b\"],[0.6666666666666666,\"#ed7953\"],[0.7777777777777778,\"#fb9f3a\"],[0.8888888888888888,\"#fdca26\"],[1.0,\"#f0f921\"]],\"type\":\"heatmapgl\"}],\"histogram\":[{\"marker\":{\"pattern\":{\"fillmode\":\"overlay\",\"size\":10,\"solidity\":0.2}},\"type\":\"histogram\"}],\"histogram2d\":[{\"colorbar\":{\"outlinewidth\":0,\"ticks\":\"\"},\"colorscale\":[[0.0,\"#0d0887\"],[0.1111111111111111,\"#46039f\"],[0.2222222222222222,\"#7201a8\"],[0.3333333333333333,\"#9c179e\"],[0.4444444444444444,\"#bd3786\"],[0.5555555555555556,\"#d8576b\"],[0.6666666666666666,\"#ed7953\"],[0.7777777777777778,\"#fb9f3a\"],[0.8888888888888888,\"#fdca26\"],[1.0,\"#f0f921\"]],\"type\":\"histogram2d\"}],\"histogram2dcontour\":[{\"colorbar\":{\"outlinewidth\":0,\"ticks\":\"\"},\"colorscale\":[[0.0,\"#0d0887\"],[0.1111111111111111,\"#46039f\"],[0.2222222222222222,\"#7201a8\"],[0.3333333333333333,\"#9c179e\"],[0.4444444444444444,\"#bd3786\"],[0.5555555555555556,\"#d8576b\"],[0.6666666666666666,\"#ed7953\"],[0.7777777777777778,\"#fb9f3a\"],[0.8888888888888888,\"#fdca26\"],[1.0,\"#f0f921\"]],\"type\":\"histogram2dcontour\"}],\"mesh3d\":[{\"colorbar\":{\"outlinewidth\":0,\"ticks\":\"\"},\"type\":\"mesh3d\"}],\"parcoords\":[{\"line\":{\"colorbar\":{\"outlinewidth\":0,\"ticks\":\"\"}},\"type\":\"parcoords\"}],\"pie\":[{\"automargin\":true,\"type\":\"pie\"}],\"scatter\":[{\"marker\":{\"colorbar\":{\"outlinewidth\":0,\"ticks\":\"\"}},\"type\":\"scatter\"}],\"scatter3d\":[{\"line\":{\"colorbar\":{\"outlinewidth\":0,\"ticks\":\"\"}},\"marker\":{\"colorbar\":{\"outlinewidth\":0,\"ticks\":\"\"}},\"type\":\"scatter3d\"}],\"scattercarpet\":[{\"marker\":{\"colorbar\":{\"outlinewidth\":0,\"ticks\":\"\"}},\"type\":\"scattercarpet\"}],\"scattergeo\":[{\"marker\":{\"colorbar\":{\"outlinewidth\":0,\"ticks\":\"\"}},\"type\":\"scattergeo\"}],\"scattergl\":[{\"marker\":{\"colorbar\":{\"outlinewidth\":0,\"ticks\":\"\"}},\"type\":\"scattergl\"}],\"scattermapbox\":[{\"marker\":{\"colorbar\":{\"outlinewidth\":0,\"ticks\":\"\"}},\"type\":\"scattermapbox\"}],\"scatterpolar\":[{\"marker\":{\"colorbar\":{\"outlinewidth\":0,\"ticks\":\"\"}},\"type\":\"scatterpolar\"}],\"scatterpolargl\":[{\"marker\":{\"colorbar\":{\"outlinewidth\":0,\"ticks\":\"\"}},\"type\":\"scatterpolargl\"}],\"scatterternary\":[{\"marker\":{\"colorbar\":{\"outlinewidth\":0,\"ticks\":\"\"}},\"type\":\"scatterternary\"}],\"surface\":[{\"colorbar\":{\"outlinewidth\":0,\"ticks\":\"\"},\"colorscale\":[[0.0,\"#0d0887\"],[0.1111111111111111,\"#46039f\"],[0.2222222222222222,\"#7201a8\"],[0.3333333333333333,\"#9c179e\"],[0.4444444444444444,\"#bd3786\"],[0.5555555555555556,\"#d8576b\"],[0.6666666666666666,\"#ed7953\"],[0.7777777777777778,\"#fb9f3a\"],[0.8888888888888888,\"#fdca26\"],[1.0,\"#f0f921\"]],\"type\":\"surface\"}],\"table\":[{\"cells\":{\"fill\":{\"color\":\"#EBF0F8\"},\"line\":{\"color\":\"white\"}},\"header\":{\"fill\":{\"color\":\"#C8D4E3\"},\"line\":{\"color\":\"white\"}},\"type\":\"table\"}]},\"layout\":{\"annotationdefaults\":{\"arrowcolor\":\"#2a3f5f\",\"arrowhead\":0,\"arrowwidth\":1},\"autotypenumbers\":\"strict\",\"coloraxis\":{\"colorbar\":{\"outlinewidth\":0,\"ticks\":\"\"}},\"colorscale\":{\"diverging\":[[0,\"#8e0152\"],[0.1,\"#c51b7d\"],[0.2,\"#de77ae\"],[0.3,\"#f1b6da\"],[0.4,\"#fde0ef\"],[0.5,\"#f7f7f7\"],[0.6,\"#e6f5d0\"],[0.7,\"#b8e186\"],[0.8,\"#7fbc41\"],[0.9,\"#4d9221\"],[1,\"#276419\"]],\"sequential\":[[0.0,\"#0d0887\"],[0.1111111111111111,\"#46039f\"],[0.2222222222222222,\"#7201a8\"],[0.3333333333333333,\"#9c179e\"],[0.4444444444444444,\"#bd3786\"],[0.5555555555555556,\"#d8576b\"],[0.6666666666666666,\"#ed7953\"],[0.7777777777777778,\"#fb9f3a\"],[0.8888888888888888,\"#fdca26\"],[1.0,\"#f0f921\"]],\"sequentialminus\":[[0.0,\"#0d0887\"],[0.1111111111111111,\"#46039f\"],[0.2222222222222222,\"#7201a8\"],[0.3333333333333333,\"#9c179e\"],[0.4444444444444444,\"#bd3786\"],[0.5555555555555556,\"#d8576b\"],[0.6666666666666666,\"#ed7953\"],[0.7777777777777778,\"#fb9f3a\"],[0.8888888888888888,\"#fdca26\"],[1.0,\"#f0f921\"]]},\"colorway\":[\"#636efa\",\"#EF553B\",\"#00cc96\",\"#ab63fa\",\"#FFA15A\",\"#19d3f3\",\"#FF6692\",\"#B6E880\",\"#FF97FF\",\"#FECB52\"],\"font\":{\"color\":\"#2a3f5f\"},\"geo\":{\"bgcolor\":\"white\",\"lakecolor\":\"white\",\"landcolor\":\"#E5ECF6\",\"showlakes\":true,\"showland\":true,\"subunitcolor\":\"white\"},\"hoverlabel\":{\"align\":\"left\"},\"hovermode\":\"closest\",\"mapbox\":{\"style\":\"light\"},\"paper_bgcolor\":\"white\",\"plot_bgcolor\":\"#E5ECF6\",\"polar\":{\"angularaxis\":{\"gridcolor\":\"white\",\"linecolor\":\"white\",\"ticks\":\"\"},\"bgcolor\":\"#E5ECF6\",\"radialaxis\":{\"gridcolor\":\"white\",\"linecolor\":\"white\",\"ticks\":\"\"}},\"scene\":{\"xaxis\":{\"backgroundcolor\":\"#E5ECF6\",\"gridcolor\":\"white\",\"gridwidth\":2,\"linecolor\":\"white\",\"showbackground\":true,\"ticks\":\"\",\"zerolinecolor\":\"white\"},\"yaxis\":{\"backgroundcolor\":\"#E5ECF6\",\"gridcolor\":\"white\",\"gridwidth\":2,\"linecolor\":\"white\",\"showbackground\":true,\"ticks\":\"\",\"zerolinecolor\":\"white\"},\"zaxis\":{\"backgroundcolor\":\"#E5ECF6\",\"gridcolor\":\"white\",\"gridwidth\":2,\"linecolor\":\"white\",\"showbackground\":true,\"ticks\":\"\",\"zerolinecolor\":\"white\"}},\"shapedefaults\":{\"line\":{\"color\":\"#2a3f5f\"}},\"ternary\":{\"aaxis\":{\"gridcolor\":\"white\",\"linecolor\":\"white\",\"ticks\":\"\"},\"baxis\":{\"gridcolor\":\"white\",\"linecolor\":\"white\",\"ticks\":\"\"},\"bgcolor\":\"#E5ECF6\",\"caxis\":{\"gridcolor\":\"white\",\"linecolor\":\"white\",\"ticks\":\"\"}},\"title\":{\"x\":0.05},\"xaxis\":{\"automargin\":true,\"gridcolor\":\"white\",\"linecolor\":\"white\",\"ticks\":\"\",\"title\":{\"standoff\":15},\"zerolinecolor\":\"white\",\"zerolinewidth\":2},\"yaxis\":{\"automargin\":true,\"gridcolor\":\"white\",\"linecolor\":\"white\",\"ticks\":\"\",\"title\":{\"standoff\":15},\"zerolinecolor\":\"white\",\"zerolinewidth\":2}}},\"width\":600},                        {\"responsive\": true}                    ).then(function(){\n",
       "                            \n",
       "var gd = document.getElementById('7126c70f-8fb8-480d-b9cd-0fd255e29878');\n",
       "var x = new MutationObserver(function (mutations, observer) {{\n",
       "        var display = window.getComputedStyle(gd).display;\n",
       "        if (!display || display === 'none') {{\n",
       "            console.log([gd, 'removed!']);\n",
       "            Plotly.purge(gd);\n",
       "            observer.disconnect();\n",
       "        }}\n",
       "}});\n",
       "\n",
       "// Listen for the removal of the full notebook cells\n",
       "var notebookContainer = gd.closest('#notebook-container');\n",
       "if (notebookContainer) {{\n",
       "    x.observe(notebookContainer, {childList: true});\n",
       "}}\n",
       "\n",
       "// Listen for the clearing of the current output cell\n",
       "var outputEl = gd.closest('.output');\n",
       "if (outputEl) {{\n",
       "    x.observe(outputEl, {childList: true});\n",
       "}}\n",
       "\n",
       "                        })                };                });            </script>        </div>"
      ]
     },
     "metadata": {},
     "output_type": "display_data"
    }
   ],
   "source": [
    "plot_optdbscan(1.5,6)\n",
    "plot_optdbscan(1.25,6)\n",
    "plot_optdbscan(1,6)"
   ]
  },
  {
   "cell_type": "markdown",
   "id": "bd84cb4e",
   "metadata": {},
   "source": [
    "# Here we can see the data has been divided into two density clusters \"White\" and \"Green\" colours, the outliers are displayed as \"Red\""
   ]
  },
  {
   "cell_type": "code",
   "execution_count": 22,
   "id": "8b00fcd0",
   "metadata": {},
   "outputs": [
    {
     "data": {
      "text/html": [
       "<div>\n",
       "<style scoped>\n",
       "    .dataframe tbody tr th:only-of-type {\n",
       "        vertical-align: middle;\n",
       "    }\n",
       "\n",
       "    .dataframe tbody tr th {\n",
       "        vertical-align: top;\n",
       "    }\n",
       "\n",
       "    .dataframe thead th {\n",
       "        text-align: right;\n",
       "    }\n",
       "</style>\n",
       "<table border=\"1\" class=\"dataframe\">\n",
       "  <thead>\n",
       "    <tr style=\"text-align: right;\">\n",
       "      <th></th>\n",
       "      <th>Alcohol</th>\n",
       "      <th>Malic_Acid</th>\n",
       "      <th>Ash</th>\n",
       "      <th>Ash_Alcanity</th>\n",
       "      <th>Magnesium</th>\n",
       "      <th>Total_Phenols</th>\n",
       "      <th>Flavanoids</th>\n",
       "      <th>Nonflavanoid_Phenols</th>\n",
       "      <th>Proanthocyanins</th>\n",
       "      <th>Color_Intensity</th>\n",
       "      <th>Hue</th>\n",
       "      <th>OD280</th>\n",
       "      <th>Proline</th>\n",
       "      <th>Cluster</th>\n",
       "    </tr>\n",
       "  </thead>\n",
       "  <tbody>\n",
       "    <tr>\n",
       "      <th>count</th>\n",
       "      <td>106.000000</td>\n",
       "      <td>106.000000</td>\n",
       "      <td>106.000000</td>\n",
       "      <td>106.000000</td>\n",
       "      <td>106.000000</td>\n",
       "      <td>106.000000</td>\n",
       "      <td>106.000000</td>\n",
       "      <td>106.000000</td>\n",
       "      <td>106.000000</td>\n",
       "      <td>106.000000</td>\n",
       "      <td>106.000000</td>\n",
       "      <td>106.000000</td>\n",
       "      <td>106.000000</td>\n",
       "      <td>106.0</td>\n",
       "    </tr>\n",
       "    <tr>\n",
       "      <th>mean</th>\n",
       "      <td>12.983962</td>\n",
       "      <td>1.991698</td>\n",
       "      <td>2.353585</td>\n",
       "      <td>18.780189</td>\n",
       "      <td>99.113208</td>\n",
       "      <td>2.543113</td>\n",
       "      <td>2.523396</td>\n",
       "      <td>0.320849</td>\n",
       "      <td>1.773019</td>\n",
       "      <td>4.199906</td>\n",
       "      <td>1.048642</td>\n",
       "      <td>3.002642</td>\n",
       "      <td>808.754717</td>\n",
       "      <td>1.0</td>\n",
       "    </tr>\n",
       "    <tr>\n",
       "      <th>std</th>\n",
       "      <td>0.904296</td>\n",
       "      <td>0.866202</td>\n",
       "      <td>0.233981</td>\n",
       "      <td>2.704297</td>\n",
       "      <td>14.287738</td>\n",
       "      <td>0.536611</td>\n",
       "      <td>0.675410</td>\n",
       "      <td>0.098320</td>\n",
       "      <td>0.485224</td>\n",
       "      <td>1.620364</td>\n",
       "      <td>0.158251</td>\n",
       "      <td>0.438542</td>\n",
       "      <td>353.261398</td>\n",
       "      <td>0.0</td>\n",
       "    </tr>\n",
       "    <tr>\n",
       "      <th>min</th>\n",
       "      <td>11.410000</td>\n",
       "      <td>0.740000</td>\n",
       "      <td>1.700000</td>\n",
       "      <td>11.400000</td>\n",
       "      <td>70.000000</td>\n",
       "      <td>1.100000</td>\n",
       "      <td>0.990000</td>\n",
       "      <td>0.130000</td>\n",
       "      <td>0.410000</td>\n",
       "      <td>1.280000</td>\n",
       "      <td>0.690000</td>\n",
       "      <td>1.670000</td>\n",
       "      <td>290.000000</td>\n",
       "      <td>1.0</td>\n",
       "    </tr>\n",
       "    <tr>\n",
       "      <th>25%</th>\n",
       "      <td>12.227500</td>\n",
       "      <td>1.530000</td>\n",
       "      <td>2.210000</td>\n",
       "      <td>16.800000</td>\n",
       "      <td>88.000000</td>\n",
       "      <td>2.200000</td>\n",
       "      <td>2.032500</td>\n",
       "      <td>0.260000</td>\n",
       "      <td>1.442500</td>\n",
       "      <td>2.800000</td>\n",
       "      <td>0.932500</td>\n",
       "      <td>2.770000</td>\n",
       "      <td>489.750000</td>\n",
       "      <td>1.0</td>\n",
       "    </tr>\n",
       "    <tr>\n",
       "      <th>50%</th>\n",
       "      <td>12.990000</td>\n",
       "      <td>1.730000</td>\n",
       "      <td>2.340000</td>\n",
       "      <td>18.700000</td>\n",
       "      <td>98.000000</td>\n",
       "      <td>2.600000</td>\n",
       "      <td>2.620000</td>\n",
       "      <td>0.300000</td>\n",
       "      <td>1.695000</td>\n",
       "      <td>3.935000</td>\n",
       "      <td>1.040000</td>\n",
       "      <td>3.000000</td>\n",
       "      <td>765.000000</td>\n",
       "      <td>1.0</td>\n",
       "    </tr>\n",
       "    <tr>\n",
       "      <th>75%</th>\n",
       "      <td>13.767500</td>\n",
       "      <td>2.050000</td>\n",
       "      <td>2.517500</td>\n",
       "      <td>20.650000</td>\n",
       "      <td>107.000000</td>\n",
       "      <td>2.950000</td>\n",
       "      <td>3.000000</td>\n",
       "      <td>0.370000</td>\n",
       "      <td>1.987500</td>\n",
       "      <td>5.400000</td>\n",
       "      <td>1.157500</td>\n",
       "      <td>3.325000</td>\n",
       "      <td>1091.250000</td>\n",
       "      <td>1.0</td>\n",
       "    </tr>\n",
       "    <tr>\n",
       "      <th>max</th>\n",
       "      <td>14.830000</td>\n",
       "      <td>5.800000</td>\n",
       "      <td>2.840000</td>\n",
       "      <td>26.000000</td>\n",
       "      <td>162.000000</td>\n",
       "      <td>3.880000</td>\n",
       "      <td>3.930000</td>\n",
       "      <td>0.660000</td>\n",
       "      <td>3.580000</td>\n",
       "      <td>8.900000</td>\n",
       "      <td>1.450000</td>\n",
       "      <td>4.000000</td>\n",
       "      <td>1680.000000</td>\n",
       "      <td>1.0</td>\n",
       "    </tr>\n",
       "  </tbody>\n",
       "</table>\n",
       "</div>"
      ],
      "text/plain": [
       "          Alcohol  Malic_Acid         Ash  Ash_Alcanity   Magnesium  \\\n",
       "count  106.000000  106.000000  106.000000    106.000000  106.000000   \n",
       "mean    12.983962    1.991698    2.353585     18.780189   99.113208   \n",
       "std      0.904296    0.866202    0.233981      2.704297   14.287738   \n",
       "min     11.410000    0.740000    1.700000     11.400000   70.000000   \n",
       "25%     12.227500    1.530000    2.210000     16.800000   88.000000   \n",
       "50%     12.990000    1.730000    2.340000     18.700000   98.000000   \n",
       "75%     13.767500    2.050000    2.517500     20.650000  107.000000   \n",
       "max     14.830000    5.800000    2.840000     26.000000  162.000000   \n",
       "\n",
       "       Total_Phenols  Flavanoids  Nonflavanoid_Phenols  Proanthocyanins  \\\n",
       "count     106.000000  106.000000            106.000000       106.000000   \n",
       "mean        2.543113    2.523396              0.320849         1.773019   \n",
       "std         0.536611    0.675410              0.098320         0.485224   \n",
       "min         1.100000    0.990000              0.130000         0.410000   \n",
       "25%         2.200000    2.032500              0.260000         1.442500   \n",
       "50%         2.600000    2.620000              0.300000         1.695000   \n",
       "75%         2.950000    3.000000              0.370000         1.987500   \n",
       "max         3.880000    3.930000              0.660000         3.580000   \n",
       "\n",
       "       Color_Intensity         Hue       OD280      Proline  Cluster  \n",
       "count       106.000000  106.000000  106.000000   106.000000    106.0  \n",
       "mean          4.199906    1.048642    3.002642   808.754717      1.0  \n",
       "std           1.620364    0.158251    0.438542   353.261398      0.0  \n",
       "min           1.280000    0.690000    1.670000   290.000000      1.0  \n",
       "25%           2.800000    0.932500    2.770000   489.750000      1.0  \n",
       "50%           3.935000    1.040000    3.000000   765.000000      1.0  \n",
       "75%           5.400000    1.157500    3.325000  1091.250000      1.0  \n",
       "max           8.900000    1.450000    4.000000  1680.000000      1.0  "
      ]
     },
     "execution_count": 22,
     "metadata": {},
     "output_type": "execute_result"
    }
   ],
   "source": [
    "df['Cluster'] = normalized_df['DBSCAN_opt_labels']+1\n",
    "df[df['Cluster']==1].describe()"
   ]
  },
  {
   "cell_type": "markdown",
   "id": "a8c39c33",
   "metadata": {},
   "source": [
    "# Connected the Cluster information with original Dataframe"
   ]
  },
  {
   "cell_type": "markdown",
   "id": "360a9dbf",
   "metadata": {},
   "source": [
    "# Interpretation: Looking at the above data summary for cluster 1 we can see that Flavanoids has Min value = 0.99 and Max value = 3.93. Similarly Cluster 2 below has Flavanoids with Min value = 0.34 and Max value = 1.59. From other data points we can observe that Cluster 1 has higher number of Flavnoids in comparison to Cluster 2. Wines having higher number of Flavanoids are good for health and heart as they act as antioxidant."
   ]
  },
  {
   "cell_type": "code",
   "execution_count": 23,
   "id": "4ba45eb0",
   "metadata": {},
   "outputs": [
    {
     "data": {
      "text/html": [
       "<div>\n",
       "<style scoped>\n",
       "    .dataframe tbody tr th:only-of-type {\n",
       "        vertical-align: middle;\n",
       "    }\n",
       "\n",
       "    .dataframe tbody tr th {\n",
       "        vertical-align: top;\n",
       "    }\n",
       "\n",
       "    .dataframe thead th {\n",
       "        text-align: right;\n",
       "    }\n",
       "</style>\n",
       "<table border=\"1\" class=\"dataframe\">\n",
       "  <thead>\n",
       "    <tr style=\"text-align: right;\">\n",
       "      <th></th>\n",
       "      <th>Alcohol</th>\n",
       "      <th>Malic_Acid</th>\n",
       "      <th>Ash</th>\n",
       "      <th>Ash_Alcanity</th>\n",
       "      <th>Magnesium</th>\n",
       "      <th>Total_Phenols</th>\n",
       "      <th>Flavanoids</th>\n",
       "      <th>Nonflavanoid_Phenols</th>\n",
       "      <th>Proanthocyanins</th>\n",
       "      <th>Color_Intensity</th>\n",
       "      <th>Hue</th>\n",
       "      <th>OD280</th>\n",
       "      <th>Proline</th>\n",
       "      <th>Cluster</th>\n",
       "    </tr>\n",
       "  </thead>\n",
       "  <tbody>\n",
       "    <tr>\n",
       "      <th>count</th>\n",
       "      <td>44.000000</td>\n",
       "      <td>44.000000</td>\n",
       "      <td>44.000000</td>\n",
       "      <td>44.000000</td>\n",
       "      <td>44.000000</td>\n",
       "      <td>44.000000</td>\n",
       "      <td>44.000000</td>\n",
       "      <td>44.000000</td>\n",
       "      <td>44.000000</td>\n",
       "      <td>44.000000</td>\n",
       "      <td>44.000000</td>\n",
       "      <td>44.000000</td>\n",
       "      <td>44.000000</td>\n",
       "      <td>44.0</td>\n",
       "    </tr>\n",
       "    <tr>\n",
       "      <th>mean</th>\n",
       "      <td>13.147955</td>\n",
       "      <td>3.292045</td>\n",
       "      <td>2.403182</td>\n",
       "      <td>21.063636</td>\n",
       "      <td>98.954545</td>\n",
       "      <td>1.655000</td>\n",
       "      <td>0.807727</td>\n",
       "      <td>0.443864</td>\n",
       "      <td>1.126818</td>\n",
       "      <td>7.339091</td>\n",
       "      <td>0.691136</td>\n",
       "      <td>1.701591</td>\n",
       "      <td>618.977273</td>\n",
       "      <td>2.0</td>\n",
       "    </tr>\n",
       "    <tr>\n",
       "      <th>std</th>\n",
       "      <td>0.466055</td>\n",
       "      <td>1.031088</td>\n",
       "      <td>0.185068</td>\n",
       "      <td>2.037222</td>\n",
       "      <td>10.916074</td>\n",
       "      <td>0.323768</td>\n",
       "      <td>0.319788</td>\n",
       "      <td>0.118875</td>\n",
       "      <td>0.364818</td>\n",
       "      <td>2.137477</td>\n",
       "      <td>0.125572</td>\n",
       "      <td>0.271498</td>\n",
       "      <td>115.464580</td>\n",
       "      <td>0.0</td>\n",
       "    </tr>\n",
       "    <tr>\n",
       "      <th>min</th>\n",
       "      <td>12.200000</td>\n",
       "      <td>1.240000</td>\n",
       "      <td>2.020000</td>\n",
       "      <td>16.800000</td>\n",
       "      <td>80.000000</td>\n",
       "      <td>0.980000</td>\n",
       "      <td>0.340000</td>\n",
       "      <td>0.170000</td>\n",
       "      <td>0.550000</td>\n",
       "      <td>4.000000</td>\n",
       "      <td>0.480000</td>\n",
       "      <td>1.290000</td>\n",
       "      <td>415.000000</td>\n",
       "      <td>2.0</td>\n",
       "    </tr>\n",
       "    <tr>\n",
       "      <th>25%</th>\n",
       "      <td>12.817500</td>\n",
       "      <td>2.587500</td>\n",
       "      <td>2.280000</td>\n",
       "      <td>19.875000</td>\n",
       "      <td>89.000000</td>\n",
       "      <td>1.407500</td>\n",
       "      <td>0.580000</td>\n",
       "      <td>0.397500</td>\n",
       "      <td>0.837500</td>\n",
       "      <td>5.487500</td>\n",
       "      <td>0.587500</td>\n",
       "      <td>1.540000</td>\n",
       "      <td>520.000000</td>\n",
       "      <td>2.0</td>\n",
       "    </tr>\n",
       "    <tr>\n",
       "      <th>50%</th>\n",
       "      <td>13.165000</td>\n",
       "      <td>3.265000</td>\n",
       "      <td>2.365000</td>\n",
       "      <td>21.000000</td>\n",
       "      <td>97.500000</td>\n",
       "      <td>1.635000</td>\n",
       "      <td>0.695000</td>\n",
       "      <td>0.460000</td>\n",
       "      <td>1.085000</td>\n",
       "      <td>7.450000</td>\n",
       "      <td>0.665000</td>\n",
       "      <td>1.660000</td>\n",
       "      <td>617.500000</td>\n",
       "      <td>2.0</td>\n",
       "    </tr>\n",
       "    <tr>\n",
       "      <th>75%</th>\n",
       "      <td>13.492500</td>\n",
       "      <td>3.885000</td>\n",
       "      <td>2.495000</td>\n",
       "      <td>22.500000</td>\n",
       "      <td>106.000000</td>\n",
       "      <td>1.800000</td>\n",
       "      <td>0.930000</td>\n",
       "      <td>0.530000</td>\n",
       "      <td>1.362500</td>\n",
       "      <td>9.082500</td>\n",
       "      <td>0.772500</td>\n",
       "      <td>1.822500</td>\n",
       "      <td>687.500000</td>\n",
       "      <td>2.0</td>\n",
       "    </tr>\n",
       "    <tr>\n",
       "      <th>max</th>\n",
       "      <td>14.160000</td>\n",
       "      <td>5.650000</td>\n",
       "      <td>2.860000</td>\n",
       "      <td>25.500000</td>\n",
       "      <td>123.000000</td>\n",
       "      <td>2.600000</td>\n",
       "      <td>1.590000</td>\n",
       "      <td>0.630000</td>\n",
       "      <td>2.290000</td>\n",
       "      <td>11.750000</td>\n",
       "      <td>0.980000</td>\n",
       "      <td>2.470000</td>\n",
       "      <td>855.000000</td>\n",
       "      <td>2.0</td>\n",
       "    </tr>\n",
       "  </tbody>\n",
       "</table>\n",
       "</div>"
      ],
      "text/plain": [
       "         Alcohol  Malic_Acid        Ash  Ash_Alcanity   Magnesium  \\\n",
       "count  44.000000   44.000000  44.000000     44.000000   44.000000   \n",
       "mean   13.147955    3.292045   2.403182     21.063636   98.954545   \n",
       "std     0.466055    1.031088   0.185068      2.037222   10.916074   \n",
       "min    12.200000    1.240000   2.020000     16.800000   80.000000   \n",
       "25%    12.817500    2.587500   2.280000     19.875000   89.000000   \n",
       "50%    13.165000    3.265000   2.365000     21.000000   97.500000   \n",
       "75%    13.492500    3.885000   2.495000     22.500000  106.000000   \n",
       "max    14.160000    5.650000   2.860000     25.500000  123.000000   \n",
       "\n",
       "       Total_Phenols  Flavanoids  Nonflavanoid_Phenols  Proanthocyanins  \\\n",
       "count      44.000000   44.000000             44.000000        44.000000   \n",
       "mean        1.655000    0.807727              0.443864         1.126818   \n",
       "std         0.323768    0.319788              0.118875         0.364818   \n",
       "min         0.980000    0.340000              0.170000         0.550000   \n",
       "25%         1.407500    0.580000              0.397500         0.837500   \n",
       "50%         1.635000    0.695000              0.460000         1.085000   \n",
       "75%         1.800000    0.930000              0.530000         1.362500   \n",
       "max         2.600000    1.590000              0.630000         2.290000   \n",
       "\n",
       "       Color_Intensity        Hue      OD280     Proline  Cluster  \n",
       "count        44.000000  44.000000  44.000000   44.000000     44.0  \n",
       "mean          7.339091   0.691136   1.701591  618.977273      2.0  \n",
       "std           2.137477   0.125572   0.271498  115.464580      0.0  \n",
       "min           4.000000   0.480000   1.290000  415.000000      2.0  \n",
       "25%           5.487500   0.587500   1.540000  520.000000      2.0  \n",
       "50%           7.450000   0.665000   1.660000  617.500000      2.0  \n",
       "75%           9.082500   0.772500   1.822500  687.500000      2.0  \n",
       "max          11.750000   0.980000   2.470000  855.000000      2.0  "
      ]
     },
     "execution_count": 23,
     "metadata": {},
     "output_type": "execute_result"
    }
   ],
   "source": [
    "df[df['Cluster']==2].describe()"
   ]
  },
  {
   "cell_type": "code",
   "execution_count": 24,
   "id": "392a5ff0",
   "metadata": {},
   "outputs": [
    {
     "data": {
      "text/html": [
       "<div>\n",
       "<style scoped>\n",
       "    .dataframe tbody tr th:only-of-type {\n",
       "        vertical-align: middle;\n",
       "    }\n",
       "\n",
       "    .dataframe tbody tr th {\n",
       "        vertical-align: top;\n",
       "    }\n",
       "\n",
       "    .dataframe thead th {\n",
       "        text-align: right;\n",
       "    }\n",
       "</style>\n",
       "<table border=\"1\" class=\"dataframe\">\n",
       "  <thead>\n",
       "    <tr style=\"text-align: right;\">\n",
       "      <th></th>\n",
       "      <th>Alcohol</th>\n",
       "      <th>Malic_Acid</th>\n",
       "      <th>Ash</th>\n",
       "      <th>Ash_Alcanity</th>\n",
       "      <th>Magnesium</th>\n",
       "      <th>Total_Phenols</th>\n",
       "      <th>Flavanoids</th>\n",
       "      <th>Nonflavanoid_Phenols</th>\n",
       "      <th>Proanthocyanins</th>\n",
       "      <th>Color_Intensity</th>\n",
       "      <th>Hue</th>\n",
       "      <th>OD280</th>\n",
       "      <th>Proline</th>\n",
       "      <th>Cluster</th>\n",
       "    </tr>\n",
       "  </thead>\n",
       "  <tbody>\n",
       "    <tr>\n",
       "      <th>count</th>\n",
       "      <td>28.000000</td>\n",
       "      <td>28.000000</td>\n",
       "      <td>28.000000</td>\n",
       "      <td>28.000000</td>\n",
       "      <td>28.000000</td>\n",
       "      <td>28.000000</td>\n",
       "      <td>28.000000</td>\n",
       "      <td>28.000000</td>\n",
       "      <td>28.000000</td>\n",
       "      <td>28.00000</td>\n",
       "      <td>28.000000</td>\n",
       "      <td>28.000000</td>\n",
       "      <td>28.000000</td>\n",
       "      <td>28.0</td>\n",
       "    </tr>\n",
       "    <tr>\n",
       "      <th>mean</th>\n",
       "      <td>12.832143</td>\n",
       "      <td>2.139286</td>\n",
       "      <td>2.357857</td>\n",
       "      <td>19.735714</td>\n",
       "      <td>103.357143</td>\n",
       "      <td>2.362143</td>\n",
       "      <td>2.078214</td>\n",
       "      <td>0.388214</td>\n",
       "      <td>1.630714</td>\n",
       "      <td>4.72250</td>\n",
       "      <td>1.030714</td>\n",
       "      <td>2.561786</td>\n",
       "      <td>713.714286</td>\n",
       "      <td>0.0</td>\n",
       "    </tr>\n",
       "    <tr>\n",
       "      <th>std</th>\n",
       "      <td>0.853552</td>\n",
       "      <td>1.255143</td>\n",
       "      <td>0.472255</td>\n",
       "      <td>5.655624</td>\n",
       "      <td>18.371101</td>\n",
       "      <td>0.605917</td>\n",
       "      <td>1.100448</td>\n",
       "      <td>0.152171</td>\n",
       "      <td>0.732914</td>\n",
       "      <td>2.50172</td>\n",
       "      <td>0.257293</td>\n",
       "      <td>0.697743</td>\n",
       "      <td>317.366578</td>\n",
       "      <td>0.0</td>\n",
       "    </tr>\n",
       "    <tr>\n",
       "      <th>min</th>\n",
       "      <td>11.030000</td>\n",
       "      <td>0.900000</td>\n",
       "      <td>1.360000</td>\n",
       "      <td>10.600000</td>\n",
       "      <td>78.000000</td>\n",
       "      <td>1.380000</td>\n",
       "      <td>0.470000</td>\n",
       "      <td>0.140000</td>\n",
       "      <td>0.420000</td>\n",
       "      <td>1.90000</td>\n",
       "      <td>0.570000</td>\n",
       "      <td>1.270000</td>\n",
       "      <td>278.000000</td>\n",
       "      <td>0.0</td>\n",
       "    </tr>\n",
       "    <tr>\n",
       "      <th>25%</th>\n",
       "      <td>12.310000</td>\n",
       "      <td>1.235000</td>\n",
       "      <td>1.995000</td>\n",
       "      <td>15.875000</td>\n",
       "      <td>91.250000</td>\n",
       "      <td>1.900000</td>\n",
       "      <td>1.272500</td>\n",
       "      <td>0.260000</td>\n",
       "      <td>1.087500</td>\n",
       "      <td>3.30500</td>\n",
       "      <td>0.850000</td>\n",
       "      <td>1.952500</td>\n",
       "      <td>493.000000</td>\n",
       "      <td>0.0</td>\n",
       "    </tr>\n",
       "    <tr>\n",
       "      <th>50%</th>\n",
       "      <td>12.925000</td>\n",
       "      <td>1.755000</td>\n",
       "      <td>2.370000</td>\n",
       "      <td>18.500000</td>\n",
       "      <td>98.000000</td>\n",
       "      <td>2.300000</td>\n",
       "      <td>2.080000</td>\n",
       "      <td>0.370000</td>\n",
       "      <td>1.585000</td>\n",
       "      <td>3.82500</td>\n",
       "      <td>1.050000</td>\n",
       "      <td>2.595000</td>\n",
       "      <td>645.000000</td>\n",
       "      <td>0.0</td>\n",
       "    </tr>\n",
       "    <tr>\n",
       "      <th>75%</th>\n",
       "      <td>13.210000</td>\n",
       "      <td>2.612500</td>\n",
       "      <td>2.707500</td>\n",
       "      <td>25.000000</td>\n",
       "      <td>114.250000</td>\n",
       "      <td>2.740000</td>\n",
       "      <td>2.707500</td>\n",
       "      <td>0.530000</td>\n",
       "      <td>2.052500</td>\n",
       "      <td>5.47500</td>\n",
       "      <td>1.192500</td>\n",
       "      <td>3.120000</td>\n",
       "      <td>842.500000</td>\n",
       "      <td>0.0</td>\n",
       "    </tr>\n",
       "    <tr>\n",
       "      <th>max</th>\n",
       "      <td>14.380000</td>\n",
       "      <td>5.510000</td>\n",
       "      <td>3.230000</td>\n",
       "      <td>30.000000</td>\n",
       "      <td>151.000000</td>\n",
       "      <td>3.850000</td>\n",
       "      <td>5.080000</td>\n",
       "      <td>0.630000</td>\n",
       "      <td>2.960000</td>\n",
       "      <td>13.00000</td>\n",
       "      <td>1.710000</td>\n",
       "      <td>3.690000</td>\n",
       "      <td>1547.000000</td>\n",
       "      <td>0.0</td>\n",
       "    </tr>\n",
       "  </tbody>\n",
       "</table>\n",
       "</div>"
      ],
      "text/plain": [
       "         Alcohol  Malic_Acid        Ash  Ash_Alcanity   Magnesium  \\\n",
       "count  28.000000   28.000000  28.000000     28.000000   28.000000   \n",
       "mean   12.832143    2.139286   2.357857     19.735714  103.357143   \n",
       "std     0.853552    1.255143   0.472255      5.655624   18.371101   \n",
       "min    11.030000    0.900000   1.360000     10.600000   78.000000   \n",
       "25%    12.310000    1.235000   1.995000     15.875000   91.250000   \n",
       "50%    12.925000    1.755000   2.370000     18.500000   98.000000   \n",
       "75%    13.210000    2.612500   2.707500     25.000000  114.250000   \n",
       "max    14.380000    5.510000   3.230000     30.000000  151.000000   \n",
       "\n",
       "       Total_Phenols  Flavanoids  Nonflavanoid_Phenols  Proanthocyanins  \\\n",
       "count      28.000000   28.000000             28.000000        28.000000   \n",
       "mean        2.362143    2.078214              0.388214         1.630714   \n",
       "std         0.605917    1.100448              0.152171         0.732914   \n",
       "min         1.380000    0.470000              0.140000         0.420000   \n",
       "25%         1.900000    1.272500              0.260000         1.087500   \n",
       "50%         2.300000    2.080000              0.370000         1.585000   \n",
       "75%         2.740000    2.707500              0.530000         2.052500   \n",
       "max         3.850000    5.080000              0.630000         2.960000   \n",
       "\n",
       "       Color_Intensity        Hue      OD280      Proline  Cluster  \n",
       "count         28.00000  28.000000  28.000000    28.000000     28.0  \n",
       "mean           4.72250   1.030714   2.561786   713.714286      0.0  \n",
       "std            2.50172   0.257293   0.697743   317.366578      0.0  \n",
       "min            1.90000   0.570000   1.270000   278.000000      0.0  \n",
       "25%            3.30500   0.850000   1.952500   493.000000      0.0  \n",
       "50%            3.82500   1.050000   2.595000   645.000000      0.0  \n",
       "75%            5.47500   1.192500   3.120000   842.500000      0.0  \n",
       "max           13.00000   1.710000   3.690000  1547.000000      0.0  "
      ]
     },
     "execution_count": 24,
     "metadata": {},
     "output_type": "execute_result"
    }
   ],
   "source": [
    "df[df['Cluster']==0].describe()"
   ]
  },
  {
   "cell_type": "markdown",
   "id": "a4cc9189",
   "metadata": {},
   "source": [
    "# Above data shows the outliers"
   ]
  }
 ],
 "metadata": {
  "kernelspec": {
   "display_name": "Python 3 (ipykernel)",
   "language": "python",
   "name": "python3"
  },
  "language_info": {
   "codemirror_mode": {
    "name": "ipython",
    "version": 3
   },
   "file_extension": ".py",
   "mimetype": "text/x-python",
   "name": "python",
   "nbconvert_exporter": "python",
   "pygments_lexer": "ipython3",
   "version": "3.9.7"
  }
 },
 "nbformat": 4,
 "nbformat_minor": 5
}
