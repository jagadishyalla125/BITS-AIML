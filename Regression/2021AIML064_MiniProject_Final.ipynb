{
 "cells": [
  {
   "cell_type": "markdown",
   "metadata": {},
   "source": [
    "<center><b> Mini Project - Regression </b></center><br/>\n",
    "<center><b> Student Id: 2021AIML064 </b></center><br/>\n",
    "<center><b> Luggage Bags Cost Prediction </b></center><br/>\n",
    "\n",
    "\n",
    " The dataset attached contains the data of 160 different bags associated with ABC industries. The bags have certain attributes which are described below:\n",
    "\n",
    "Height – The height of the bag\n",
    "Width – The width of the bag\n",
    "Length – The length of the bag\n",
    "Weight – The weight the bag can carry\n",
    "Weight1 – Weight the bag can carry after expansion\n",
    " The company now wants to predict the cost they should set for a new variant of these kinds of bags based on the attributes below. As a result, they want you to build a prediction model which can correctly set the cost of the bag provided the attributes are given. The task involves the following things:\n",
    "\n",
    "Analyse the dataset and do EDA (Exploratory Data Analysis) – 6 Marks\n",
    "Plotting of various graphs & correlations – 2 Marks\n",
    "Model Building using Multiple Linear Regression – 12 Marks\n",
    "(OLS Approach – 3 Marks, Gradient Descent – 3 Marks,, Mini Batch Gradient – 3 Marks, Stochastic Gradient – 3 Marks)\n",
    "\n",
    "Evaluation of each model with R squared, RMSE and MSE for the model - 2 Marks\n",
    "Observations / Conclusions – 2 Marks\n",
    " Submissions Guidelines\n",
    "\n",
    " It is individual submission (Need to upload in Canvas\n",
    "Need to submit one python notebook in Canvass\n",
    "Need to make the comments / notes wherever required \n",
    "Note : In case of any doubts or clarifications, Please drop an email to sureshkiran.j@wilp.bits-pilani.ac.in, \n",
    "\n",
    "Dataset : Dataset - Mini Project  \n",
    "\n",
    "NOTE: EDA refers to exploring the dataset from various facets such as outliers, correlations, wrong data types, Null values etc.\n",
    "Some useful links are given below for your reference. You can refer to them while writing your own code.\n",
    "\n",
    "Link 1 -  https://towardsdatascience.com/gradient-descent-in-python-a0d07285742f (Links to an external site.) (Links to an external site.)\n",
    "\n",
    "Link 2 - https://medium.com/coinmonks/implementation-of-gradient-descent-in-python-a43f160ec521 (Links to an external site.) (Links to an external site.)\n",
    "\n",
    " (Links to an external site.) (Links to an external site.)\n",
    "\n",
    "Link 3 - https://www.geeksforgeeks.org/ml-mini-batch-gradient-descent-with-python/ (Links to an external site.)"
   ]
  },
  {
   "cell_type": "code",
   "execution_count": 1,
   "metadata": {},
   "outputs": [],
   "source": [
    "import pandas as pd\n",
    "import numpy as np\n",
    "import matplotlib\n",
    "import matplotlib.pyplot as plt\n",
    "import seaborn as sns\n",
    "import missingno as msno\n",
    "%matplotlib inline\n",
    "from sklearn.model_selection import train_test_split\n",
    "from sklearn.linear_model import LinearRegression\n",
    "from sklearn.linear_model import SGDRegressor\n",
    "from sklearn.preprocessing import StandardScaler\n",
    "from sklearn.preprocessing import MinMaxScaler\n",
    "from sklearn.metrics import mean_squared_error, r2_score\n",
    "import math"
   ]
  },
  {
   "cell_type": "code",
   "execution_count": 2,
   "metadata": {},
   "outputs": [
    {
     "data": {
      "text/html": [
       "<div>\n",
       "<style scoped>\n",
       "    .dataframe tbody tr th:only-of-type {\n",
       "        vertical-align: middle;\n",
       "    }\n",
       "\n",
       "    .dataframe tbody tr th {\n",
       "        vertical-align: top;\n",
       "    }\n",
       "\n",
       "    .dataframe thead th {\n",
       "        text-align: right;\n",
       "    }\n",
       "</style>\n",
       "<table border=\"1\" class=\"dataframe\">\n",
       "  <thead>\n",
       "    <tr style=\"text-align: right;\">\n",
       "      <th></th>\n",
       "      <th>Cost</th>\n",
       "      <th>Weight</th>\n",
       "      <th>Weight1</th>\n",
       "      <th>Length</th>\n",
       "      <th>Height</th>\n",
       "      <th>Width</th>\n",
       "    </tr>\n",
       "  </thead>\n",
       "  <tbody>\n",
       "    <tr>\n",
       "      <th>0</th>\n",
       "      <td>242.0</td>\n",
       "      <td>23.2</td>\n",
       "      <td>25.4</td>\n",
       "      <td>30</td>\n",
       "      <td>11.5200</td>\n",
       "      <td>4.02</td>\n",
       "    </tr>\n",
       "    <tr>\n",
       "      <th>1</th>\n",
       "      <td>290.0</td>\n",
       "      <td>24</td>\n",
       "      <td>26.3</td>\n",
       "      <td>31.2</td>\n",
       "      <td>12.4800</td>\n",
       "      <td>4.3056</td>\n",
       "    </tr>\n",
       "    <tr>\n",
       "      <th>2</th>\n",
       "      <td>340.0</td>\n",
       "      <td>23.9</td>\n",
       "      <td>26.5</td>\n",
       "      <td>31.1</td>\n",
       "      <td>12.3778</td>\n",
       "      <td>4.6961</td>\n",
       "    </tr>\n",
       "    <tr>\n",
       "      <th>3</th>\n",
       "      <td>363.0</td>\n",
       "      <td>26.3</td>\n",
       "      <td>29.0</td>\n",
       "      <td>33.5</td>\n",
       "      <td>12.7300</td>\n",
       "      <td>4.4555</td>\n",
       "    </tr>\n",
       "    <tr>\n",
       "      <th>4</th>\n",
       "      <td>430.0</td>\n",
       "      <td>26.5</td>\n",
       "      <td>29.0</td>\n",
       "      <td>34</td>\n",
       "      <td>12.4440</td>\n",
       "      <td>5.134</td>\n",
       "    </tr>\n",
       "  </tbody>\n",
       "</table>\n",
       "</div>"
      ],
      "text/plain": [
       "    Cost Weight  Weight1 Length   Height   Width\n",
       "0  242.0   23.2     25.4     30  11.5200    4.02\n",
       "1  290.0     24     26.3   31.2  12.4800  4.3056\n",
       "2  340.0   23.9     26.5   31.1  12.3778  4.6961\n",
       "3  363.0   26.3     29.0   33.5  12.7300  4.4555\n",
       "4  430.0   26.5     29.0     34  12.4440   5.134"
      ]
     },
     "execution_count": 2,
     "metadata": {},
     "output_type": "execute_result"
    }
   ],
   "source": [
    "# Read data from csv file\n",
    "df = pd.read_csv('AIML_C6_Nov_2021_Data_miniproject.csv')\n",
    "df.head()"
   ]
  },
  {
   "cell_type": "markdown",
   "metadata": {},
   "source": [
    "<center><h1> EDA (Exploratory Data Analysis)</h1></center>"
   ]
  },
  {
   "cell_type": "code",
   "execution_count": 3,
   "metadata": {
    "scrolled": true
   },
   "outputs": [
    {
     "name": "stdout",
     "output_type": "stream",
     "text": [
      "<class 'pandas.core.frame.DataFrame'>\n",
      "RangeIndex: 159 entries, 0 to 158\n",
      "Data columns (total 6 columns):\n",
      " #   Column   Non-Null Count  Dtype  \n",
      "---  ------   --------------  -----  \n",
      " 0   Cost     159 non-null    float64\n",
      " 1   Weight   159 non-null    object \n",
      " 2   Weight1  159 non-null    float64\n",
      " 3   Length   159 non-null    object \n",
      " 4   Height   158 non-null    float64\n",
      " 5   Width    158 non-null    object \n",
      "dtypes: float64(3), object(3)\n",
      "memory usage: 7.6+ KB\n"
     ]
    }
   ],
   "source": [
    "# Check data types\n",
    "df.info()"
   ]
  },
  {
   "cell_type": "code",
   "execution_count": 4,
   "metadata": {},
   "outputs": [],
   "source": [
    "## from above EDA, Weight, Lenght  and Width have special character so Dtype is Object. we need to convet these 3 columns into float"
   ]
  },
  {
   "cell_type": "code",
   "execution_count": 5,
   "metadata": {
    "scrolled": true
   },
   "outputs": [
    {
     "data": {
      "text/html": [
       "<div>\n",
       "<style scoped>\n",
       "    .dataframe tbody tr th:only-of-type {\n",
       "        vertical-align: middle;\n",
       "    }\n",
       "\n",
       "    .dataframe tbody tr th {\n",
       "        vertical-align: top;\n",
       "    }\n",
       "\n",
       "    .dataframe thead th {\n",
       "        text-align: right;\n",
       "    }\n",
       "</style>\n",
       "<table border=\"1\" class=\"dataframe\">\n",
       "  <thead>\n",
       "    <tr style=\"text-align: right;\">\n",
       "      <th></th>\n",
       "      <th>Cost</th>\n",
       "      <th>Weight</th>\n",
       "      <th>Weight1</th>\n",
       "      <th>Length</th>\n",
       "      <th>Height</th>\n",
       "      <th>Width</th>\n",
       "    </tr>\n",
       "  </thead>\n",
       "  <tbody>\n",
       "    <tr>\n",
       "      <th>0</th>\n",
       "      <td>242.0</td>\n",
       "      <td>23.2</td>\n",
       "      <td>25.4</td>\n",
       "      <td>30.0</td>\n",
       "      <td>11.5200</td>\n",
       "      <td>4.0200</td>\n",
       "    </tr>\n",
       "    <tr>\n",
       "      <th>1</th>\n",
       "      <td>290.0</td>\n",
       "      <td>24.0</td>\n",
       "      <td>26.3</td>\n",
       "      <td>31.2</td>\n",
       "      <td>12.4800</td>\n",
       "      <td>4.3056</td>\n",
       "    </tr>\n",
       "    <tr>\n",
       "      <th>2</th>\n",
       "      <td>340.0</td>\n",
       "      <td>23.9</td>\n",
       "      <td>26.5</td>\n",
       "      <td>31.1</td>\n",
       "      <td>12.3778</td>\n",
       "      <td>4.6961</td>\n",
       "    </tr>\n",
       "    <tr>\n",
       "      <th>3</th>\n",
       "      <td>363.0</td>\n",
       "      <td>26.3</td>\n",
       "      <td>29.0</td>\n",
       "      <td>33.5</td>\n",
       "      <td>12.7300</td>\n",
       "      <td>4.4555</td>\n",
       "    </tr>\n",
       "    <tr>\n",
       "      <th>4</th>\n",
       "      <td>430.0</td>\n",
       "      <td>26.5</td>\n",
       "      <td>29.0</td>\n",
       "      <td>34.0</td>\n",
       "      <td>12.4440</td>\n",
       "      <td>5.1340</td>\n",
       "    </tr>\n",
       "    <tr>\n",
       "      <th>5</th>\n",
       "      <td>450.0</td>\n",
       "      <td>26.8</td>\n",
       "      <td>29.7</td>\n",
       "      <td>34.7</td>\n",
       "      <td>13.6024</td>\n",
       "      <td>NaN</td>\n",
       "    </tr>\n",
       "    <tr>\n",
       "      <th>6</th>\n",
       "      <td>500.0</td>\n",
       "      <td>26.8</td>\n",
       "      <td>29.7</td>\n",
       "      <td>34.5</td>\n",
       "      <td>14.1795</td>\n",
       "      <td>5.2785</td>\n",
       "    </tr>\n",
       "    <tr>\n",
       "      <th>7</th>\n",
       "      <td>390.0</td>\n",
       "      <td>27.6</td>\n",
       "      <td>30.0</td>\n",
       "      <td>35.0</td>\n",
       "      <td>12.6700</td>\n",
       "      <td>4.6900</td>\n",
       "    </tr>\n",
       "    <tr>\n",
       "      <th>8</th>\n",
       "      <td>450.0</td>\n",
       "      <td>27.6</td>\n",
       "      <td>30.0</td>\n",
       "      <td>35.1</td>\n",
       "      <td>14.0049</td>\n",
       "      <td>4.8438</td>\n",
       "    </tr>\n",
       "    <tr>\n",
       "      <th>9</th>\n",
       "      <td>500.0</td>\n",
       "      <td>NaN</td>\n",
       "      <td>30.7</td>\n",
       "      <td>36.2</td>\n",
       "      <td>14.2266</td>\n",
       "      <td>4.9594</td>\n",
       "    </tr>\n",
       "    <tr>\n",
       "      <th>10</th>\n",
       "      <td>475.0</td>\n",
       "      <td>28.4</td>\n",
       "      <td>31.0</td>\n",
       "      <td>36.2</td>\n",
       "      <td>14.2628</td>\n",
       "      <td>5.1042</td>\n",
       "    </tr>\n",
       "    <tr>\n",
       "      <th>11</th>\n",
       "      <td>500.0</td>\n",
       "      <td>28.7</td>\n",
       "      <td>31.0</td>\n",
       "      <td>36.2</td>\n",
       "      <td>14.3714</td>\n",
       "      <td>4.8146</td>\n",
       "    </tr>\n",
       "    <tr>\n",
       "      <th>12</th>\n",
       "      <td>500.0</td>\n",
       "      <td>29.1</td>\n",
       "      <td>31.5</td>\n",
       "      <td>36.4</td>\n",
       "      <td>13.7592</td>\n",
       "      <td>4.3680</td>\n",
       "    </tr>\n",
       "    <tr>\n",
       "      <th>13</th>\n",
       "      <td>340.0</td>\n",
       "      <td>29.5</td>\n",
       "      <td>32.0</td>\n",
       "      <td>37.3</td>\n",
       "      <td>13.9129</td>\n",
       "      <td>5.0728</td>\n",
       "    </tr>\n",
       "    <tr>\n",
       "      <th>14</th>\n",
       "      <td>600.0</td>\n",
       "      <td>29.4</td>\n",
       "      <td>32.0</td>\n",
       "      <td>37.2</td>\n",
       "      <td>NaN</td>\n",
       "      <td>5.1708</td>\n",
       "    </tr>\n",
       "  </tbody>\n",
       "</table>\n",
       "</div>"
      ],
      "text/plain": [
       "     Cost  Weight  Weight1  Length   Height   Width\n",
       "0   242.0    23.2     25.4    30.0  11.5200  4.0200\n",
       "1   290.0    24.0     26.3    31.2  12.4800  4.3056\n",
       "2   340.0    23.9     26.5    31.1  12.3778  4.6961\n",
       "3   363.0    26.3     29.0    33.5  12.7300  4.4555\n",
       "4   430.0    26.5     29.0    34.0  12.4440  5.1340\n",
       "5   450.0    26.8     29.7    34.7  13.6024     NaN\n",
       "6   500.0    26.8     29.7    34.5  14.1795  5.2785\n",
       "7   390.0    27.6     30.0    35.0  12.6700  4.6900\n",
       "8   450.0    27.6     30.0    35.1  14.0049  4.8438\n",
       "9   500.0     NaN     30.7    36.2  14.2266  4.9594\n",
       "10  475.0    28.4     31.0    36.2  14.2628  5.1042\n",
       "11  500.0    28.7     31.0    36.2  14.3714  4.8146\n",
       "12  500.0    29.1     31.5    36.4  13.7592  4.3680\n",
       "13  340.0    29.5     32.0    37.3  13.9129  5.0728\n",
       "14  600.0    29.4     32.0    37.2      NaN  5.1708"
      ]
     },
     "execution_count": 5,
     "metadata": {},
     "output_type": "execute_result"
    }
   ],
   "source": [
    "df = pd.DataFrame(df)\n",
    "df['Weight'] = pd.to_numeric(df['Weight'], errors='coerce')\n",
    "df['Length'] = pd.to_numeric(df['Length'], errors='coerce')\n",
    "df['Width'] = pd.to_numeric(df['Width'], errors='coerce')\n",
    "df.head(15)"
   ]
  },
  {
   "cell_type": "code",
   "execution_count": 6,
   "metadata": {},
   "outputs": [
    {
     "name": "stdout",
     "output_type": "stream",
     "text": [
      "Cost       0\n",
      "Weight     2\n",
      "Weight1    0\n",
      "Length     1\n",
      "Height     1\n",
      "Width      2\n",
      "dtype: int64\n",
      "Cost       0\n",
      "Weight     2\n",
      "Weight1    0\n",
      "Length     1\n",
      "Height     1\n",
      "Width      2\n",
      "dtype: int64\n",
      "<class 'pandas.core.frame.DataFrame'>\n",
      "RangeIndex: 159 entries, 0 to 158\n",
      "Data columns (total 6 columns):\n",
      " #   Column   Non-Null Count  Dtype  \n",
      "---  ------   --------------  -----  \n",
      " 0   Cost     159 non-null    float64\n",
      " 1   Weight   157 non-null    float64\n",
      " 2   Weight1  159 non-null    float64\n",
      " 3   Length   158 non-null    float64\n",
      " 4   Height   158 non-null    float64\n",
      " 5   Width    157 non-null    float64\n",
      "dtypes: float64(6)\n",
      "memory usage: 7.6 KB\n"
     ]
    }
   ],
   "source": [
    "# Check missing values or null values\n",
    "print(df.isnull().sum())\n",
    "print(df.isna().sum())\n",
    "df.info()"
   ]
  },
  {
   "cell_type": "code",
   "execution_count": 7,
   "metadata": {},
   "outputs": [
    {
     "name": "stdout",
     "output_type": "stream",
     "text": [
      "<class 'pandas.core.frame.DataFrame'>\n",
      "RangeIndex: 159 entries, 0 to 158\n",
      "Data columns (total 6 columns):\n",
      " #   Column   Non-Null Count  Dtype  \n",
      "---  ------   --------------  -----  \n",
      " 0   Cost     159 non-null    float64\n",
      " 1   Weight   157 non-null    float64\n",
      " 2   Weight1  159 non-null    float64\n",
      " 3   Length   158 non-null    float64\n",
      " 4   Height   158 non-null    float64\n",
      " 5   Width    157 non-null    float64\n",
      "dtypes: float64(6)\n",
      "memory usage: 7.6 KB\n",
      "Cost       0\n",
      "Weight     2\n",
      "Weight1    0\n",
      "Length     1\n",
      "Height     1\n",
      "Width      2\n",
      "dtype: int64\n",
      "Cost       0\n",
      "Weight     2\n",
      "Weight1    0\n",
      "Length     1\n",
      "Height     1\n",
      "Width      2\n",
      "dtype: int64\n"
     ]
    },
    {
     "data": {
      "image/png": "[encoded data removed]",
      "text/plain": [
       "<Figure size 1800x720 with 2 Axes>"
      ]
     },
     "metadata": {
      "needs_background": "light"
     },
     "output_type": "display_data"
    }
   ],
   "source": [
    "# Check missing values or null values. it can be done by below methods\n",
    "df.info()\n",
    "print(df.isnull().sum())\n",
    "print(df.isna().sum())\n",
    "\n",
    "# plot to see if there are null values existing\n",
    "msno.matrix(df)\n",
    "plt.show()"
   ]
  },
  {
   "cell_type": "code",
   "execution_count": 8,
   "metadata": {
    "scrolled": false
   },
   "outputs": [
    {
     "data": {
      "text/html": [
       "<div>\n",
       "<style scoped>\n",
       "    .dataframe tbody tr th:only-of-type {\n",
       "        vertical-align: middle;\n",
       "    }\n",
       "\n",
       "    .dataframe tbody tr th {\n",
       "        vertical-align: top;\n",
       "    }\n",
       "\n",
       "    .dataframe thead th {\n",
       "        text-align: right;\n",
       "    }\n",
       "</style>\n",
       "<table border=\"1\" class=\"dataframe\">\n",
       "  <thead>\n",
       "    <tr style=\"text-align: right;\">\n",
       "      <th></th>\n",
       "      <th>Cost</th>\n",
       "      <th>Weight</th>\n",
       "      <th>Weight1</th>\n",
       "      <th>Length</th>\n",
       "      <th>Height</th>\n",
       "      <th>Width</th>\n",
       "    </tr>\n",
       "  </thead>\n",
       "  <tbody>\n",
       "    <tr>\n",
       "      <th>count</th>\n",
       "      <td>159.000000</td>\n",
       "      <td>157.000000</td>\n",
       "      <td>159.000000</td>\n",
       "      <td>158.000000</td>\n",
       "      <td>158.000000</td>\n",
       "      <td>157.000000</td>\n",
       "    </tr>\n",
       "    <tr>\n",
       "      <th>mean</th>\n",
       "      <td>398.326415</td>\n",
       "      <td>26.259873</td>\n",
       "      <td>28.415723</td>\n",
       "      <td>31.239241</td>\n",
       "      <td>8.933124</td>\n",
       "      <td>3826.050502</td>\n",
       "    </tr>\n",
       "    <tr>\n",
       "      <th>std</th>\n",
       "      <td>357.978317</td>\n",
       "      <td>10.052942</td>\n",
       "      <td>10.716328</td>\n",
       "      <td>11.646141</td>\n",
       "      <td>4.273069</td>\n",
       "      <td>47884.860134</td>\n",
       "    </tr>\n",
       "    <tr>\n",
       "      <th>min</th>\n",
       "      <td>0.000000</td>\n",
       "      <td>7.500000</td>\n",
       "      <td>8.400000</td>\n",
       "      <td>8.800000</td>\n",
       "      <td>1.728400</td>\n",
       "      <td>1.047600</td>\n",
       "    </tr>\n",
       "    <tr>\n",
       "      <th>25%</th>\n",
       "      <td>120.000000</td>\n",
       "      <td>19.000000</td>\n",
       "      <td>21.000000</td>\n",
       "      <td>23.125000</td>\n",
       "      <td>5.940600</td>\n",
       "      <td>3.395700</td>\n",
       "    </tr>\n",
       "    <tr>\n",
       "      <th>50%</th>\n",
       "      <td>273.000000</td>\n",
       "      <td>25.200000</td>\n",
       "      <td>27.300000</td>\n",
       "      <td>29.700000</td>\n",
       "      <td>7.733000</td>\n",
       "      <td>4.248500</td>\n",
       "    </tr>\n",
       "    <tr>\n",
       "      <th>75%</th>\n",
       "      <td>650.000000</td>\n",
       "      <td>32.700000</td>\n",
       "      <td>35.500000</td>\n",
       "      <td>39.675000</td>\n",
       "      <td>12.248700</td>\n",
       "      <td>5.589000</td>\n",
       "    </tr>\n",
       "    <tr>\n",
       "      <th>max</th>\n",
       "      <td>1650.000000</td>\n",
       "      <td>59.000000</td>\n",
       "      <td>63.400000</td>\n",
       "      <td>68.000000</td>\n",
       "      <td>18.957000</td>\n",
       "      <td>600000.000000</td>\n",
       "    </tr>\n",
       "  </tbody>\n",
       "</table>\n",
       "</div>"
      ],
      "text/plain": [
       "              Cost      Weight     Weight1      Length      Height  \\\n",
       "count   159.000000  157.000000  159.000000  158.000000  158.000000   \n",
       "mean    398.326415   26.259873   28.415723   31.239241    8.933124   \n",
       "std     357.978317   10.052942   10.716328   11.646141    4.273069   \n",
       "min       0.000000    7.500000    8.400000    8.800000    1.728400   \n",
       "25%     120.000000   19.000000   21.000000   23.125000    5.940600   \n",
       "50%     273.000000   25.200000   27.300000   29.700000    7.733000   \n",
       "75%     650.000000   32.700000   35.500000   39.675000   12.248700   \n",
       "max    1650.000000   59.000000   63.400000   68.000000   18.957000   \n",
       "\n",
       "               Width  \n",
       "count     157.000000  \n",
       "mean     3826.050502  \n",
       "std     47884.860134  \n",
       "min         1.047600  \n",
       "25%         3.395700  \n",
       "50%         4.248500  \n",
       "75%         5.589000  \n",
       "max    600000.000000  "
      ]
     },
     "execution_count": 8,
     "metadata": {},
     "output_type": "execute_result"
    }
   ],
   "source": [
    "df.describe()"
   ]
  },
  {
   "cell_type": "code",
   "execution_count": 9,
   "metadata": {},
   "outputs": [],
   "source": [
    "#For numeric variable, lets use mean or median to impute the missing values\n",
    "# As Width has outliers so the mean will not be the proper approach as it is highly affected by the presence of outliers"
   ]
  },
  {
   "cell_type": "code",
   "execution_count": 10,
   "metadata": {},
   "outputs": [
    {
     "data": {
      "text/html": [
       "<div>\n",
       "<style scoped>\n",
       "    .dataframe tbody tr th:only-of-type {\n",
       "        vertical-align: middle;\n",
       "    }\n",
       "\n",
       "    .dataframe tbody tr th {\n",
       "        vertical-align: top;\n",
       "    }\n",
       "\n",
       "    .dataframe thead th {\n",
       "        text-align: right;\n",
       "    }\n",
       "</style>\n",
       "<table border=\"1\" class=\"dataframe\">\n",
       "  <thead>\n",
       "    <tr style=\"text-align: right;\">\n",
       "      <th></th>\n",
       "      <th>Cost</th>\n",
       "      <th>Weight</th>\n",
       "      <th>Weight1</th>\n",
       "      <th>Length</th>\n",
       "      <th>Height</th>\n",
       "      <th>Width</th>\n",
       "    </tr>\n",
       "  </thead>\n",
       "  <tbody>\n",
       "    <tr>\n",
       "      <th>0</th>\n",
       "      <td>242.0</td>\n",
       "      <td>23.2</td>\n",
       "      <td>25.4</td>\n",
       "      <td>30.0</td>\n",
       "      <td>11.5200</td>\n",
       "      <td>4.0200</td>\n",
       "    </tr>\n",
       "    <tr>\n",
       "      <th>1</th>\n",
       "      <td>290.0</td>\n",
       "      <td>24.0</td>\n",
       "      <td>26.3</td>\n",
       "      <td>31.2</td>\n",
       "      <td>12.4800</td>\n",
       "      <td>4.3056</td>\n",
       "    </tr>\n",
       "    <tr>\n",
       "      <th>2</th>\n",
       "      <td>340.0</td>\n",
       "      <td>23.9</td>\n",
       "      <td>26.5</td>\n",
       "      <td>31.1</td>\n",
       "      <td>12.3778</td>\n",
       "      <td>4.6961</td>\n",
       "    </tr>\n",
       "    <tr>\n",
       "      <th>3</th>\n",
       "      <td>363.0</td>\n",
       "      <td>26.3</td>\n",
       "      <td>29.0</td>\n",
       "      <td>33.5</td>\n",
       "      <td>12.7300</td>\n",
       "      <td>4.4555</td>\n",
       "    </tr>\n",
       "    <tr>\n",
       "      <th>4</th>\n",
       "      <td>430.0</td>\n",
       "      <td>26.5</td>\n",
       "      <td>29.0</td>\n",
       "      <td>34.0</td>\n",
       "      <td>12.4440</td>\n",
       "      <td>5.1340</td>\n",
       "    </tr>\n",
       "    <tr>\n",
       "      <th>5</th>\n",
       "      <td>450.0</td>\n",
       "      <td>26.8</td>\n",
       "      <td>29.7</td>\n",
       "      <td>34.7</td>\n",
       "      <td>13.6024</td>\n",
       "      <td>4.2485</td>\n",
       "    </tr>\n",
       "    <tr>\n",
       "      <th>6</th>\n",
       "      <td>500.0</td>\n",
       "      <td>26.8</td>\n",
       "      <td>29.7</td>\n",
       "      <td>34.5</td>\n",
       "      <td>14.1795</td>\n",
       "      <td>5.2785</td>\n",
       "    </tr>\n",
       "    <tr>\n",
       "      <th>7</th>\n",
       "      <td>390.0</td>\n",
       "      <td>27.6</td>\n",
       "      <td>30.0</td>\n",
       "      <td>35.0</td>\n",
       "      <td>12.6700</td>\n",
       "      <td>4.6900</td>\n",
       "    </tr>\n",
       "    <tr>\n",
       "      <th>8</th>\n",
       "      <td>450.0</td>\n",
       "      <td>27.6</td>\n",
       "      <td>30.0</td>\n",
       "      <td>35.1</td>\n",
       "      <td>14.0049</td>\n",
       "      <td>4.8438</td>\n",
       "    </tr>\n",
       "    <tr>\n",
       "      <th>9</th>\n",
       "      <td>500.0</td>\n",
       "      <td>25.2</td>\n",
       "      <td>30.7</td>\n",
       "      <td>36.2</td>\n",
       "      <td>14.2266</td>\n",
       "      <td>4.9594</td>\n",
       "    </tr>\n",
       "    <tr>\n",
       "      <th>10</th>\n",
       "      <td>475.0</td>\n",
       "      <td>28.4</td>\n",
       "      <td>31.0</td>\n",
       "      <td>36.2</td>\n",
       "      <td>14.2628</td>\n",
       "      <td>5.1042</td>\n",
       "    </tr>\n",
       "    <tr>\n",
       "      <th>11</th>\n",
       "      <td>500.0</td>\n",
       "      <td>28.7</td>\n",
       "      <td>31.0</td>\n",
       "      <td>36.2</td>\n",
       "      <td>14.3714</td>\n",
       "      <td>4.8146</td>\n",
       "    </tr>\n",
       "    <tr>\n",
       "      <th>12</th>\n",
       "      <td>500.0</td>\n",
       "      <td>29.1</td>\n",
       "      <td>31.5</td>\n",
       "      <td>36.4</td>\n",
       "      <td>13.7592</td>\n",
       "      <td>4.3680</td>\n",
       "    </tr>\n",
       "    <tr>\n",
       "      <th>13</th>\n",
       "      <td>340.0</td>\n",
       "      <td>29.5</td>\n",
       "      <td>32.0</td>\n",
       "      <td>37.3</td>\n",
       "      <td>13.9129</td>\n",
       "      <td>5.0728</td>\n",
       "    </tr>\n",
       "    <tr>\n",
       "      <th>14</th>\n",
       "      <td>600.0</td>\n",
       "      <td>29.4</td>\n",
       "      <td>32.0</td>\n",
       "      <td>37.2</td>\n",
       "      <td>7.7330</td>\n",
       "      <td>5.1708</td>\n",
       "    </tr>\n",
       "  </tbody>\n",
       "</table>\n",
       "</div>"
      ],
      "text/plain": [
       "     Cost  Weight  Weight1  Length   Height   Width\n",
       "0   242.0    23.2     25.4    30.0  11.5200  4.0200\n",
       "1   290.0    24.0     26.3    31.2  12.4800  4.3056\n",
       "2   340.0    23.9     26.5    31.1  12.3778  4.6961\n",
       "3   363.0    26.3     29.0    33.5  12.7300  4.4555\n",
       "4   430.0    26.5     29.0    34.0  12.4440  5.1340\n",
       "5   450.0    26.8     29.7    34.7  13.6024  4.2485\n",
       "6   500.0    26.8     29.7    34.5  14.1795  5.2785\n",
       "7   390.0    27.6     30.0    35.0  12.6700  4.6900\n",
       "8   450.0    27.6     30.0    35.1  14.0049  4.8438\n",
       "9   500.0    25.2     30.7    36.2  14.2266  4.9594\n",
       "10  475.0    28.4     31.0    36.2  14.2628  5.1042\n",
       "11  500.0    28.7     31.0    36.2  14.3714  4.8146\n",
       "12  500.0    29.1     31.5    36.4  13.7592  4.3680\n",
       "13  340.0    29.5     32.0    37.3  13.9129  5.0728\n",
       "14  600.0    29.4     32.0    37.2   7.7330  5.1708"
      ]
     },
     "execution_count": 10,
     "metadata": {},
     "output_type": "execute_result"
    }
   ],
   "source": [
    "df['Weight'].fillna(df['Weight'].median(), inplace=True)\n",
    "df['Length'].fillna(df['Length'].median(), inplace=True)\n",
    "df['Height'].fillna(df['Height'].median(), inplace=True)\n",
    "df['Width'].fillna(df['Width'].median(), inplace=True)\n",
    "# we can convert all null values with beolow line of code\n",
    "#df.fillna(df.median(), inplace=True)\n",
    "df.head(15)"
   ]
  },
  {
   "cell_type": "code",
   "execution_count": 11,
   "metadata": {
    "scrolled": true
   },
   "outputs": [
    {
     "data": {
      "text/html": [
       "<div>\n",
       "<style scoped>\n",
       "    .dataframe tbody tr th:only-of-type {\n",
       "        vertical-align: middle;\n",
       "    }\n",
       "\n",
       "    .dataframe tbody tr th {\n",
       "        vertical-align: top;\n",
       "    }\n",
       "\n",
       "    .dataframe thead th {\n",
       "        text-align: right;\n",
       "    }\n",
       "</style>\n",
       "<table border=\"1\" class=\"dataframe\">\n",
       "  <thead>\n",
       "    <tr style=\"text-align: right;\">\n",
       "      <th></th>\n",
       "      <th>Cost</th>\n",
       "      <th>Weight</th>\n",
       "      <th>Weight1</th>\n",
       "      <th>Length</th>\n",
       "      <th>Height</th>\n",
       "      <th>Width</th>\n",
       "    </tr>\n",
       "  </thead>\n",
       "  <tbody>\n",
       "    <tr>\n",
       "      <th>count</th>\n",
       "      <td>159.000000</td>\n",
       "      <td>159.000000</td>\n",
       "      <td>159.000000</td>\n",
       "      <td>159.000000</td>\n",
       "      <td>159.000000</td>\n",
       "      <td>159.000000</td>\n",
       "    </tr>\n",
       "    <tr>\n",
       "      <th>mean</th>\n",
       "      <td>398.326415</td>\n",
       "      <td>26.246541</td>\n",
       "      <td>28.415723</td>\n",
       "      <td>31.229560</td>\n",
       "      <td>8.925576</td>\n",
       "      <td>3777.977521</td>\n",
       "    </tr>\n",
       "    <tr>\n",
       "      <th>std</th>\n",
       "      <td>357.978317</td>\n",
       "      <td>9.989816</td>\n",
       "      <td>10.716328</td>\n",
       "      <td>11.609869</td>\n",
       "      <td>4.260588</td>\n",
       "      <td>47582.744610</td>\n",
       "    </tr>\n",
       "    <tr>\n",
       "      <th>min</th>\n",
       "      <td>0.000000</td>\n",
       "      <td>7.500000</td>\n",
       "      <td>8.400000</td>\n",
       "      <td>8.800000</td>\n",
       "      <td>1.728400</td>\n",
       "      <td>1.047600</td>\n",
       "    </tr>\n",
       "    <tr>\n",
       "      <th>25%</th>\n",
       "      <td>120.000000</td>\n",
       "      <td>19.050000</td>\n",
       "      <td>21.000000</td>\n",
       "      <td>23.150000</td>\n",
       "      <td>5.944800</td>\n",
       "      <td>3.401600</td>\n",
       "    </tr>\n",
       "    <tr>\n",
       "      <th>50%</th>\n",
       "      <td>273.000000</td>\n",
       "      <td>25.200000</td>\n",
       "      <td>27.300000</td>\n",
       "      <td>29.700000</td>\n",
       "      <td>7.733000</td>\n",
       "      <td>4.248500</td>\n",
       "    </tr>\n",
       "    <tr>\n",
       "      <th>75%</th>\n",
       "      <td>650.000000</td>\n",
       "      <td>32.700000</td>\n",
       "      <td>35.500000</td>\n",
       "      <td>39.650000</td>\n",
       "      <td>12.143400</td>\n",
       "      <td>5.584500</td>\n",
       "    </tr>\n",
       "    <tr>\n",
       "      <th>max</th>\n",
       "      <td>1650.000000</td>\n",
       "      <td>59.000000</td>\n",
       "      <td>63.400000</td>\n",
       "      <td>68.000000</td>\n",
       "      <td>18.957000</td>\n",
       "      <td>600000.000000</td>\n",
       "    </tr>\n",
       "  </tbody>\n",
       "</table>\n",
       "</div>"
      ],
      "text/plain": [
       "              Cost      Weight     Weight1      Length      Height  \\\n",
       "count   159.000000  159.000000  159.000000  159.000000  159.000000   \n",
       "mean    398.326415   26.246541   28.415723   31.229560    8.925576   \n",
       "std     357.978317    9.989816   10.716328   11.609869    4.260588   \n",
       "min       0.000000    7.500000    8.400000    8.800000    1.728400   \n",
       "25%     120.000000   19.050000   21.000000   23.150000    5.944800   \n",
       "50%     273.000000   25.200000   27.300000   29.700000    7.733000   \n",
       "75%     650.000000   32.700000   35.500000   39.650000   12.143400   \n",
       "max    1650.000000   59.000000   63.400000   68.000000   18.957000   \n",
       "\n",
       "               Width  \n",
       "count     159.000000  \n",
       "mean     3777.977521  \n",
       "std     47582.744610  \n",
       "min         1.047600  \n",
       "25%         3.401600  \n",
       "50%         4.248500  \n",
       "75%         5.584500  \n",
       "max    600000.000000  "
      ]
     },
     "execution_count": 11,
     "metadata": {},
     "output_type": "execute_result"
    }
   ],
   "source": [
    "df.describe()"
   ]
  },
  {
   "cell_type": "code",
   "execution_count": 12,
   "metadata": {
    "scrolled": true
   },
   "outputs": [
    {
     "name": "stdout",
     "output_type": "stream",
     "text": [
      "<class 'pandas.core.frame.DataFrame'>\n",
      "RangeIndex: 159 entries, 0 to 158\n",
      "Data columns (total 6 columns):\n",
      " #   Column   Non-Null Count  Dtype  \n",
      "---  ------   --------------  -----  \n",
      " 0   Cost     159 non-null    float64\n",
      " 1   Weight   159 non-null    float64\n",
      " 2   Weight1  159 non-null    float64\n",
      " 3   Length   159 non-null    float64\n",
      " 4   Height   159 non-null    float64\n",
      " 5   Width    159 non-null    float64\n",
      "dtypes: float64(6)\n",
      "memory usage: 7.6 KB\n",
      "Cost       0\n",
      "Weight     0\n",
      "Weight1    0\n",
      "Length     0\n",
      "Height     0\n",
      "Width      0\n",
      "dtype: int64\n",
      "Cost       0\n",
      "Weight     0\n",
      "Weight1    0\n",
      "Length     0\n",
      "Height     0\n",
      "Width      0\n",
      "dtype: int64\n"
     ]
    }
   ],
   "source": [
    "#now again check data quality\n",
    "df.info()\n",
    "print(df.isnull().sum())\n",
    "print(df.isna().sum())"
   ]
  },
  {
   "cell_type": "markdown",
   "metadata": {},
   "source": [
    "### from above output, we can determine, there are no null or missing values "
   ]
  },
  {
   "cell_type": "code",
   "execution_count": 13,
   "metadata": {},
   "outputs": [
    {
     "data": {
      "text/plain": [
       "<AxesSubplot:xlabel='variable', ylabel='value'>"
      ]
     },
     "execution_count": 13,
     "metadata": {},
     "output_type": "execute_result"
    },
    {
     "data": {
      "image/png": "[encoded data removed]",
      "text/plain": [
       "<Figure size 432x288 with 1 Axes>"
      ]
     },
     "metadata": {
      "needs_background": "light"
     },
     "output_type": "display_data"
    }
   ],
   "source": [
    "# Find outliers from independent variable\n",
    "\n",
    "# box plot for independent variables\n",
    "sns.boxplot(x=\"variable\", y=\"value\", data=pd.melt(df[['Weight', 'Weight1','Length','Height', 'Width']]))"
   ]
  },
  {
   "cell_type": "code",
   "execution_count": 14,
   "metadata": {
    "scrolled": true
   },
   "outputs": [
    {
     "data": {
      "text/plain": [
       "<AxesSubplot:xlabel='variable', ylabel='value'>"
      ]
     },
     "execution_count": 14,
     "metadata": {},
     "output_type": "execute_result"
    },
    {
     "data": {
      "image/png": "[encoded data removed]",
      "text/plain": [
       "<Figure size 432x288 with 1 Axes>"
      ]
     },
     "metadata": {
      "needs_background": "light"
     },
     "output_type": "display_data"
    }
   ],
   "source": [
    "# Find outliers from dependent variable\n",
    "\n",
    "# box plot for dependent variables\n",
    "sns.boxplot(x=\"variable\", y=\"value\", data=pd.melt(df[['Cost']]))"
   ]
  },
  {
   "cell_type": "code",
   "execution_count": 15,
   "metadata": {},
   "outputs": [],
   "source": [
    "# from above 2 plots, we can see outliers on cost and Width"
   ]
  },
  {
   "cell_type": "code",
   "execution_count": 16,
   "metadata": {},
   "outputs": [
    {
     "name": "stdout",
     "output_type": "stream",
     "text": [
      "       Cost  Weight  Weight1  Length  Height       Width\n",
      "142  1600.0    56.0     60.0    64.0   9.600  600000.000\n",
      "143  1550.0    56.0     60.0    64.0   9.600       6.144\n",
      "144  1650.0    59.0     63.4    68.0  10.812       7.480\n"
     ]
    },
    {
     "data": {
      "text/plain": [
       "(156, 6)"
      ]
     },
     "execution_count": 16,
     "metadata": {},
     "output_type": "execute_result"
    }
   ],
   "source": [
    "# Remove outliers using interquartile range (IQR) lso called the midspread or middle 50%, #or technically H-spread, is a measure of statistical dispersion, being equal to the difference between 75th and 25th percentiles, or between upper and lower quartiles,\n",
    "#IQR = Q3 − Q1.\n",
    "Q1 = df.quantile(0.25)\n",
    "Q3 = df.quantile(0.75)\n",
    "IQR = Q3 - Q1\n",
    "\n",
    "# print outliers across dataset\n",
    "print(df[((df< (Q1 - 1.5 * IQR)) |(df >(Q3 + 1.5 * IQR))).any(axis=1)])\n",
    "\n",
    "# Remove outliers from dataset\n",
    "df = df[~((df < (Q1 - 1.5 * IQR)) |(df > (Q3 + 1.5 * IQR))).any(axis=1)]\n",
    "df.shape"
   ]
  },
  {
   "cell_type": "code",
   "execution_count": 17,
   "metadata": {},
   "outputs": [
    {
     "data": {
      "text/plain": [
       "(155, 6)"
      ]
     },
     "execution_count": 17,
     "metadata": {},
     "output_type": "execute_result"
    }
   ],
   "source": [
    "# Dependent variable 'Cost' has a minimum value of 0. Remove 0 to avoid unreasonable bias\n",
    "df.drop(df[df['Cost'] == 0].index, inplace =True)\n",
    "df.shape"
   ]
  },
  {
   "cell_type": "markdown",
   "metadata": {},
   "source": [
    "<center><h1> Plotting Graphs and  find Correlation </h1></center>"
   ]
  },
  {
   "cell_type": "code",
   "execution_count": 18,
   "metadata": {
    "scrolled": true
   },
   "outputs": [
    {
     "name": "stdout",
     "output_type": "stream",
     "text": [
      "             Cost    Weight   Weight1    Length    Height     Width\n",
      "Cost     1.000000  0.894028  0.899734  0.907314  0.799218  0.920578\n",
      "Weight   0.894028  1.000000  0.998520  0.989318  0.671774  0.878334\n",
      "Weight1  0.899734  0.998520  1.000000  0.993018  0.690720  0.885321\n",
      "Length   0.907314  0.989318  0.993018  1.000000  0.753274  0.886055\n",
      "Height   0.799218  0.671774  0.690720  0.753274  1.000000  0.788121\n",
      "Width    0.920578  0.878334  0.885321  0.886055  0.788121  1.000000\n"
     ]
    },
    {
     "data": {
      "image/png": "[encoded data removed]",
      "text/plain": [
       "<Figure size 432x288 with 2 Axes>"
      ]
     },
     "metadata": {
      "needs_background": "light"
     },
     "output_type": "display_data"
    }
   ],
   "source": [
    "# identify and  Visualize the correlation between the independent variables\n",
    "correlation = df.corr()\n",
    "\n",
    "print(correlation)\n",
    "ax = sns.heatmap(\n",
    "    correlation, \n",
    "    vmin=-1, vmax=1, center=0,\n",
    "    cmap=sns.diverging_palette(20, 220, n=200),\n",
    "    square=True\n",
    "    #, cmap=\"OrRd\"\n",
    ")\n"
   ]
  },
  {
   "cell_type": "code",
   "execution_count": 19,
   "metadata": {
    "scrolled": true
   },
   "outputs": [
    {
     "name": "stderr",
     "output_type": "stream",
     "text": [
      "C:\\Users\\JAGADISH\\anaconda3\\lib\\site-packages\\seaborn\\distributions.py:2557: FutureWarning: `distplot` is a deprecated function and will be removed in a future version. Please adapt your code to use either `displot` (a figure-level function with similar flexibility) or `histplot` (an axes-level function for histograms).\n",
      "  warnings.warn(msg, FutureWarning)\n",
      "C:\\Users\\JAGADISH\\anaconda3\\lib\\site-packages\\seaborn\\distributions.py:2557: FutureWarning: `distplot` is a deprecated function and will be removed in a future version. Please adapt your code to use either `displot` (a figure-level function with similar flexibility) or `histplot` (an axes-level function for histograms).\n",
      "  warnings.warn(msg, FutureWarning)\n"
     ]
    },
    {
     "data": {
      "image/png": "[encoded data removed]",
      "text/plain": [
       "<Figure size 432x288 with 2 Axes>"
      ]
     },
     "metadata": {
      "needs_background": "light"
     },
     "output_type": "display_data"
    }
   ],
   "source": [
    "#Prepare a layout two render these categorical attributes\n",
    "plt.figure(1) \n",
    "\n",
    "plt.subplot(121) \n",
    "sns.distplot(df['Weight'], hist=True, kde=True); \n",
    "\n",
    "plt.subplot(122) \n",
    "sns.distplot(df['Weight1'], hist=True, kde=True); \n"
   ]
  },
  {
   "cell_type": "code",
   "execution_count": 20,
   "metadata": {
    "scrolled": true
   },
   "outputs": [
    {
     "name": "stderr",
     "output_type": "stream",
     "text": [
      "C:\\Users\\JAGADISH\\anaconda3\\lib\\site-packages\\seaborn\\distributions.py:2557: FutureWarning: `distplot` is a deprecated function and will be removed in a future version. Please adapt your code to use either `displot` (a figure-level function with similar flexibility) or `histplot` (an axes-level function for histograms).\n",
      "  warnings.warn(msg, FutureWarning)\n",
      "C:\\Users\\JAGADISH\\anaconda3\\lib\\site-packages\\seaborn\\distributions.py:2557: FutureWarning: `distplot` is a deprecated function and will be removed in a future version. Please adapt your code to use either `displot` (a figure-level function with similar flexibility) or `histplot` (an axes-level function for histograms).\n",
      "  warnings.warn(msg, FutureWarning)\n",
      "C:\\Users\\JAGADISH\\anaconda3\\lib\\site-packages\\seaborn\\distributions.py:2557: FutureWarning: `distplot` is a deprecated function and will be removed in a future version. Please adapt your code to use either `displot` (a figure-level function with similar flexibility) or `histplot` (an axes-level function for histograms).\n",
      "  warnings.warn(msg, FutureWarning)\n"
     ]
    },
    {
     "data": {
      "text/plain": [
       "<AxesSubplot:xlabel='Length', ylabel='Density'>"
      ]
     },
     "execution_count": 20,
     "metadata": {},
     "output_type": "execute_result"
    },
    {
     "data": {
      "image/png": "[encoded data removed]",
      "text/plain": [
       "<Figure size 432x288 with 3 Axes>"
      ]
     },
     "metadata": {
      "needs_background": "light"
     },
     "output_type": "display_data"
    }
   ],
   "source": [
    "\n",
    "plt.subplot(131) \n",
    "sns.distplot(df['Height'], hist=True, kde=True); \n",
    "\n",
    "plt.subplot(132) \n",
    "sns.distplot(df['Width'], hist=True, kde=True); \n",
    "\n",
    "plt.subplot(133) \n",
    "sns.distplot(df['Length'], hist=True, kde=True)"
   ]
  },
  {
   "cell_type": "code",
   "execution_count": 21,
   "metadata": {
    "scrolled": true
   },
   "outputs": [
    {
     "data": {
      "text/plain": [
       "<seaborn.axisgrid.PairGrid at 0x271bc022f70>"
      ]
     },
     "execution_count": 21,
     "metadata": {},
     "output_type": "execute_result"
    },
    {
     "data": {
      "image/png": "[encoded data removed]",
      "text/plain": [
       "<Figure size 1080x1080 with 42 Axes>"
      ]
     },
     "metadata": {
      "needs_background": "light"
     },
     "output_type": "display_data"
    }
   ],
   "source": [
    "# Find how much the different features are significant using pair plot\n",
    "\n",
    "sns.pairplot(df)"
   ]
  },
  {
   "cell_type": "code",
   "execution_count": 22,
   "metadata": {},
   "outputs": [
    {
     "data": {
      "text/plain": [
       "(155, 5)"
      ]
     },
     "execution_count": 22,
     "metadata": {},
     "output_type": "execute_result"
    }
   ],
   "source": [
    "# drop highly correlated features\n",
    "# Weight, Weight1 are highly correlated. Drop Weight.\n",
    "# Keep Weight1 as Weight1 (.899) is more correlated with cost in comparision to Weight (.895).\n",
    "\n",
    "df.drop('Weight', axis =1, inplace = True)\n",
    "df.shape\n",
    "#im dropping Weight for this assignment as it removes the correlated feature and  feature reduction helps with model"
   ]
  },
  {
   "cell_type": "markdown",
   "metadata": {},
   "source": [
    "<center><h1> Feature scaling and get Train-Test set</h1></center>"
   ]
  },
  {
   "cell_type": "code",
   "execution_count": 23,
   "metadata": {
    "scrolled": false
   },
   "outputs": [
    {
     "name": "stdout",
     "output_type": "stream",
     "text": [
      "[[ 5.79686213e-01  7.56422724e-01  1.29333962e+00  8.05741055e-01]\n",
      " [-4.43328281e-01 -5.26740444e-01 -6.16129756e-01 -4.06429291e-01]\n",
      " [-3.92177557e-01 -4.79909672e-01 -5.92840136e-01 -3.45899462e-01]\n",
      " [ 6.81987663e-01  8.50084269e-01  1.53762445e+00  5.34870072e-01]\n",
      " [-1.87574658e-01 -1.33361955e-01 -1.01804189e-02  6.07399256e-02]\n",
      " [-5.45827734e-02 -1.80192727e-01 -1.39158335e-01  4.48433477e-01]\n",
      " [-4.94479006e-01 -5.73571217e-01 -8.62184593e-01 -4.66353821e-01]\n",
      " [ 8.35439837e-01  1.01867505e+00  1.76919314e+00  8.80737512e-01]\n",
      " [ 5.08075199e-01  3.16213462e-01  2.58395481e-01  9.81519677e-01]\n",
      " [-8.01383355e-01 -9.01386625e-01 -8.93974925e-01 -9.83278557e-01]\n",
      " [-5.45629731e-01 -5.26740444e-01 -5.52083301e-01 -6.48548605e-01]\n",
      " [ 5.79686213e-01  7.47056569e-01  1.56331290e+00  4.46314933e-01]\n",
      " [-1.34358104e+00 -1.32286358e+00 -4.82796681e-01 -1.25293894e+00]\n",
      " [ 1.09119346e+00  1.26219507e+00  2.12317208e+00  1.15602717e+00]\n",
      " [-6.99081905e-01 -7.60894307e-01 -7.51791793e-01 -4.41233942e-01]\n",
      " [ 1.24464564e+00  1.20599814e+00  7.99646253e-01  1.28840591e+00]\n",
      " [-1.36423933e-01  4.45949808e-02  8.05189183e-01  1.81375874e-01]\n",
      " [ 1.55154998e+00  1.39332123e+00  8.36560301e-01  1.82802933e+00]\n",
      " [-5.96780456e-01 -5.92303526e-01 -5.32543309e-01 -5.13688147e-01]\n",
      " [-1.36423933e-01 -2.45755809e-01 -4.08153448e-01 -1.52809309e-01]\n",
      " [ 3.23932590e-01  5.22268861e-01  1.24419852e+00  4.28398104e-01]\n",
      " [-7.29772340e-01 -6.95331225e-01  1.10739289e-01 -5.96856131e-01]\n",
      " [ 6.30836938e-01  6.72127333e-01 -7.48228482e-01 -1.44335133e-01]\n",
      " [-1.61979495e+00 -1.63194668e+00 -1.56415703e+00 -1.96604085e+00]\n",
      " [-1.77324712e+00 -1.78180515e+00 -1.61828211e+00 -1.95901939e+00]\n",
      " [-1.03667669e+00 -1.01378048e+00 -3.52910469e-01 -1.04320309e+00]\n",
      " [-1.31289060e+00 -1.36969435e+00 -1.18695835e+00 -1.18907997e+00]\n",
      " [-1.72209640e+00 -1.74434053e+00 -1.56611336e+00 -8.95556386e-02]\n",
      " [-9.03684804e-01 -8.73288161e-01 -1.23041918e-01 -8.94844477e-01]\n",
      " [ 2.44157259e+00  2.29247206e+00  1.32465349e-03  1.07425137e+00]\n",
      " [ 9.68431722e-01  8.59450423e-01 -6.13008947e-01 -2.27987356e-01]\n",
      " [ 1.75615288e+00  1.62747509e+00 -4.56595858e-01  3.02375001e-01]\n",
      " [ 1.55154998e+00  1.36522277e+00  7.01550373e-01  1.74371128e+00]\n",
      " [ 9.37741287e-01  8.21985805e-01  4.45876923e-01  1.13078623e+00]\n",
      " [-2.69415817e-01 -2.55121963e-01 -4.27111199e-01 -2.96870301e-01]\n",
      " [-5.25169441e-01 -6.01669680e-01 -6.91075754e-01 -4.63932628e-01]\n",
      " [-8.01383355e-01 -7.70260461e-01 -6.45407964e-03 -6.68039210e-01]\n",
      " [-3.30796687e-01 -4.14346590e-01 -5.09370137e-01 -1.39613807e-01]\n",
      " [ 1.04004274e+00  9.25013505e-01 -3.79740111e-01  1.08982199e-01]\n",
      " [-2.89876107e-01 -2.45755809e-01  5.04799662e-01 -1.52809309e-01]\n",
      " [-4.43328281e-01 -3.58149663e-01 -3.54866797e-01 -1.62978321e-01]\n",
      " [-4.53558426e-01 -3.67515818e-01 -4.67006318e-01 -4.63206270e-01]\n",
      " [ 4.26234039e-01  6.25296560e-01  1.16270814e+00  4.09391738e-01]\n",
      " [ 1.44924853e+00  1.30902584e+00  9.03564538e-01  1.49626534e+00]\n",
      " [-1.57887437e+00 -1.60384821e+00 -1.51161565e+00 -1.89304188e+00]\n",
      " [ 6.30836938e-01  8.31351960e-01  1.44581676e+00  7.10043396e-01]\n",
      " [ 4.26234039e-01  6.15930406e-01  1.51789814e+00  7.16399028e-01]\n",
      " [-9.03684804e-01 -9.76315861e-01 -7.64997008e-01 -8.14884574e-01]\n",
      " [-8.52732082e-02 -2.23579172e-03 -8.20987659e-02  2.28286491e-01]\n",
      " [-1.00598625e+00 -1.06997741e+00 -8.61276298e-01 -6.50606619e-01]\n",
      " [ 1.19329691e-01  2.69382689e-01  8.87215225e-01  3.57411064e-02]\n",
      " [-1.31289060e+00 -1.35096204e+00 -1.39465518e+00 -1.52368887e+00]\n",
      " [-5.96780456e-01 -6.67232762e-01 -6.54557629e-01 -5.98611496e-01]\n",
      " [ 1.90940705e-01  3.63044234e-01  1.22479827e+00  5.33901595e-01]\n",
      " [-4.94479006e-01 -4.51811208e-01  3.31944101e-01 -4.43594606e-01]\n",
      " [ 1.24464564e+00  1.10297044e+00  8.05887871e-01  1.85581252e+00]\n",
      " [-6.68391470e-01 -7.32795843e-01 -5.90744070e-01 -5.22041263e-01]\n",
      " [ 6.81987663e-01  5.50367324e-01  3.11146470e-01  1.20517739e+00]\n",
      " [ 3.75083314e-01  5.41001170e-01  1.12691200e+00 -1.72224935e-02]\n",
      " [ 8.35439837e-01  7.18958105e-01  3.93265671e-01  1.41902928e+00]\n",
      " [ 4.26234039e-01  6.15930406e-01 -2.76567094e-01  4.68710970e-01]\n",
      " [ 1.24464564e+00  1.11233659e+00  6.54319023e-01  1.71211471e+00]\n",
      " [-5.45629731e-01 -6.20401989e-01 -4.95722420e-01 -4.67564418e-01]\n",
      " [ 1.09119346e+00  9.71844277e-01 -5.87949316e-01 -2.53894123e-01]\n",
      " [-5.45629731e-01 -5.26740444e-01 -5.87017731e-01 -3.61031919e-01]\n",
      " [ 3.23932590e-01  5.22268861e-01  1.26949105e+00  2.53103721e-01]\n",
      " [ 1.24464564e+00  1.11233659e+00  5.15745783e-01  1.35196223e+00]\n",
      " [ 4.56924474e-01  3.91142698e-01 -7.80787371e-01 -6.17920512e-01]\n",
      " [-6.99081905e-01 -6.48500453e-01 -6.53486307e-01 -6.67131262e-01]\n",
      " [-7.29772340e-01 -6.95331225e-01 -8.91788104e-02 -6.67070732e-01]\n",
      " [-1.56884223e-01  5.39611353e-02  8.28991175e-01 -5.49931065e-02]\n",
      " [ 1.60270071e+00  1.44015200e+00  8.57870304e-01  2.26717323e+00]\n",
      " [-1.76301698e+00 -1.78180515e+00 -1.67501563e+00 -1.96604085e+00]\n",
      " [-5.96780456e-01 -5.54838908e-01 -7.25707419e-01 -3.88633521e-01]\n",
      " [ 1.70282413e-02 -1.14629646e-01 -2.56211966e-01 -1.16370353e-01]\n",
      " [ 1.19329691e-01  3.16213462e-01  8.20606911e-01  4.46435993e-01]\n",
      " [ 1.50039926e+00  1.39332123e+00 -3.82069074e-01 -4.47635655e-02]\n",
      " [ 5.28535489e-01  7.37690415e-01  1.40145004e+00  4.84872434e-01]\n",
      " [-3.41224835e-02 -1.61460418e-01 -3.81416964e-01  1.02747627e-01]\n",
      " [-8.21843645e-01 -7.88992771e-01 -7.69468615e-01 -7.39585467e-01]\n",
      " [ 1.90940705e-01  3.81776543e-01  1.09039387e+00 -8.95556386e-02]\n",
      " [ 3.95543604e-01  4.09875007e-01  1.31467051e-01  5.80206914e-01]\n",
      " [-1.64025524e+00 -1.64131283e+00 -1.56194452e+00 -1.95544813e+00]\n",
      " [ 1.50039926e+00  1.39332123e+00 -4.88036845e-01  3.78596504e-02]\n",
      " [-2.48955527e-01 -5.84327188e-02  6.05410821e-01 -2.27866297e-01]\n",
      " [ 1.34694708e+00  1.48698278e+00  2.02689279e+00  1.19488732e+00]\n",
      " [ 8.35439837e-01  1.02804120e+00  1.85597026e+00  1.09071549e+00]\n",
      " [-1.36423933e-01 -8.65311823e-02 -1.80520701e-01 -8.95556386e-02]\n",
      " [ 9.37741287e-01  8.12619651e-01  3.84555353e-01  1.19252666e+00]\n",
      " [-1.06736712e+00 -1.13554049e+00 -1.00902565e+00 -8.80680497e-01]\n",
      " [-1.40496191e+00 -1.35096204e+00 -1.11168629e+00 -1.28834889e+00]\n",
      " [ 7.33138388e-01  9.34379659e-01  1.52502476e+00  1.04967626e+00]\n",
      " [ 1.14234419e+00  1.00930890e+00  5.16118417e-01  9.72440203e-01]\n",
      " [-1.19012886e+00 -1.25730050e+00 -1.00800090e+00 -1.06826244e+00]\n",
      " [ 1.09119346e+00  1.25282891e+00  2.13414149e+00  1.14737141e+00]\n",
      " [ 7.33138388e-01  7.65788878e-01 -6.94988410e-01 -7.29560165e-03]\n",
      " [ 3.23932590e-01  3.16213462e-01  4.24683369e-01  1.31080194e+00]\n",
      " [ 1.55154998e+00  1.42141969e+00 -2.64223596e-01  4.43772680e-01]\n",
      " [ 1.19349491e+00  1.37458892e+00  2.29022852e+00  1.42441643e+00]\n",
      " [ 9.37741287e-01  1.12170275e+00  2.33745987e+00  1.33561917e+00]\n",
      " [-2.28495238e-01 -3.39417354e-01 -5.49521442e-01 -9.53059723e-02]\n",
      " [-6.99081905e-01 -7.60894307e-01 -6.99390148e-01 -6.59141325e-01]\n",
      " [-8.42303934e-01 -9.20118934e-01 -8.81025896e-01 -8.22995571e-01]\n",
      " [ 1.14234419e+00  1.00930890e+00  5.16118417e-01  1.87457677e+00]\n",
      " [-1.59933466e+00 -1.61321437e+00 -1.59070720e+00 -1.81762171e+00]\n",
      " [-1.44588249e+00 -1.49145436e+00 -1.25589562e+00 -1.45105307e+00]\n",
      " [-9.34375239e-01 -1.05124510e+00 -8.66679490e-01 -7.70576739e-01]\n",
      " [ 7.33138388e-01  9.62478123e-01  1.73262844e+00  1.00282618e+00]\n",
      " [-6.99081905e-01 -7.60894307e-01 -7.51791793e-01 -5.09329999e-01]\n",
      " [-1.70163611e+00 -1.70687591e+00 -1.59238405e+00 -1.88807843e+00]\n",
      " [-1.64025524e+00 -1.64131283e+00 -1.56194452e+00 -1.88408346e+00]\n",
      " [-8.01383355e-01 -7.88992771e-01 -6.29870632e-01 -4.97708272e-01]\n",
      " [ 8.76360417e-01  8.40718114e-01  6.61585385e-01  1.31782340e+00]\n",
      " [ 2.88146883e+00  2.72331517e+00  4.11245258e-01  1.56678259e+00]\n",
      " [-5.96780456e-01 -6.67232762e-01 -7.09288237e-01 -5.27488948e-01]\n",
      " [-1.87574658e-01 -1.52094264e-01  5.70010598e-01 -9.83324637e-02]\n",
      " [-5.96780456e-01 -6.67232762e-01 -6.54557629e-01 -5.27488948e-01]\n",
      " [-9.85525964e-01 -9.66949706e-01 -8.43599476e-01 -9.53195232e-01]\n",
      " [ 6.30836938e-01  8.03253496e-01  1.64729527e+00  5.89528507e-01]\n",
      " [ 2.93242155e-01  5.22268861e-01  1.23576768e+00  3.40750912e-01]\n",
      " [-3.41224835e-02 -1.61460418e-01 -4.35262566e-01 -3.71973369e-02]\n",
      " [-6.47931180e-01 -6.11035835e-01  1.90017156e-01 -7.50178187e-01]\n",
      " [ 1.14234419e+00  9.99942741e-01  8.17649130e-01  1.78862441e+00]\n",
      " [-3.92177557e-01 -3.20685045e-01 -3.22820280e-01 -3.39725420e-01]] [[ 0.73313839  0.93437966  1.73304765  1.02510115]\n",
      " [-0.54562973 -0.62040199 -0.71371326 -0.46756442]\n",
      " [-1.5174935  -1.57574975 -1.54724877 -1.90103182]\n",
      " [ 0.88659056  0.78452119  0.45659015  1.49360203]\n",
      " [ 0.73313839  0.9250135   1.70479734  0.72184671]\n",
      " [ 0.22163114  0.40987501  0.87324145  0.17768355]\n",
      " [-0.54562973 -0.49864198 -0.43950128 -0.34874436]\n",
      " [ 0.08863926 -0.04906656 -0.31098915  0.14463427]\n",
      " [ 0.01702824  0.01649652 -0.03319056  0.17259905]\n",
      " [ 1.24464564  1.09360429  0.70057221  1.64032633]\n",
      " [-0.59678046 -0.66723276 -0.79138415 -0.24299875]\n",
      " [-0.59678046 -0.66723276 -0.76401884 -0.52748895]\n",
      " [ 1.85845433  1.69303817 -0.26282622  0.28663725]\n",
      " [-0.18757466 -0.18019273 -0.12579009 -0.09010041]\n",
      " [ 0.73313839  0.62529656  0.5980513   2.05755844]\n",
      " [-0.7195422  -0.70469738 -0.64111952 -0.60575402]\n",
      " [ 1.34694708  1.43078585  2.26256045  1.42296372]\n",
      " [-1.38450162 -1.44462359 -1.40848921 -1.40989279]\n",
      " [-1.98808017 -2.04405747 -1.58567664 -1.80890542]\n",
      " [ 1.65385143  1.49634893  0.83104066  1.93655931]\n",
      " [-0.28987611 -0.38624813 -0.57781833 -0.43154917]\n",
      " [ 0.22163114  0.41924116  1.18413459  0.27077843]\n",
      " [ 2.06305723  1.92719204 -0.28891059  0.59291818]\n",
      " [-1.69140597 -1.6881436  -1.61683815 -1.88323605]\n",
      " [-0.92414509 -0.88265432 -0.77901736 -0.90313706]\n",
      " [-0.03412248 -0.16146042 -0.40833977 -0.03719734]\n",
      " [-1.84485814 -1.85673438 -1.67259351 -2.02705492]\n",
      " [-1.26173988 -1.23856819 -0.54574852 -1.26038411]\n",
      " [-0.39217756 -0.47990967 -0.37904142 -0.40763989]\n",
      " [ 0.22163114  0.09142575 -0.30390911  0.22707589]\n",
      " [ 0.52853549  0.71895811  1.38337729  0.53807815]] 19     650.0\n",
      "95     170.0\n",
      "97     145.0\n",
      "22     620.0\n",
      "52     290.0\n",
      "       ...  \n",
      "9      500.0\n",
      "104    265.0\n",
      "68     145.0\n",
      "118    820.0\n",
      "48     169.0\n",
      "Name: Cost, Length: 124, dtype: float64 26      720.0\n",
      "91      130.0\n",
      "156      12.2\n",
      "112     685.0\n",
      "24      700.0\n",
      "7       390.0\n",
      "45      160.0\n",
      "107     300.0\n",
      "57      306.0\n",
      "119     850.0\n",
      "90      110.0\n",
      "87      120.0\n",
      "138     567.0\n",
      "55      270.0\n",
      "111     840.0\n",
      "41      110.0\n",
      "33      975.0\n",
      "157      19.7\n",
      "72        5.9\n",
      "127    1000.0\n",
      "99      180.0\n",
      "8       450.0\n",
      "139     770.0\n",
      "150       8.7\n",
      "37       78.0\n",
      "103     260.0\n",
      "145       6.7\n",
      "62       60.0\n",
      "96      225.0\n",
      "108     320.0\n",
      "16      700.0\n",
      "Name: Cost, dtype: float64\n"
     ]
    }
   ],
   "source": [
    "# Prepare the  matrix of the independent variables and vector of dependent vector. \n",
    "# Cost  is the dependent variable\n",
    "# X is matrix of independent variables\n",
    "X = df.iloc[:, 1:]\n",
    "\n",
    "# y is vactor of dependent varible\n",
    "y = df.iloc[:,0]\n",
    "\n",
    "# scale the features using standard scaler. This will help in faster conversion while using gradient descent\n",
    "scaler = StandardScaler()\n",
    "X = scaler.fit_transform(X)\n",
    "\n",
    "# split train and test daa in 80/20 ratio\n",
    "X_train, X_test, y_train, y_test = train_test_split(X, y, test_size=0.2, random_state = 0)  \n",
    "print(X_train, X_test, y_train, y_test)"
   ]
  },
  {
   "cell_type": "code",
   "execution_count": 24,
   "metadata": {},
   "outputs": [
    {
     "data": {
      "text/html": [
       "<div>\n",
       "<style scoped>\n",
       "    .dataframe tbody tr th:only-of-type {\n",
       "        vertical-align: middle;\n",
       "    }\n",
       "\n",
       "    .dataframe tbody tr th {\n",
       "        vertical-align: top;\n",
       "    }\n",
       "\n",
       "    .dataframe thead th {\n",
       "        text-align: right;\n",
       "    }\n",
       "</style>\n",
       "<table border=\"1\" class=\"dataframe\">\n",
       "  <thead>\n",
       "    <tr style=\"text-align: right;\">\n",
       "      <th></th>\n",
       "      <th>Cost</th>\n",
       "      <th>Weight1</th>\n",
       "      <th>Length</th>\n",
       "      <th>Height</th>\n",
       "      <th>Width</th>\n",
       "    </tr>\n",
       "  </thead>\n",
       "  <tbody>\n",
       "    <tr>\n",
       "      <th>count</th>\n",
       "      <td>155.000000</td>\n",
       "      <td>155.000000</td>\n",
       "      <td>155.000000</td>\n",
       "      <td>155.000000</td>\n",
       "      <td>155.000000</td>\n",
       "    </tr>\n",
       "    <tr>\n",
       "      <th>mean</th>\n",
       "      <td>377.638065</td>\n",
       "      <td>27.833548</td>\n",
       "      <td>30.623871</td>\n",
       "      <td>8.920512</td>\n",
       "      <td>4.396453</td>\n",
       "    </tr>\n",
       "    <tr>\n",
       "      <th>std</th>\n",
       "      <td>319.144511</td>\n",
       "      <td>9.806718</td>\n",
       "      <td>10.711349</td>\n",
       "      <td>4.307677</td>\n",
       "      <td>1.657433</td>\n",
       "    </tr>\n",
       "    <tr>\n",
       "      <th>min</th>\n",
       "      <td>5.900000</td>\n",
       "      <td>8.400000</td>\n",
       "      <td>8.800000</td>\n",
       "      <td>1.728400</td>\n",
       "      <td>1.047600</td>\n",
       "    </tr>\n",
       "    <tr>\n",
       "      <th>25%</th>\n",
       "      <td>120.000000</td>\n",
       "      <td>21.000000</td>\n",
       "      <td>23.150000</td>\n",
       "      <td>5.926950</td>\n",
       "      <td>3.401600</td>\n",
       "    </tr>\n",
       "    <tr>\n",
       "      <th>50%</th>\n",
       "      <td>272.000000</td>\n",
       "      <td>27.000000</td>\n",
       "      <td>29.400000</td>\n",
       "      <td>7.680000</td>\n",
       "      <td>4.248500</td>\n",
       "    </tr>\n",
       "    <tr>\n",
       "      <th>75%</th>\n",
       "      <td>615.000000</td>\n",
       "      <td>35.000000</td>\n",
       "      <td>39.450000</td>\n",
       "      <td>12.365900</td>\n",
       "      <td>5.472750</td>\n",
       "    </tr>\n",
       "    <tr>\n",
       "      <th>max</th>\n",
       "      <td>1250.000000</td>\n",
       "      <td>56.000000</td>\n",
       "      <td>59.700000</td>\n",
       "      <td>18.957000</td>\n",
       "      <td>8.142000</td>\n",
       "    </tr>\n",
       "  </tbody>\n",
       "</table>\n",
       "</div>"
      ],
      "text/plain": [
       "              Cost     Weight1      Length      Height       Width\n",
       "count   155.000000  155.000000  155.000000  155.000000  155.000000\n",
       "mean    377.638065   27.833548   30.623871    8.920512    4.396453\n",
       "std     319.144511    9.806718   10.711349    4.307677    1.657433\n",
       "min       5.900000    8.400000    8.800000    1.728400    1.047600\n",
       "25%     120.000000   21.000000   23.150000    5.926950    3.401600\n",
       "50%     272.000000   27.000000   29.400000    7.680000    4.248500\n",
       "75%     615.000000   35.000000   39.450000   12.365900    5.472750\n",
       "max    1250.000000   56.000000   59.700000   18.957000    8.142000"
      ]
     },
     "execution_count": 24,
     "metadata": {},
     "output_type": "execute_result"
    }
   ],
   "source": [
    "df.describe()"
   ]
  },
  {
   "cell_type": "markdown",
   "metadata": {},
   "source": [
    "<center><h2>Functions for prediction values, cost and R-Suqare, RMSE, and MSE </h2></center>"
   ]
  },
  {
   "cell_type": "code",
   "execution_count": 25,
   "metadata": {},
   "outputs": [],
   "source": [
    "#functions to  calculate cost, predict and  print results\n",
    "\n",
    "def calculate_cost(theta, X, y):\n",
    "    m = len(y)\n",
    "    y_hat = X.dot(theta)\n",
    "    cost = (1/2*m) * np.sum(np.square(y_hat - y))\n",
    "    \n",
    "    return cost\n",
    "\n",
    "predict = lambda X, weights : X.dot(weights)\n",
    "\n",
    "def predict(theta, X_test, y_test):\n",
    "    \n",
    "    weights = np.array([theta[0][0],theta[1][0],theta[2][0],theta[3][0],theta[4][0]])\n",
    "    y_pred = np.zeros(len(y_test)) \n",
    "    X_test_calc = np.concatenate((np.ones((len(X_test), 1)), X_test), axis = 1)    \n",
    "    \n",
    "    for i, X_i in enumerate(X_test_calc):\n",
    "        y_pred[i] =  X_i.dot(weights)\n",
    "    \n",
    "    return y_pred\n",
    "\n",
    "def print_results(y_test, y_pred):\n",
    "            \n",
    "    print('R squared (Variance score) = %.2f' % r2_score(y_test, y_pred))    \n",
    "    print(\"RMSE (Root mean squared error) = %.2f\" % math.sqrt(mean_squared_error(y_test, y_pred)))\n",
    "    print(\"MSE (Mean squared error) = %.2f\" % mean_squared_error(y_test, y_pred))  \n",
    "\n"
   ]
  },
  {
   "cell_type": "markdown",
   "metadata": {},
   "source": [
    "<center><h2> Algorithms for  OLS, Gradient Descent, SGD, and Mini Batch Gradients and optimization of algorithms</h2></center>"
   ]
  },
  {
   "cell_type": "code",
   "execution_count": 26,
   "metadata": {},
   "outputs": [],
   "source": [
    "'''\n",
    "Implementations to optimize the cost\n",
    "1. Normal Function\n",
    "2. Stochastic gradient descent- in built SK Learn function\n",
    "3. Gradient Descent\n",
    "4. Mini-batch gradient descent\n",
    "5. Stochastic gradient descent by defining fucntions\n",
    "'''\n",
    "                  \n",
    "def normal_equation(X_train, y_train, X_test, y_test):\n",
    "    # Multiple Linear Regression equation\n",
    "\n",
    "    OLS_regressor = LinearRegression(normalize = True)\n",
    "    OLS_regressor.fit(X_train, y_train)\n",
    "\n",
    "    y_pred = OLS_regressor.predict(X_test)\n",
    "    print('Intercept',OLS_regressor.intercept_)\n",
    "    print('Coeffient',OLS_regressor.coef_)\n",
    "    print_results(y_test, y_pred)\n",
    "    \n",
    "\n",
    "def stochastic_gradient_descent_SKLearn (X_train, y_train, X_test, y_test, tol, learning_rate, iterations): \n",
    "\n",
    "    sgd_regressor = SGDRegressor(max_iter =iterations, tol = tol, eta0 = learning_rate)\n",
    "    sgd_regressor.fit(X_train, y_train)\n",
    "    \n",
    "    y_pred =  sgd_regressor.predict(X_test)\n",
    "    print('Intercept',sgd_regressor.intercept_)\n",
    "    print('Coeffient',sgd_regressor.coef_)\n",
    "    print_results(y_test, y_pred)\n",
    "    \n",
    "\n",
    "def gradient_descent (X_train, y_train, X_test, y_test, learning_rate, iterations):    \n",
    "\n",
    "    '''\n",
    "    theta : vector of gradients\n",
    "    X_train, X_test: train testset feature matrix\n",
    "    y_train, y_test: train, test set of the dependent variable vactor\n",
    "    y_pred: predicted dependent variable vector\n",
    "    '''\n",
    "    \n",
    "    m = len(y_train)\n",
    "    cost_history = np.zeros(iterations)\n",
    "    \n",
    "    \n",
    "    theta = np.random.randn(X_train.shape[1] + 1 , 1)        \n",
    "    X_train = np.concatenate((np.ones((len(X_train), 1)), X_train), axis = 1)   \n",
    "    y_train = np.array(y_train).reshape(len(y_train), 1)\n",
    "    \n",
    "    for iteration in range(iterations):\n",
    "        y_hat = np.dot(X_train, theta)\n",
    "        theta = theta - (1/m) * learning_rate * (X_train.T.dot((y_hat - y_train)))\n",
    "        cost_history[iteration] = calculate_cost(theta, X_train, y_train)\n",
    "        \n",
    "        # print cost history to see if it is converging\n",
    "    #print(cost_history[iteration])\n",
    "    \n",
    "    y_pred = predict(theta, X_test, y_test)\n",
    "    print(theta)\n",
    "    print_results(y_test, y_pred)\n",
    "                \n",
    "def mini_batch_gradient_descent (X_train, y_train, X_test, y_test, learning_rate, iterations, batch_size):\n",
    "   \n",
    "    '''\n",
    "    theta : vector of gradients\n",
    "    X_train, X_test: train testset feature matrix\n",
    "    y_train, y_test: train, test set of the dependent variable vactor\n",
    "    y_pred: predicted dependent variable vector\n",
    "    '''\n",
    "    m = len(y_train)    \n",
    "    cost_history = np.zeros(iterations)  \n",
    "    \n",
    "    theta = np.random.randn(X_train.shape[1] + 1 , 1)        \n",
    "    y_train = np.array(y_train).reshape(len(y_train), 1) \n",
    "    \n",
    "    \n",
    "    for iteration in range(iterations):\n",
    "        \n",
    "        cost = 0.0        \n",
    "        indices = np.random.permutation(m)\n",
    "        X_train = X_train[indices]\n",
    "        y_train = y_train[indices]\n",
    "       \n",
    "        for i in range( 0, m, batch_size):\n",
    "            X_i = X_train[i : i + batch_size]\n",
    "            y_i = y_train[i : i + batch_size]\n",
    "            \n",
    "            X_i = np.concatenate((np.ones((len(X_i), 1)), X_i), axis = 1)           \n",
    "           \n",
    "            y_hat = np.dot(X_i, theta)\n",
    "            theta = theta - (1/m) * learning_rate * (X_i.T.dot((y_hat - y_i)))\n",
    "            cost += calculate_cost(theta, X_i, y_i)\n",
    "            \n",
    "        cost_history[iteration] = cost\n",
    "         \n",
    "        # print cost history to see if it is converging\n",
    "        #print(cost_history[iteration])\n",
    "    \n",
    "    y_pred = predict(theta, X_test, y_test)\n",
    "    print(theta)\n",
    "    print_results(y_test, y_pred)\n",
    "    \n",
    "def stochastic_gradient_descent (X_train, y_train, X_test, y_test, learning_rate, iterations):\n",
    "    \n",
    "    '''\n",
    "    theta : vector of gradients\n",
    "    X_train, X_test: train testset feature matrix\n",
    "    y_train, y_test: train, test set of the dependent variable vactor\n",
    "    y_pred: predicted dependent variable vector\n",
    "    '''\n",
    "    m = len(y_train)    \n",
    "    cost_history = np.zeros(iterations)  \n",
    "    \n",
    "    theta = np.random.randn(X_train.shape[1] + 1 , 1)        \n",
    "    X_train = np.concatenate((np.ones((len(X_train), 1)), X_train), axis = 1)   \n",
    "    y_train = np.array(y_train).reshape(len(y_train), 1)    \n",
    "    \n",
    "    for iteration in range(iterations):\n",
    "        \n",
    "        cost = 0.0        \n",
    "        for i in range(m):\n",
    "            \n",
    "            rand_index = np.random.randint(0, m)\n",
    "            \n",
    "            X_i = X_train[rand_index,:].reshape(1, X_train.shape[1])\n",
    "            y_i = y_train[rand_index,:].reshape(1, 1)\n",
    "            \n",
    "            y_hat = np.dot(X_i, theta)            \n",
    "           \n",
    "            theta = theta - (1/m) * learning_rate * (X_i.T.dot((y_hat - y_i)))\n",
    "            cost += calculate_cost(theta, X_i, y_i)\n",
    "            \n",
    "        cost_history[iteration] = cost\n",
    "         \n",
    "        # print cost history to see if it is converging\n",
    "        #print(cost_history[iteration])\n",
    "    \n",
    "    y_pred = predict(theta, X_test, y_test)\n",
    "    print(theta)\n",
    "    print_results(y_test, y_pred)"
   ]
  },
  {
   "cell_type": "markdown",
   "metadata": {},
   "source": [
    "## Evaluation of each model with R squared, RMSE and MSE for the model"
   ]
  },
  {
   "cell_type": "markdown",
   "metadata": {},
   "source": [
    "<center><h2> Normal Equation method/OLS </h2></center>"
   ]
  },
  {
   "cell_type": "code",
   "execution_count": 27,
   "metadata": {
    "scrolled": true
   },
   "outputs": [
    {
     "name": "stdout",
     "output_type": "stream",
     "text": [
      "Intercept 375.55695221381797\n",
      "Coeffient [ 337.81586504 -215.72708354   96.25746333  117.54630441]\n",
      "R squared (Variance score) = 0.89\n",
      "RMSE (Root mean squared error) = 103.26\n",
      "MSE (Mean squared error) = 10663.12\n"
     ]
    }
   ],
   "source": [
    "normal_equation(X_train, y_train, X_test, y_test)"
   ]
  },
  {
   "cell_type": "markdown",
   "metadata": {},
   "source": [
    "#### From above result, Intercept is 375 and coeffiecents are for 5 features are dereived and R Square is otpimal "
   ]
  },
  {
   "cell_type": "markdown",
   "metadata": {},
   "source": [
    "<center><h2>Stochastic Gradient Descent- SK Learn</h2></center>"
   ]
  },
  {
   "cell_type": "code",
   "execution_count": 48,
   "metadata": {
    "scrolled": false
   },
   "outputs": [
    {
     "name": "stdout",
     "output_type": "stream",
     "text": [
      "Intercept [374.9726481]\n",
      "Coeffient [ 78.77794707  60.9171202   58.39408237 129.08830776]\n",
      "R squared (Variance score) = 0.89\n",
      "RMSE (Root mean squared error) = 103.62\n",
      "MSE (Mean squared error) = 10736.57\n"
     ]
    }
   ],
   "source": [
    "stochastic_gradient_descent_SKLearn (X_train, y_train, X_test, y_test, tol = 0.01, learning_rate=0.01, iterations=1000)"
   ]
  },
  {
   "cell_type": "markdown",
   "metadata": {},
   "source": [
    "<center><h2>Stochastic Gradient Descent from defined functions</h2></center>"
   ]
  },
  {
   "cell_type": "code",
   "execution_count": 38,
   "metadata": {
    "scrolled": true
   },
   "outputs": [
    {
     "name": "stdout",
     "output_type": "stream",
     "text": [
      "[[374.34521468]\n",
      " [ 76.4757209 ]\n",
      " [ 61.69837472]\n",
      " [ 59.43409373]\n",
      " [126.66351324]]\n",
      "R squared (Variance score) = 0.89\n",
      "RMSE (Root mean squared error) = 102.57\n",
      "MSE (Mean squared error) = 10520.80\n"
     ]
    }
   ],
   "source": [
    "stochastic_gradient_descent (X_train, y_train, X_test, y_test, learning_rate=0.01, iterations =1000)"
   ]
  },
  {
   "cell_type": "markdown",
   "metadata": {},
   "source": [
    "#### from above results Theta 0 is 375 which is intercept and rest all coefficents of features .from R square, model is optimal"
   ]
  },
  {
   "cell_type": "markdown",
   "metadata": {},
   "source": [
    "<center><h2>Gradient Descent</h2></center>"
   ]
  },
  {
   "cell_type": "code",
   "execution_count": 42,
   "metadata": {
    "scrolled": false
   },
   "outputs": [
    {
     "name": "stdout",
     "output_type": "stream",
     "text": [
      "[[374.75709843]\n",
      " [ 77.78321362]\n",
      " [ 62.94296499]\n",
      " [ 58.84094543]\n",
      " [127.68814437]]\n",
      "R squared (Variance score) = 0.89\n",
      "RMSE (Root mean squared error) = 103.64\n",
      "MSE (Mean squared error) = 10740.34\n"
     ]
    }
   ],
   "source": [
    "gradient_descent(X_train, y_train, X_test, y_test, learning_rate =0.01, iterations =1000)"
   ]
  },
  {
   "cell_type": "markdown",
   "metadata": {},
   "source": [
    "#### from above results Theta 0 is 375 which is intercept and rest all coefficents of features."
   ]
  },
  {
   "cell_type": "markdown",
   "metadata": {},
   "source": [
    "<center><h2>Mini-batch Gradient Descent</h2></center>"
   ]
  },
  {
   "cell_type": "code",
   "execution_count": 62,
   "metadata": {
    "scrolled": false
   },
   "outputs": [
    {
     "name": "stdout",
     "output_type": "stream",
     "text": [
      "[[374.60596907]\n",
      " [ 79.66233546]\n",
      " [ 64.6925297 ]\n",
      " [ 60.75341576]\n",
      " [122.19993543]]\n",
      "R squared (Variance score) = 0.89\n",
      "RMSE (Root mean squared error) = 103.51\n",
      "MSE (Mean squared error) = 10715.33\n"
     ]
    }
   ],
   "source": [
    "mini_batch_gradient_descent(X_train, y_train, X_test, y_test, learning_rate = 0.01, iterations =800 , batch_size = 20)  "
   ]
  },
  {
   "cell_type": "markdown",
   "metadata": {},
   "source": [
    "#### from above results Theta 0 is 375 which is intercept and rest all coefficents of features."
   ]
  },
  {
   "cell_type": "markdown",
   "metadata": {},
   "source": [
    "<left><h1> Observations & Conclusions </h1></left>"
   ]
  },
  {
   "cell_type": "raw",
   "metadata": {},
   "source": [
    "******************************************************************************************************************\n",
    "\n",
    "Observations:\n",
    "Sample data given for prediction has 159 units.\n",
    "Few featutres has null , missing and string data(noise).\n",
    "Removed outliers and and cleaned up data.\n",
    "Weight and Weight1 are highly correlated. for this model, i have reduced feature by removing weight.\n",
    "Defined algorithms using functions to find intercept and coefficents\n",
    "\n",
    "Conclusions:\n",
    "1.Best R square value reached after 400 iterations in each algorithm and Rsquare is same across algorithms which means all algorithmes are suitable for cost prediction model.\n",
    "2.I have tested with 0.01 as with low learning rate , it will not skip lower values from sample. \n",
    "Model can be tested at different learning rates, with 0.01 i have achive faster execution of alogorithms.\n",
    "with small learning rates it takes long to converge to the solution whereas with with larger learning rates it is quicker.\n",
    "with 0.001 it took time to reach convergence, where as with 0.01 it is quicker. since the sample size is small i took 0.01 as learning rate \n",
    "3.The algorithmms\n",
    "4.At 400 interations(LR=0.01) in each model, reached convergence. \n",
    "5.RMSE is optimal in each model and we can conclude that it is best fit for the given samples \n",
    "6.Model can be trained well with more samples given.\n",
    "\n",
    "Interpreations:\n",
    "1.The cost of the product at  feature value of zero is 375( which is best intercpet from above algorithem)\n",
    "2.The cost increases with rate of 76,61,59,126 with the features of Weight1,Length,Height and Width\n",
    "3.Model predcits the cost variance against the featuresat 89% acrosss all algorithms.\n",
    "4.Actual cost may have deviation of 102~104 units from the predcited cost(RMSE=~103 units)\n",
    "*******************************************************************************************************************"
   ]
  },
  {
   "cell_type": "raw",
   "metadata": {},
   "source": []
  }
 ],
 "metadata": {
  "kernelspec": {
   "display_name": "Python 3",
   "language": "python",
   "name": "python3"
  },
  "language_info": {
   "codemirror_mode": {
    "name": "ipython",
    "version": 3
   },
   "file_extension": ".py",
   "mimetype": "text/x-python",
   "name": "python",
   "nbconvert_exporter": "python",
   "pygments_lexer": "ipython3",
   "version": "3.8.8"
  }
 },
 "nbformat": 4,
 "nbformat_minor": 4
}
