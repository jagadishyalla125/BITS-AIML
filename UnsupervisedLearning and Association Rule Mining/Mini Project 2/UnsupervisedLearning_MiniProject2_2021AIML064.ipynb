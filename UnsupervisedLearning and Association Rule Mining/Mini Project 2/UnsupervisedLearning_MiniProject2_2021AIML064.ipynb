{
 "cells": [
  {
   "cell_type": "markdown",
   "id": "cb278757",
   "metadata": {},
   "source": [
    "<center><H2> Mini Project 2 - Unsupervised Learning </H2></center><br/>\n",
    "<center><H2> Student Id: 2021AIML064 </H2></center><br/>\n",
    "\n",
    "This assignment covers an end-to-end view of clustering and aims to integrate all algorithms learned together into one unified solution.\n",
    "\n",
    "\n",
    "Dataset Group 2: obesity_dataset.zip Download obesity_dataset.zip\n",
    "\n",
    "\n",
    "Note: Points will be scaled down to 12 for final marks\n",
    "\n",
    "Part 1:\n",
    "\n",
    "Do appropriate EDA, preprocessing, and feature engineering which enhances the data for a clustering formulation  [2 marks]   \n",
    "\n",
    "Part 2: K-Means\n",
    "\n",
    "Cluster the data using K-means and use Elbow method to identify a suitable k [3 marks]\n",
    "Choose a cluster validation metric of your choice and report that for the k found by you in part 1 [1 mark]  \n",
    "\n",
    "Part 3: Hierarchical clustering\n",
    "\n",
    "Plot the dendrogram using hierarchical clustering for prepared data. Infer the correct number of clusters based on the dendrogram, and compare it with the k value found in part 1 [3 marks]\n",
    "Comment why they are same/different [1 mark]\n",
    "Get cluster labels using hierarchical clustering algorithm and report clustering metric chosen in part 1 for this clustering as well [2 mark]\n",
    "\n",
    "\n",
    "Part 4: DBSCAN\n",
    "\n",
    "Experiment with different min_pts and eps values and record number of clusters found in each experiment [4 marks]\n",
    "For each of the experiments in 1, report cluster validation metric [2 marks]\n",
    "For the experiment corresponding with best metric value, how does the number of clusters compare with k (found in part 1) and n (found from dendrogram) in part 2? Comment about these values [1 mark]\n",
    "\n",
    "Part 5: Interpretation and plotting\n",
    "\n",
    "Choose the labels corresponding to the best clustering (based on metric) from part 2,3,4 and\n",
    "\n",
    "Reduce the data to 2 dimensions using PCA and plot clusters using color-coded scatter plot [3 marks]\n",
    "Try to infer and make some observations about the clusters and what business insights can be derived from these results [2 marks]\n"
   ]
  },
  {
   "cell_type": "code",
   "execution_count": 1,
   "id": "2ed7b10a",
   "metadata": {},
   "outputs": [],
   "source": [
    "# Import Libraries\n",
    "import pandas as pd\n",
    "import numpy as np\n",
    "import matplotlib.pyplot as plt\n",
    "import seaborn as sns\n",
    "import warnings\n",
    "warnings.filterwarnings(\"ignore\")\n",
    "import category_encoders as ce\n",
    "from category_encoders.one_hot import OneHotEncoder, OrdinalEncoder\n",
    "import statsmodels.api as sm\n",
    "from sklearn.model_selection import cross_val_score\n",
    "from importlib import reload\n",
    "from sklearn.preprocessing import StandardScaler\n",
    "from sklearn.preprocessing import LabelEncoder\n",
    "from sklearn.model_selection import cross_val_score\n",
    "from sklearn.cluster import KMeans\n",
    "from sklearn.metrics import silhouette_score\n",
    "import scipy.cluster.hierarchy as sch\n",
    "from sklearn.cluster import AgglomerativeClustering\n",
    "from sklearn.cluster import DBSCAN\n",
    "from sklearn.preprocessing import LabelEncoder\n",
    "from sklearn.model_selection import ParameterGrid\n",
    "from sklearn.neighbors import NearestNeighbors\n",
    "from itertools import product"
   ]
  },
  {
   "cell_type": "code",
   "execution_count": 3,
   "id": "be8fffec",
   "metadata": {},
   "outputs": [],
   "source": [
    "# load the data set\n",
    "\n",
    "obesity = pd.read_csv('ObesityDataSet_raw_and_data_sinthetic.csv')"
   ]
  },
  {
   "cell_type": "code",
   "execution_count": 4,
   "id": "c4f5c59d",
   "metadata": {},
   "outputs": [
    {
     "data": {
      "text/plain": [
       "Index(['Gender', 'Age', 'Height', 'Weight', 'family_history_with_overweight',\n",
       "       'FAVC', 'FCVC', 'NCP', 'CAEC', 'SMOKE', 'CH2O', 'SCC', 'FAF', 'TUE',\n",
       "       'CALC', 'MTRANS', 'NObeyesdad'],\n",
       "      dtype='object')"
      ]
     },
     "execution_count": 4,
     "metadata": {},
     "output_type": "execute_result"
    }
   ],
   "source": [
    "%matplotlib inline\n",
    "obesity.columns"
   ]
  },
  {
   "cell_type": "code",
   "execution_count": 5,
   "id": "50daf92a",
   "metadata": {
    "scrolled": false
   },
   "outputs": [
    {
     "name": "stdout",
     "output_type": "stream",
     "text": [
      "<class 'pandas.core.frame.DataFrame'>\n",
      "RangeIndex: 2111 entries, 0 to 2110\n",
      "Data columns (total 17 columns):\n",
      " #   Column                          Non-Null Count  Dtype  \n",
      "---  ------                          --------------  -----  \n",
      " 0   Gender                          2111 non-null   object \n",
      " 1   Age                             2111 non-null   float64\n",
      " 2   Height                          2111 non-null   float64\n",
      " 3   Weight                          2111 non-null   float64\n",
      " 4   family_history_with_overweight  2111 non-null   object \n",
      " 5   FAVC                            2111 non-null   object \n",
      " 6   FCVC                            2111 non-null   float64\n",
      " 7   NCP                             2111 non-null   float64\n",
      " 8   CAEC                            2111 non-null   object \n",
      " 9   SMOKE                           2111 non-null   object \n",
      " 10  CH2O                            2111 non-null   float64\n",
      " 11  SCC                             2111 non-null   object \n",
      " 12  FAF                             2111 non-null   float64\n",
      " 13  TUE                             2111 non-null   float64\n",
      " 14  CALC                            2111 non-null   object \n",
      " 15  MTRANS                          2111 non-null   object \n",
      " 16  NObeyesdad                      2111 non-null   object \n",
      "dtypes: float64(8), object(9)\n",
      "memory usage: 280.5+ KB\n"
     ]
    }
   ],
   "source": [
    "obesity.info()"
   ]
  },
  {
   "cell_type": "markdown",
   "id": "8bd16576",
   "metadata": {},
   "source": [
    "<center><H1> Part 1: EDA and Preprocessing </H1></center><br/>\n",
    "\n",
    "### Do appropriate EDA, preprocessing, and feature engineering which enhances the data for a clustering formulation  [2 marks]"
   ]
  },
  {
   "cell_type": "code",
   "execution_count": 6,
   "id": "24562208",
   "metadata": {},
   "outputs": [
    {
     "data": {
      "text/plain": [
       "(2087, 17)"
      ]
     },
     "execution_count": 6,
     "metadata": {},
     "output_type": "execute_result"
    }
   ],
   "source": [
    "# drop duplicates\n",
    "obesity.drop_duplicates(inplace=True)\n",
    "obesity.shape"
   ]
  },
  {
   "cell_type": "code",
   "execution_count": 7,
   "id": "daae0a12",
   "metadata": {},
   "outputs": [],
   "source": [
    "obesity['Age'] = obesity['Age'].apply(lambda age : round(age)) \n",
    "obesity['Height'] = obesity['Height'].apply(lambda height : round(height, 2)) \n",
    "obesity['Weight'] = obesity['Weight'].apply(lambda weight : round(weight))"
   ]
  },
  {
   "cell_type": "code",
   "execution_count": 8,
   "id": "62aaea61",
   "metadata": {},
   "outputs": [
    {
     "data": {
      "text/html": [
       "<div>\n",
       "<style scoped>\n",
       "    .dataframe tbody tr th:only-of-type {\n",
       "        vertical-align: middle;\n",
       "    }\n",
       "\n",
       "    .dataframe tbody tr th {\n",
       "        vertical-align: top;\n",
       "    }\n",
       "\n",
       "    .dataframe thead th {\n",
       "        text-align: right;\n",
       "    }\n",
       "</style>\n",
       "<table border=\"1\" class=\"dataframe\">\n",
       "  <thead>\n",
       "    <tr style=\"text-align: right;\">\n",
       "      <th></th>\n",
       "      <th>Gender</th>\n",
       "      <th>Age</th>\n",
       "      <th>Height</th>\n",
       "      <th>Weight</th>\n",
       "      <th>family_history_with_overweight</th>\n",
       "      <th>FAVC</th>\n",
       "      <th>FCVC</th>\n",
       "      <th>NCP</th>\n",
       "      <th>CAEC</th>\n",
       "      <th>SMOKE</th>\n",
       "      <th>CH2O</th>\n",
       "      <th>SCC</th>\n",
       "      <th>FAF</th>\n",
       "      <th>TUE</th>\n",
       "      <th>CALC</th>\n",
       "      <th>MTRANS</th>\n",
       "      <th>NObeyesdad</th>\n",
       "    </tr>\n",
       "  </thead>\n",
       "  <tbody>\n",
       "    <tr>\n",
       "      <th>0</th>\n",
       "      <td>Female</td>\n",
       "      <td>21</td>\n",
       "      <td>1.62</td>\n",
       "      <td>64</td>\n",
       "      <td>yes</td>\n",
       "      <td>no</td>\n",
       "      <td>2.0</td>\n",
       "      <td>3.0</td>\n",
       "      <td>Sometimes</td>\n",
       "      <td>no</td>\n",
       "      <td>2.000000</td>\n",
       "      <td>no</td>\n",
       "      <td>0.000000</td>\n",
       "      <td>1.000000</td>\n",
       "      <td>no</td>\n",
       "      <td>Public_Transportation</td>\n",
       "      <td>Normal_Weight</td>\n",
       "    </tr>\n",
       "    <tr>\n",
       "      <th>1</th>\n",
       "      <td>Female</td>\n",
       "      <td>21</td>\n",
       "      <td>1.52</td>\n",
       "      <td>56</td>\n",
       "      <td>yes</td>\n",
       "      <td>no</td>\n",
       "      <td>3.0</td>\n",
       "      <td>3.0</td>\n",
       "      <td>Sometimes</td>\n",
       "      <td>yes</td>\n",
       "      <td>3.000000</td>\n",
       "      <td>yes</td>\n",
       "      <td>3.000000</td>\n",
       "      <td>0.000000</td>\n",
       "      <td>Sometimes</td>\n",
       "      <td>Public_Transportation</td>\n",
       "      <td>Normal_Weight</td>\n",
       "    </tr>\n",
       "    <tr>\n",
       "      <th>2</th>\n",
       "      <td>Male</td>\n",
       "      <td>23</td>\n",
       "      <td>1.80</td>\n",
       "      <td>77</td>\n",
       "      <td>yes</td>\n",
       "      <td>no</td>\n",
       "      <td>2.0</td>\n",
       "      <td>3.0</td>\n",
       "      <td>Sometimes</td>\n",
       "      <td>no</td>\n",
       "      <td>2.000000</td>\n",
       "      <td>no</td>\n",
       "      <td>2.000000</td>\n",
       "      <td>1.000000</td>\n",
       "      <td>Frequently</td>\n",
       "      <td>Public_Transportation</td>\n",
       "      <td>Normal_Weight</td>\n",
       "    </tr>\n",
       "    <tr>\n",
       "      <th>3</th>\n",
       "      <td>Male</td>\n",
       "      <td>27</td>\n",
       "      <td>1.80</td>\n",
       "      <td>87</td>\n",
       "      <td>no</td>\n",
       "      <td>no</td>\n",
       "      <td>3.0</td>\n",
       "      <td>3.0</td>\n",
       "      <td>Sometimes</td>\n",
       "      <td>no</td>\n",
       "      <td>2.000000</td>\n",
       "      <td>no</td>\n",
       "      <td>2.000000</td>\n",
       "      <td>0.000000</td>\n",
       "      <td>Frequently</td>\n",
       "      <td>Walking</td>\n",
       "      <td>Overweight_Level_I</td>\n",
       "    </tr>\n",
       "    <tr>\n",
       "      <th>4</th>\n",
       "      <td>Male</td>\n",
       "      <td>22</td>\n",
       "      <td>1.78</td>\n",
       "      <td>90</td>\n",
       "      <td>no</td>\n",
       "      <td>no</td>\n",
       "      <td>2.0</td>\n",
       "      <td>1.0</td>\n",
       "      <td>Sometimes</td>\n",
       "      <td>no</td>\n",
       "      <td>2.000000</td>\n",
       "      <td>no</td>\n",
       "      <td>0.000000</td>\n",
       "      <td>0.000000</td>\n",
       "      <td>Sometimes</td>\n",
       "      <td>Public_Transportation</td>\n",
       "      <td>Overweight_Level_II</td>\n",
       "    </tr>\n",
       "    <tr>\n",
       "      <th>...</th>\n",
       "      <td>...</td>\n",
       "      <td>...</td>\n",
       "      <td>...</td>\n",
       "      <td>...</td>\n",
       "      <td>...</td>\n",
       "      <td>...</td>\n",
       "      <td>...</td>\n",
       "      <td>...</td>\n",
       "      <td>...</td>\n",
       "      <td>...</td>\n",
       "      <td>...</td>\n",
       "      <td>...</td>\n",
       "      <td>...</td>\n",
       "      <td>...</td>\n",
       "      <td>...</td>\n",
       "      <td>...</td>\n",
       "      <td>...</td>\n",
       "    </tr>\n",
       "    <tr>\n",
       "      <th>2106</th>\n",
       "      <td>Female</td>\n",
       "      <td>21</td>\n",
       "      <td>1.71</td>\n",
       "      <td>131</td>\n",
       "      <td>yes</td>\n",
       "      <td>yes</td>\n",
       "      <td>3.0</td>\n",
       "      <td>3.0</td>\n",
       "      <td>Sometimes</td>\n",
       "      <td>no</td>\n",
       "      <td>1.728139</td>\n",
       "      <td>no</td>\n",
       "      <td>1.676269</td>\n",
       "      <td>0.906247</td>\n",
       "      <td>Sometimes</td>\n",
       "      <td>Public_Transportation</td>\n",
       "      <td>Obesity_Type_III</td>\n",
       "    </tr>\n",
       "    <tr>\n",
       "      <th>2107</th>\n",
       "      <td>Female</td>\n",
       "      <td>22</td>\n",
       "      <td>1.75</td>\n",
       "      <td>134</td>\n",
       "      <td>yes</td>\n",
       "      <td>yes</td>\n",
       "      <td>3.0</td>\n",
       "      <td>3.0</td>\n",
       "      <td>Sometimes</td>\n",
       "      <td>no</td>\n",
       "      <td>2.005130</td>\n",
       "      <td>no</td>\n",
       "      <td>1.341390</td>\n",
       "      <td>0.599270</td>\n",
       "      <td>Sometimes</td>\n",
       "      <td>Public_Transportation</td>\n",
       "      <td>Obesity_Type_III</td>\n",
       "    </tr>\n",
       "    <tr>\n",
       "      <th>2108</th>\n",
       "      <td>Female</td>\n",
       "      <td>23</td>\n",
       "      <td>1.75</td>\n",
       "      <td>134</td>\n",
       "      <td>yes</td>\n",
       "      <td>yes</td>\n",
       "      <td>3.0</td>\n",
       "      <td>3.0</td>\n",
       "      <td>Sometimes</td>\n",
       "      <td>no</td>\n",
       "      <td>2.054193</td>\n",
       "      <td>no</td>\n",
       "      <td>1.414209</td>\n",
       "      <td>0.646288</td>\n",
       "      <td>Sometimes</td>\n",
       "      <td>Public_Transportation</td>\n",
       "      <td>Obesity_Type_III</td>\n",
       "    </tr>\n",
       "    <tr>\n",
       "      <th>2109</th>\n",
       "      <td>Female</td>\n",
       "      <td>24</td>\n",
       "      <td>1.74</td>\n",
       "      <td>133</td>\n",
       "      <td>yes</td>\n",
       "      <td>yes</td>\n",
       "      <td>3.0</td>\n",
       "      <td>3.0</td>\n",
       "      <td>Sometimes</td>\n",
       "      <td>no</td>\n",
       "      <td>2.852339</td>\n",
       "      <td>no</td>\n",
       "      <td>1.139107</td>\n",
       "      <td>0.586035</td>\n",
       "      <td>Sometimes</td>\n",
       "      <td>Public_Transportation</td>\n",
       "      <td>Obesity_Type_III</td>\n",
       "    </tr>\n",
       "    <tr>\n",
       "      <th>2110</th>\n",
       "      <td>Female</td>\n",
       "      <td>24</td>\n",
       "      <td>1.74</td>\n",
       "      <td>133</td>\n",
       "      <td>yes</td>\n",
       "      <td>yes</td>\n",
       "      <td>3.0</td>\n",
       "      <td>3.0</td>\n",
       "      <td>Sometimes</td>\n",
       "      <td>no</td>\n",
       "      <td>2.863513</td>\n",
       "      <td>no</td>\n",
       "      <td>1.026452</td>\n",
       "      <td>0.714137</td>\n",
       "      <td>Sometimes</td>\n",
       "      <td>Public_Transportation</td>\n",
       "      <td>Obesity_Type_III</td>\n",
       "    </tr>\n",
       "  </tbody>\n",
       "</table>\n",
       "<p>2087 rows × 17 columns</p>\n",
       "</div>"
      ],
      "text/plain": [
       "      Gender  Age  Height  Weight family_history_with_overweight FAVC  FCVC  \\\n",
       "0     Female   21    1.62      64                            yes   no   2.0   \n",
       "1     Female   21    1.52      56                            yes   no   3.0   \n",
       "2       Male   23    1.80      77                            yes   no   2.0   \n",
       "3       Male   27    1.80      87                             no   no   3.0   \n",
       "4       Male   22    1.78      90                             no   no   2.0   \n",
       "...      ...  ...     ...     ...                            ...  ...   ...   \n",
       "2106  Female   21    1.71     131                            yes  yes   3.0   \n",
       "2107  Female   22    1.75     134                            yes  yes   3.0   \n",
       "2108  Female   23    1.75     134                            yes  yes   3.0   \n",
       "2109  Female   24    1.74     133                            yes  yes   3.0   \n",
       "2110  Female   24    1.74     133                            yes  yes   3.0   \n",
       "\n",
       "      NCP       CAEC SMOKE      CH2O  SCC       FAF       TUE        CALC  \\\n",
       "0     3.0  Sometimes    no  2.000000   no  0.000000  1.000000          no   \n",
       "1     3.0  Sometimes   yes  3.000000  yes  3.000000  0.000000   Sometimes   \n",
       "2     3.0  Sometimes    no  2.000000   no  2.000000  1.000000  Frequently   \n",
       "3     3.0  Sometimes    no  2.000000   no  2.000000  0.000000  Frequently   \n",
       "4     1.0  Sometimes    no  2.000000   no  0.000000  0.000000   Sometimes   \n",
       "...   ...        ...   ...       ...  ...       ...       ...         ...   \n",
       "2106  3.0  Sometimes    no  1.728139   no  1.676269  0.906247   Sometimes   \n",
       "2107  3.0  Sometimes    no  2.005130   no  1.341390  0.599270   Sometimes   \n",
       "2108  3.0  Sometimes    no  2.054193   no  1.414209  0.646288   Sometimes   \n",
       "2109  3.0  Sometimes    no  2.852339   no  1.139107  0.586035   Sometimes   \n",
       "2110  3.0  Sometimes    no  2.863513   no  1.026452  0.714137   Sometimes   \n",
       "\n",
       "                     MTRANS           NObeyesdad  \n",
       "0     Public_Transportation        Normal_Weight  \n",
       "1     Public_Transportation        Normal_Weight  \n",
       "2     Public_Transportation        Normal_Weight  \n",
       "3                   Walking   Overweight_Level_I  \n",
       "4     Public_Transportation  Overweight_Level_II  \n",
       "...                     ...                  ...  \n",
       "2106  Public_Transportation     Obesity_Type_III  \n",
       "2107  Public_Transportation     Obesity_Type_III  \n",
       "2108  Public_Transportation     Obesity_Type_III  \n",
       "2109  Public_Transportation     Obesity_Type_III  \n",
       "2110  Public_Transportation     Obesity_Type_III  \n",
       "\n",
       "[2087 rows x 17 columns]"
      ]
     },
     "execution_count": 8,
     "metadata": {},
     "output_type": "execute_result"
    }
   ],
   "source": [
    "obesity"
   ]
  },
  {
   "cell_type": "code",
   "execution_count": 9,
   "id": "bde8e021",
   "metadata": {},
   "outputs": [],
   "source": [
    "obesity.drop_duplicates(inplace=True)"
   ]
  },
  {
   "cell_type": "code",
   "execution_count": 11,
   "id": "e0a20e76",
   "metadata": {},
   "outputs": [],
   "source": [
    "obesity1=obesity.copy()"
   ]
  },
  {
   "cell_type": "code",
   "execution_count": 12,
   "id": "e87a7197",
   "metadata": {
    "scrolled": true
   },
   "outputs": [
    {
     "data": {
      "text/html": [
       "<div>\n",
       "<style scoped>\n",
       "    .dataframe tbody tr th:only-of-type {\n",
       "        vertical-align: middle;\n",
       "    }\n",
       "\n",
       "    .dataframe tbody tr th {\n",
       "        vertical-align: top;\n",
       "    }\n",
       "\n",
       "    .dataframe thead th {\n",
       "        text-align: right;\n",
       "    }\n",
       "</style>\n",
       "<table border=\"1\" class=\"dataframe\">\n",
       "  <thead>\n",
       "    <tr style=\"text-align: right;\">\n",
       "      <th></th>\n",
       "      <th>Gender</th>\n",
       "      <th>Age</th>\n",
       "      <th>Height</th>\n",
       "      <th>Weight</th>\n",
       "      <th>family_history_with_overweight</th>\n",
       "      <th>FAVC</th>\n",
       "      <th>FCVC</th>\n",
       "      <th>NCP</th>\n",
       "      <th>CAEC</th>\n",
       "      <th>SMOKE</th>\n",
       "      <th>CH2O</th>\n",
       "      <th>SCC</th>\n",
       "      <th>FAF</th>\n",
       "      <th>TUE</th>\n",
       "      <th>CALC</th>\n",
       "      <th>MTRANS</th>\n",
       "      <th>NObeyesdad</th>\n",
       "    </tr>\n",
       "  </thead>\n",
       "  <tbody>\n",
       "    <tr>\n",
       "      <th>0</th>\n",
       "      <td>Female</td>\n",
       "      <td>21</td>\n",
       "      <td>1.62</td>\n",
       "      <td>64</td>\n",
       "      <td>yes</td>\n",
       "      <td>no</td>\n",
       "      <td>2.0</td>\n",
       "      <td>3.0</td>\n",
       "      <td>Sometimes</td>\n",
       "      <td>no</td>\n",
       "      <td>2.000000</td>\n",
       "      <td>no</td>\n",
       "      <td>0.000000</td>\n",
       "      <td>1.000000</td>\n",
       "      <td>no</td>\n",
       "      <td>Public_Transportation</td>\n",
       "      <td>Normal_Weight</td>\n",
       "    </tr>\n",
       "    <tr>\n",
       "      <th>1</th>\n",
       "      <td>Female</td>\n",
       "      <td>21</td>\n",
       "      <td>1.52</td>\n",
       "      <td>56</td>\n",
       "      <td>yes</td>\n",
       "      <td>no</td>\n",
       "      <td>3.0</td>\n",
       "      <td>3.0</td>\n",
       "      <td>Sometimes</td>\n",
       "      <td>yes</td>\n",
       "      <td>3.000000</td>\n",
       "      <td>yes</td>\n",
       "      <td>3.000000</td>\n",
       "      <td>0.000000</td>\n",
       "      <td>Sometimes</td>\n",
       "      <td>Public_Transportation</td>\n",
       "      <td>Normal_Weight</td>\n",
       "    </tr>\n",
       "    <tr>\n",
       "      <th>2</th>\n",
       "      <td>Male</td>\n",
       "      <td>23</td>\n",
       "      <td>1.80</td>\n",
       "      <td>77</td>\n",
       "      <td>yes</td>\n",
       "      <td>no</td>\n",
       "      <td>2.0</td>\n",
       "      <td>3.0</td>\n",
       "      <td>Sometimes</td>\n",
       "      <td>no</td>\n",
       "      <td>2.000000</td>\n",
       "      <td>no</td>\n",
       "      <td>2.000000</td>\n",
       "      <td>1.000000</td>\n",
       "      <td>Frequently</td>\n",
       "      <td>Public_Transportation</td>\n",
       "      <td>Normal_Weight</td>\n",
       "    </tr>\n",
       "    <tr>\n",
       "      <th>3</th>\n",
       "      <td>Male</td>\n",
       "      <td>27</td>\n",
       "      <td>1.80</td>\n",
       "      <td>87</td>\n",
       "      <td>no</td>\n",
       "      <td>no</td>\n",
       "      <td>3.0</td>\n",
       "      <td>3.0</td>\n",
       "      <td>Sometimes</td>\n",
       "      <td>no</td>\n",
       "      <td>2.000000</td>\n",
       "      <td>no</td>\n",
       "      <td>2.000000</td>\n",
       "      <td>0.000000</td>\n",
       "      <td>Frequently</td>\n",
       "      <td>Walking</td>\n",
       "      <td>Overweight_Level_I</td>\n",
       "    </tr>\n",
       "    <tr>\n",
       "      <th>4</th>\n",
       "      <td>Male</td>\n",
       "      <td>22</td>\n",
       "      <td>1.78</td>\n",
       "      <td>90</td>\n",
       "      <td>no</td>\n",
       "      <td>no</td>\n",
       "      <td>2.0</td>\n",
       "      <td>1.0</td>\n",
       "      <td>Sometimes</td>\n",
       "      <td>no</td>\n",
       "      <td>2.000000</td>\n",
       "      <td>no</td>\n",
       "      <td>0.000000</td>\n",
       "      <td>0.000000</td>\n",
       "      <td>Sometimes</td>\n",
       "      <td>Public_Transportation</td>\n",
       "      <td>Overweight_Level_II</td>\n",
       "    </tr>\n",
       "    <tr>\n",
       "      <th>...</th>\n",
       "      <td>...</td>\n",
       "      <td>...</td>\n",
       "      <td>...</td>\n",
       "      <td>...</td>\n",
       "      <td>...</td>\n",
       "      <td>...</td>\n",
       "      <td>...</td>\n",
       "      <td>...</td>\n",
       "      <td>...</td>\n",
       "      <td>...</td>\n",
       "      <td>...</td>\n",
       "      <td>...</td>\n",
       "      <td>...</td>\n",
       "      <td>...</td>\n",
       "      <td>...</td>\n",
       "      <td>...</td>\n",
       "      <td>...</td>\n",
       "    </tr>\n",
       "    <tr>\n",
       "      <th>2106</th>\n",
       "      <td>Female</td>\n",
       "      <td>21</td>\n",
       "      <td>1.71</td>\n",
       "      <td>131</td>\n",
       "      <td>yes</td>\n",
       "      <td>yes</td>\n",
       "      <td>3.0</td>\n",
       "      <td>3.0</td>\n",
       "      <td>Sometimes</td>\n",
       "      <td>no</td>\n",
       "      <td>1.728139</td>\n",
       "      <td>no</td>\n",
       "      <td>1.676269</td>\n",
       "      <td>0.906247</td>\n",
       "      <td>Sometimes</td>\n",
       "      <td>Public_Transportation</td>\n",
       "      <td>Obesity_Type_III</td>\n",
       "    </tr>\n",
       "    <tr>\n",
       "      <th>2107</th>\n",
       "      <td>Female</td>\n",
       "      <td>22</td>\n",
       "      <td>1.75</td>\n",
       "      <td>134</td>\n",
       "      <td>yes</td>\n",
       "      <td>yes</td>\n",
       "      <td>3.0</td>\n",
       "      <td>3.0</td>\n",
       "      <td>Sometimes</td>\n",
       "      <td>no</td>\n",
       "      <td>2.005130</td>\n",
       "      <td>no</td>\n",
       "      <td>1.341390</td>\n",
       "      <td>0.599270</td>\n",
       "      <td>Sometimes</td>\n",
       "      <td>Public_Transportation</td>\n",
       "      <td>Obesity_Type_III</td>\n",
       "    </tr>\n",
       "    <tr>\n",
       "      <th>2108</th>\n",
       "      <td>Female</td>\n",
       "      <td>23</td>\n",
       "      <td>1.75</td>\n",
       "      <td>134</td>\n",
       "      <td>yes</td>\n",
       "      <td>yes</td>\n",
       "      <td>3.0</td>\n",
       "      <td>3.0</td>\n",
       "      <td>Sometimes</td>\n",
       "      <td>no</td>\n",
       "      <td>2.054193</td>\n",
       "      <td>no</td>\n",
       "      <td>1.414209</td>\n",
       "      <td>0.646288</td>\n",
       "      <td>Sometimes</td>\n",
       "      <td>Public_Transportation</td>\n",
       "      <td>Obesity_Type_III</td>\n",
       "    </tr>\n",
       "    <tr>\n",
       "      <th>2109</th>\n",
       "      <td>Female</td>\n",
       "      <td>24</td>\n",
       "      <td>1.74</td>\n",
       "      <td>133</td>\n",
       "      <td>yes</td>\n",
       "      <td>yes</td>\n",
       "      <td>3.0</td>\n",
       "      <td>3.0</td>\n",
       "      <td>Sometimes</td>\n",
       "      <td>no</td>\n",
       "      <td>2.852339</td>\n",
       "      <td>no</td>\n",
       "      <td>1.139107</td>\n",
       "      <td>0.586035</td>\n",
       "      <td>Sometimes</td>\n",
       "      <td>Public_Transportation</td>\n",
       "      <td>Obesity_Type_III</td>\n",
       "    </tr>\n",
       "    <tr>\n",
       "      <th>2110</th>\n",
       "      <td>Female</td>\n",
       "      <td>24</td>\n",
       "      <td>1.74</td>\n",
       "      <td>133</td>\n",
       "      <td>yes</td>\n",
       "      <td>yes</td>\n",
       "      <td>3.0</td>\n",
       "      <td>3.0</td>\n",
       "      <td>Sometimes</td>\n",
       "      <td>no</td>\n",
       "      <td>2.863513</td>\n",
       "      <td>no</td>\n",
       "      <td>1.026452</td>\n",
       "      <td>0.714137</td>\n",
       "      <td>Sometimes</td>\n",
       "      <td>Public_Transportation</td>\n",
       "      <td>Obesity_Type_III</td>\n",
       "    </tr>\n",
       "  </tbody>\n",
       "</table>\n",
       "<p>2085 rows × 17 columns</p>\n",
       "</div>"
      ],
      "text/plain": [
       "      Gender  Age  Height  Weight family_history_with_overweight FAVC  FCVC  \\\n",
       "0     Female   21    1.62      64                            yes   no   2.0   \n",
       "1     Female   21    1.52      56                            yes   no   3.0   \n",
       "2       Male   23    1.80      77                            yes   no   2.0   \n",
       "3       Male   27    1.80      87                             no   no   3.0   \n",
       "4       Male   22    1.78      90                             no   no   2.0   \n",
       "...      ...  ...     ...     ...                            ...  ...   ...   \n",
       "2106  Female   21    1.71     131                            yes  yes   3.0   \n",
       "2107  Female   22    1.75     134                            yes  yes   3.0   \n",
       "2108  Female   23    1.75     134                            yes  yes   3.0   \n",
       "2109  Female   24    1.74     133                            yes  yes   3.0   \n",
       "2110  Female   24    1.74     133                            yes  yes   3.0   \n",
       "\n",
       "      NCP       CAEC SMOKE      CH2O  SCC       FAF       TUE        CALC  \\\n",
       "0     3.0  Sometimes    no  2.000000   no  0.000000  1.000000          no   \n",
       "1     3.0  Sometimes   yes  3.000000  yes  3.000000  0.000000   Sometimes   \n",
       "2     3.0  Sometimes    no  2.000000   no  2.000000  1.000000  Frequently   \n",
       "3     3.0  Sometimes    no  2.000000   no  2.000000  0.000000  Frequently   \n",
       "4     1.0  Sometimes    no  2.000000   no  0.000000  0.000000   Sometimes   \n",
       "...   ...        ...   ...       ...  ...       ...       ...         ...   \n",
       "2106  3.0  Sometimes    no  1.728139   no  1.676269  0.906247   Sometimes   \n",
       "2107  3.0  Sometimes    no  2.005130   no  1.341390  0.599270   Sometimes   \n",
       "2108  3.0  Sometimes    no  2.054193   no  1.414209  0.646288   Sometimes   \n",
       "2109  3.0  Sometimes    no  2.852339   no  1.139107  0.586035   Sometimes   \n",
       "2110  3.0  Sometimes    no  2.863513   no  1.026452  0.714137   Sometimes   \n",
       "\n",
       "                     MTRANS           NObeyesdad  \n",
       "0     Public_Transportation        Normal_Weight  \n",
       "1     Public_Transportation        Normal_Weight  \n",
       "2     Public_Transportation        Normal_Weight  \n",
       "3                   Walking   Overweight_Level_I  \n",
       "4     Public_Transportation  Overweight_Level_II  \n",
       "...                     ...                  ...  \n",
       "2106  Public_Transportation     Obesity_Type_III  \n",
       "2107  Public_Transportation     Obesity_Type_III  \n",
       "2108  Public_Transportation     Obesity_Type_III  \n",
       "2109  Public_Transportation     Obesity_Type_III  \n",
       "2110  Public_Transportation     Obesity_Type_III  \n",
       "\n",
       "[2085 rows x 17 columns]"
      ]
     },
     "execution_count": 12,
     "metadata": {},
     "output_type": "execute_result"
    }
   ],
   "source": [
    "obesity1"
   ]
  },
  {
   "cell_type": "code",
   "execution_count": 13,
   "id": "76b32a94",
   "metadata": {},
   "outputs": [
    {
     "data": {
      "image/png": "[encoded data removed]",
      "text/plain": [
       "<Figure size 2520x1080 with 1 Axes>"
      ]
     },
     "metadata": {
      "needs_background": "light"
     },
     "output_type": "display_data"
    },
    {
     "data": {
      "image/png": "[encoded data removed]",
      "text/plain": [
       "<Figure size 2520x1080 with 1 Axes>"
      ]
     },
     "metadata": {
      "needs_background": "light"
     },
     "output_type": "display_data"
    },
    {
     "data": {
      "image/png": "[encoded data removed]",
      "text/plain": [
       "<Figure size 2520x1080 with 1 Axes>"
      ]
     },
     "metadata": {
      "needs_background": "light"
     },
     "output_type": "display_data"
    },
    {
     "data": {
      "image/png": "[encoded data removed]",
      "text/plain": [
       "<Figure size 2520x1080 with 1 Axes>"
      ]
     },
     "metadata": {
      "needs_background": "light"
     },
     "output_type": "display_data"
    },
    {
     "data": {
      "image/png": "[encoded data removed]",
      "text/plain": [
       "<Figure size 2520x1080 with 1 Axes>"
      ]
     },
     "metadata": {
      "needs_background": "light"
     },
     "output_type": "display_data"
    },
    {
     "data": {
      "image/png": "[encoded data removed]",
      "text/plain": [
       "<Figure size 2520x1080 with 1 Axes>"
      ]
     },
     "metadata": {
      "needs_background": "light"
     },
     "output_type": "display_data"
    },
    {
     "data": {
      "image/png": "[encoded data removed]",
      "text/plain": [
       "<Figure size 2520x1080 with 1 Axes>"
      ]
     },
     "metadata": {
      "needs_background": "light"
     },
     "output_type": "display_data"
    }
   ],
   "source": [
    "\n",
    "plt.figure(figsize=(35,15))\n",
    "plt.subplot(331)\n",
    "sns.countplot(x='NObeyesdad', hue='Gender', data=obesity1, palette='mako')\n",
    "\n",
    "plt.figure(figsize=(35,15))\n",
    "plt.subplot(332)\n",
    "sns.countplot(x='NObeyesdad', hue='family_history_with_overweight', data=obesity1, palette='mako')\n",
    "\n",
    "plt.figure(figsize=(35,15))\n",
    "plt.subplot(333)\n",
    "sns.countplot(x='NObeyesdad', hue='CAEC', data=obesity1, palette='mako')\n",
    "\n",
    "plt.figure(figsize=(35,15))\n",
    "plt.subplot(334)\n",
    "sns.countplot(x='NObeyesdad', hue='SMOKE', data=obesity1, palette='mako')\n",
    "\n",
    "plt.figure(figsize=(35,15))\n",
    "plt.subplot(335)\n",
    "sns.countplot(x='NObeyesdad', hue='SCC', data=obesity1, palette='mako')\n",
    "\n",
    "plt.figure(figsize=(35,15))\n",
    "plt.subplot(337)\n",
    "sns.countplot(x='NObeyesdad', hue='CALC', data=obesity1, palette='mako')\n",
    "\n",
    "plt.figure(figsize=(35,15))\n",
    "plt.subplot(338)\n",
    "sns.countplot(x='NObeyesdad', hue='MTRANS', data=obesity1, palette='mako')\n",
    "\n",
    "\n",
    "#plt.tight_layout()\n",
    "plt.subplots_adjust(left=0.1,\n",
    "                    bottom=0.1, \n",
    "                    right=0.9, \n",
    "                    top=0.9, \n",
    "                    wspace=0.4, \n",
    "                    hspace=0.4)\n",
    "plt.show()"
   ]
  },
  {
   "cell_type": "markdown",
   "id": "54f030e0",
   "metadata": {},
   "source": [
    "### Converting object type to string "
   ]
  },
  {
   "cell_type": "code",
   "execution_count": 14,
   "id": "d4d5b4f6",
   "metadata": {},
   "outputs": [],
   "source": [
    "obesity1['Gender']=obesity1['Gender'].astype(pd.StringDtype())\n",
    "obesity1['family_history_with_overweight']=obesity1['family_history_with_overweight'].astype(pd.StringDtype())\n",
    "obesity1['FAVC']=obesity1['FAVC'].astype(pd.StringDtype())\n",
    "obesity1['SMOKE']=obesity1['SMOKE'].astype(pd.StringDtype())\n",
    "obesity1['CAEC']=obesity1['CAEC'].astype(pd.StringDtype())\n",
    "obesity1['SCC']=obesity['SCC'].astype(pd.StringDtype())\n",
    "obesity1['CALC']=obesity1['CALC'].astype(pd.StringDtype())\n",
    "obesity1['MTRANS']=obesity1['MTRANS'].astype(pd.StringDtype())\n",
    "obesity1['NObeyesdad']=obesity1['NObeyesdad'].astype(pd.StringDtype())"
   ]
  },
  {
   "cell_type": "code",
   "execution_count": 15,
   "id": "f61c3dc8",
   "metadata": {
    "scrolled": true
   },
   "outputs": [
    {
     "name": "stdout",
     "output_type": "stream",
     "text": [
      "<class 'pandas.core.frame.DataFrame'>\n",
      "Int64Index: 2085 entries, 0 to 2110\n",
      "Data columns (total 17 columns):\n",
      " #   Column                          Non-Null Count  Dtype  \n",
      "---  ------                          --------------  -----  \n",
      " 0   Gender                          2085 non-null   string \n",
      " 1   Age                             2085 non-null   int64  \n",
      " 2   Height                          2085 non-null   float64\n",
      " 3   Weight                          2085 non-null   int64  \n",
      " 4   family_history_with_overweight  2085 non-null   string \n",
      " 5   FAVC                            2085 non-null   string \n",
      " 6   FCVC                            2085 non-null   float64\n",
      " 7   NCP                             2085 non-null   float64\n",
      " 8   CAEC                            2085 non-null   string \n",
      " 9   SMOKE                           2085 non-null   string \n",
      " 10  CH2O                            2085 non-null   float64\n",
      " 11  SCC                             2085 non-null   string \n",
      " 12  FAF                             2085 non-null   float64\n",
      " 13  TUE                             2085 non-null   float64\n",
      " 14  CALC                            2085 non-null   string \n",
      " 15  MTRANS                          2085 non-null   string \n",
      " 16  NObeyesdad                      2085 non-null   string \n",
      "dtypes: float64(6), int64(2), string(9)\n",
      "memory usage: 357.7 KB\n"
     ]
    }
   ],
   "source": [
    "obesity1.info()"
   ]
  },
  {
   "cell_type": "markdown",
   "id": "a644bff9",
   "metadata": {},
   "source": [
    "### Apply label encoder for categorical varaibles. We can also convert using onehot encoders but due to data sparsity issue, im converting binaries into numeric using Label encoder."
   ]
  },
  {
   "cell_type": "code",
   "execution_count": 16,
   "id": "15df2491",
   "metadata": {},
   "outputs": [],
   "source": [
    "le = LabelEncoder()\n",
    "\n",
    "obesity1['Gender'] = le.fit_transform(obesity1['Gender'])\n",
    "obesity1['family_history_with_overweight'] = le.fit_transform(obesity1['family_history_with_overweight'])\n",
    "obesity1['FAVC'] = le.fit_transform(obesity1['FAVC'])\n",
    "obesity1['SMOKE'] = le.fit_transform(obesity1['SMOKE'])\n",
    "obesity1['SCC'] = le.fit_transform(obesity1['SCC'])\n",
    "obesity1['MTRANS'] = le.fit_transform(obesity1['MTRANS'])\n",
    "obesity1['CAEC'] = le.fit_transform(obesity1['CAEC'])\n",
    "obesity1['CALC'] = le.fit_transform(obesity1['CALC'])\n",
    "obesity1['NObeyesdad'] = le.fit_transform(obesity1['NObeyesdad'])"
   ]
  },
  {
   "cell_type": "code",
   "execution_count": 17,
   "id": "8650538f",
   "metadata": {},
   "outputs": [
    {
     "name": "stdout",
     "output_type": "stream",
     "text": [
      "<class 'pandas.core.frame.DataFrame'>\n",
      "Int64Index: 2085 entries, 0 to 2110\n",
      "Data columns (total 17 columns):\n",
      " #   Column                          Non-Null Count  Dtype  \n",
      "---  ------                          --------------  -----  \n",
      " 0   Gender                          2085 non-null   int32  \n",
      " 1   Age                             2085 non-null   int64  \n",
      " 2   Height                          2085 non-null   float64\n",
      " 3   Weight                          2085 non-null   int64  \n",
      " 4   family_history_with_overweight  2085 non-null   int32  \n",
      " 5   FAVC                            2085 non-null   int32  \n",
      " 6   FCVC                            2085 non-null   float64\n",
      " 7   NCP                             2085 non-null   float64\n",
      " 8   CAEC                            2085 non-null   int32  \n",
      " 9   SMOKE                           2085 non-null   int32  \n",
      " 10  CH2O                            2085 non-null   float64\n",
      " 11  SCC                             2085 non-null   int32  \n",
      " 12  FAF                             2085 non-null   float64\n",
      " 13  TUE                             2085 non-null   float64\n",
      " 14  CALC                            2085 non-null   int32  \n",
      " 15  MTRANS                          2085 non-null   int32  \n",
      " 16  NObeyesdad                      2085 non-null   int32  \n",
      "dtypes: float64(6), int32(9), int64(2)\n",
      "memory usage: 284.4 KB\n"
     ]
    }
   ],
   "source": [
    "obesity1.info()"
   ]
  },
  {
   "cell_type": "markdown",
   "id": "794a554a",
   "metadata": {},
   "source": [
    "## This data set is publically available repository and it is observed that  NObeyesdad is the outcome trying to be predicted using the other variables\n",
    "\n",
    "### For clustering, we will take following approach\n",
    "1. Use  NObeyesdad as dependent for Feature Selection among other variables\n",
    "2. Use the best performing feature subset for predicting  NObeyesdad \n",
    "3. Drop  NObeyesdad and use the best feature subset to perform clustering\n",
    "4. Interpret the clusters in the context of obesity prediction"
   ]
  },
  {
   "cell_type": "markdown",
   "id": "9f68c1da",
   "metadata": {},
   "source": [
    "### Use Correlation matrix to figure out correlation of numeric variables Age, Height, Weight with the variable NObeyesdad "
   ]
  },
  {
   "cell_type": "code",
   "execution_count": 20,
   "id": "00b1960b",
   "metadata": {},
   "outputs": [
    {
     "data": {
      "image/png": "[encoded data removed]",
      "text/plain": [
       "<Figure size 1080x720 with 2 Axes>"
      ]
     },
     "metadata": {
      "needs_background": "light"
     },
     "output_type": "display_data"
    }
   ],
   "source": [
    "import seaborn as sns\n",
    "import matplotlib.pyplot as plt\n",
    "\n",
    "matrix = obesity1.corr().round(2)\n",
    "\n",
    "plt.figure(figsize=(15,10))\n",
    "sns.heatmap(matrix, annot=True, cmap=\"RdYlGn_r\")\n",
    "\n",
    "plt.show()"
   ]
  },
  {
   "cell_type": "markdown",
   "id": "135b7047",
   "metadata": {},
   "source": [
    "### Conclusions from correlations\n",
    "**considering only age, weight and FCVC from correation matrix  as it has good correlation  with obesity**\n",
    "\n"
   ]
  },
  {
   "cell_type": "markdown",
   "id": "c5c7fae1",
   "metadata": {},
   "source": [
    "### For the other categorical variables in the data set, we have to use ChiSquare Test again and treat NObeyesdad as categorical"
   ]
  },
  {
   "cell_type": "code",
   "execution_count": 21,
   "id": "1ccb98a6",
   "metadata": {
    "scrolled": false
   },
   "outputs": [
    {
     "name": "stdout",
     "output_type": "stream",
     "text": [
      "<class 'pandas.core.frame.DataFrame'>\n",
      "Int64Index: 2085 entries, 0 to 2110\n",
      "Data columns (total 8 columns):\n",
      " #   Column                          Non-Null Count  Dtype\n",
      "---  ------                          --------------  -----\n",
      " 0   family_history_with_overweight  2085 non-null   int32\n",
      " 1   Gender                          2085 non-null   int32\n",
      " 2   FAVC                            2085 non-null   int32\n",
      " 3   CAEC                            2085 non-null   int32\n",
      " 4   SMOKE                           2085 non-null   int32\n",
      " 5   SCC                             2085 non-null   int32\n",
      " 6   CALC                            2085 non-null   int32\n",
      " 7   MTRANS                          2085 non-null   int32\n",
      "dtypes: int32(8)\n",
      "memory usage: 146.0 KB\n"
     ]
    }
   ],
   "source": [
    "cat_var = obesity1[['family_history_with_overweight','Gender', 'FAVC',  'CAEC', 'SMOKE',  'SCC', 'CALC', 'MTRANS']]\n",
    "cat_var.info()"
   ]
  },
  {
   "cell_type": "code",
   "execution_count": 23,
   "id": "8f88c66e",
   "metadata": {},
   "outputs": [
    {
     "name": "stdout",
     "output_type": "stream",
     "text": [
      "<class 'pandas.core.frame.DataFrame'>\n",
      "Int64Index: 2085 entries, 0 to 2110\n",
      "Data columns (total 1 columns):\n",
      " #   Column      Non-Null Count  Dtype\n",
      "---  ------      --------------  -----\n",
      " 0   NObeyesdad  2085 non-null   int32\n",
      "dtypes: int32(1)\n",
      "memory usage: 89.0 KB\n"
     ]
    }
   ],
   "source": [
    "df_dep = obesity1[['NObeyesdad']]\n",
    "df_dep.info()"
   ]
  },
  {
   "cell_type": "markdown",
   "id": "5a82fa93",
   "metadata": {},
   "source": [
    "## Chi Square test for best features from catogorical variables"
   ]
  },
  {
   "cell_type": "code",
   "execution_count": 26,
   "id": "0e5472e7",
   "metadata": {},
   "outputs": [],
   "source": [
    "# Importing libraries\n",
    "from sklearn import datasets\n",
    "from sklearn.feature_selection import chi2\n",
    "from sklearn.feature_selection import SelectKBest"
   ]
  },
  {
   "cell_type": "code",
   "execution_count": 24,
   "id": "05cd3441",
   "metadata": {},
   "outputs": [],
   "source": [
    "X = cat_var\n",
    "y = df_dep\n",
    "y = y.astype(int)\n",
    "X = X.astype(int)"
   ]
  },
  {
   "cell_type": "code",
   "execution_count": 27,
   "id": "01fae86a",
   "metadata": {},
   "outputs": [
    {
     "name": "stdout",
     "output_type": "stream",
     "text": [
      "Chi-2 Scores [107.98154032 326.16807694  26.90358235  43.41107175  31.13893291\n",
      " 121.93395404  21.47492225 103.39513883]\n",
      "p values [5.39261787e-21 2.00733942e-67 1.50955567e-04 9.67120632e-08\n",
      " 2.38469405e-05 6.39413811e-24 1.50674305e-03 4.90612272e-20]\n"
     ]
    },
    {
     "data": {
      "text/html": [
       "<div>\n",
       "<style scoped>\n",
       "    .dataframe tbody tr th:only-of-type {\n",
       "        vertical-align: middle;\n",
       "    }\n",
       "\n",
       "    .dataframe tbody tr th {\n",
       "        vertical-align: top;\n",
       "    }\n",
       "\n",
       "    .dataframe thead th {\n",
       "        text-align: right;\n",
       "    }\n",
       "</style>\n",
       "<table border=\"1\" class=\"dataframe\">\n",
       "  <thead>\n",
       "    <tr style=\"text-align: right;\">\n",
       "      <th></th>\n",
       "      <th>0</th>\n",
       "      <th>0</th>\n",
       "      <th>0</th>\n",
       "    </tr>\n",
       "  </thead>\n",
       "  <tbody>\n",
       "    <tr>\n",
       "      <th>0</th>\n",
       "      <td>family_history_with_overweight</td>\n",
       "      <td>107.981540</td>\n",
       "      <td>True</td>\n",
       "    </tr>\n",
       "    <tr>\n",
       "      <th>1</th>\n",
       "      <td>Gender</td>\n",
       "      <td>326.168077</td>\n",
       "      <td>True</td>\n",
       "    </tr>\n",
       "    <tr>\n",
       "      <th>2</th>\n",
       "      <td>FAVC</td>\n",
       "      <td>26.903582</td>\n",
       "      <td>True</td>\n",
       "    </tr>\n",
       "    <tr>\n",
       "      <th>3</th>\n",
       "      <td>CAEC</td>\n",
       "      <td>43.411072</td>\n",
       "      <td>True</td>\n",
       "    </tr>\n",
       "    <tr>\n",
       "      <th>4</th>\n",
       "      <td>SMOKE</td>\n",
       "      <td>31.138933</td>\n",
       "      <td>True</td>\n",
       "    </tr>\n",
       "    <tr>\n",
       "      <th>5</th>\n",
       "      <td>SCC</td>\n",
       "      <td>121.933954</td>\n",
       "      <td>True</td>\n",
       "    </tr>\n",
       "    <tr>\n",
       "      <th>6</th>\n",
       "      <td>CALC</td>\n",
       "      <td>21.474922</td>\n",
       "      <td>False</td>\n",
       "    </tr>\n",
       "    <tr>\n",
       "      <th>7</th>\n",
       "      <td>MTRANS</td>\n",
       "      <td>103.395139</td>\n",
       "      <td>True</td>\n",
       "    </tr>\n",
       "  </tbody>\n",
       "</table>\n",
       "</div>"
      ],
      "text/plain": [
       "                                0           0      0\n",
       "0  family_history_with_overweight  107.981540   True\n",
       "1                          Gender  326.168077   True\n",
       "2                            FAVC   26.903582   True\n",
       "3                            CAEC   43.411072   True\n",
       "4                           SMOKE   31.138933   True\n",
       "5                             SCC  121.933954   True\n",
       "6                            CALC   21.474922  False\n",
       "7                          MTRANS  103.395139   True"
      ]
     },
     "execution_count": 27,
     "metadata": {},
     "output_type": "execute_result"
    }
   ],
   "source": [
    "chi2_scores, p_values = chi2(X,y)\n",
    "print(\"Chi-2 Scores\",chi2_scores)\n",
    "test = SelectKBest(score_func=chi2, k=7)\n",
    "print(\"p values\",p_values)\n",
    "fit = test.fit(X, y)\n",
    "dfsupp=pd.DataFrame(fit.get_support())\n",
    "dfcolumns=pd.DataFrame(X.columns)\n",
    "dfscores=pd.DataFrame(fit.scores_)\n",
    "Featurescores=pd.concat([dfcolumns,dfscores,dfsupp], axis=1)\n",
    "Featurescores"
   ]
  },
  {
   "cell_type": "markdown",
   "id": "e50e6a24",
   "metadata": {},
   "source": [
    "## Bulding the final data set and Feature Selection\n",
    "1. We have categorical features in dataset with high spartity.\n",
    "2. Converting categorical variables with  One hot encoding will increase dimensionality. so converted them using lable encoding\n",
    "3. Lot of categorical variables are not impacting much on Obesity variable.\n",
    "4. For Continuous features, used Correlarion Matrix to select best features\n",
    "5. For categorical, used chi square test to selct best features"
   ]
  },
  {
   "cell_type": "code",
   "execution_count": 28,
   "id": "c07dc634",
   "metadata": {},
   "outputs": [],
   "source": [
    "# Bulding the final data set\n",
    "\n",
    "final2 = obesity1[['Weight','family_history_with_overweight','Gender','CAEC','FCVC','Age','FAVC']]\n"
   ]
  },
  {
   "cell_type": "code",
   "execution_count": 29,
   "id": "aef4d50a",
   "metadata": {},
   "outputs": [
    {
     "data": {
      "text/html": [
       "<div>\n",
       "<style scoped>\n",
       "    .dataframe tbody tr th:only-of-type {\n",
       "        vertical-align: middle;\n",
       "    }\n",
       "\n",
       "    .dataframe tbody tr th {\n",
       "        vertical-align: top;\n",
       "    }\n",
       "\n",
       "    .dataframe thead th {\n",
       "        text-align: right;\n",
       "    }\n",
       "</style>\n",
       "<table border=\"1\" class=\"dataframe\">\n",
       "  <thead>\n",
       "    <tr style=\"text-align: right;\">\n",
       "      <th></th>\n",
       "      <th>Weight</th>\n",
       "      <th>family_history_with_overweight</th>\n",
       "      <th>Gender</th>\n",
       "      <th>CAEC</th>\n",
       "      <th>FCVC</th>\n",
       "      <th>Age</th>\n",
       "      <th>FAVC</th>\n",
       "    </tr>\n",
       "  </thead>\n",
       "  <tbody>\n",
       "    <tr>\n",
       "      <th>0</th>\n",
       "      <td>64</td>\n",
       "      <td>1</td>\n",
       "      <td>0</td>\n",
       "      <td>2</td>\n",
       "      <td>2.0</td>\n",
       "      <td>21</td>\n",
       "      <td>0</td>\n",
       "    </tr>\n",
       "    <tr>\n",
       "      <th>1</th>\n",
       "      <td>56</td>\n",
       "      <td>1</td>\n",
       "      <td>0</td>\n",
       "      <td>2</td>\n",
       "      <td>3.0</td>\n",
       "      <td>21</td>\n",
       "      <td>0</td>\n",
       "    </tr>\n",
       "    <tr>\n",
       "      <th>2</th>\n",
       "      <td>77</td>\n",
       "      <td>1</td>\n",
       "      <td>1</td>\n",
       "      <td>2</td>\n",
       "      <td>2.0</td>\n",
       "      <td>23</td>\n",
       "      <td>0</td>\n",
       "    </tr>\n",
       "    <tr>\n",
       "      <th>3</th>\n",
       "      <td>87</td>\n",
       "      <td>0</td>\n",
       "      <td>1</td>\n",
       "      <td>2</td>\n",
       "      <td>3.0</td>\n",
       "      <td>27</td>\n",
       "      <td>0</td>\n",
       "    </tr>\n",
       "    <tr>\n",
       "      <th>4</th>\n",
       "      <td>90</td>\n",
       "      <td>0</td>\n",
       "      <td>1</td>\n",
       "      <td>2</td>\n",
       "      <td>2.0</td>\n",
       "      <td>22</td>\n",
       "      <td>0</td>\n",
       "    </tr>\n",
       "  </tbody>\n",
       "</table>\n",
       "</div>"
      ],
      "text/plain": [
       "   Weight  family_history_with_overweight  Gender  CAEC  FCVC  Age  FAVC\n",
       "0      64                               1       0     2   2.0   21     0\n",
       "1      56                               1       0     2   3.0   21     0\n",
       "2      77                               1       1     2   2.0   23     0\n",
       "3      87                               0       1     2   3.0   27     0\n",
       "4      90                               0       1     2   2.0   22     0"
      ]
     },
     "execution_count": 29,
     "metadata": {},
     "output_type": "execute_result"
    }
   ],
   "source": [
    "final2.head()"
   ]
  },
  {
   "cell_type": "markdown",
   "id": "8f8a94bc",
   "metadata": {},
   "source": [
    "<center><H1>  Part 2: K-Means </H1></center><br/>"
   ]
  },
  {
   "cell_type": "code",
   "execution_count": 30,
   "id": "75701137",
   "metadata": {},
   "outputs": [
    {
     "name": "stdout",
     "output_type": "stream",
     "text": [
      "        Weight  family_history_with_overweight  Gender      CAEC  FCVC  \\\n",
      "0     0.186567                             1.0     0.0  0.666667   0.5   \n",
      "1     0.126866                             1.0     0.0  0.666667   1.0   \n",
      "2     0.283582                             1.0     1.0  0.666667   0.5   \n",
      "3     0.358209                             0.0     1.0  0.666667   1.0   \n",
      "4     0.380597                             0.0     1.0  0.666667   0.5   \n",
      "...        ...                             ...     ...       ...   ...   \n",
      "2080  0.686567                             1.0     0.0  0.666667   1.0   \n",
      "2081  0.708955                             1.0     0.0  0.666667   1.0   \n",
      "2082  0.708955                             1.0     0.0  0.666667   1.0   \n",
      "2083  0.701493                             1.0     0.0  0.666667   1.0   \n",
      "2084  0.701493                             1.0     0.0  0.666667   1.0   \n",
      "\n",
      "           Age  FAVC  \n",
      "0     0.148936   0.0  \n",
      "1     0.148936   0.0  \n",
      "2     0.191489   0.0  \n",
      "3     0.276596   0.0  \n",
      "4     0.170213   0.0  \n",
      "...        ...   ...  \n",
      "2080  0.148936   1.0  \n",
      "2081  0.170213   1.0  \n",
      "2082  0.191489   1.0  \n",
      "2083  0.212766   1.0  \n",
      "2084  0.212766   1.0  \n",
      "\n",
      "[2085 rows x 7 columns]\n"
     ]
    }
   ],
   "source": [
    "# scale features\n",
    "from sklearn.preprocessing import MinMaxScaler,StandardScaler, normalize\n",
    "mm = MinMaxScaler()\n",
    "data_scaled = mm.fit_transform(final2)\n",
    "data_scaled = pd.DataFrame(data_scaled, columns = list(final2.columns))\n",
    "print(data_scaled)"
   ]
  },
  {
   "cell_type": "code",
   "execution_count": 31,
   "id": "1d58d065",
   "metadata": {
    "scrolled": true
   },
   "outputs": [
    {
     "data": {
      "text/html": [
       "<div>\n",
       "<style scoped>\n",
       "    .dataframe tbody tr th:only-of-type {\n",
       "        vertical-align: middle;\n",
       "    }\n",
       "\n",
       "    .dataframe tbody tr th {\n",
       "        vertical-align: top;\n",
       "    }\n",
       "\n",
       "    .dataframe thead th {\n",
       "        text-align: right;\n",
       "    }\n",
       "</style>\n",
       "<table border=\"1\" class=\"dataframe\">\n",
       "  <thead>\n",
       "    <tr style=\"text-align: right;\">\n",
       "      <th></th>\n",
       "      <th>Weight</th>\n",
       "      <th>family_history_with_overweight</th>\n",
       "      <th>Gender</th>\n",
       "      <th>CAEC</th>\n",
       "      <th>FCVC</th>\n",
       "      <th>Age</th>\n",
       "      <th>FAVC</th>\n",
       "    </tr>\n",
       "  </thead>\n",
       "  <tbody>\n",
       "    <tr>\n",
       "      <th>0</th>\n",
       "      <td>0.186567</td>\n",
       "      <td>1.0</td>\n",
       "      <td>0.0</td>\n",
       "      <td>0.666667</td>\n",
       "      <td>0.5</td>\n",
       "      <td>0.148936</td>\n",
       "      <td>0.0</td>\n",
       "    </tr>\n",
       "    <tr>\n",
       "      <th>1</th>\n",
       "      <td>0.126866</td>\n",
       "      <td>1.0</td>\n",
       "      <td>0.0</td>\n",
       "      <td>0.666667</td>\n",
       "      <td>1.0</td>\n",
       "      <td>0.148936</td>\n",
       "      <td>0.0</td>\n",
       "    </tr>\n",
       "    <tr>\n",
       "      <th>2</th>\n",
       "      <td>0.283582</td>\n",
       "      <td>1.0</td>\n",
       "      <td>1.0</td>\n",
       "      <td>0.666667</td>\n",
       "      <td>0.5</td>\n",
       "      <td>0.191489</td>\n",
       "      <td>0.0</td>\n",
       "    </tr>\n",
       "    <tr>\n",
       "      <th>3</th>\n",
       "      <td>0.358209</td>\n",
       "      <td>0.0</td>\n",
       "      <td>1.0</td>\n",
       "      <td>0.666667</td>\n",
       "      <td>1.0</td>\n",
       "      <td>0.276596</td>\n",
       "      <td>0.0</td>\n",
       "    </tr>\n",
       "    <tr>\n",
       "      <th>4</th>\n",
       "      <td>0.380597</td>\n",
       "      <td>0.0</td>\n",
       "      <td>1.0</td>\n",
       "      <td>0.666667</td>\n",
       "      <td>0.5</td>\n",
       "      <td>0.170213</td>\n",
       "      <td>0.0</td>\n",
       "    </tr>\n",
       "  </tbody>\n",
       "</table>\n",
       "</div>"
      ],
      "text/plain": [
       "     Weight  family_history_with_overweight  Gender      CAEC  FCVC       Age  \\\n",
       "0  0.186567                             1.0     0.0  0.666667   0.5  0.148936   \n",
       "1  0.126866                             1.0     0.0  0.666667   1.0  0.148936   \n",
       "2  0.283582                             1.0     1.0  0.666667   0.5  0.191489   \n",
       "3  0.358209                             0.0     1.0  0.666667   1.0  0.276596   \n",
       "4  0.380597                             0.0     1.0  0.666667   0.5  0.170213   \n",
       "\n",
       "   FAVC  \n",
       "0   0.0  \n",
       "1   0.0  \n",
       "2   0.0  \n",
       "3   0.0  \n",
       "4   0.0  "
      ]
     },
     "execution_count": 31,
     "metadata": {},
     "output_type": "execute_result"
    }
   ],
   "source": [
    "df_final=data_scaled\n",
    "df_final.head()"
   ]
  },
  {
   "cell_type": "markdown",
   "id": "11a49a9f",
   "metadata": {},
   "source": [
    "## Part 2: K-Means \n",
    "### 1.Cluster the data using K-means and use Elbow method to identify a suitable k [3 marks]"
   ]
  },
  {
   "cell_type": "code",
   "execution_count": 26,
   "id": "36e89c0f",
   "metadata": {},
   "outputs": [
    {
     "data": {
      "image/png": "[encoded data removed]",
      "text/plain": [
       "<Figure size 720x432 with 1 Axes>"
      ]
     },
     "metadata": {
      "needs_background": "light"
     },
     "output_type": "display_data"
    }
   ],
   "source": [
    "#Elbow Method: is use to find out the number of clusters in K-means\n",
    "wcss = []\n",
    "for i in range(1,50):\n",
    "    kmeans = KMeans(n_clusters = i, init = 'k-means++', random_state = 0)\n",
    "    kmeans.fit(df_final)\n",
    "    wcss.append(kmeans.inertia_)\n",
    "plt.figure(figsize = (10,6))\n",
    "plt.plot(range(1,50), wcss)\n",
    "plt.xlabel('Numbers of Clusters', fontsize=12)\n",
    "plt.ylabel('WCSS', fontsize=12)\n",
    "plt.title('Elbow Method', fontsize=14)\n",
    "plt.show()"
   ]
  },
  {
   "cell_type": "code",
   "execution_count": 27,
   "id": "b449a350",
   "metadata": {},
   "outputs": [
    {
     "name": "stdout",
     "output_type": "stream",
     "text": [
      "Parameter: {'n_clusters': 2} Score 0.4327286141364759\n",
      "Parameter: {'n_clusters': 3} Score 0.4854568548299041\n",
      "Parameter: {'n_clusters': 4} Score 0.5134819312042733\n",
      "Parameter: {'n_clusters': 5} Score 0.5473419568047394\n",
      "Parameter: {'n_clusters': 6} Score 0.5062728482560095\n",
      "Parameter: {'n_clusters': 7} Score 0.5280142897977314\n",
      "Parameter: {'n_clusters': 8} Score 0.5493094229415756\n",
      "Parameter: {'n_clusters': 9} Score 0.4513175061212776\n",
      "Parameter: {'n_clusters': 10} Score 0.46504441677525066\n",
      "Parameter: {'n_clusters': 15} Score 0.4417441955485343\n",
      "Parameter: {'n_clusters': 20} Score 0.432174410634286\n",
      "Parameter: {'n_clusters': 25} Score 0.42582632749435245\n",
      "Parameter: {'n_clusters': 30} Score 0.44208249511115766\n",
      "Parameter: {'n_clusters': 35} Score 0.4584977002499307\n",
      "Parameter: {'n_clusters': 40} Score 0.4634075152806375\n"
     ]
    }
   ],
   "source": [
    "# candidate values for our number of cluster\n",
    "parameters = [2, 3, 4, 5,6,7,8, 9,10, 15, 20, 25, 30, 35, 40]\n",
    "# instantiating ParameterGrid, pass number of clusters as input\n",
    "parameter_grid = ParameterGrid({'n_clusters': parameters})\n",
    "best_score = -1\n",
    "kmeans_model = KMeans()     # instantiating KMeans model\n",
    "silhouette_scores = []\n",
    "# evaluation based on silhouette_score\n",
    "for p in parameter_grid:\n",
    "    kmeans_model.set_params(**p)    # set current hyper parameter\n",
    "    kmeans_model.fit(df_final)          # fit model on dataset, this will find clusters based on parameter p\n",
    "    ss = silhouette_score(df_final, kmeans_model.labels_)   # calculate silhouette_score\n",
    "    silhouette_scores += [ss]       # store all the scores\n",
    "    print('Parameter:', p, 'Score', ss)\n",
    "    # check p which has the best score\n",
    "    if ss > best_score:\n",
    "        best_score = ss\n",
    "        best_grid = p\n"
   ]
  },
  {
   "cell_type": "markdown",
   "id": "4eafd20d",
   "metadata": {},
   "source": [
    "## Part 2: K-Means\n",
    "### 2. Choose a cluster validation metric of your choice and report that for the k found by you in part 1 [1 mark]"
   ]
  },
  {
   "cell_type": "markdown",
   "id": "55fc19ad",
   "metadata": {},
   "source": [
    "**From above Elbow plot, we found best clusters obtained at k=5     \n",
    "Now fit the model with 5 clusters and print sillhoute score validation metric**"
   ]
  },
  {
   "cell_type": "code",
   "execution_count": 28,
   "id": "82717eaf",
   "metadata": {},
   "outputs": [
    {
     "name": "stdout",
     "output_type": "stream",
     "text": [
      "[4 4 2 ... 3 3 3]\n"
     ]
    }
   ],
   "source": [
    "\n",
    "kmeans = KMeans(n_clusters = 5,  random_state = 0)\n",
    "pred_k = kmeans.fit_predict(df_final)\n",
    "print(pred_k)"
   ]
  },
  {
   "cell_type": "code",
   "execution_count": 29,
   "id": "fff7eaf9",
   "metadata": {
    "scrolled": true
   },
   "outputs": [
    {
     "name": "stdout",
     "output_type": "stream",
     "text": [
      "The Silhouette_Score of K-means is: 0.5415\n"
     ]
    }
   ],
   "source": [
    "# Performance Metrics\n",
    "kmeans_metrics = silhouette_score(df_final, kmeans.labels_, metric = 'euclidean')\n",
    "print('The Silhouette_Score of K-means is: {:0.4f}'.format(kmeans_metrics))"
   ]
  },
  {
   "cell_type": "markdown",
   "id": "f98658a3",
   "metadata": {},
   "source": [
    "\n",
    "<center><H1> Part 3: Hierarchical clustering </H1></center><br/>"
   ]
  },
  {
   "cell_type": "markdown",
   "id": "7338e275",
   "metadata": {},
   "source": [
    "## Part 3: Hierarchical clustering\n",
    "\n",
    "### 1. Plot the dendrogram using hierarchical clustering for prepared data. Infer the correct number of clusters based on the dendrogram, and compare it with the k value found in part 1 [3 marks]"
   ]
  },
  {
   "cell_type": "code",
   "execution_count": 30,
   "id": "48f22c1f",
   "metadata": {},
   "outputs": [],
   "source": [
    "import scipy.cluster.hierarchy as sch\n",
    "from sklearn.cluster import AgglomerativeClustering\n",
    "from sklearn.decomposition import PCA\n",
    "import seaborn as sns\n",
    "from sklearn.neighbors import NearestCentroid"
   ]
  },
  {
   "cell_type": "markdown",
   "id": "fb6e5b0b",
   "metadata": {},
   "source": [
    "Plot the dendrograms for the above scaled dataset points. (hint: use scipy.cluster.hierarchy imported above). \n",
    "Plot using the following parameters:\n",
    "1. ward\n",
    "2. complete\n",
    "3. average <br> \n",
    "Study the dendrograms and comment on the major differences between them."
   ]
  },
  {
   "cell_type": "code",
   "execution_count": 31,
   "id": "721ecf81",
   "metadata": {},
   "outputs": [
    {
     "data": {
      "image/png": "[encoded data removed]",
      "text/plain": [
       "<Figure size 1800x720 with 1 Axes>"
      ]
     },
     "metadata": {
      "needs_background": "light"
     },
     "output_type": "display_data"
    },
    {
     "data": {
      "image/png": "[encoded data removed]",
      "text/plain": [
       "<Figure size 1800x720 with 1 Axes>"
      ]
     },
     "metadata": {
      "needs_background": "light"
     },
     "output_type": "display_data"
    },
    {
     "data": {
      "image/png": "[encoded data removed]",
      "text/plain": [
       "<Figure size 1800x720 with 1 Axes>"
      ]
     },
     "metadata": {
      "needs_background": "light"
     },
     "output_type": "display_data"
    }
   ],
   "source": [
    "# dendrograms \n",
    "# tuple of linkages and suitable cutting height based on exploratory analysis\n",
    "linkages = (('ward', 8), ('complete', 1.5 ), ('average', 1.1))\n",
    "\n",
    "for (linkage, cut_height) in linkages:\n",
    "    Z = sch.linkage(df_final, method  = linkage)\n",
    "    plt.figure(figsize=(25,10))\n",
    "    sch.dendrogram(Z, leaf_rotation=90, p=5,color_threshold=20, leaf_font_size=10, truncate_mode='level')\n",
    "    plt.axhline(y = cut_height, color = 'r', linestyle = 'dashed')\n",
    "    plt.title('Linkage- ' + linkage)\n",
    "    plt.xlabel('obesity')\n",
    "    plt.ylabel('Euclidean distances')\n",
    "    plt.show()"
   ]
  },
  {
   "cell_type": "markdown",
   "id": "2d9c7995",
   "metadata": {},
   "source": [
    "#### **Major differences between the 3 dendrograms**\n",
    "- Ward linkage suggests a clear 3 clusters.\n",
    "- Complete linkage suggests 5 clusters\n",
    "- Average linkage suggests 4 clusters.\n",
    "With the help of dendrograms obtained above, choose a suitable **k** for each linkage type. Experiment with different distance measures as mentioned below: <br>\n",
    "1. Euclidean \n",
    "2. Manhattan \n",
    "3. Cosine <br> \n",
    "Calculate the cluster quality for each case and report your results in an organized, tabular format. The table should have the parameters used, cluster means and cluster quality."
   ]
  },
  {
   "cell_type": "code",
   "execution_count": 33,
   "id": "23f68b52",
   "metadata": {
    "scrolled": true
   },
   "outputs": [
    {
     "data": {
      "text/html": [
       "<div>\n",
       "<style scoped>\n",
       "    .dataframe tbody tr th:only-of-type {\n",
       "        vertical-align: middle;\n",
       "    }\n",
       "\n",
       "    .dataframe tbody tr th {\n",
       "        vertical-align: top;\n",
       "    }\n",
       "\n",
       "    .dataframe thead th {\n",
       "        text-align: right;\n",
       "    }\n",
       "</style>\n",
       "<table border=\"1\" class=\"dataframe\">\n",
       "  <thead>\n",
       "    <tr style=\"text-align: right;\">\n",
       "      <th></th>\n",
       "      <th>Linkage</th>\n",
       "      <th>Cluster count</th>\n",
       "      <th>Distance measure</th>\n",
       "      <th>Cluster no.</th>\n",
       "      <th>Silhouette score</th>\n",
       "      <th>Weight</th>\n",
       "      <th>family_history_with_overweight</th>\n",
       "      <th>Gender</th>\n",
       "      <th>CAEC</th>\n",
       "      <th>FCVC</th>\n",
       "      <th>Age</th>\n",
       "      <th>FAVC</th>\n",
       "    </tr>\n",
       "  </thead>\n",
       "  <tbody>\n",
       "    <tr>\n",
       "      <th>0</th>\n",
       "      <td>ward</td>\n",
       "      <td>3</td>\n",
       "      <td>euclidean</td>\n",
       "      <td>1</td>\n",
       "      <td>0.458273</td>\n",
       "      <td>0.177849</td>\n",
       "      <td>0.285714</td>\n",
       "      <td>0.399217</td>\n",
       "      <td>0.567515</td>\n",
       "      <td>0.690439</td>\n",
       "      <td>0.177957</td>\n",
       "      <td>0.524462</td>\n",
       "    </tr>\n",
       "    <tr>\n",
       "      <th>1</th>\n",
       "      <td>ward</td>\n",
       "      <td>3</td>\n",
       "      <td>euclidean</td>\n",
       "      <td>2</td>\n",
       "      <td>0.458273</td>\n",
       "      <td>0.419172</td>\n",
       "      <td>1.000000</td>\n",
       "      <td>1.000000</td>\n",
       "      <td>0.637510</td>\n",
       "      <td>0.642098</td>\n",
       "      <td>0.234546</td>\n",
       "      <td>1.000000</td>\n",
       "    </tr>\n",
       "    <tr>\n",
       "      <th>2</th>\n",
       "      <td>ward</td>\n",
       "      <td>3</td>\n",
       "      <td>euclidean</td>\n",
       "      <td>3</td>\n",
       "      <td>0.458273</td>\n",
       "      <td>0.410786</td>\n",
       "      <td>1.000000</td>\n",
       "      <td>0.000000</td>\n",
       "      <td>0.630495</td>\n",
       "      <td>0.805316</td>\n",
       "      <td>0.233692</td>\n",
       "      <td>1.000000</td>\n",
       "    </tr>\n",
       "    <tr>\n",
       "      <th>3</th>\n",
       "      <td>complete</td>\n",
       "      <td>5</td>\n",
       "      <td>euclidean</td>\n",
       "      <td>1</td>\n",
       "      <td>0.509419</td>\n",
       "      <td>0.399348</td>\n",
       "      <td>0.892405</td>\n",
       "      <td>1.000000</td>\n",
       "      <td>0.632911</td>\n",
       "      <td>0.639380</td>\n",
       "      <td>0.229935</td>\n",
       "      <td>1.000000</td>\n",
       "    </tr>\n",
       "    <tr>\n",
       "      <th>4</th>\n",
       "      <td>complete</td>\n",
       "      <td>5</td>\n",
       "      <td>euclidean</td>\n",
       "      <td>2</td>\n",
       "      <td>0.509419</td>\n",
       "      <td>0.401418</td>\n",
       "      <td>1.000000</td>\n",
       "      <td>0.000000</td>\n",
       "      <td>0.632761</td>\n",
       "      <td>0.793087</td>\n",
       "      <td>0.232834</td>\n",
       "      <td>0.961691</td>\n",
       "    </tr>\n",
       "    <tr>\n",
       "      <th>5</th>\n",
       "      <td>complete</td>\n",
       "      <td>5</td>\n",
       "      <td>euclidean</td>\n",
       "      <td>3</td>\n",
       "      <td>0.509419</td>\n",
       "      <td>0.144561</td>\n",
       "      <td>0.000000</td>\n",
       "      <td>0.381443</td>\n",
       "      <td>0.467354</td>\n",
       "      <td>0.791999</td>\n",
       "      <td>0.162316</td>\n",
       "      <td>0.000000</td>\n",
       "    </tr>\n",
       "    <tr>\n",
       "      <th>6</th>\n",
       "      <td>complete</td>\n",
       "      <td>5</td>\n",
       "      <td>euclidean</td>\n",
       "      <td>4</td>\n",
       "      <td>0.509419</td>\n",
       "      <td>0.096700</td>\n",
       "      <td>0.000000</td>\n",
       "      <td>0.000000</td>\n",
       "      <td>0.568273</td>\n",
       "      <td>0.678561</td>\n",
       "      <td>0.142143</td>\n",
       "      <td>1.000000</td>\n",
       "    </tr>\n",
       "    <tr>\n",
       "      <th>7</th>\n",
       "      <td>complete</td>\n",
       "      <td>5</td>\n",
       "      <td>euclidean</td>\n",
       "      <td>5</td>\n",
       "      <td>0.509419</td>\n",
       "      <td>0.273696</td>\n",
       "      <td>1.000000</td>\n",
       "      <td>0.555556</td>\n",
       "      <td>0.595442</td>\n",
       "      <td>0.737918</td>\n",
       "      <td>0.221495</td>\n",
       "      <td>0.000000</td>\n",
       "    </tr>\n",
       "    <tr>\n",
       "      <th>8</th>\n",
       "      <td>complete</td>\n",
       "      <td>5</td>\n",
       "      <td>manhattan</td>\n",
       "      <td>1</td>\n",
       "      <td>0.541532</td>\n",
       "      <td>0.399348</td>\n",
       "      <td>0.892405</td>\n",
       "      <td>1.000000</td>\n",
       "      <td>0.632911</td>\n",
       "      <td>0.639380</td>\n",
       "      <td>0.229935</td>\n",
       "      <td>1.000000</td>\n",
       "    </tr>\n",
       "    <tr>\n",
       "      <th>9</th>\n",
       "      <td>complete</td>\n",
       "      <td>5</td>\n",
       "      <td>manhattan</td>\n",
       "      <td>2</td>\n",
       "      <td>0.541532</td>\n",
       "      <td>0.401418</td>\n",
       "      <td>1.000000</td>\n",
       "      <td>0.000000</td>\n",
       "      <td>0.632761</td>\n",
       "      <td>0.793087</td>\n",
       "      <td>0.232834</td>\n",
       "      <td>0.961691</td>\n",
       "    </tr>\n",
       "    <tr>\n",
       "      <th>10</th>\n",
       "      <td>complete</td>\n",
       "      <td>5</td>\n",
       "      <td>manhattan</td>\n",
       "      <td>3</td>\n",
       "      <td>0.541532</td>\n",
       "      <td>0.144561</td>\n",
       "      <td>0.000000</td>\n",
       "      <td>0.381443</td>\n",
       "      <td>0.467354</td>\n",
       "      <td>0.791999</td>\n",
       "      <td>0.162316</td>\n",
       "      <td>0.000000</td>\n",
       "    </tr>\n",
       "    <tr>\n",
       "      <th>11</th>\n",
       "      <td>complete</td>\n",
       "      <td>5</td>\n",
       "      <td>manhattan</td>\n",
       "      <td>4</td>\n",
       "      <td>0.541532</td>\n",
       "      <td>0.096700</td>\n",
       "      <td>0.000000</td>\n",
       "      <td>0.000000</td>\n",
       "      <td>0.568273</td>\n",
       "      <td>0.678561</td>\n",
       "      <td>0.142143</td>\n",
       "      <td>1.000000</td>\n",
       "    </tr>\n",
       "    <tr>\n",
       "      <th>12</th>\n",
       "      <td>complete</td>\n",
       "      <td>5</td>\n",
       "      <td>manhattan</td>\n",
       "      <td>5</td>\n",
       "      <td>0.541532</td>\n",
       "      <td>0.273696</td>\n",
       "      <td>1.000000</td>\n",
       "      <td>0.555556</td>\n",
       "      <td>0.595442</td>\n",
       "      <td>0.737918</td>\n",
       "      <td>0.221495</td>\n",
       "      <td>0.000000</td>\n",
       "    </tr>\n",
       "    <tr>\n",
       "      <th>13</th>\n",
       "      <td>complete</td>\n",
       "      <td>5</td>\n",
       "      <td>cosine</td>\n",
       "      <td>1</td>\n",
       "      <td>0.466396</td>\n",
       "      <td>0.399348</td>\n",
       "      <td>0.892405</td>\n",
       "      <td>1.000000</td>\n",
       "      <td>0.632911</td>\n",
       "      <td>0.639380</td>\n",
       "      <td>0.229935</td>\n",
       "      <td>1.000000</td>\n",
       "    </tr>\n",
       "    <tr>\n",
       "      <th>14</th>\n",
       "      <td>complete</td>\n",
       "      <td>5</td>\n",
       "      <td>cosine</td>\n",
       "      <td>2</td>\n",
       "      <td>0.466396</td>\n",
       "      <td>0.401418</td>\n",
       "      <td>1.000000</td>\n",
       "      <td>0.000000</td>\n",
       "      <td>0.632761</td>\n",
       "      <td>0.793087</td>\n",
       "      <td>0.232834</td>\n",
       "      <td>0.961691</td>\n",
       "    </tr>\n",
       "    <tr>\n",
       "      <th>15</th>\n",
       "      <td>complete</td>\n",
       "      <td>5</td>\n",
       "      <td>cosine</td>\n",
       "      <td>3</td>\n",
       "      <td>0.466396</td>\n",
       "      <td>0.144561</td>\n",
       "      <td>0.000000</td>\n",
       "      <td>0.381443</td>\n",
       "      <td>0.467354</td>\n",
       "      <td>0.791999</td>\n",
       "      <td>0.162316</td>\n",
       "      <td>0.000000</td>\n",
       "    </tr>\n",
       "    <tr>\n",
       "      <th>16</th>\n",
       "      <td>complete</td>\n",
       "      <td>5</td>\n",
       "      <td>cosine</td>\n",
       "      <td>4</td>\n",
       "      <td>0.466396</td>\n",
       "      <td>0.096700</td>\n",
       "      <td>0.000000</td>\n",
       "      <td>0.000000</td>\n",
       "      <td>0.568273</td>\n",
       "      <td>0.678561</td>\n",
       "      <td>0.142143</td>\n",
       "      <td>1.000000</td>\n",
       "    </tr>\n",
       "    <tr>\n",
       "      <th>17</th>\n",
       "      <td>complete</td>\n",
       "      <td>5</td>\n",
       "      <td>cosine</td>\n",
       "      <td>5</td>\n",
       "      <td>0.466396</td>\n",
       "      <td>0.273696</td>\n",
       "      <td>1.000000</td>\n",
       "      <td>0.555556</td>\n",
       "      <td>0.595442</td>\n",
       "      <td>0.737918</td>\n",
       "      <td>0.221495</td>\n",
       "      <td>0.000000</td>\n",
       "    </tr>\n",
       "    <tr>\n",
       "      <th>18</th>\n",
       "      <td>average</td>\n",
       "      <td>4</td>\n",
       "      <td>euclidean</td>\n",
       "      <td>1</td>\n",
       "      <td>0.354120</td>\n",
       "      <td>0.411513</td>\n",
       "      <td>1.000000</td>\n",
       "      <td>0.555827</td>\n",
       "      <td>0.633313</td>\n",
       "      <td>0.713421</td>\n",
       "      <td>0.233549</td>\n",
       "      <td>0.960342</td>\n",
       "    </tr>\n",
       "    <tr>\n",
       "      <th>19</th>\n",
       "      <td>average</td>\n",
       "      <td>4</td>\n",
       "      <td>euclidean</td>\n",
       "      <td>2</td>\n",
       "      <td>0.354120</td>\n",
       "      <td>0.235101</td>\n",
       "      <td>0.000000</td>\n",
       "      <td>1.000000</td>\n",
       "      <td>0.587530</td>\n",
       "      <td>0.632496</td>\n",
       "      <td>0.186897</td>\n",
       "      <td>0.733813</td>\n",
       "    </tr>\n",
       "    <tr>\n",
       "      <th>20</th>\n",
       "      <td>average</td>\n",
       "      <td>4</td>\n",
       "      <td>euclidean</td>\n",
       "      <td>3</td>\n",
       "      <td>0.354120</td>\n",
       "      <td>0.096700</td>\n",
       "      <td>0.000000</td>\n",
       "      <td>0.000000</td>\n",
       "      <td>0.568273</td>\n",
       "      <td>0.678561</td>\n",
       "      <td>0.142143</td>\n",
       "      <td>1.000000</td>\n",
       "    </tr>\n",
       "    <tr>\n",
       "      <th>21</th>\n",
       "      <td>average</td>\n",
       "      <td>4</td>\n",
       "      <td>euclidean</td>\n",
       "      <td>4</td>\n",
       "      <td>0.354120</td>\n",
       "      <td>0.151424</td>\n",
       "      <td>0.574468</td>\n",
       "      <td>0.000000</td>\n",
       "      <td>0.527187</td>\n",
       "      <td>0.797487</td>\n",
       "      <td>0.192395</td>\n",
       "      <td>0.000000</td>\n",
       "    </tr>\n",
       "    <tr>\n",
       "      <th>22</th>\n",
       "      <td>average</td>\n",
       "      <td>4</td>\n",
       "      <td>manhattan</td>\n",
       "      <td>1</td>\n",
       "      <td>0.285395</td>\n",
       "      <td>0.411513</td>\n",
       "      <td>1.000000</td>\n",
       "      <td>0.555827</td>\n",
       "      <td>0.633313</td>\n",
       "      <td>0.713421</td>\n",
       "      <td>0.233549</td>\n",
       "      <td>0.960342</td>\n",
       "    </tr>\n",
       "    <tr>\n",
       "      <th>23</th>\n",
       "      <td>average</td>\n",
       "      <td>4</td>\n",
       "      <td>manhattan</td>\n",
       "      <td>2</td>\n",
       "      <td>0.285395</td>\n",
       "      <td>0.235101</td>\n",
       "      <td>0.000000</td>\n",
       "      <td>1.000000</td>\n",
       "      <td>0.587530</td>\n",
       "      <td>0.632496</td>\n",
       "      <td>0.186897</td>\n",
       "      <td>0.733813</td>\n",
       "    </tr>\n",
       "    <tr>\n",
       "      <th>24</th>\n",
       "      <td>average</td>\n",
       "      <td>4</td>\n",
       "      <td>manhattan</td>\n",
       "      <td>3</td>\n",
       "      <td>0.285395</td>\n",
       "      <td>0.096700</td>\n",
       "      <td>0.000000</td>\n",
       "      <td>0.000000</td>\n",
       "      <td>0.568273</td>\n",
       "      <td>0.678561</td>\n",
       "      <td>0.142143</td>\n",
       "      <td>1.000000</td>\n",
       "    </tr>\n",
       "    <tr>\n",
       "      <th>25</th>\n",
       "      <td>average</td>\n",
       "      <td>4</td>\n",
       "      <td>manhattan</td>\n",
       "      <td>4</td>\n",
       "      <td>0.285395</td>\n",
       "      <td>0.151424</td>\n",
       "      <td>0.574468</td>\n",
       "      <td>0.000000</td>\n",
       "      <td>0.527187</td>\n",
       "      <td>0.797487</td>\n",
       "      <td>0.192395</td>\n",
       "      <td>0.000000</td>\n",
       "    </tr>\n",
       "    <tr>\n",
       "      <th>26</th>\n",
       "      <td>average</td>\n",
       "      <td>4</td>\n",
       "      <td>cosine</td>\n",
       "      <td>1</td>\n",
       "      <td>0.294754</td>\n",
       "      <td>0.411513</td>\n",
       "      <td>1.000000</td>\n",
       "      <td>0.555827</td>\n",
       "      <td>0.633313</td>\n",
       "      <td>0.713421</td>\n",
       "      <td>0.233549</td>\n",
       "      <td>0.960342</td>\n",
       "    </tr>\n",
       "    <tr>\n",
       "      <th>27</th>\n",
       "      <td>average</td>\n",
       "      <td>4</td>\n",
       "      <td>cosine</td>\n",
       "      <td>2</td>\n",
       "      <td>0.294754</td>\n",
       "      <td>0.235101</td>\n",
       "      <td>0.000000</td>\n",
       "      <td>1.000000</td>\n",
       "      <td>0.587530</td>\n",
       "      <td>0.632496</td>\n",
       "      <td>0.186897</td>\n",
       "      <td>0.733813</td>\n",
       "    </tr>\n",
       "    <tr>\n",
       "      <th>28</th>\n",
       "      <td>average</td>\n",
       "      <td>4</td>\n",
       "      <td>cosine</td>\n",
       "      <td>3</td>\n",
       "      <td>0.294754</td>\n",
       "      <td>0.096700</td>\n",
       "      <td>0.000000</td>\n",
       "      <td>0.000000</td>\n",
       "      <td>0.568273</td>\n",
       "      <td>0.678561</td>\n",
       "      <td>0.142143</td>\n",
       "      <td>1.000000</td>\n",
       "    </tr>\n",
       "    <tr>\n",
       "      <th>29</th>\n",
       "      <td>average</td>\n",
       "      <td>4</td>\n",
       "      <td>cosine</td>\n",
       "      <td>4</td>\n",
       "      <td>0.294754</td>\n",
       "      <td>0.151424</td>\n",
       "      <td>0.574468</td>\n",
       "      <td>0.000000</td>\n",
       "      <td>0.527187</td>\n",
       "      <td>0.797487</td>\n",
       "      <td>0.192395</td>\n",
       "      <td>0.000000</td>\n",
       "    </tr>\n",
       "  </tbody>\n",
       "</table>\n",
       "</div>"
      ],
      "text/plain": [
       "     Linkage  Cluster count Distance measure  Cluster no.  Silhouette score  \\\n",
       "0       ward              3        euclidean            1          0.458273   \n",
       "1       ward              3        euclidean            2          0.458273   \n",
       "2       ward              3        euclidean            3          0.458273   \n",
       "3   complete              5        euclidean            1          0.509419   \n",
       "4   complete              5        euclidean            2          0.509419   \n",
       "5   complete              5        euclidean            3          0.509419   \n",
       "6   complete              5        euclidean            4          0.509419   \n",
       "7   complete              5        euclidean            5          0.509419   \n",
       "8   complete              5        manhattan            1          0.541532   \n",
       "9   complete              5        manhattan            2          0.541532   \n",
       "10  complete              5        manhattan            3          0.541532   \n",
       "11  complete              5        manhattan            4          0.541532   \n",
       "12  complete              5        manhattan            5          0.541532   \n",
       "13  complete              5           cosine            1          0.466396   \n",
       "14  complete              5           cosine            2          0.466396   \n",
       "15  complete              5           cosine            3          0.466396   \n",
       "16  complete              5           cosine            4          0.466396   \n",
       "17  complete              5           cosine            5          0.466396   \n",
       "18   average              4        euclidean            1          0.354120   \n",
       "19   average              4        euclidean            2          0.354120   \n",
       "20   average              4        euclidean            3          0.354120   \n",
       "21   average              4        euclidean            4          0.354120   \n",
       "22   average              4        manhattan            1          0.285395   \n",
       "23   average              4        manhattan            2          0.285395   \n",
       "24   average              4        manhattan            3          0.285395   \n",
       "25   average              4        manhattan            4          0.285395   \n",
       "26   average              4           cosine            1          0.294754   \n",
       "27   average              4           cosine            2          0.294754   \n",
       "28   average              4           cosine            3          0.294754   \n",
       "29   average              4           cosine            4          0.294754   \n",
       "\n",
       "      Weight  family_history_with_overweight    Gender      CAEC      FCVC  \\\n",
       "0   0.177849                        0.285714  0.399217  0.567515  0.690439   \n",
       "1   0.419172                        1.000000  1.000000  0.637510  0.642098   \n",
       "2   0.410786                        1.000000  0.000000  0.630495  0.805316   \n",
       "3   0.399348                        0.892405  1.000000  0.632911  0.639380   \n",
       "4   0.401418                        1.000000  0.000000  0.632761  0.793087   \n",
       "5   0.144561                        0.000000  0.381443  0.467354  0.791999   \n",
       "6   0.096700                        0.000000  0.000000  0.568273  0.678561   \n",
       "7   0.273696                        1.000000  0.555556  0.595442  0.737918   \n",
       "8   0.399348                        0.892405  1.000000  0.632911  0.639380   \n",
       "9   0.401418                        1.000000  0.000000  0.632761  0.793087   \n",
       "10  0.144561                        0.000000  0.381443  0.467354  0.791999   \n",
       "11  0.096700                        0.000000  0.000000  0.568273  0.678561   \n",
       "12  0.273696                        1.000000  0.555556  0.595442  0.737918   \n",
       "13  0.399348                        0.892405  1.000000  0.632911  0.639380   \n",
       "14  0.401418                        1.000000  0.000000  0.632761  0.793087   \n",
       "15  0.144561                        0.000000  0.381443  0.467354  0.791999   \n",
       "16  0.096700                        0.000000  0.000000  0.568273  0.678561   \n",
       "17  0.273696                        1.000000  0.555556  0.595442  0.737918   \n",
       "18  0.411513                        1.000000  0.555827  0.633313  0.713421   \n",
       "19  0.235101                        0.000000  1.000000  0.587530  0.632496   \n",
       "20  0.096700                        0.000000  0.000000  0.568273  0.678561   \n",
       "21  0.151424                        0.574468  0.000000  0.527187  0.797487   \n",
       "22  0.411513                        1.000000  0.555827  0.633313  0.713421   \n",
       "23  0.235101                        0.000000  1.000000  0.587530  0.632496   \n",
       "24  0.096700                        0.000000  0.000000  0.568273  0.678561   \n",
       "25  0.151424                        0.574468  0.000000  0.527187  0.797487   \n",
       "26  0.411513                        1.000000  0.555827  0.633313  0.713421   \n",
       "27  0.235101                        0.000000  1.000000  0.587530  0.632496   \n",
       "28  0.096700                        0.000000  0.000000  0.568273  0.678561   \n",
       "29  0.151424                        0.574468  0.000000  0.527187  0.797487   \n",
       "\n",
       "         Age      FAVC  \n",
       "0   0.177957  0.524462  \n",
       "1   0.234546  1.000000  \n",
       "2   0.233692  1.000000  \n",
       "3   0.229935  1.000000  \n",
       "4   0.232834  0.961691  \n",
       "5   0.162316  0.000000  \n",
       "6   0.142143  1.000000  \n",
       "7   0.221495  0.000000  \n",
       "8   0.229935  1.000000  \n",
       "9   0.232834  0.961691  \n",
       "10  0.162316  0.000000  \n",
       "11  0.142143  1.000000  \n",
       "12  0.221495  0.000000  \n",
       "13  0.229935  1.000000  \n",
       "14  0.232834  0.961691  \n",
       "15  0.162316  0.000000  \n",
       "16  0.142143  1.000000  \n",
       "17  0.221495  0.000000  \n",
       "18  0.233549  0.960342  \n",
       "19  0.186897  0.733813  \n",
       "20  0.142143  1.000000  \n",
       "21  0.192395  0.000000  \n",
       "22  0.233549  0.960342  \n",
       "23  0.186897  0.733813  \n",
       "24  0.142143  1.000000  \n",
       "25  0.192395  0.000000  \n",
       "26  0.233549  0.960342  \n",
       "27  0.186897  0.733813  \n",
       "28  0.142143  1.000000  \n",
       "29  0.192395  0.000000  "
      ]
     },
     "metadata": {},
     "output_type": "display_data"
    }
   ],
   "source": [
    "# clustering (hint: Use AgglomerativeClustering imported above)\n",
    "\n",
    "from sklearn.metrics import  silhouette_score\n",
    "from sklearn.neighbors import NearestCentroid\n",
    "\n",
    "# tuple of linkage type and the suitaable cluster count (k) obtained from the dendrograms\n",
    "linkages = (('ward', 3), ('complete', 5), ('average', 4))\n",
    "\n",
    "results = []\n",
    "\n",
    "for (linkage, k) in linkages: \n",
    "    \n",
    "    # euclidean distance measure\n",
    "    euclidean = AgglomerativeClustering(n_clusters=k, affinity='euclidean', linkage=linkage)\n",
    "    y_predict = euclidean.fit_predict(df_final)\n",
    "    silhouette_avg = silhouette_score(df_final, euclidean.labels_)\n",
    "    \n",
    "    # get centroids (Cluster means)\n",
    "    clf = NearestCentroid()\n",
    "    clf.fit(df_final, y_predict)    \n",
    "    for idx, centroid in enumerate(clf.centroids_):\n",
    "            results.append((linkage, k, 'euclidean', idx+1, silhouette_avg) + tuple(centroid))  \n",
    "            \n",
    "    if(linkage != 'ward') :\n",
    "        \n",
    "        # manhattan distance measure\n",
    "        manhattan = AgglomerativeClustering(n_clusters=k, affinity='manhattan', linkage=linkage)\n",
    "        manhattan.fit(df_final)\n",
    "        silhouette_avg = silhouette_score(df_final, manhattan.labels_)\n",
    "        \n",
    "        # get centroids (Cluster means)\n",
    "        clf = NearestCentroid()\n",
    "        clf.fit(df_final, y_predict)    \n",
    "        for idx, centroid in enumerate(clf.centroids_):\n",
    "                results.append((linkage, k, 'manhattan', idx+1, silhouette_avg) + tuple(centroid))  \n",
    "        \n",
    "        # cosine distance measure\n",
    "        cosine = AgglomerativeClustering(n_clusters=k, affinity='cosine', linkage=linkage)\n",
    "        cosine.fit(df_final)\n",
    "        silhouette_avg = silhouette_score(df_final, cosine.labels_)\n",
    "        \n",
    "        # get centroids (Cluster means)\n",
    "        clf = NearestCentroid()\n",
    "        clf.fit(df_final, y_predict)    \n",
    "        for idx, centroid in enumerate(clf.centroids_):\n",
    "                results.append((linkage, k, 'cosine', idx+1, silhouette_avg) + tuple(centroid))  \n",
    "\n",
    "# add cluser means for each column to the table\n",
    "dfh = pd.DataFrame(results, columns =['Linkage', 'Cluster count', 'Distance measure', 'Cluster no.', 'Silhouette score'] + list(df_final.columns)) \n",
    "\n",
    "# display parameters used, cluster quality, and cluster means\n",
    "display( dfh )"
   ]
  },
  {
   "cell_type": "markdown",
   "id": "03773292",
   "metadata": {},
   "source": [
    "## Part 3: Hierarchical clustering\n",
    "\n",
    "### 2.Comment why they are same/different [1 mark]"
   ]
  },
  {
   "cell_type": "markdown",
   "id": "ae5823be",
   "metadata": {},
   "source": [
    "**Best clusters obtained  at k=5 with good sillhoute scores.**                  \n",
    "1.Same results obtained with Hierarchal aswell.         \n",
    "2.We are using set same distance based algorithms and same features on both cases hence got same clusters.           \n",
    "3. Silhoutte score is good comapred with Kmeans\n"
   ]
  },
  {
   "cell_type": "markdown",
   "id": "0bfd13ae",
   "metadata": {},
   "source": [
    "## Part 3: Hierarchical clustering\n",
    "\n",
    "### 3.Get cluster labels using hierarchical clustering algorithm and report clustering metric chosen in part 1 for this clustering as well [2 mark]"
   ]
  },
  {
   "cell_type": "code",
   "execution_count": 35,
   "id": "55a4c6ae",
   "metadata": {},
   "outputs": [
    {
     "name": "stdout",
     "output_type": "stream",
     "text": [
      "Output Clusters are\n",
      "1    911\n",
      "5    728\n",
      "4    166\n",
      "3    141\n",
      "2    139\n",
      "Name: cluster, dtype: int64\n"
     ]
    }
   ],
   "source": [
    "hc1 = AgglomerativeClustering(n_clusters =5, affinity='manhattan', linkage='complete').fit(df_final)\n",
    "print('Output Clusters are')\n",
    "df_final['cluster'] = hc1.labels_+1\n",
    "print(df_final.cluster.value_counts())\n"
   ]
  },
  {
   "cell_type": "code",
   "execution_count": 36,
   "id": "2b5f2a90",
   "metadata": {},
   "outputs": [
    {
     "name": "stdout",
     "output_type": "stream",
     "text": [
      "The Silhouette_Score of Hierarchical is: 0.7373\n"
     ]
    }
   ],
   "source": [
    "# Performance Metrics\n",
    "hc_metrics = silhouette_score(df_final, hc1.labels_, metric = 'manhattan')\n",
    "print('The Silhouette_Score of Hierarchical is: {:0.4f}'.format(hc_metrics))"
   ]
  },
  {
   "cell_type": "markdown",
   "id": "3569c74d",
   "metadata": {},
   "source": [
    "<center><H1> Part 4: DBSCAN </H1></center><br/>"
   ]
  },
  {
   "cell_type": "code",
   "execution_count": 58,
   "id": "f3dfca62",
   "metadata": {},
   "outputs": [],
   "source": [
    "df_final = df_final.drop(['Cluster#'],axis=1)"
   ]
  },
  {
   "cell_type": "code",
   "execution_count": 59,
   "id": "13ba08e6",
   "metadata": {},
   "outputs": [
    {
     "data": {
      "text/plain": [
       "(2085, 7)"
      ]
     },
     "execution_count": 59,
     "metadata": {},
     "output_type": "execute_result"
    }
   ],
   "source": [
    "df_final.shape"
   ]
  },
  {
   "cell_type": "code",
   "execution_count": 60,
   "id": "a8e93a6f",
   "metadata": {},
   "outputs": [
    {
     "name": "stdout",
     "output_type": "stream",
     "text": [
      "Minpoints =  14\n"
     ]
    }
   ],
   "source": [
    "# Deriving Minpoints\n",
    "minpoints = 2*df_final.shape[1]\n",
    "print ('Minpoints = ', minpoints)"
   ]
  },
  {
   "cell_type": "markdown",
   "id": "11e46dfe",
   "metadata": {},
   "source": [
    "## Part 4:   DB Scan\n",
    "### 1.Experiment with different min_pts and eps values and record number of clusters found in each experiment [4 marks]"
   ]
  },
  {
   "cell_type": "code",
   "execution_count": 61,
   "id": "acc76d3b",
   "metadata": {},
   "outputs": [],
   "source": [
    "from sklearn.neighbors import NearestNeighbors"
   ]
  },
  {
   "cell_type": "code",
   "execution_count": 62,
   "id": "3aab927c",
   "metadata": {},
   "outputs": [
    {
     "data": {
      "text/plain": [
       "[<matplotlib.lines.Line2D at 0x247495f57c0>]"
      ]
     },
     "execution_count": 62,
     "metadata": {},
     "output_type": "execute_result"
    },
    {
     "data": {
      "image/png": "[encoded data removed]",
      "text/plain": [
       "<Figure size 432x288 with 1 Axes>"
      ]
     },
     "metadata": {
      "needs_background": "light"
     },
     "output_type": "display_data"
    }
   ],
   "source": [
    "# Deriving eps using NearestNeighbors\n",
    "neigh = NearestNeighbors(n_neighbors=minpoints)\n",
    "nbrs = neigh.fit(df_final)\n",
    "distances, indices = nbrs.kneighbors(df_final)\n",
    "distances = -np.sort(-distances, axis=0)\n",
    "distances = distances[:,1]\n",
    "plt.plot(distances)"
   ]
  },
  {
   "cell_type": "code",
   "execution_count": 63,
   "id": "f7da462e",
   "metadata": {},
   "outputs": [
    {
     "data": {
      "text/plain": [
       "array([ 0,  1, -1,  2,  3,  4,  5,  6,  7], dtype=int64)"
      ]
     },
     "execution_count": 63,
     "metadata": {},
     "output_type": "execute_result"
    }
   ],
   "source": [
    "#Experiment 1\n",
    "# DBSCAN\n",
    "# Various values of eps and min_samples were tested and the values that gave the best silhouette score result were eps = .5 and min_samples = 15\n",
    "dbscan1 = DBSCAN(eps = 0.35, min_samples = 14)\n",
    "dbscan1.fit(df_final)\n",
    "pred_d1 = dbscan1.labels_\n",
    "df_final['Cluster#']=pred_d1\n",
    "df_final['Cluster#'].unique()"
   ]
  },
  {
   "cell_type": "code",
   "execution_count": 65,
   "id": "5f4f1aa0",
   "metadata": {},
   "outputs": [
    {
     "data": {
      "text/html": [
       "<div>\n",
       "<style scoped>\n",
       "    .dataframe tbody tr th:only-of-type {\n",
       "        vertical-align: middle;\n",
       "    }\n",
       "\n",
       "    .dataframe tbody tr th {\n",
       "        vertical-align: top;\n",
       "    }\n",
       "\n",
       "    .dataframe thead th {\n",
       "        text-align: right;\n",
       "    }\n",
       "</style>\n",
       "<table border=\"1\" class=\"dataframe\">\n",
       "  <thead>\n",
       "    <tr style=\"text-align: right;\">\n",
       "      <th></th>\n",
       "      <th>Weight</th>\n",
       "      <th>family_history_with_overweight</th>\n",
       "      <th>Gender</th>\n",
       "      <th>CAEC</th>\n",
       "      <th>FCVC</th>\n",
       "      <th>Age</th>\n",
       "      <th>FAVC</th>\n",
       "    </tr>\n",
       "  </thead>\n",
       "  <tbody>\n",
       "    <tr>\n",
       "      <th>0</th>\n",
       "      <td>0.186567</td>\n",
       "      <td>1.0</td>\n",
       "      <td>0.0</td>\n",
       "      <td>0.666667</td>\n",
       "      <td>0.5</td>\n",
       "      <td>0.148936</td>\n",
       "      <td>0.0</td>\n",
       "    </tr>\n",
       "    <tr>\n",
       "      <th>1</th>\n",
       "      <td>0.126866</td>\n",
       "      <td>1.0</td>\n",
       "      <td>0.0</td>\n",
       "      <td>0.666667</td>\n",
       "      <td>1.0</td>\n",
       "      <td>0.148936</td>\n",
       "      <td>0.0</td>\n",
       "    </tr>\n",
       "    <tr>\n",
       "      <th>2</th>\n",
       "      <td>0.283582</td>\n",
       "      <td>1.0</td>\n",
       "      <td>1.0</td>\n",
       "      <td>0.666667</td>\n",
       "      <td>0.5</td>\n",
       "      <td>0.191489</td>\n",
       "      <td>0.0</td>\n",
       "    </tr>\n",
       "    <tr>\n",
       "      <th>3</th>\n",
       "      <td>0.358209</td>\n",
       "      <td>0.0</td>\n",
       "      <td>1.0</td>\n",
       "      <td>0.666667</td>\n",
       "      <td>1.0</td>\n",
       "      <td>0.276596</td>\n",
       "      <td>0.0</td>\n",
       "    </tr>\n",
       "    <tr>\n",
       "      <th>4</th>\n",
       "      <td>0.380597</td>\n",
       "      <td>0.0</td>\n",
       "      <td>1.0</td>\n",
       "      <td>0.666667</td>\n",
       "      <td>0.5</td>\n",
       "      <td>0.170213</td>\n",
       "      <td>0.0</td>\n",
       "    </tr>\n",
       "  </tbody>\n",
       "</table>\n",
       "</div>"
      ],
      "text/plain": [
       "     Weight  family_history_with_overweight  Gender      CAEC  FCVC       Age  \\\n",
       "0  0.186567                             1.0     0.0  0.666667   0.5  0.148936   \n",
       "1  0.126866                             1.0     0.0  0.666667   1.0  0.148936   \n",
       "2  0.283582                             1.0     1.0  0.666667   0.5  0.191489   \n",
       "3  0.358209                             0.0     1.0  0.666667   1.0  0.276596   \n",
       "4  0.380597                             0.0     1.0  0.666667   0.5  0.170213   \n",
       "\n",
       "   FAVC  \n",
       "0   0.0  \n",
       "1   0.0  \n",
       "2   0.0  \n",
       "3   0.0  \n",
       "4   0.0  "
      ]
     },
     "execution_count": 65,
     "metadata": {},
     "output_type": "execute_result"
    }
   ],
   "source": [
    "df_final = df_final.drop(['Cluster#'],axis=1)\n",
    "df_final.head()"
   ]
  },
  {
   "cell_type": "code",
   "execution_count": 66,
   "id": "01954189",
   "metadata": {},
   "outputs": [
    {
     "data": {
      "text/plain": [
       "array([ 5, -1,  0,  1,  2,  3,  4], dtype=int64)"
      ]
     },
     "execution_count": 66,
     "metadata": {},
     "output_type": "execute_result"
    }
   ],
   "source": [
    "#Experiment 2\n",
    "# DBSCAN\n",
    "# Various values of eps and min_samples were tested and the values that gave the best silhouette score result were eps = .5 and min_samples = 15\n",
    "dbscan2 = DBSCAN(eps = 0.25, min_samples = 35)\n",
    "dbscan2.fit(df_final)\n",
    "pred_d2 = dbscan2.labels_\n",
    "df_final['Cluster#']=pred_d2\n",
    "df_final['Cluster#'].unique()"
   ]
  },
  {
   "cell_type": "code",
   "execution_count": 68,
   "id": "d180a0e4",
   "metadata": {
    "scrolled": true
   },
   "outputs": [
    {
     "data": {
      "text/html": [
       "<div>\n",
       "<style scoped>\n",
       "    .dataframe tbody tr th:only-of-type {\n",
       "        vertical-align: middle;\n",
       "    }\n",
       "\n",
       "    .dataframe tbody tr th {\n",
       "        vertical-align: top;\n",
       "    }\n",
       "\n",
       "    .dataframe thead th {\n",
       "        text-align: right;\n",
       "    }\n",
       "</style>\n",
       "<table border=\"1\" class=\"dataframe\">\n",
       "  <thead>\n",
       "    <tr style=\"text-align: right;\">\n",
       "      <th></th>\n",
       "      <th>Weight</th>\n",
       "      <th>family_history_with_overweight</th>\n",
       "      <th>Gender</th>\n",
       "      <th>CAEC</th>\n",
       "      <th>FCVC</th>\n",
       "      <th>Age</th>\n",
       "      <th>FAVC</th>\n",
       "    </tr>\n",
       "  </thead>\n",
       "  <tbody>\n",
       "    <tr>\n",
       "      <th>0</th>\n",
       "      <td>0.186567</td>\n",
       "      <td>1.0</td>\n",
       "      <td>0.0</td>\n",
       "      <td>0.666667</td>\n",
       "      <td>0.5</td>\n",
       "      <td>0.148936</td>\n",
       "      <td>0.0</td>\n",
       "    </tr>\n",
       "    <tr>\n",
       "      <th>1</th>\n",
       "      <td>0.126866</td>\n",
       "      <td>1.0</td>\n",
       "      <td>0.0</td>\n",
       "      <td>0.666667</td>\n",
       "      <td>1.0</td>\n",
       "      <td>0.148936</td>\n",
       "      <td>0.0</td>\n",
       "    </tr>\n",
       "    <tr>\n",
       "      <th>2</th>\n",
       "      <td>0.283582</td>\n",
       "      <td>1.0</td>\n",
       "      <td>1.0</td>\n",
       "      <td>0.666667</td>\n",
       "      <td>0.5</td>\n",
       "      <td>0.191489</td>\n",
       "      <td>0.0</td>\n",
       "    </tr>\n",
       "    <tr>\n",
       "      <th>3</th>\n",
       "      <td>0.358209</td>\n",
       "      <td>0.0</td>\n",
       "      <td>1.0</td>\n",
       "      <td>0.666667</td>\n",
       "      <td>1.0</td>\n",
       "      <td>0.276596</td>\n",
       "      <td>0.0</td>\n",
       "    </tr>\n",
       "    <tr>\n",
       "      <th>4</th>\n",
       "      <td>0.380597</td>\n",
       "      <td>0.0</td>\n",
       "      <td>1.0</td>\n",
       "      <td>0.666667</td>\n",
       "      <td>0.5</td>\n",
       "      <td>0.170213</td>\n",
       "      <td>0.0</td>\n",
       "    </tr>\n",
       "  </tbody>\n",
       "</table>\n",
       "</div>"
      ],
      "text/plain": [
       "     Weight  family_history_with_overweight  Gender      CAEC  FCVC       Age  \\\n",
       "0  0.186567                             1.0     0.0  0.666667   0.5  0.148936   \n",
       "1  0.126866                             1.0     0.0  0.666667   1.0  0.148936   \n",
       "2  0.283582                             1.0     1.0  0.666667   0.5  0.191489   \n",
       "3  0.358209                             0.0     1.0  0.666667   1.0  0.276596   \n",
       "4  0.380597                             0.0     1.0  0.666667   0.5  0.170213   \n",
       "\n",
       "   FAVC  \n",
       "0   0.0  \n",
       "1   0.0  \n",
       "2   0.0  \n",
       "3   0.0  \n",
       "4   0.0  "
      ]
     },
     "execution_count": 68,
     "metadata": {},
     "output_type": "execute_result"
    }
   ],
   "source": [
    "df_final = df_final.drop(['Cluster#'],axis=1)\n",
    "df_final.head()"
   ]
  },
  {
   "cell_type": "code",
   "execution_count": 69,
   "id": "01d4f445",
   "metadata": {},
   "outputs": [
    {
     "data": {
      "text/plain": [
       "array([-1,  2,  0,  1,  3,  5,  4,  6], dtype=int64)"
      ]
     },
     "execution_count": 69,
     "metadata": {},
     "output_type": "execute_result"
    }
   ],
   "source": [
    "#Experiment 3\n",
    "# DBSCAN\n",
    "# Various values of eps and min_samples were tested and the values that gave the best silhouette score result were eps = .5 and min_samples = 15\n",
    "dbscan3 = DBSCAN(eps = 0.15, min_samples = 30)\n",
    "dbscan3.fit(df_final)\n",
    "pred_d3 = dbscan3.labels_\n",
    "df_final['Cluster#']=pred_d3\n",
    "df_final['Cluster#'].unique()"
   ]
  },
  {
   "cell_type": "code",
   "execution_count": 71,
   "id": "f6bee028",
   "metadata": {
    "scrolled": true
   },
   "outputs": [
    {
     "data": {
      "text/html": [
       "<div>\n",
       "<style scoped>\n",
       "    .dataframe tbody tr th:only-of-type {\n",
       "        vertical-align: middle;\n",
       "    }\n",
       "\n",
       "    .dataframe tbody tr th {\n",
       "        vertical-align: top;\n",
       "    }\n",
       "\n",
       "    .dataframe thead th {\n",
       "        text-align: right;\n",
       "    }\n",
       "</style>\n",
       "<table border=\"1\" class=\"dataframe\">\n",
       "  <thead>\n",
       "    <tr style=\"text-align: right;\">\n",
       "      <th></th>\n",
       "      <th>Weight</th>\n",
       "      <th>family_history_with_overweight</th>\n",
       "      <th>Gender</th>\n",
       "      <th>CAEC</th>\n",
       "      <th>FCVC</th>\n",
       "      <th>Age</th>\n",
       "      <th>FAVC</th>\n",
       "    </tr>\n",
       "  </thead>\n",
       "  <tbody>\n",
       "    <tr>\n",
       "      <th>0</th>\n",
       "      <td>0.186567</td>\n",
       "      <td>1.0</td>\n",
       "      <td>0.0</td>\n",
       "      <td>0.666667</td>\n",
       "      <td>0.5</td>\n",
       "      <td>0.148936</td>\n",
       "      <td>0.0</td>\n",
       "    </tr>\n",
       "    <tr>\n",
       "      <th>1</th>\n",
       "      <td>0.126866</td>\n",
       "      <td>1.0</td>\n",
       "      <td>0.0</td>\n",
       "      <td>0.666667</td>\n",
       "      <td>1.0</td>\n",
       "      <td>0.148936</td>\n",
       "      <td>0.0</td>\n",
       "    </tr>\n",
       "    <tr>\n",
       "      <th>2</th>\n",
       "      <td>0.283582</td>\n",
       "      <td>1.0</td>\n",
       "      <td>1.0</td>\n",
       "      <td>0.666667</td>\n",
       "      <td>0.5</td>\n",
       "      <td>0.191489</td>\n",
       "      <td>0.0</td>\n",
       "    </tr>\n",
       "    <tr>\n",
       "      <th>3</th>\n",
       "      <td>0.358209</td>\n",
       "      <td>0.0</td>\n",
       "      <td>1.0</td>\n",
       "      <td>0.666667</td>\n",
       "      <td>1.0</td>\n",
       "      <td>0.276596</td>\n",
       "      <td>0.0</td>\n",
       "    </tr>\n",
       "    <tr>\n",
       "      <th>4</th>\n",
       "      <td>0.380597</td>\n",
       "      <td>0.0</td>\n",
       "      <td>1.0</td>\n",
       "      <td>0.666667</td>\n",
       "      <td>0.5</td>\n",
       "      <td>0.170213</td>\n",
       "      <td>0.0</td>\n",
       "    </tr>\n",
       "  </tbody>\n",
       "</table>\n",
       "</div>"
      ],
      "text/plain": [
       "     Weight  family_history_with_overweight  Gender      CAEC  FCVC       Age  \\\n",
       "0  0.186567                             1.0     0.0  0.666667   0.5  0.148936   \n",
       "1  0.126866                             1.0     0.0  0.666667   1.0  0.148936   \n",
       "2  0.283582                             1.0     1.0  0.666667   0.5  0.191489   \n",
       "3  0.358209                             0.0     1.0  0.666667   1.0  0.276596   \n",
       "4  0.380597                             0.0     1.0  0.666667   0.5  0.170213   \n",
       "\n",
       "   FAVC  \n",
       "0   0.0  \n",
       "1   0.0  \n",
       "2   0.0  \n",
       "3   0.0  \n",
       "4   0.0  "
      ]
     },
     "execution_count": 71,
     "metadata": {},
     "output_type": "execute_result"
    }
   ],
   "source": [
    "df_final = df_final.drop(['Cluster#'],axis=1)\n",
    "df_final.head()"
   ]
  },
  {
   "cell_type": "code",
   "execution_count": 72,
   "id": "80ee3453",
   "metadata": {
    "scrolled": false
   },
   "outputs": [
    {
     "data": {
      "text/plain": [
       "array([-1,  1,  0,  2,  3,  4,  6,  5], dtype=int64)"
      ]
     },
     "execution_count": 72,
     "metadata": {},
     "output_type": "execute_result"
    }
   ],
   "source": [
    "#Experiment 4\n",
    "# DBSCAN\n",
    "# Various values of eps and min_samples were tested and the values that gave the best silhouette score result were eps = .5 and min_samples = 15\n",
    "dbscan4 = DBSCAN(eps = 0.08, min_samples = 30)\n",
    "dbscan4.fit(df_final)\n",
    "pred_d4 = dbscan4.labels_\n",
    "df_final['Cluster#']=pred_d4\n",
    "df_final['Cluster#'].unique()"
   ]
  },
  {
   "cell_type": "markdown",
   "id": "c9824f28",
   "metadata": {},
   "source": [
    "## Part 4: DBSCAN\n",
    "### 2.For each of the experiments in 1, report cluster validation metric [2 marks]"
   ]
  },
  {
   "cell_type": "code",
   "execution_count": 64,
   "id": "8ec78ef4",
   "metadata": {},
   "outputs": [
    {
     "name": "stdout",
     "output_type": "stream",
     "text": [
      "The Silhouette_Score of DBSCAN is: 0.70\n"
     ]
    }
   ],
   "source": [
    "# Performance Metrics\n",
    "dbscan_metrics = silhouette_score(df_final, pred_d1, metric = 'euclidean')\n",
    "print('The Silhouette_Score of DBSCAN is: {:0.2f}'.format(dbscan_metrics))"
   ]
  },
  {
   "cell_type": "code",
   "execution_count": 67,
   "id": "aa035ab2",
   "metadata": {},
   "outputs": [
    {
     "name": "stdout",
     "output_type": "stream",
     "text": [
      "The Silhouette_Score of DBSCAN is: 0.64\n"
     ]
    }
   ],
   "source": [
    "# Performance Metrics\n",
    "dbscan_metrics = silhouette_score(df_final, pred_d2, metric = 'euclidean')\n",
    "print('The Silhouette_Score of DBSCAN is: {:0.2f}'.format(dbscan_metrics))"
   ]
  },
  {
   "cell_type": "code",
   "execution_count": 70,
   "id": "3c310d8b",
   "metadata": {},
   "outputs": [
    {
     "name": "stdout",
     "output_type": "stream",
     "text": [
      "The Silhouette_Score of DBSCAN is: 0.62\n"
     ]
    }
   ],
   "source": [
    "# Performance Metrics\n",
    "dbscan_metrics = silhouette_score(df_final, pred_d3, metric = 'euclidean')\n",
    "print('The Silhouette_Score of DBSCAN is: {:0.2f}'.format(dbscan_metrics))"
   ]
  },
  {
   "cell_type": "code",
   "execution_count": 73,
   "id": "41491ab7",
   "metadata": {},
   "outputs": [
    {
     "name": "stdout",
     "output_type": "stream",
     "text": [
      "The Silhouette_Score of DBSCAN is: 0.46\n"
     ]
    }
   ],
   "source": [
    "# Performance Metrics\n",
    "dbscan_metrics = silhouette_score(df_final, pred_d4, metric = 'euclidean')\n",
    "print('The Silhouette_Score of DBSCAN is: {:0.2f}'.format(dbscan_metrics))"
   ]
  },
  {
   "cell_type": "markdown",
   "id": "e3b90649",
   "metadata": {},
   "source": [
    "## Part 4: DBSCAN\n",
    "### 3. For the experiment corresponding with best metric value, how does the number of clusters compare with k (found in part 1) and n (found from dendrogram) in part 2? Comment about these values [1 mark]"
   ]
  },
  {
   "cell_type": "markdown",
   "id": "125c49d8",
   "metadata": {},
   "source": [
    "### Out of 4 experiments , we found best clusters  at 0.35 eps with 14 min points.\n",
    "1. No of clusters are 7 with DB Scan whereas KMeans and Hierarchal algorithms have got 5 clusters but silhouette scores are different.       \n",
    "2. 5 clusters seems to be good for the variables that have been used for modelling.    \n",
    "3. Though we have categorical variables,we have converted them as numerics so distance based algorithms worked in same way.\n",
    "**Hierarchal has best silhouette score of 0.73 so we will build final model with AgglomerativeClustering**"
   ]
  },
  {
   "cell_type": "markdown",
   "id": "b130f59a",
   "metadata": {},
   "source": [
    " \n",
    "<center><H1>Part 5: Interpretation and plotting </H1></center><br/>"
   ]
  },
  {
   "cell_type": "markdown",
   "id": "4351486a",
   "metadata": {},
   "source": [
    "###  1.Reduce the data to 2 dimensions using PCA and plot clusters using color-coded scatter plot [3 marks]"
   ]
  },
  {
   "cell_type": "code",
   "execution_count": 74,
   "id": "5ad81f3f",
   "metadata": {},
   "outputs": [
    {
     "data": {
      "text/html": [
       "<div>\n",
       "<style scoped>\n",
       "    .dataframe tbody tr th:only-of-type {\n",
       "        vertical-align: middle;\n",
       "    }\n",
       "\n",
       "    .dataframe tbody tr th {\n",
       "        vertical-align: top;\n",
       "    }\n",
       "\n",
       "    .dataframe thead th {\n",
       "        text-align: right;\n",
       "    }\n",
       "</style>\n",
       "<table border=\"1\" class=\"dataframe\">\n",
       "  <thead>\n",
       "    <tr style=\"text-align: right;\">\n",
       "      <th></th>\n",
       "      <th>Weight</th>\n",
       "      <th>family_history_with_overweight</th>\n",
       "      <th>Gender</th>\n",
       "      <th>CAEC</th>\n",
       "      <th>FCVC</th>\n",
       "      <th>Age</th>\n",
       "      <th>FAVC</th>\n",
       "    </tr>\n",
       "  </thead>\n",
       "  <tbody>\n",
       "    <tr>\n",
       "      <th>0</th>\n",
       "      <td>0.186567</td>\n",
       "      <td>1.0</td>\n",
       "      <td>0.0</td>\n",
       "      <td>0.666667</td>\n",
       "      <td>0.5</td>\n",
       "      <td>0.148936</td>\n",
       "      <td>0.0</td>\n",
       "    </tr>\n",
       "    <tr>\n",
       "      <th>1</th>\n",
       "      <td>0.126866</td>\n",
       "      <td>1.0</td>\n",
       "      <td>0.0</td>\n",
       "      <td>0.666667</td>\n",
       "      <td>1.0</td>\n",
       "      <td>0.148936</td>\n",
       "      <td>0.0</td>\n",
       "    </tr>\n",
       "    <tr>\n",
       "      <th>2</th>\n",
       "      <td>0.283582</td>\n",
       "      <td>1.0</td>\n",
       "      <td>1.0</td>\n",
       "      <td>0.666667</td>\n",
       "      <td>0.5</td>\n",
       "      <td>0.191489</td>\n",
       "      <td>0.0</td>\n",
       "    </tr>\n",
       "    <tr>\n",
       "      <th>3</th>\n",
       "      <td>0.358209</td>\n",
       "      <td>0.0</td>\n",
       "      <td>1.0</td>\n",
       "      <td>0.666667</td>\n",
       "      <td>1.0</td>\n",
       "      <td>0.276596</td>\n",
       "      <td>0.0</td>\n",
       "    </tr>\n",
       "    <tr>\n",
       "      <th>4</th>\n",
       "      <td>0.380597</td>\n",
       "      <td>0.0</td>\n",
       "      <td>1.0</td>\n",
       "      <td>0.666667</td>\n",
       "      <td>0.5</td>\n",
       "      <td>0.170213</td>\n",
       "      <td>0.0</td>\n",
       "    </tr>\n",
       "  </tbody>\n",
       "</table>\n",
       "</div>"
      ],
      "text/plain": [
       "     Weight  family_history_with_overweight  Gender      CAEC  FCVC       Age  \\\n",
       "0  0.186567                             1.0     0.0  0.666667   0.5  0.148936   \n",
       "1  0.126866                             1.0     0.0  0.666667   1.0  0.148936   \n",
       "2  0.283582                             1.0     1.0  0.666667   0.5  0.191489   \n",
       "3  0.358209                             0.0     1.0  0.666667   1.0  0.276596   \n",
       "4  0.380597                             0.0     1.0  0.666667   0.5  0.170213   \n",
       "\n",
       "   FAVC  \n",
       "0   0.0  \n",
       "1   0.0  \n",
       "2   0.0  \n",
       "3   0.0  \n",
       "4   0.0  "
      ]
     },
     "execution_count": 74,
     "metadata": {},
     "output_type": "execute_result"
    }
   ],
   "source": [
    "df_final = df_final.drop(['Cluster#'],axis=1)\n",
    "df_final.head()"
   ]
  },
  {
   "cell_type": "code",
   "execution_count": 75,
   "id": "3e6a84e6",
   "metadata": {},
   "outputs": [],
   "source": [
    "\n",
    "# Reduce the dimensionality of data containing original standardized variables to 2 features\n",
    "#\n",
    "pca2 = PCA(n_components=2)\n",
    "df_pca2 = pca2.fit_transform(df_final)\n",
    "df_pca2 = pd.DataFrame(df_pca2)\n",
    "df_pca2.columns = ['P1', 'P2']\n",
    "#\n"
   ]
  },
  {
   "cell_type": "code",
   "execution_count": 76,
   "id": "a521883f",
   "metadata": {},
   "outputs": [
    {
     "data": {
      "image/png": "[encoded data removed]",
      "text/plain": [
       "<Figure size 576x576 with 1 Axes>"
      ]
     },
     "metadata": {
      "needs_background": "light"
     },
     "output_type": "display_data"
    },
    {
     "name": "stdout",
     "output_type": "stream",
     "text": [
      "Silhouette-Score for 5 clusters , Manhattan with complete linkage after using PCA on best variables 0.8952555422473603\n"
     ]
    }
   ],
   "source": [
    "\n",
    "agc = AgglomerativeClustering(n_clusters = 5, affinity='manhattan', linkage='complete')\n",
    "plt.figure(figsize =(8, 8))\n",
    "plt.scatter(df_pca2['P1'], df_pca2['P2'], c = agc.fit_predict(df_pca2), cmap ='rainbow')\n",
    "plt.title(\"Manhattan with complete linkage after using PCA on best variables 5 Cluster Visualization\", fontsize=18)\n",
    "plt.show()\n",
    "preds = pd.Series(AgglomerativeClustering(n_clusters = 5, affinity='manhattan', linkage='complete').fit_predict(df_pca2))\n",
    "data_p = pd.concat([df_pca2, preds], axis =1)\n",
    "print('Silhouette-Score for 5 clusters , Manhattan with complete linkage after using PCA on best variables', silhouette_score(data_p,agc.labels_) )"
   ]
  },
  {
   "cell_type": "markdown",
   "id": "51409641",
   "metadata": {},
   "source": [
    "## Silhouette-Score for 5 clusters , Manhattan with complete linkage after using PCA on best variables is 0.89"
   ]
  },
  {
   "cell_type": "code",
   "execution_count": 77,
   "id": "c5927cb6",
   "metadata": {},
   "outputs": [
    {
     "data": {
      "image/png": "[encoded data removed]",
      "text/plain": [
       "<Figure size 432x288 with 1 Axes>"
      ]
     },
     "metadata": {
      "needs_background": "light"
     },
     "output_type": "display_data"
    }
   ],
   "source": [
    "\n",
    "# Hierarchical Clustering\n",
    "# Suitable number of cluster is 3 as per Silhouette score for complete linkage with Euclidian Distance.\n",
    "hc = AgglomerativeClustering(n_clusters =5, affinity='manhattan', linkage='complete').fit_predict(df_pca2)\n",
    "plt.scatter(df_pca2['P1'], df_pca2['P2'], c = hc)\n",
    "plt.title('Hierarchical Clustering')\n",
    "plt.show() \n"
   ]
  },
  {
   "cell_type": "code",
   "execution_count": 78,
   "id": "c33158cd",
   "metadata": {},
   "outputs": [
    {
     "name": "stdout",
     "output_type": "stream",
     "text": [
      "Output Clusters are\n"
     ]
    },
    {
     "data": {
      "text/plain": [
       "1    911\n",
       "3    728\n",
       "4    226\n",
       "2    139\n",
       "5     81\n",
       "Name: cluster, dtype: int64"
      ]
     },
     "execution_count": 78,
     "metadata": {},
     "output_type": "execute_result"
    }
   ],
   "source": [
    "hc1 = AgglomerativeClustering(n_clusters =5, affinity='manhattan', linkage='complete').fit(df_pca2)\n",
    "print('Output Clusters are')\n",
    "df_pca2['cluster'] = hc1.labels_+1\n",
    "df_pca2['cluster'] = hc1.labels_+1\n",
    "df_pca2['cluster'].value_counts()"
   ]
  },
  {
   "cell_type": "code",
   "execution_count": 79,
   "id": "bb8633be",
   "metadata": {},
   "outputs": [
    {
     "name": "stdout",
     "output_type": "stream",
     "text": [
      "PCA Overview\n",
      "========================================\n",
      "Total: 7 components\n",
      "----------------------------------------\n",
      "Mean explained variance: 0.143\n",
      "----------------------------------------\n",
      "   explained variance  cumulative\n",
      "1            0.408081    0.408081\n",
      "2            0.255217    0.663298\n",
      "3            0.140091    0.803389\n",
      "4            0.101946    0.905335\n",
      "5            0.041463    0.946798\n",
      "6            0.027638    0.974436\n",
      "7            0.025564    1.000000\n",
      "----------------------------------------\n"
     ]
    }
   ],
   "source": [
    "# get basic info\n",
    "\n",
    "pca = PCA()\n",
    "\n",
    "df_pca = pca.fit_transform(df_final)\n",
    "\n",
    "n_components = len(pca.explained_variance_ratio_)\n",
    "explained_variance = pca.explained_variance_ratio_\n",
    "cum_explained_variance = np.cumsum(explained_variance)\n",
    "idx = np.arange(n_components)+1\n",
    "\n",
    "df_explained_variance = pd.DataFrame([explained_variance, cum_explained_variance], \n",
    "                                     index=['explained variance', 'cumulative'], \n",
    "                                     columns=idx).T\n",
    "\n",
    "mean_explained_variance = df_explained_variance.iloc[:,0].mean() # calculate mean explained variance\n",
    "\n",
    "# DISPLAY info about PCs\n",
    "print('PCA Overview')\n",
    "print('='*40)\n",
    "print(\"Total: {} components\".format(n_components))\n",
    "print('-'*40)\n",
    "print('Mean explained variance:', round(mean_explained_variance,3))\n",
    "print('-'*40)\n",
    "print(df_explained_variance.head(20))\n",
    "print('-'*40)"
   ]
  },
  {
   "cell_type": "code",
   "execution_count": 80,
   "id": "862c903d",
   "metadata": {},
   "outputs": [
    {
     "name": "stdout",
     "output_type": "stream",
     "text": [
      "Limit scree plot to nth component (0 for all) > 0\n"
     ]
    },
    {
     "data": {
      "image/png": "[encoded data removed]",
      "text/plain": [
       "<Figure size 1080x432 with 2 Axes>"
      ]
     },
     "metadata": {
      "needs_background": "light"
     },
     "output_type": "display_data"
    }
   ],
   "source": [
    "#limit plot to x PC\n",
    "limit = int(input(\"Limit scree plot to nth component (0 for all) > \"))\n",
    "if limit > 0:\n",
    "    limit_df = limit\n",
    "else:\n",
    "    limit_df = n_components\n",
    "\n",
    "df_explained_variance_limited = df_explained_variance.iloc[:limit_df,:]\n",
    "\n",
    "#make scree plot\n",
    "fig, ax1 = plt.subplots(figsize=(15,6))\n",
    "\n",
    "ax1.set_title('Explained variance across principal components', fontsize=14)\n",
    "ax1.set_xlabel('Principal component', fontsize=12)\n",
    "ax1.set_ylabel('Explained variance', fontsize=12)\n",
    "\n",
    "ax2 = sns.barplot(x=idx[:limit_df], y='explained variance', data=df_explained_variance_limited, palette='summer')\n",
    "ax2 = ax1.twinx()\n",
    "ax2.grid(False)\n",
    "\n",
    "ax2.set_ylabel('Cumulative', fontsize=14)\n",
    "ax2 = sns.lineplot(x=idx[:limit_df]-1, y='cumulative', data=df_explained_variance_limited, color='#fc8d59')\n",
    "\n",
    "ax1.axhline(mean_explained_variance, ls='--', color='#fc8d59') #plot mean\n",
    "ax1.text(-.8, mean_explained_variance+(mean_explained_variance*.05), \"average\", color='#fc8d59', fontsize=14) #label y axis\n",
    "\n",
    "max_y1 = max(df_explained_variance_limited.iloc[:,0])\n",
    "max_y2 = max(df_explained_variance_limited.iloc[:,1])\n",
    "ax1.set(ylim=(0, max_y1+max_y1*.1))\n",
    "ax2.set(ylim=(0, max_y2+max_y2*.1))\n",
    "\n",
    "plt.show()"
   ]
  },
  {
   "cell_type": "code",
   "execution_count": 81,
   "id": "658cf948",
   "metadata": {
    "scrolled": true
   },
   "outputs": [
    {
     "data": {
      "text/html": [
       "<div>\n",
       "<style scoped>\n",
       "    .dataframe tbody tr th:only-of-type {\n",
       "        vertical-align: middle;\n",
       "    }\n",
       "\n",
       "    .dataframe tbody tr th {\n",
       "        vertical-align: top;\n",
       "    }\n",
       "\n",
       "    .dataframe thead th {\n",
       "        text-align: right;\n",
       "    }\n",
       "</style>\n",
       "<table border=\"1\" class=\"dataframe\">\n",
       "  <thead>\n",
       "    <tr style=\"text-align: right;\">\n",
       "      <th></th>\n",
       "      <th>Weight</th>\n",
       "      <th>family_history_with_overweight</th>\n",
       "      <th>Gender</th>\n",
       "      <th>CAEC</th>\n",
       "      <th>FCVC</th>\n",
       "      <th>Age</th>\n",
       "      <th>FAVC</th>\n",
       "    </tr>\n",
       "  </thead>\n",
       "  <tbody>\n",
       "    <tr>\n",
       "      <th>0</th>\n",
       "      <td>0.105034</td>\n",
       "      <td>0.226217</td>\n",
       "      <td>0.946012</td>\n",
       "      <td>0.042146</td>\n",
       "      <td>0.168595</td>\n",
       "      <td>0.026282</td>\n",
       "      <td>0.109380</td>\n",
       "    </tr>\n",
       "    <tr>\n",
       "      <th>1</th>\n",
       "      <td>0.279544</td>\n",
       "      <td>0.819228</td>\n",
       "      <td>0.251354</td>\n",
       "      <td>0.096415</td>\n",
       "      <td>0.150009</td>\n",
       "      <td>0.070693</td>\n",
       "      <td>0.388261</td>\n",
       "    </tr>\n",
       "    <tr>\n",
       "      <th>2</th>\n",
       "      <td>0.022569</td>\n",
       "      <td>0.405107</td>\n",
       "      <td>0.028966</td>\n",
       "      <td>0.021587</td>\n",
       "      <td>0.132984</td>\n",
       "      <td>0.026696</td>\n",
       "      <td>0.903148</td>\n",
       "    </tr>\n",
       "    <tr>\n",
       "      <th>3</th>\n",
       "      <td>0.230417</td>\n",
       "      <td>0.215419</td>\n",
       "      <td>0.185875</td>\n",
       "      <td>0.012753</td>\n",
       "      <td>0.928993</td>\n",
       "      <td>0.004822</td>\n",
       "      <td>0.052330</td>\n",
       "    </tr>\n",
       "    <tr>\n",
       "      <th>4</th>\n",
       "      <td>0.649652</td>\n",
       "      <td>0.238892</td>\n",
       "      <td>0.067569</td>\n",
       "      <td>0.656548</td>\n",
       "      <td>0.187556</td>\n",
       "      <td>0.181423</td>\n",
       "      <td>0.131034</td>\n",
       "    </tr>\n",
       "    <tr>\n",
       "      <th>5</th>\n",
       "      <td>0.399673</td>\n",
       "      <td>0.093139</td>\n",
       "      <td>0.031231</td>\n",
       "      <td>0.646051</td>\n",
       "      <td>0.125649</td>\n",
       "      <td>0.630194</td>\n",
       "      <td>0.017223</td>\n",
       "    </tr>\n",
       "    <tr>\n",
       "      <th>6</th>\n",
       "      <td>0.524819</td>\n",
       "      <td>0.037834</td>\n",
       "      <td>0.030873</td>\n",
       "      <td>0.373981</td>\n",
       "      <td>0.131890</td>\n",
       "      <td>0.750677</td>\n",
       "      <td>0.037516</td>\n",
       "    </tr>\n",
       "  </tbody>\n",
       "</table>\n",
       "</div>"
      ],
      "text/plain": [
       "     Weight  family_history_with_overweight    Gender      CAEC      FCVC  \\\n",
       "0  0.105034                        0.226217  0.946012  0.042146  0.168595   \n",
       "1  0.279544                        0.819228  0.251354  0.096415  0.150009   \n",
       "2  0.022569                        0.405107  0.028966  0.021587  0.132984   \n",
       "3  0.230417                        0.215419  0.185875  0.012753  0.928993   \n",
       "4  0.649652                        0.238892  0.067569  0.656548  0.187556   \n",
       "5  0.399673                        0.093139  0.031231  0.646051  0.125649   \n",
       "6  0.524819                        0.037834  0.030873  0.373981  0.131890   \n",
       "\n",
       "        Age      FAVC  \n",
       "0  0.026282  0.109380  \n",
       "1  0.070693  0.388261  \n",
       "2  0.026696  0.903148  \n",
       "3  0.004822  0.052330  \n",
       "4  0.181423  0.131034  \n",
       "5  0.630194  0.017223  \n",
       "6  0.750677  0.037516  "
      ]
     },
     "execution_count": 81,
     "metadata": {},
     "output_type": "execute_result"
    }
   ],
   "source": [
    "############### DEFINE PARAMS\n",
    "top_k = 4\n",
    "###############\n",
    "\n",
    "# PCA factor loadings\n",
    "df_c = pd.DataFrame(abs(pca.components_), columns= df_final.columns)\n",
    "\n",
    "df_c"
   ]
  },
  {
   "cell_type": "code",
   "execution_count": 97,
   "id": "f7787671",
   "metadata": {},
   "outputs": [
    {
     "data": {
      "text/html": [
       "<div>\n",
       "<style scoped>\n",
       "    .dataframe tbody tr th:only-of-type {\n",
       "        vertical-align: middle;\n",
       "    }\n",
       "\n",
       "    .dataframe tbody tr th {\n",
       "        vertical-align: top;\n",
       "    }\n",
       "\n",
       "    .dataframe thead th {\n",
       "        text-align: right;\n",
       "    }\n",
       "</style>\n",
       "<table border=\"1\" class=\"dataframe\">\n",
       "  <thead>\n",
       "    <tr style=\"text-align: right;\">\n",
       "      <th></th>\n",
       "      <th>Linkage</th>\n",
       "      <th>Cluster count</th>\n",
       "      <th>Distance measure</th>\n",
       "      <th>Cluster no.</th>\n",
       "      <th>Silhouette score</th>\n",
       "      <th>Weight</th>\n",
       "      <th>family_history_with_overweight</th>\n",
       "      <th>Gender</th>\n",
       "      <th>CAEC</th>\n",
       "      <th>FCVC</th>\n",
       "      <th>Age</th>\n",
       "      <th>FAVC</th>\n",
       "    </tr>\n",
       "  </thead>\n",
       "  <tbody>\n",
       "    <tr>\n",
       "      <th>8</th>\n",
       "      <td>complete</td>\n",
       "      <td>5</td>\n",
       "      <td>manhattan</td>\n",
       "      <td>1</td>\n",
       "      <td>0.541532</td>\n",
       "      <td>0.399348</td>\n",
       "      <td>0.892405</td>\n",
       "      <td>1.000000</td>\n",
       "      <td>0.632911</td>\n",
       "      <td>0.639380</td>\n",
       "      <td>0.229935</td>\n",
       "      <td>1.000000</td>\n",
       "    </tr>\n",
       "    <tr>\n",
       "      <th>9</th>\n",
       "      <td>complete</td>\n",
       "      <td>5</td>\n",
       "      <td>manhattan</td>\n",
       "      <td>2</td>\n",
       "      <td>0.541532</td>\n",
       "      <td>0.401418</td>\n",
       "      <td>1.000000</td>\n",
       "      <td>0.000000</td>\n",
       "      <td>0.632761</td>\n",
       "      <td>0.793087</td>\n",
       "      <td>0.232834</td>\n",
       "      <td>0.961691</td>\n",
       "    </tr>\n",
       "    <tr>\n",
       "      <th>10</th>\n",
       "      <td>complete</td>\n",
       "      <td>5</td>\n",
       "      <td>manhattan</td>\n",
       "      <td>3</td>\n",
       "      <td>0.541532</td>\n",
       "      <td>0.144561</td>\n",
       "      <td>0.000000</td>\n",
       "      <td>0.381443</td>\n",
       "      <td>0.467354</td>\n",
       "      <td>0.791999</td>\n",
       "      <td>0.162316</td>\n",
       "      <td>0.000000</td>\n",
       "    </tr>\n",
       "    <tr>\n",
       "      <th>11</th>\n",
       "      <td>complete</td>\n",
       "      <td>5</td>\n",
       "      <td>manhattan</td>\n",
       "      <td>4</td>\n",
       "      <td>0.541532</td>\n",
       "      <td>0.096700</td>\n",
       "      <td>0.000000</td>\n",
       "      <td>0.000000</td>\n",
       "      <td>0.568273</td>\n",
       "      <td>0.678561</td>\n",
       "      <td>0.142143</td>\n",
       "      <td>1.000000</td>\n",
       "    </tr>\n",
       "    <tr>\n",
       "      <th>12</th>\n",
       "      <td>complete</td>\n",
       "      <td>5</td>\n",
       "      <td>manhattan</td>\n",
       "      <td>5</td>\n",
       "      <td>0.541532</td>\n",
       "      <td>0.273696</td>\n",
       "      <td>1.000000</td>\n",
       "      <td>0.555556</td>\n",
       "      <td>0.595442</td>\n",
       "      <td>0.737918</td>\n",
       "      <td>0.221495</td>\n",
       "      <td>0.000000</td>\n",
       "    </tr>\n",
       "  </tbody>\n",
       "</table>\n",
       "</div>"
      ],
      "text/plain": [
       "     Linkage  Cluster count Distance measure  Cluster no.  Silhouette score  \\\n",
       "8   complete              5        manhattan            1          0.541532   \n",
       "9   complete              5        manhattan            2          0.541532   \n",
       "10  complete              5        manhattan            3          0.541532   \n",
       "11  complete              5        manhattan            4          0.541532   \n",
       "12  complete              5        manhattan            5          0.541532   \n",
       "\n",
       "      Weight  family_history_with_overweight    Gender      CAEC      FCVC  \\\n",
       "8   0.399348                        0.892405  1.000000  0.632911  0.639380   \n",
       "9   0.401418                        1.000000  0.000000  0.632761  0.793087   \n",
       "10  0.144561                        0.000000  0.381443  0.467354  0.791999   \n",
       "11  0.096700                        0.000000  0.000000  0.568273  0.678561   \n",
       "12  0.273696                        1.000000  0.555556  0.595442  0.737918   \n",
       "\n",
       "         Age      FAVC  \n",
       "8   0.229935  1.000000  \n",
       "9   0.232834  0.961691  \n",
       "10  0.162316  0.000000  \n",
       "11  0.142143  1.000000  \n",
       "12  0.221495  0.000000  "
      ]
     },
     "execution_count": 97,
     "metadata": {},
     "output_type": "execute_result"
    }
   ],
   "source": [
    "# following code/datapoints canbe used to interpret data from algorithm\n",
    "dfh1=dfh[(dfh['Linkage']=='complete') & (dfh['Distance measure']=='manhattan')] \n",
    "dfh1"
   ]
  },
  {
   "cell_type": "markdown",
   "id": "964867b0",
   "metadata": {},
   "source": [
    "## 2.Try to infer and make some observations about the clusters and what business insights can be derived from these results [2 marks]"
   ]
  },
  {
   "cell_type": "markdown",
   "id": "375ca240",
   "metadata": {},
   "source": [
    "\n",
    "**Interpretation**       \n",
    "================      \n",
    "## From algorithm  5 clusters are formed and they are described as interpreted as below\n",
    "\n",
    "**Cluster: 1**  \n",
    "Cluster 1 has  911 data points with high weight and with family history in males,with high consumption of high caloric food.    \n",
    "**Cluster: 2**          \n",
    "Cluster 2 has 139 points  with highest weight and with family history in females and high consumption of high caloric food.      \n",
    "**Cluster: 3**        \n",
    "Cluster 3 contains 728 people with  medium weight with more females than males but does not have family history of overweight, they are lower age individuals.             \n",
    "**Cluster: 4**        \n",
    "226 People with lowest weight , family history in females, with lowest amount of high caloric food and with least age are  in cluster 4.          \n",
    "**Cluster: 5**     \n",
    "Cluster 5 consists of 81 people with average weight in both males and females with history of overweight, and low on consumption of vegetables.       \n",
    "\n",
    "Cluster 1 and 2 are similar in many attributes except gender and cluster 1 and 2 also have similar age but the male cluster shows greater frequency of consumption of high caloric food.\n",
    "\n",
    "**Business Insights**\n",
    "==================\n",
    "1. Obesity affects individuals of all gender and ages worldwide; consequently, this clustering helps to define factors causing it. \n",
    "2. Unsupervised learning is being utilized in information technology for medical decision-making,such as prognostic and diagnostic problems, and for detecting correlations between the risk factors and outcomes . \n",
    "3. Clustering  analyzes many data points to discover unknown patterns and extract hidden information.\n",
    "4. The descriptive task(Clustering) focuses more on describing the data, grouping it into categories, and summarizing it.On the other hand, the predictive task(Classification) analyzes historical data and produces patterns/conclusions for future predictions.\n",
    "5. Clustering  case study will be used to analyze patterns among the data given and group people on characterctise and helps to find obesity levels accurately at an early stage as a preventive measure so patients can be diagnised and take necessary measures overcome obesity problem."
   ]
  },
  {
   "cell_type": "markdown",
   "id": "9d22fb3c",
   "metadata": {},
   "source": []
  }
 ],
 "metadata": {
  "kernelspec": {
   "display_name": "Python 3 (ipykernel)",
   "language": "python",
   "name": "python3"
  },
  "language_info": {
   "codemirror_mode": {
    "name": "ipython",
    "version": 3
   },
   "file_extension": ".py",
   "mimetype": "text/x-python",
   "name": "python",
   "nbconvert_exporter": "python",
   "pygments_lexer": "ipython3",
   "version": "3.9.7"
  }
 },
 "nbformat": 4,
 "nbformat_minor": 5
}
