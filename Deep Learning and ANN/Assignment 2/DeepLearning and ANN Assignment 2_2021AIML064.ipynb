{
 "cells": [
  {
   "cell_type": "markdown",
   "metadata": {},
   "source": [
    "<center><H1> Deep Learning and ANN Assignment 2 </H1></center><br/>\n",
    "<center><H1> Student Id: 2021AIML064 </H1></center><br/>\n",
    "<center><H1> Student Name:Jagadish Yalla </H1></center><br/>"
   ]
  },
  {
   "cell_type": "markdown",
   "metadata": {},
   "source": [
    "Problem Statement: Collection of yoga images covering 5 different poses.\n",
    "\n",
    "DataSet: Comprises of yoga pose images. Use 'train' folder images for training the model and  'test' for reporting the final numbers of F1 Score and the model accuracy.\n",
    "\n",
    "Files: archive.zip Download archive.zip\n",
    "\n",
    "Tasks: (You are free to use python libraries to solve the below tasks)\n",
    "\n",
    "1. Load the images in appropriate data structures in your program, ready to be passed as input to the model for training.  [2 points]\n",
    "\n",
    "2. Configure the CNN model (use keras tensorflow), an indicative (minimal) configuration is as below. Take activation function (A)=relu. Feel free to use standard values for anything that is not mentioned (eg, take pool size 2x2, filter size 3x3, and so on). [3 points]\n",
    "\n",
    "conv --> A --> pool\n",
    "\n",
    "(conv --> A) --> (conv --> A) --> pool\n",
    "\n",
    "full connected layer --> A\n",
    "\n",
    "softmax classifier\n",
    "\n",
    "3. Train the CNN model for E epoch (take E=25), save the train_loss, train_acc, validation_loss, validation_acc for each epoch and plot it after training has finished. [3 points]\n",
    "\n",
    "4. Evaluate the trained CNN model on test data. Print classification results. [1 point]\n",
    "\n",
    "5. Can you try to make changes in any way in the CNN model and improve your test accuracy? Let's call the model constructed as per step-2 above as 'default' and the improvement as 'improved' model.\n",
    "\n",
    "Plot precision and recall for default and improved model in a single bar plot. [2+1 points]\n",
    "\n",
    "Note: All the outputs of above tasks, namely code for Step-1 and Step-2, plots of step-3, step-5, and the print result of step-4  should be in a single notebook."
   ]
  },
  {
   "cell_type": "markdown",
   "metadata": {},
   "source": [
    "## Import libraries"
   ]
  },
  {
   "cell_type": "code",
   "execution_count": 1,
   "metadata": {},
   "outputs": [],
   "source": [
    "import matplotlib.pyplot as plt\n",
    "import numpy as np\n",
    "import pandas as pd\n",
    "\n",
    "from sklearn.metrics import classification_report,confusion_matrix\n",
    "from sklearn.metrics import precision_recall_fscore_support\n",
    "\n",
    "from tensorflow import keras\n",
    "from tensorflow.keras import layers\n",
    "from tensorflow.keras.callbacks import ModelCheckpoint, EarlyStopping\n",
    "from tensorflow.keras.layers import Dense\n",
    "from tensorflow.keras.preprocessing import image\n",
    "from tensorflow.keras.preprocessing.image import ImageDataGenerator\n",
    "from tensorflow.keras.models import Model\n",
    "from tensorflow.keras.models import load_model\n",
    "from tensorflow.keras.optimizers import Adam\n",
    "from tensorflow.keras import applications\n",
    "\n",
    "from keras.preprocessing import image\n",
    "from keras.layers import Dense, Dropout\n",
    "from keras.applications.vgg16 import VGG16\n",
    "from keras.models import Model\n",
    "from keras.applications.vgg16 import preprocess_input\n",
    "import keras\n",
    "\n",
    "from keras.preprocessing.image import ImageDataGenerator\n",
    "from keras.models import Sequential\n",
    "from keras import layers\n",
    "\n",
    "import warnings\n",
    "warnings.filterwarnings(\"ignore\")"
   ]
  },
  {
   "cell_type": "markdown",
   "metadata": {
    "scrolled": true
   },
   "source": [
    "### 1. Load the images in appropriate data structures in your program, ready to be passed as input to the model for training.  [2 points]"
   ]
  },
  {
   "cell_type": "code",
   "execution_count": 2,
   "metadata": {},
   "outputs": [],
   "source": [
    "train_dir = \"DATASET/TRAIN\"\n",
    "test_dir = \"DATASET/TEST\""
   ]
  },
  {
   "cell_type": "code",
   "execution_count": 3,
   "metadata": {},
   "outputs": [],
   "source": [
    "import tensorflow as tf\n",
    "\n",
    "train_gen = tf.keras.preprocessing.image.ImageDataGenerator(rescale= 1/255.,                                                                                                                   \n",
    "                                                           rotation_range=0.2,\n",
    "                                                           width_shift_range=0.2,\n",
    "                                                           height_shift_range=0.2,\n",
    "                                                           zoom_range = 0.2, \n",
    "                                                           horizontal_flip=True)\n",
    "\n",
    "test_gen = tf.keras.preprocessing.image.ImageDataGenerator(rescale= 1/255.)"
   ]
  },
  {
   "cell_type": "code",
   "execution_count": 4,
   "metadata": {},
   "outputs": [
    {
     "name": "stdout",
     "output_type": "stream",
     "text": [
      "Found 1081 images belonging to 5 classes.\n",
      "Found 470 images belonging to 5 classes.\n"
     ]
    }
   ],
   "source": [
    "training_data = train_gen.flow_from_directory(train_dir,\n",
    "                                           target_size = (224,224),\n",
    "                                           color_mode = \"rgb\",\n",
    "                                           class_mode = \"categorical\",\n",
    "                                           batch_size = 32\n",
    "                                           )\n",
    "\n",
    "testing_data = test_gen.flow_from_directory(test_dir,\n",
    "                                         target_size = (224,224),\n",
    "                                         color_mode = \"rgb\",\n",
    "                                         class_mode = \"categorical\",\n",
    "                                         batch_size = 32\n",
    "                                         )"
   ]
  },
  {
   "cell_type": "code",
   "execution_count": 5,
   "metadata": {},
   "outputs": [
    {
     "name": "stdout",
     "output_type": "stream",
     "text": [
      "{'downdog': 0, 'goddess': 1, 'plank': 2, 'tree': 3, 'warrior2': 4}\n"
     ]
    }
   ],
   "source": [
    "print(training_data.class_indices)"
   ]
  },
  {
   "cell_type": "code",
   "execution_count": 6,
   "metadata": {},
   "outputs": [
    {
     "name": "stdout",
     "output_type": "stream",
     "text": [
      "{'downdog': 0, 'goddess': 1, 'plank': 2, 'tree': 3, 'warrior2': 4}\n"
     ]
    }
   ],
   "source": [
    "print(testing_data.class_indices)"
   ]
  },
  {
   "cell_type": "markdown",
   "metadata": {
    "scrolled": true
   },
   "source": [
    "### 2. Configure the CNN model (use keras tensorflow), an indicative (minimal) configuration is as below. Take activation function (A)=relu. Feel free to use standard values for anything that is not mentioned (eg, take pool size 2x2, filter size 3x3, and so on). [3 points]\n",
    "\n",
    "conv --> A --> pool\n",
    "\n",
    "(conv --> A) --> (conv --> A) --> pool\n",
    "\n",
    "full connected layer --> A\n",
    "\n",
    "softmax classifier"
   ]
  },
  {
   "cell_type": "code",
   "execution_count": 7,
   "metadata": {},
   "outputs": [],
   "source": [
    "#Initialising the CNN\n",
    "model = keras.Sequential([\n",
    "    # conv --> A --> pool\n",
    "    layers.Convolution2D(4, (3,3), input_shape=(224,224,3), padding='same', activation = 'relu'),\n",
    "    layers.MaxPooling2D(pool_size = (2, 2)), \n",
    "    \n",
    "    # (conv --> A) --> (conv --> A) --> pool\n",
    "    layers.Convolution2D(2, (3,3), padding='same', activation = 'relu'),\n",
    "    layers.Convolution2D(2, (3,3), padding='same', activation = 'relu'),\n",
    "    layers.MaxPooling2D(pool_size = (2, 2)),\n",
    "    \n",
    "    # full connected layer --> A\n",
    "    layers.Flatten(),\n",
    "    layers.Dense(128, activation = 'relu'),\n",
    "    \n",
    "    # Softmax classifier\n",
    "    layers.Dense(training_data.num_classes, activation = 'softmax'),\n",
    "])\n",
    "\n",
    "# Compiling the CNN\n",
    "model.compile(\n",
    "    optimizer='adam', \n",
    "    metrics=['accuracy', keras.metrics.Precision(), keras.metrics.Recall()],\n",
    "    loss='categorical_crossentropy',\n",
    ")"
   ]
  },
  {
   "cell_type": "code",
   "execution_count": 8,
   "metadata": {},
   "outputs": [
    {
     "name": "stdout",
     "output_type": "stream",
     "text": [
      "Model: \"sequential\"\n",
      "_________________________________________________________________\n",
      "Layer (type)                 Output Shape              Param #   \n",
      "=================================================================\n",
      "conv2d (Conv2D)              (None, 224, 224, 4)       112       \n",
      "_________________________________________________________________\n",
      "max_pooling2d (MaxPooling2D) (None, 112, 112, 4)       0         \n",
      "_________________________________________________________________\n",
      "conv2d_1 (Conv2D)            (None, 112, 112, 2)       74        \n",
      "_________________________________________________________________\n",
      "conv2d_2 (Conv2D)            (None, 112, 112, 2)       38        \n",
      "_________________________________________________________________\n",
      "max_pooling2d_1 (MaxPooling2 (None, 56, 56, 2)         0         \n",
      "_________________________________________________________________\n",
      "flatten (Flatten)            (None, 6272)              0         \n",
      "_________________________________________________________________\n",
      "dense (Dense)                (None, 128)               802944    \n",
      "_________________________________________________________________\n",
      "dense_1 (Dense)              (None, 5)                 645       \n",
      "=================================================================\n",
      "Total params: 803,813\n",
      "Trainable params: 803,813\n",
      "Non-trainable params: 0\n",
      "_________________________________________________________________\n"
     ]
    }
   ],
   "source": [
    "# display model summary\n",
    "model.summary()"
   ]
  },
  {
   "cell_type": "markdown",
   "metadata": {},
   "source": [
    "### 3. Train the CNN model for E epoch (take E=25), save the train_loss, train_acc, validation_loss, validation_acc for each epoch and plot it after training has finished. [3 points]"
   ]
  },
  {
   "cell_type": "code",
   "execution_count": 9,
   "metadata": {
    "scrolled": true
   },
   "outputs": [],
   "source": [
    "EPOCHS = 25"
   ]
  },
  {
   "cell_type": "code",
   "execution_count": 10,
   "metadata": {
    "scrolled": true
   },
   "outputs": [],
   "source": [
    "es  = EarlyStopping(monitor='val_accuracy', mode='max', verbose=1, patience=5)\n",
    "ckpt= ModelCheckpoint(\"default_model.h5\", monitor='val_accuracy', verbose=1, save_best_only=True, mode='max')"
   ]
  },
  {
   "cell_type": "code",
   "execution_count": 11,
   "metadata": {},
   "outputs": [],
   "source": [
    "from PIL import ImageFile\n",
    "ImageFile.LOAD_TRUNCATED_IMAGES = True"
   ]
  },
  {
   "cell_type": "code",
   "execution_count": 12,
   "metadata": {},
   "outputs": [
    {
     "name": "stdout",
     "output_type": "stream",
     "text": [
      "Epoch 1/25\n",
      "34/34 [==============================] - ETA: 0s - loss: 1.6862 - accuracy: 0.2211 - precision: 0.2222 - recall: 0.0111\n",
      "Epoch 00001: val_accuracy improved from -inf to 0.25106, saving model to default_model.h5\n",
      "34/34 [==============================] - 170s 5s/step - loss: 1.6862 - accuracy: 0.2211 - precision: 0.2222 - recall: 0.0111 - val_loss: 1.5899 - val_accuracy: 0.2511 - val_precision: 0.0000e+00 - val_recall: 0.0000e+00\n",
      "Epoch 2/25\n",
      "34/34 [==============================] - ETA: 0s - loss: 1.5924 - accuracy: 0.2470 - precision: 0.0000e+00 - recall: 0.0000e+00\n",
      "Epoch 00002: val_accuracy improved from 0.25106 to 0.25745, saving model to default_model.h5\n",
      "34/34 [==============================] - 138s 4s/step - loss: 1.5924 - accuracy: 0.2470 - precision: 0.0000e+00 - recall: 0.0000e+00 - val_loss: 1.5656 - val_accuracy: 0.2574 - val_precision: 0.0000e+00 - val_recall: 0.0000e+00\n",
      "Epoch 3/25\n",
      "34/34 [==============================] - ETA: 0s - loss: 1.5834 - accuracy: 0.2646 - precision: 0.0000e+00 - recall: 0.0000e+00\n",
      "Epoch 00003: val_accuracy improved from 0.25745 to 0.29574, saving model to default_model.h5\n",
      "34/34 [==============================] - 137s 4s/step - loss: 1.5834 - accuracy: 0.2646 - precision: 0.0000e+00 - recall: 0.0000e+00 - val_loss: 1.5530 - val_accuracy: 0.2957 - val_precision: 0.0000e+00 - val_recall: 0.0000e+00\n",
      "Epoch 4/25\n",
      "34/34 [==============================] - ETA: 0s - loss: 1.5666 - accuracy: 0.2840 - precision: 0.3333 - recall: 9.2507e-04\n",
      "Epoch 00004: val_accuracy improved from 0.29574 to 0.35319, saving model to default_model.h5\n",
      "34/34 [==============================] - 138s 4s/step - loss: 1.5666 - accuracy: 0.2840 - precision: 0.3333 - recall: 9.2507e-04 - val_loss: 1.4884 - val_accuracy: 0.3532 - val_precision: 0.0000e+00 - val_recall: 0.0000e+00\n",
      "Epoch 5/25\n",
      "34/34 [==============================] - ETA: 0s - loss: 1.5417 - accuracy: 0.3284 - precision: 0.1250 - recall: 9.2507e-04    \n",
      "Epoch 00005: val_accuracy improved from 0.35319 to 0.50213, saving model to default_model.h5\n",
      "34/34 [==============================] - 138s 4s/step - loss: 1.5417 - accuracy: 0.3284 - precision: 0.1250 - recall: 9.2507e-04 - val_loss: 1.3911 - val_accuracy: 0.5021 - val_precision: 0.3333 - val_recall: 0.0043\n",
      "Epoch 6/25\n",
      "34/34 [==============================] - ETA: 0s - loss: 1.5257 - accuracy: 0.3302 - precision: 0.5000 - recall: 0.0056\n",
      "Epoch 00006: val_accuracy improved from 0.50213 to 0.55957, saving model to default_model.h5\n",
      "34/34 [==============================] - 171s 5s/step - loss: 1.5257 - accuracy: 0.3302 - precision: 0.5000 - recall: 0.0056 - val_loss: 1.3291 - val_accuracy: 0.5596 - val_precision: 0.6667 - val_recall: 0.0213\n",
      "Epoch 7/25\n",
      "34/34 [==============================] - ETA: 0s - loss: 1.4982 - accuracy: 0.3432 - precision: 0.4839 - recall: 0.0139\n",
      "Epoch 00007: val_accuracy improved from 0.55957 to 0.56383, saving model to default_model.h5\n",
      "34/34 [==============================] - 139s 4s/step - loss: 1.4982 - accuracy: 0.3432 - precision: 0.4839 - recall: 0.0139 - val_loss: 1.3148 - val_accuracy: 0.5638 - val_precision: 0.6471 - val_recall: 0.0234\n",
      "Epoch 8/25\n",
      "34/34 [==============================] - ETA: 0s - loss: 1.4750 - accuracy: 0.3617 - precision: 0.5600 - recall: 0.0130\n",
      "Epoch 00008: val_accuracy did not improve from 0.56383\n",
      "34/34 [==============================] - 151s 4s/step - loss: 1.4750 - accuracy: 0.3617 - precision: 0.5600 - recall: 0.0130 - val_loss: 1.2702 - val_accuracy: 0.5085 - val_precision: 0.7869 - val_recall: 0.1021\n",
      "Epoch 9/25\n",
      "34/34 [==============================] - ETA: 0s - loss: 1.4808 - accuracy: 0.3636 - precision: 0.5238 - recall: 0.0204\n",
      "Epoch 00009: val_accuracy improved from 0.56383 to 0.58298, saving model to default_model.h5\n",
      "34/34 [==============================] - 138s 4s/step - loss: 1.4808 - accuracy: 0.3636 - precision: 0.5238 - recall: 0.0204 - val_loss: 1.2474 - val_accuracy: 0.5830 - val_precision: 0.8824 - val_recall: 0.0638\n",
      "Epoch 10/25\n",
      "34/34 [==============================] - ETA: 0s - loss: 1.4571 - accuracy: 0.3488 - precision: 0.6364 - recall: 0.0259\n",
      "Epoch 00010: val_accuracy did not improve from 0.58298\n",
      "34/34 [==============================] - 132s 4s/step - loss: 1.4571 - accuracy: 0.3488 - precision: 0.6364 - recall: 0.0259 - val_loss: 1.2307 - val_accuracy: 0.5660 - val_precision: 0.8750 - val_recall: 0.0894\n",
      "Epoch 11/25\n",
      "34/34 [==============================] - ETA: 0s - loss: 1.4491 - accuracy: 0.3802 - precision: 0.6222 - recall: 0.0518\n",
      "Epoch 00011: val_accuracy did not improve from 0.58298\n",
      "34/34 [==============================] - 133s 4s/step - loss: 1.4491 - accuracy: 0.3802 - precision: 0.6222 - recall: 0.0518 - val_loss: 1.2175 - val_accuracy: 0.5660 - val_precision: 0.8525 - val_recall: 0.1106\n",
      "Epoch 12/25\n",
      "34/34 [==============================] - ETA: 0s - loss: 1.4242 - accuracy: 0.3922 - precision: 0.6381 - recall: 0.0620\n",
      "Epoch 00012: val_accuracy did not improve from 0.58298\n",
      "34/34 [==============================] - 134s 4s/step - loss: 1.4242 - accuracy: 0.3922 - precision: 0.6381 - recall: 0.0620 - val_loss: 1.1360 - val_accuracy: 0.5723 - val_precision: 0.8036 - val_recall: 0.1915\n",
      "Epoch 13/25\n",
      "34/34 [==============================] - ETA: 0s - loss: 1.4121 - accuracy: 0.4172 - precision: 0.6594 - recall: 0.0842\n",
      "Epoch 00013: val_accuracy did not improve from 0.58298\n",
      "34/34 [==============================] - 137s 4s/step - loss: 1.4121 - accuracy: 0.4172 - precision: 0.6594 - recall: 0.0842 - val_loss: 1.1448 - val_accuracy: 0.5723 - val_precision: 0.7718 - val_recall: 0.2447\n",
      "Epoch 14/25\n",
      "34/34 [==============================] - ETA: 0s - loss: 1.4062 - accuracy: 0.4070 - precision: 0.6447 - recall: 0.0907\n",
      "Epoch 00014: val_accuracy did not improve from 0.58298\n",
      "34/34 [==============================] - 136s 4s/step - loss: 1.4062 - accuracy: 0.4070 - precision: 0.6447 - recall: 0.0907 - val_loss: 1.1566 - val_accuracy: 0.5319 - val_precision: 0.8365 - val_recall: 0.1851\n",
      "Epoch 00014: early stopping\n"
     ]
    }
   ],
   "source": [
    "history = model.fit(\n",
    "    training_data,\n",
    "    validation_data=testing_data,\n",
    "    epochs=EPOCHS,\n",
    "    callbacks =[es, ckpt],\n",
    ")"
   ]
  },
  {
   "cell_type": "code",
   "execution_count": 13,
   "metadata": {},
   "outputs": [],
   "source": [
    "model = load_model(\"default_model.h5\")"
   ]
  },
  {
   "cell_type": "code",
   "execution_count": 14,
   "metadata": {
    "scrolled": true
   },
   "outputs": [],
   "source": [
    "# save the history of train_loss, train_acc, validation_loss, validation_acc for epochs\n",
    "training_loss=history.history['loss']\n",
    "training_accuracy=history.history['accuracy']\n",
    "validation_loss=history.history['val_loss']\n",
    "validation_accuracy=history.history['val_accuracy']"
   ]
  },
  {
   "cell_type": "code",
   "execution_count": 15,
   "metadata": {
    "scrolled": true
   },
   "outputs": [
    {
     "data": {
      "image/png": "[encoded data removed]",
      "text/plain": [
       "<Figure size 432x288 with 1 Axes>"
      ]
     },
     "metadata": {
      "needs_background": "light"
     },
     "output_type": "display_data"
    }
   ],
   "source": [
    "# plot the history of train_loss, validation_loss across epochs\n",
    "plt.title(\"Loss\")\n",
    "plt.plot(history.history['loss'], 'r', label='Training loss')\n",
    "plt.plot(history.history['val_loss'], 'b', label='Validation loss')\n",
    "plt.legend()\n",
    "plt.show()"
   ]
  },
  {
   "cell_type": "code",
   "execution_count": 16,
   "metadata": {},
   "outputs": [
    {
     "data": {
      "image/png": "[encoded data removed]",
      "text/plain": [
       "<Figure size 432x288 with 1 Axes>"
      ]
     },
     "metadata": {
      "needs_background": "light"
     },
     "output_type": "display_data"
    }
   ],
   "source": [
    "# plot the history of train_accuracy, validation_accuracy across epochs\n",
    "plt.title(\"Accuracy\")\n",
    "plt.plot(history.history['accuracy'], 'r', label='Training accuracy')\n",
    "plt.plot(history.history['val_accuracy'], 'b', label='Validation accuracy')\n",
    "plt.legend()\n",
    "plt.show()"
   ]
  },
  {
   "cell_type": "markdown",
   "metadata": {},
   "source": [
    "### 4. Evaluate the trained CNN model on test data. Print classification results. [1 point]"
   ]
  },
  {
   "cell_type": "code",
   "execution_count": 17,
   "metadata": {},
   "outputs": [
    {
     "name": "stdout",
     "output_type": "stream",
     "text": [
      "Test Loss: 1.25\n",
      "Test Accuracy: 58.30%\n",
      "Final Precision: 0.88\n",
      "Final Recall: 0.06\n"
     ]
    }
   ],
   "source": [
    "# evaluate the trained model and predict using the model\n",
    "result = model.evaluate(testing_data, verbose=0)\n",
    "\n",
    "print(\"Test Loss: {:.2f}\".format(result[0]))\n",
    "print(\"Test Accuracy: {:.2f}%\".format(result[1] * 100))\n",
    "print(\"Final Precision: {:.2f}\".format(result[2]))\n",
    "print(\"Final Recall: {:.2f}\".format(result[3]))"
   ]
  },
  {
   "cell_type": "code",
   "execution_count": 20,
   "metadata": {},
   "outputs": [],
   "source": [
    "# decode the predicted labels\n",
    "\n",
    "labels = (testing_data.class_indices)\n",
    "labels = dict((v,k) for k,v in labels.items())\n",
    "\n",
    "y_pred=[]\n",
    "for i in range (testing_data.n):\n",
    "    test_image = image.load_img(testing_data.filepaths[i], target_size = (224, 224))\n",
    "    test_image = image.img_to_array(test_image)\n",
    "    test_image = np.expand_dims(test_image, axis = 0)\n",
    "    predicted = model.predict(test_image)\n",
    "    predicted = np.argmax(predicted, axis = 1)\n",
    "    y_pred.append(predicted[0])\n",
    "\n",
    "y_test = testing_data.labels"
   ]
  },
  {
   "cell_type": "code",
   "execution_count": 21,
   "metadata": {
    "scrolled": true
   },
   "outputs": [
    {
     "name": "stdout",
     "output_type": "stream",
     "text": [
      "              precision    recall  f1-score   support\n",
      "\n",
      "           0       0.62      0.54      0.57        97\n",
      "           1       0.35      0.11      0.17        80\n",
      "           2       0.63      0.71      0.67       115\n",
      "           3       0.62      0.81      0.70        69\n",
      "           4       0.53      0.67      0.59       109\n",
      "\n",
      "    accuracy                           0.58       470\n",
      "   macro avg       0.55      0.57      0.54       470\n",
      "weighted avg       0.55      0.58      0.55       470\n",
      "\n"
     ]
    }
   ],
   "source": [
    "# print the classification report for the default model\n",
    "print(classification_report(y_test, y_pred))"
   ]
  },
  {
   "cell_type": "code",
   "execution_count": 22,
   "metadata": {},
   "outputs": [
    {
     "name": "stdout",
     "output_type": "stream",
     "text": [
      "[[52  3 32  0 10]\n",
      " [14  9 10 13 34]\n",
      " [12  1 82  2 18]\n",
      " [ 2  6  2 56  3]\n",
      " [ 4  7  5 20 73]]\n"
     ]
    }
   ],
   "source": [
    "# print the classification report for the default model\n",
    "print(confusion_matrix(y_test, y_pred))"
   ]
  },
  {
   "cell_type": "code",
   "execution_count": 23,
   "metadata": {},
   "outputs": [],
   "source": [
    "# store the precision and recall obtained with this default model\n",
    "precision, recall, _, _ = precision_recall_fscore_support(y_test, y_pred, average='macro')"
   ]
  },
  {
   "cell_type": "code",
   "execution_count": 24,
   "metadata": {},
   "outputs": [
    {
     "data": {
      "text/plain": [
       "0.5471051572611481"
      ]
     },
     "execution_count": 24,
     "metadata": {},
     "output_type": "execute_result"
    }
   ],
   "source": [
    "precision"
   ]
  },
  {
   "cell_type": "code",
   "execution_count": 25,
   "metadata": {},
   "outputs": [
    {
     "data": {
      "text/plain": [
       "0.5685889852056853"
      ]
     },
     "execution_count": 25,
     "metadata": {},
     "output_type": "execute_result"
    }
   ],
   "source": [
    "recall"
   ]
  },
  {
   "cell_type": "markdown",
   "metadata": {
    "scrolled": true
   },
   "source": [
    "### 5. Can you try to make changes in any way in the CNN model and improve your test accuracy? Let's call the model constructed as per step-2 above as 'default' and the improvement as 'improved' model.Plot precision and recall for default and improved model in a single bar plot. [2+1 points]"
   ]
  },
  {
   "cell_type": "code",
   "execution_count": 26,
   "metadata": {},
   "outputs": [],
   "source": [
    "es  = EarlyStopping(monitor='val_accuracy', mode='max', verbose=1, patience=5)\n",
    "ckpt= ModelCheckpoint(\"improved_model.h5\", monitor='val_accuracy', verbose=1, save_best_only=True, mode='max')"
   ]
  },
  {
   "cell_type": "code",
   "execution_count": 27,
   "metadata": {},
   "outputs": [],
   "source": [
    "# lets transfer learning from VGG16 model \n",
    "base_model = VGG16(input_shape=(224,224,3), weights='imagenet', include_top=False)\n",
    "\n",
    "# Top Model Block\n",
    "x = base_model.output\n",
    "x = layers.Flatten()(x)\n",
    "predictions = Dense(training_data.num_classes, activation='softmax')(x)\n",
    "\n",
    "# add top layer block to base model\n",
    "improved_model = Model(base_model.input, predictions)\n",
    "\n",
    "# skip re-training base layers\n",
    "for layer in base_model.layers:\n",
    "    layer.trainable = False\n",
    "\n",
    "# compile the model\n",
    "improved_model.compile(optimizer='Adam',loss='categorical_crossentropy',metrics=['accuracy', keras.metrics.Precision(), keras.metrics.Recall()])"
   ]
  },
  {
   "cell_type": "code",
   "execution_count": 28,
   "metadata": {},
   "outputs": [
    {
     "name": "stdout",
     "output_type": "stream",
     "text": [
      "Model: \"functional_1\"\n",
      "_________________________________________________________________\n",
      "Layer (type)                 Output Shape              Param #   \n",
      "=================================================================\n",
      "input_1 (InputLayer)         [(None, 224, 224, 3)]     0         \n",
      "_________________________________________________________________\n",
      "block1_conv1 (Conv2D)        (None, 224, 224, 64)      1792      \n",
      "_________________________________________________________________\n",
      "block1_conv2 (Conv2D)        (None, 224, 224, 64)      36928     \n",
      "_________________________________________________________________\n",
      "block1_pool (MaxPooling2D)   (None, 112, 112, 64)      0         \n",
      "_________________________________________________________________\n",
      "block2_conv1 (Conv2D)        (None, 112, 112, 128)     73856     \n",
      "_________________________________________________________________\n",
      "block2_conv2 (Conv2D)        (None, 112, 112, 128)     147584    \n",
      "_________________________________________________________________\n",
      "block2_pool (MaxPooling2D)   (None, 56, 56, 128)       0         \n",
      "_________________________________________________________________\n",
      "block3_conv1 (Conv2D)        (None, 56, 56, 256)       295168    \n",
      "_________________________________________________________________\n",
      "block3_conv2 (Conv2D)        (None, 56, 56, 256)       590080    \n",
      "_________________________________________________________________\n",
      "block3_conv3 (Conv2D)        (None, 56, 56, 256)       590080    \n",
      "_________________________________________________________________\n",
      "block3_pool (MaxPooling2D)   (None, 28, 28, 256)       0         \n",
      "_________________________________________________________________\n",
      "block4_conv1 (Conv2D)        (None, 28, 28, 512)       1180160   \n",
      "_________________________________________________________________\n",
      "block4_conv2 (Conv2D)        (None, 28, 28, 512)       2359808   \n",
      "_________________________________________________________________\n",
      "block4_conv3 (Conv2D)        (None, 28, 28, 512)       2359808   \n",
      "_________________________________________________________________\n",
      "block4_pool (MaxPooling2D)   (None, 14, 14, 512)       0         \n",
      "_________________________________________________________________\n",
      "block5_conv1 (Conv2D)        (None, 14, 14, 512)       2359808   \n",
      "_________________________________________________________________\n",
      "block5_conv2 (Conv2D)        (None, 14, 14, 512)       2359808   \n",
      "_________________________________________________________________\n",
      "block5_conv3 (Conv2D)        (None, 14, 14, 512)       2359808   \n",
      "_________________________________________________________________\n",
      "block5_pool (MaxPooling2D)   (None, 7, 7, 512)         0         \n",
      "_________________________________________________________________\n",
      "flatten_1 (Flatten)          (None, 25088)             0         \n",
      "_________________________________________________________________\n",
      "dense_2 (Dense)              (None, 5)                 125445    \n",
      "=================================================================\n",
      "Total params: 14,840,133\n",
      "Trainable params: 125,445\n",
      "Non-trainable params: 14,714,688\n",
      "_________________________________________________________________\n"
     ]
    }
   ],
   "source": [
    "# display model summary\n",
    "improved_model.summary()"
   ]
  },
  {
   "cell_type": "code",
   "execution_count": 29,
   "metadata": {
    "scrolled": true
   },
   "outputs": [
    {
     "name": "stdout",
     "output_type": "stream",
     "text": [
      "Epoch 1/25\n",
      "34/34 [==============================] - ETA: 0s - loss: 1.4429 - accuracy: 0.4968 - precision_1: 0.5945 - recall_1: 0.4015\n",
      "Epoch 00001: val_accuracy improved from -inf to 0.90213, saving model to improved_model.h5\n",
      "34/34 [==============================] - 408s 12s/step - loss: 1.4429 - accuracy: 0.4968 - precision_1: 0.5945 - recall_1: 0.4015 - val_loss: 0.3047 - val_accuracy: 0.9021 - val_precision_1: 0.9145 - val_recall_1: 0.8872\n",
      "Epoch 2/25\n",
      "34/34 [==============================] - ETA: 0s - loss: 0.6574 - accuracy: 0.7734 - precision_1: 0.8521 - recall_1: 0.7142\n",
      "Epoch 00002: val_accuracy improved from 0.90213 to 0.94894, saving model to improved_model.h5\n",
      "34/34 [==============================] - 298s 9s/step - loss: 0.6574 - accuracy: 0.7734 - precision_1: 0.8521 - recall_1: 0.7142 - val_loss: 0.1862 - val_accuracy: 0.9489 - val_precision_1: 0.9545 - val_recall_1: 0.9383\n",
      "Epoch 3/25\n",
      "34/34 [==============================] - ETA: 0s - loss: 0.4590 - accuracy: 0.8492 - precision_1: 0.9159 - recall_1: 0.7956\n",
      "Epoch 00003: val_accuracy did not improve from 0.94894\n",
      "34/34 [==============================] - 305s 9s/step - loss: 0.4590 - accuracy: 0.8492 - precision_1: 0.9159 - recall_1: 0.7956 - val_loss: 0.2122 - val_accuracy: 0.9340 - val_precision_1: 0.9435 - val_recall_1: 0.9234\n",
      "Epoch 4/25\n",
      "34/34 [==============================] - ETA: 0s - loss: 0.4035 - accuracy: 0.8696 - precision_1: 0.9171 - recall_1: 0.8390\n",
      "Epoch 00004: val_accuracy did not improve from 0.94894\n",
      "34/34 [==============================] - 284s 8s/step - loss: 0.4035 - accuracy: 0.8696 - precision_1: 0.9171 - recall_1: 0.8390 - val_loss: 0.1597 - val_accuracy: 0.9426 - val_precision_1: 0.9562 - val_recall_1: 0.9298\n",
      "Epoch 5/25\n",
      "34/34 [==============================] - ETA: 0s - loss: 0.3751 - accuracy: 0.8834 - precision_1: 0.9147 - recall_1: 0.8437\n",
      "Epoch 00005: val_accuracy did not improve from 0.94894\n",
      "34/34 [==============================] - 285s 8s/step - loss: 0.3751 - accuracy: 0.8834 - precision_1: 0.9147 - recall_1: 0.8437 - val_loss: 0.1595 - val_accuracy: 0.9468 - val_precision_1: 0.9564 - val_recall_1: 0.9340\n",
      "Epoch 6/25\n",
      "34/34 [==============================] - ETA: 0s - loss: 0.3180 - accuracy: 0.9010 - precision_1: 0.9296 - recall_1: 0.8668\n",
      "Epoch 00006: val_accuracy did not improve from 0.94894\n",
      "34/34 [==============================] - 289s 9s/step - loss: 0.3180 - accuracy: 0.9010 - precision_1: 0.9296 - recall_1: 0.8668 - val_loss: 0.1468 - val_accuracy: 0.9426 - val_precision_1: 0.9442 - val_recall_1: 0.9362\n",
      "Epoch 7/25\n",
      "34/34 [==============================] - ETA: 0s - loss: 0.3085 - accuracy: 0.8927 - precision_1: 0.9204 - recall_1: 0.8668\n",
      "Epoch 00007: val_accuracy improved from 0.94894 to 0.95957, saving model to improved_model.h5\n",
      "34/34 [==============================] - 291s 9s/step - loss: 0.3085 - accuracy: 0.8927 - precision_1: 0.9204 - recall_1: 0.8668 - val_loss: 0.1250 - val_accuracy: 0.9596 - val_precision_1: 0.9591 - val_recall_1: 0.9489\n",
      "Epoch 8/25\n",
      "34/34 [==============================] - ETA: 0s - loss: 0.2694 - accuracy: 0.9186 - precision_1: 0.9444 - recall_1: 0.8955\n",
      "Epoch 00008: val_accuracy did not improve from 0.95957\n",
      "34/34 [==============================] - 333s 10s/step - loss: 0.2694 - accuracy: 0.9186 - precision_1: 0.9444 - recall_1: 0.8955 - val_loss: 0.1648 - val_accuracy: 0.9447 - val_precision_1: 0.9444 - val_recall_1: 0.9404\n",
      "Epoch 9/25\n",
      "34/34 [==============================] - ETA: 0s - loss: 0.2988 - accuracy: 0.9066 - precision_1: 0.9335 - recall_1: 0.8834\n",
      "Epoch 00009: val_accuracy did not improve from 0.95957\n",
      "34/34 [==============================] - 293s 9s/step - loss: 0.2988 - accuracy: 0.9066 - precision_1: 0.9335 - recall_1: 0.8834 - val_loss: 0.1224 - val_accuracy: 0.9553 - val_precision_1: 0.9635 - val_recall_1: 0.9553\n",
      "Epoch 10/25\n",
      "34/34 [==============================] - ETA: 0s - loss: 0.2431 - accuracy: 0.9223 - precision_1: 0.9413 - recall_1: 0.9056\n",
      "Epoch 00010: val_accuracy did not improve from 0.95957\n",
      "34/34 [==============================] - 286s 8s/step - loss: 0.2431 - accuracy: 0.9223 - precision_1: 0.9413 - recall_1: 0.9056 - val_loss: 0.1453 - val_accuracy: 0.9468 - val_precision_1: 0.9548 - val_recall_1: 0.9447\n",
      "Epoch 11/25\n",
      "34/34 [==============================] - ETA: 0s - loss: 0.2189 - accuracy: 0.9380 - precision_1: 0.9531 - recall_1: 0.9204\n",
      "Epoch 00011: val_accuracy did not improve from 0.95957\n",
      "34/34 [==============================] - 287s 8s/step - loss: 0.2189 - accuracy: 0.9380 - precision_1: 0.9531 - recall_1: 0.9204 - val_loss: 0.1206 - val_accuracy: 0.9574 - val_precision_1: 0.9635 - val_recall_1: 0.9553\n",
      "Epoch 12/25\n",
      "34/34 [==============================] - ETA: 0s - loss: 0.1924 - accuracy: 0.9473 - precision_1: 0.9577 - recall_1: 0.9214\n",
      "Epoch 00012: val_accuracy did not improve from 0.95957\n",
      "34/34 [==============================] - 286s 8s/step - loss: 0.1924 - accuracy: 0.9473 - precision_1: 0.9577 - recall_1: 0.9214 - val_loss: 0.1576 - val_accuracy: 0.9383 - val_precision_1: 0.9484 - val_recall_1: 0.9383\n",
      "Epoch 00012: early stopping\n"
     ]
    }
   ],
   "source": [
    "improved_history = improved_model.fit(\n",
    "    training_data,\n",
    "    validation_data=testing_data,\n",
    "    epochs=EPOCHS,\n",
    "    callbacks =[es, ckpt],\n",
    ")"
   ]
  },
  {
   "cell_type": "code",
   "execution_count": 30,
   "metadata": {},
   "outputs": [],
   "source": [
    "improved_model = load_model(\"improved_model.h5\")"
   ]
  },
  {
   "cell_type": "code",
   "execution_count": 31,
   "metadata": {},
   "outputs": [
    {
     "data": {
      "image/png": "[encoded data removed]",
      "text/plain": [
       "<Figure size 432x288 with 1 Axes>"
      ]
     },
     "metadata": {
      "needs_background": "light"
     },
     "output_type": "display_data"
    }
   ],
   "source": [
    "# plot the history of train_loss, validation_loss across epochs\n",
    "plt.title(\"Loss\")\n",
    "plt.plot(improved_history.history['loss'], 'r', label='Training loss')\n",
    "plt.plot(improved_history.history['val_loss'], 'b', label='Validation loss')\n",
    "plt.legend()\n",
    "plt.show()"
   ]
  },
  {
   "cell_type": "code",
   "execution_count": 32,
   "metadata": {},
   "outputs": [
    {
     "data": {
      "image/png": "[encoded data removed]",
      "text/plain": [
       "<Figure size 432x288 with 1 Axes>"
      ]
     },
     "metadata": {
      "needs_background": "light"
     },
     "output_type": "display_data"
    }
   ],
   "source": [
    "# plot the history of train_accuracy, validation_accuracy across epochs\n",
    "plt.title(\"Accuracy\")\n",
    "plt.plot(improved_history.history['accuracy'], 'r', label='Training accuracy')\n",
    "plt.plot(improved_history.history['val_accuracy'], 'b', label='Validation accuracy')\n",
    "plt.legend()\n",
    "plt.show()"
   ]
  },
  {
   "cell_type": "code",
   "execution_count": 33,
   "metadata": {
    "scrolled": true
   },
   "outputs": [
    {
     "name": "stdout",
     "output_type": "stream",
     "text": [
      "Test Loss: 0.13\n",
      "Test Accuracy: 95.96%\n"
     ]
    }
   ],
   "source": [
    "# evaluate the trained model and predict using the model\n",
    "result = improved_model.evaluate(testing_data, verbose=0)\n",
    "\n",
    "print(\"Test Loss: {:.2f}\".format(result[0]))\n",
    "print(\"Test Accuracy: {:.2f}%\".format(result[1] * 100))\n"
   ]
  },
  {
   "cell_type": "code",
   "execution_count": 34,
   "metadata": {},
   "outputs": [],
   "source": [
    "# decode the predicted labels\n",
    "\n",
    "labels = (testing_data.class_indices)\n",
    "labels = dict((v,k) for k,v in labels.items())\n",
    "\n",
    "y_pred=[]\n",
    "for i in range (testing_data.n):\n",
    "    test_image = image.load_img(testing_data.filepaths[i], target_size = (224, 224))\n",
    "    test_image = image.img_to_array(test_image)\n",
    "    test_image = np.expand_dims(test_image, axis = 0)\n",
    "    predicted = improved_model.predict(test_image)\n",
    "    predicted = np.argmax(predicted, axis = 1)\n",
    "    y_pred.append(predicted[0])\n",
    "\n",
    "y_test = testing_data.labels"
   ]
  },
  {
   "cell_type": "code",
   "execution_count": 35,
   "metadata": {},
   "outputs": [
    {
     "name": "stdout",
     "output_type": "stream",
     "text": [
      "              precision    recall  f1-score   support\n",
      "\n",
      "           0       0.98      0.92      0.95        97\n",
      "           1       0.95      0.75      0.84        80\n",
      "           2       0.90      0.97      0.93       115\n",
      "           3       0.80      0.99      0.88        69\n",
      "           4       0.91      0.90      0.90       109\n",
      "\n",
      "    accuracy                           0.91       470\n",
      "   macro avg       0.91      0.90      0.90       470\n",
      "weighted avg       0.91      0.91      0.91       470\n",
      "\n"
     ]
    }
   ],
   "source": [
    "# print the classification report for the improved model\n",
    "print(classification_report(y_test, y_pred))"
   ]
  },
  {
   "cell_type": "code",
   "execution_count": 36,
   "metadata": {
    "scrolled": true
   },
   "outputs": [],
   "source": [
    "# store the precision and recall obtained with this improved model\n",
    "improved_precision, improved_recall, _, _ = precision_recall_fscore_support(y_test, y_pred, average='macro')"
   ]
  },
  {
   "cell_type": "code",
   "execution_count": 37,
   "metadata": {
    "scrolled": true
   },
   "outputs": [
    {
     "data": {
      "image/png": "[encoded data removed]",
      "text/plain": [
       "<Figure size 432x288 with 1 Axes>"
      ]
     },
     "metadata": {
      "needs_background": "light"
     },
     "output_type": "display_data"
    }
   ],
   "source": [
    "# compare the precision and recall parameters obtained in the default and the improved models\n",
    "data = {\"default\":[precision, recall], \"improved\":[improved_precision, improved_recall]}\n",
    "df = pd.DataFrame(data=data, index=[\"precisions\", \"recalls\"]);\n",
    "df.plot.bar(rot=45, title=\"Default vs Improved CNN Precision and Recall\");\n",
    "plt.show();"
   ]
  },
  {
   "cell_type": "code",
   "execution_count": null,
   "metadata": {},
   "outputs": [],
   "source": []
  }
 ],
 "metadata": {
  "celltoolbar": "Raw Cell Format",
  "kernelspec": {
   "display_name": "Python 3 (ipykernel)",
   "language": "python",
   "name": "python3"
  },
  "language_info": {
   "codemirror_mode": {
    "name": "ipython",
    "version": 3
   },
   "file_extension": ".py",
   "mimetype": "text/x-python",
   "name": "python",
   "nbconvert_exporter": "python",
   "pygments_lexer": "ipython3",
   "version": "3.9.7"
  }
 },
 "nbformat": 4,
 "nbformat_minor": 2
}
