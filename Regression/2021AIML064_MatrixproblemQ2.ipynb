{
 "cells": [
  {
   "cell_type": "markdown",
   "metadata": {},
   "source": [
    "### PGP in AI/ML\n",
    "### Regression – Assignment 1\n",
    "####    Student Id: 2021AIML064\n",
    "#### Solve the following matrix using simultaneous equations in  python (3M)\n",
    "\n",
    "#####  x + y + z = 6\n",
    "##### 2y + 5z = -4\n",
    "##### 2x + 5y -z = 27"
   ]
  },
  {
   "cell_type": "code",
   "execution_count": 8,
   "metadata": {},
   "outputs": [],
   "source": [
    "import numpy as np\n",
    "from scipy import linalg"
   ]
  },
  {
   "cell_type": "code",
   "execution_count": 9,
   "metadata": {},
   "outputs": [],
   "source": [
    "# A is 3X3 matrix \n",
    "#b is a column vector (3X1)\n",
    "\n",
    "A = np.array([[1,1,1], [0,2,5], [2,5,-1]])\n",
    "b = np.array([6,-4,27])"
   ]
  },
  {
   "cell_type": "code",
   "execution_count": 10,
   "metadata": {},
   "outputs": [
    {
     "name": "stdout",
     "output_type": "stream",
     "text": [
      "[ 5.  3. -2.]\n"
     ]
    }
   ],
   "source": [
    "# Solve for [x,y,z] calling function 'solve'.\n",
    "# Function 'solve' internally takes inverse of Matrix A and performs dot product with b. i.e. x = (A^-1).b.\n",
    "# It is equivalent to np.dot(linalg.inv(A),b)\n",
    "\n",
    "C=linalg.solve(A, b)\n",
    "print(C)"
   ]
  },
  {
   "cell_type": "markdown",
   "metadata": {},
   "source": [
    "### Ans: x = 5, y = 3, z = -2\n",
    "\n",
    "### This can alsobe solved by  ndot product of b and A inverse. \n",
    "#### A inverse is  C= np.linalg.inv(A)\n",
    "#### b is dot product of A inverse and b\n",
    "#### res = np.dot(C,b)\n"
   ]
  },
  {
   "cell_type": "code",
   "execution_count": null,
   "metadata": {},
   "outputs": [],
   "source": []
  }
 ],
 "metadata": {
  "kernelspec": {
   "display_name": "Python 3",
   "language": "python",
   "name": "python3"
  },
  "language_info": {
   "codemirror_mode": {
    "name": "ipython",
    "version": 3
   },
   "file_extension": ".py",
   "mimetype": "text/x-python",
   "name": "python",
   "nbconvert_exporter": "python",
   "pygments_lexer": "ipython3",
   "version": "3.8.8"
  }
 },
 "nbformat": 4,
 "nbformat_minor": 2
}
